{
 "cells": [
  {
   "cell_type": "code",
   "execution_count": 1,
   "metadata": {},
   "outputs": [
    {
     "name": "stdout",
     "output_type": "stream",
     "text": [
      "Requirement already satisfied: scikit-learn in c:\\users\\admin\\appdata\\local\\programs\\python\\python312\\lib\\site-packages (1.5.0)\n",
      "Requirement already satisfied: scipy in c:\\users\\admin\\appdata\\local\\programs\\python\\python312\\lib\\site-packages (1.13.1)\n",
      "Requirement already satisfied: plotly in c:\\users\\admin\\appdata\\local\\programs\\python\\python312\\lib\\site-packages (5.22.0)\n",
      "Requirement already satisfied: statsmodels in c:\\users\\admin\\appdata\\local\\programs\\python\\python312\\lib\\site-packages (0.14.2)\n",
      "Requirement already satisfied: numpy>=1.19.5 in c:\\users\\admin\\appdata\\local\\programs\\python\\python312\\lib\\site-packages (from scikit-learn) (1.26.4)\n",
      "Requirement already satisfied: joblib>=1.2.0 in c:\\users\\admin\\appdata\\local\\programs\\python\\python312\\lib\\site-packages (from scikit-learn) (1.4.2)\n",
      "Requirement already satisfied: threadpoolctl>=3.1.0 in c:\\users\\admin\\appdata\\local\\programs\\python\\python312\\lib\\site-packages (from scikit-learn) (3.5.0)\n",
      "Requirement already satisfied: tenacity>=6.2.0 in c:\\users\\admin\\appdata\\local\\programs\\python\\python312\\lib\\site-packages (from plotly) (8.3.0)\n",
      "Requirement already satisfied: packaging in c:\\users\\admin\\appdata\\local\\programs\\python\\python312\\lib\\site-packages (from plotly) (24.0)\n",
      "Requirement already satisfied: pandas!=2.1.0,>=1.4 in c:\\users\\admin\\appdata\\local\\programs\\python\\python312\\lib\\site-packages (from statsmodels) (2.2.2)\n",
      "Requirement already satisfied: patsy>=0.5.6 in c:\\users\\admin\\appdata\\local\\programs\\python\\python312\\lib\\site-packages (from statsmodels) (0.5.6)\n",
      "Requirement already satisfied: python-dateutil>=2.8.2 in c:\\users\\admin\\appdata\\local\\programs\\python\\python312\\lib\\site-packages (from pandas!=2.1.0,>=1.4->statsmodels) (2.9.0.post0)\n",
      "Requirement already satisfied: pytz>=2020.1 in c:\\users\\admin\\appdata\\local\\programs\\python\\python312\\lib\\site-packages (from pandas!=2.1.0,>=1.4->statsmodels) (2024.1)\n",
      "Requirement already satisfied: tzdata>=2022.7 in c:\\users\\admin\\appdata\\local\\programs\\python\\python312\\lib\\site-packages (from pandas!=2.1.0,>=1.4->statsmodels) (2024.1)\n",
      "Requirement already satisfied: six in c:\\users\\admin\\appdata\\local\\programs\\python\\python312\\lib\\site-packages (from patsy>=0.5.6->statsmodels) (1.16.0)\n"
     ]
    }
   ],
   "source": [
    "!pip install scikit-learn scipy plotly statsmodels"
   ]
  },
  {
   "cell_type": "code",
   "execution_count": 2,
   "metadata": {},
   "outputs": [
    {
     "name": "stdout",
     "output_type": "stream",
     "text": [
      "Requirement already satisfied: scikeras in c:\\users\\admin\\appdata\\local\\programs\\python\\python312\\lib\\site-packages (0.13.0)\n",
      "Requirement already satisfied: keras>=3.2.0 in c:\\users\\admin\\appdata\\local\\programs\\python\\python312\\lib\\site-packages (from scikeras) (3.3.3)\n",
      "Requirement already satisfied: scikit-learn>=1.4.2 in c:\\users\\admin\\appdata\\local\\programs\\python\\python312\\lib\\site-packages (from scikeras) (1.5.0)\n",
      "Requirement already satisfied: absl-py in c:\\users\\admin\\appdata\\local\\programs\\python\\python312\\lib\\site-packages (from keras>=3.2.0->scikeras) (2.1.0)\n",
      "Requirement already satisfied: numpy in c:\\users\\admin\\appdata\\local\\programs\\python\\python312\\lib\\site-packages (from keras>=3.2.0->scikeras) (1.26.4)\n",
      "Requirement already satisfied: rich in c:\\users\\admin\\appdata\\local\\programs\\python\\python312\\lib\\site-packages (from keras>=3.2.0->scikeras) (13.7.1)\n",
      "Requirement already satisfied: namex in c:\\users\\admin\\appdata\\local\\programs\\python\\python312\\lib\\site-packages (from keras>=3.2.0->scikeras) (0.0.8)\n",
      "Requirement already satisfied: h5py in c:\\users\\admin\\appdata\\local\\programs\\python\\python312\\lib\\site-packages (from keras>=3.2.0->scikeras) (3.11.0)\n",
      "Requirement already satisfied: optree in c:\\users\\admin\\appdata\\local\\programs\\python\\python312\\lib\\site-packages (from keras>=3.2.0->scikeras) (0.11.0)\n",
      "Requirement already satisfied: ml-dtypes in c:\\users\\admin\\appdata\\local\\programs\\python\\python312\\lib\\site-packages (from keras>=3.2.0->scikeras) (0.3.2)\n",
      "Requirement already satisfied: scipy>=1.6.0 in c:\\users\\admin\\appdata\\local\\programs\\python\\python312\\lib\\site-packages (from scikit-learn>=1.4.2->scikeras) (1.13.1)\n",
      "Requirement already satisfied: joblib>=1.2.0 in c:\\users\\admin\\appdata\\local\\programs\\python\\python312\\lib\\site-packages (from scikit-learn>=1.4.2->scikeras) (1.4.2)\n",
      "Requirement already satisfied: threadpoolctl>=3.1.0 in c:\\users\\admin\\appdata\\local\\programs\\python\\python312\\lib\\site-packages (from scikit-learn>=1.4.2->scikeras) (3.5.0)\n",
      "Requirement already satisfied: typing-extensions>=4.0.0 in c:\\users\\admin\\appdata\\local\\programs\\python\\python312\\lib\\site-packages (from optree->keras>=3.2.0->scikeras) (4.12.1)\n",
      "Requirement already satisfied: markdown-it-py>=2.2.0 in c:\\users\\admin\\appdata\\local\\programs\\python\\python312\\lib\\site-packages (from rich->keras>=3.2.0->scikeras) (3.0.0)\n",
      "Requirement already satisfied: pygments<3.0.0,>=2.13.0 in c:\\users\\admin\\appdata\\local\\programs\\python\\python312\\lib\\site-packages (from rich->keras>=3.2.0->scikeras) (2.18.0)\n",
      "Requirement already satisfied: mdurl~=0.1 in c:\\users\\admin\\appdata\\local\\programs\\python\\python312\\lib\\site-packages (from markdown-it-py>=2.2.0->rich->keras>=3.2.0->scikeras) (0.1.2)\n"
     ]
    }
   ],
   "source": [
    "!pip install scikeras"
   ]
  },
  {
   "cell_type": "code",
   "execution_count": 3,
   "metadata": {},
   "outputs": [
    {
     "name": "stdout",
     "output_type": "stream",
     "text": [
      "Requirement already satisfied: seaborn in c:\\users\\admin\\appdata\\local\\programs\\python\\python312\\lib\\site-packages (0.13.2)\n",
      "Requirement already satisfied: numpy!=1.24.0,>=1.20 in c:\\users\\admin\\appdata\\local\\programs\\python\\python312\\lib\\site-packages (from seaborn) (1.26.4)\n",
      "Requirement already satisfied: pandas>=1.2 in c:\\users\\admin\\appdata\\local\\programs\\python\\python312\\lib\\site-packages (from seaborn) (2.2.2)\n",
      "Requirement already satisfied: matplotlib!=3.6.1,>=3.4 in c:\\users\\admin\\appdata\\local\\programs\\python\\python312\\lib\\site-packages (from seaborn) (3.9.0)\n",
      "Requirement already satisfied: contourpy>=1.0.1 in c:\\users\\admin\\appdata\\local\\programs\\python\\python312\\lib\\site-packages (from matplotlib!=3.6.1,>=3.4->seaborn) (1.2.1)\n",
      "Requirement already satisfied: cycler>=0.10 in c:\\users\\admin\\appdata\\local\\programs\\python\\python312\\lib\\site-packages (from matplotlib!=3.6.1,>=3.4->seaborn) (0.12.1)\n",
      "Requirement already satisfied: fonttools>=4.22.0 in c:\\users\\admin\\appdata\\local\\programs\\python\\python312\\lib\\site-packages (from matplotlib!=3.6.1,>=3.4->seaborn) (4.53.0)\n",
      "Requirement already satisfied: kiwisolver>=1.3.1 in c:\\users\\admin\\appdata\\local\\programs\\python\\python312\\lib\\site-packages (from matplotlib!=3.6.1,>=3.4->seaborn) (1.4.5)\n",
      "Requirement already satisfied: packaging>=20.0 in c:\\users\\admin\\appdata\\local\\programs\\python\\python312\\lib\\site-packages (from matplotlib!=3.6.1,>=3.4->seaborn) (24.0)\n",
      "Requirement already satisfied: pillow>=8 in c:\\users\\admin\\appdata\\local\\programs\\python\\python312\\lib\\site-packages (from matplotlib!=3.6.1,>=3.4->seaborn) (10.3.0)\n",
      "Requirement already satisfied: pyparsing>=2.3.1 in c:\\users\\admin\\appdata\\local\\programs\\python\\python312\\lib\\site-packages (from matplotlib!=3.6.1,>=3.4->seaborn) (3.1.2)\n",
      "Requirement already satisfied: python-dateutil>=2.7 in c:\\users\\admin\\appdata\\local\\programs\\python\\python312\\lib\\site-packages (from matplotlib!=3.6.1,>=3.4->seaborn) (2.9.0.post0)\n",
      "Requirement already satisfied: pytz>=2020.1 in c:\\users\\admin\\appdata\\local\\programs\\python\\python312\\lib\\site-packages (from pandas>=1.2->seaborn) (2024.1)\n",
      "Requirement already satisfied: tzdata>=2022.7 in c:\\users\\admin\\appdata\\local\\programs\\python\\python312\\lib\\site-packages (from pandas>=1.2->seaborn) (2024.1)\n",
      "Requirement already satisfied: six>=1.5 in c:\\users\\admin\\appdata\\local\\programs\\python\\python312\\lib\\site-packages (from python-dateutil>=2.7->matplotlib!=3.6.1,>=3.4->seaborn) (1.16.0)\n"
     ]
    }
   ],
   "source": [
    "!pip install seaborn"
   ]
  },
  {
   "cell_type": "code",
   "execution_count": 21,
   "metadata": {},
   "outputs": [],
   "source": [
    "from sklearn.model_selection import GridSearchCV\n",
    "import seaborn as sns\n",
    "import tensorflow as tf\n",
    "from tensorflow.keras.losses import Huber, MeanAbsoluteError, MAPE, MAE\n",
    "from sklearn.preprocessing import MinMaxScaler, StandardScaler\n",
    "import numpy as np\n",
    "import matplotlib.pyplot as plt\n",
    "from scipy import integrate, optimize\n",
    "from scipy.stats import poisson\n",
    "import pandas as pd\n",
    "import json\n",
    "import csv\n",
    "from datetime import datetime\n",
    "import requests\n",
    "from bs4 import BeautifulSoup\n",
    "import re\n",
    "import ast\n",
    "import plotly.express as px\n",
    "import plotly.graph_objects as go\n",
    "from plotly.subplots import make_subplots\n",
    "from sklearn.model_selection import train_test_split\n",
    "from tensorflow.keras.models import Sequential, load_model\n",
    "from tensorflow.keras.layers import MaxPooling1D, Flatten, LSTM, Bidirectional, Dense, Dropout, Conv1D, SimpleRNN, GRU\n",
    "from tensorflow.keras.optimizers import Adam, SGD\n",
    "from tensorflow.keras.metrics import MeanAbsolutePercentageError, RootMeanSquaredError\n",
    "from tensorflow.keras.callbacks import EarlyStopping, ReduceLROnPlateau\n",
    "from tensorflow.keras.backend import set_epsilon\n",
    "from tensorflow import keras\n",
    "from scipy.integrate import odeint\n",
    "from scipy.optimize import differential_evolution\n",
    "from sklearn.metrics import mean_absolute_percentage_error\n",
    "from statsmodels.tsa.stattools import adfuller\n",
    "from statsmodels.tsa.seasonal import seasonal_decompose\n",
    "from statsmodels.graphics.tsaplots import plot_acf, plot_pacf\n",
    "from statsmodels.tsa.arima.model import ARIMA"
   ]
  },
  {
   "cell_type": "code",
   "execution_count": 8,
   "metadata": {},
   "outputs": [
    {
     "name": "stderr",
     "output_type": "stream",
     "text": [
      "C:\\Users\\ADMIN\\AppData\\Local\\Temp\\ipykernel_15856\\3032666805.py:1: UserWarning: Could not infer format, so each element will be parsed individually, falling back to `dateutil`. To ensure parsing is consistent and as-expected, please specify a format.\n",
      "  df = pd.read_csv(\"./data/hanoi_data.csv\", parse_dates=['Date'], dayfirst=True)\n"
     ]
    },
    {
     "data": {
      "text/html": [
       "<div>\n",
       "<style scoped>\n",
       "    .dataframe tbody tr th:only-of-type {\n",
       "        vertical-align: middle;\n",
       "    }\n",
       "\n",
       "    .dataframe tbody tr th {\n",
       "        vertical-align: top;\n",
       "    }\n",
       "\n",
       "    .dataframe thead th {\n",
       "        text-align: right;\n",
       "    }\n",
       "</style>\n",
       "<table border=\"1\" class=\"dataframe\">\n",
       "  <thead>\n",
       "    <tr style=\"text-align: right;\">\n",
       "      <th></th>\n",
       "      <th>Date</th>\n",
       "      <th>daily_cases</th>\n",
       "      <th>retail_and_recreation</th>\n",
       "      <th>grocery_and_pharmacy</th>\n",
       "      <th>parks_change</th>\n",
       "      <th>transit_stations</th>\n",
       "      <th>workplaces</th>\n",
       "      <th>residential_change</th>\n",
       "    </tr>\n",
       "  </thead>\n",
       "  <tbody>\n",
       "    <tr>\n",
       "      <th>608</th>\n",
       "      <td>2021-10-15</td>\n",
       "      <td>88.0</td>\n",
       "      <td>-50.0</td>\n",
       "      <td>-33.0</td>\n",
       "      <td>-56.0</td>\n",
       "      <td>-70.0</td>\n",
       "      <td>-29.0</td>\n",
       "      <td>13.0</td>\n",
       "    </tr>\n",
       "    <tr>\n",
       "      <th>609</th>\n",
       "      <td>2021-10-16</td>\n",
       "      <td>239.0</td>\n",
       "      <td>-34.0</td>\n",
       "      <td>-10.0</td>\n",
       "      <td>-41.0</td>\n",
       "      <td>-63.0</td>\n",
       "      <td>-29.0</td>\n",
       "      <td>11.0</td>\n",
       "    </tr>\n",
       "    <tr>\n",
       "      <th>610</th>\n",
       "      <td>2021-10-17</td>\n",
       "      <td>158.0</td>\n",
       "      <td>-20.0</td>\n",
       "      <td>8.0</td>\n",
       "      <td>-18.0</td>\n",
       "      <td>-58.0</td>\n",
       "      <td>-31.0</td>\n",
       "      <td>5.0</td>\n",
       "    </tr>\n",
       "    <tr>\n",
       "      <th>611</th>\n",
       "      <td>2021-10-18</td>\n",
       "      <td>218.0</td>\n",
       "      <td>-44.0</td>\n",
       "      <td>-24.0</td>\n",
       "      <td>-45.0</td>\n",
       "      <td>-66.0</td>\n",
       "      <td>-23.0</td>\n",
       "      <td>10.0</td>\n",
       "    </tr>\n",
       "    <tr>\n",
       "      <th>612</th>\n",
       "      <td>2021-10-19</td>\n",
       "      <td>202.0</td>\n",
       "      <td>-29.0</td>\n",
       "      <td>-2.0</td>\n",
       "      <td>-28.0</td>\n",
       "      <td>-58.0</td>\n",
       "      <td>-16.0</td>\n",
       "      <td>7.0</td>\n",
       "    </tr>\n",
       "  </tbody>\n",
       "</table>\n",
       "</div>"
      ],
      "text/plain": [
       "          Date  daily_cases  ...  workplaces  residential_change\n",
       "608 2021-10-15         88.0  ...       -29.0                13.0\n",
       "609 2021-10-16        239.0  ...       -29.0                11.0\n",
       "610 2021-10-17        158.0  ...       -31.0                 5.0\n",
       "611 2021-10-18        218.0  ...       -23.0                10.0\n",
       "612 2021-10-19        202.0  ...       -16.0                 7.0\n",
       "\n",
       "[5 rows x 8 columns]"
      ]
     },
     "execution_count": 8,
     "metadata": {},
     "output_type": "execute_result"
    }
   ],
   "source": [
    "df = pd.read_csv(\"./data/hanoi_data.csv\", parse_dates=['Date'], dayfirst=True)\n",
    "df = df[(df['Date'] >= '2021-04-5') & (df['Date'] <= '2021-10-19')]\n",
    "df.tail(5)"
   ]
  },
  {
   "cell_type": "markdown",
   "metadata": {},
   "source": [
    "### Data preparation"
   ]
  },
  {
   "cell_type": "code",
   "execution_count": 29,
   "metadata": {},
   "outputs": [
    {
     "ename": "IndexError",
     "evalue": "index 188 is out of bounds for axis 0 with size 188",
     "output_type": "error",
     "traceback": [
      "\u001b[1;31m---------------------------------------------------------------------------\u001b[0m",
      "\u001b[1;31mIndexError\u001b[0m                                Traceback (most recent call last)",
      "Cell \u001b[1;32mIn[29], line 31\u001b[0m\n\u001b[0;32m     28\u001b[0m     \u001b[38;5;28;01mreturn\u001b[39;00m np\u001b[38;5;241m.\u001b[39marray(sequences), np\u001b[38;5;241m.\u001b[39marray(labels)\n\u001b[0;32m     30\u001b[0m sequence_length \u001b[38;5;241m=\u001b[39m \u001b[38;5;241m3\u001b[39m\n\u001b[1;32m---> 31\u001b[0m X_train_seq, y_train_seq \u001b[38;5;241m=\u001b[39m \u001b[43mcreate_sequences\u001b[49m\u001b[43m(\u001b[49m\u001b[43mX_train_scaled\u001b[49m\u001b[43m,\u001b[49m\u001b[43m \u001b[49m\u001b[43my_train_scaled\u001b[49m\u001b[43m,\u001b[49m\u001b[43m \u001b[49m\u001b[43msequence_length\u001b[49m\u001b[43m)\u001b[49m\n\u001b[0;32m     32\u001b[0m X_test_seq, y_test_seq \u001b[38;5;241m=\u001b[39m create_sequences(X_test_scaled, y_test_scaled\u001b[38;5;241m.\u001b[39mreshape(\u001b[38;5;241m-\u001b[39m\u001b[38;5;241m1\u001b[39m,\u001b[38;5;241m1\u001b[39m), sequence_length)\n\u001b[0;32m     33\u001b[0m X_test_seq \u001b[38;5;241m=\u001b[39m X_test_seq\u001b[38;5;241m.\u001b[39mreshape(X_test_seq\u001b[38;5;241m.\u001b[39mshape[\u001b[38;5;241m0\u001b[39m], X_test_seq\u001b[38;5;241m.\u001b[39mshape[\u001b[38;5;241m1\u001b[39m], \u001b[38;5;241m1\u001b[39m)\n",
      "Cell \u001b[1;32mIn[29], line 25\u001b[0m, in \u001b[0;36mcreate_sequences\u001b[1;34m(features, target, sequence_length)\u001b[0m\n\u001b[0;32m     23\u001b[0m \u001b[38;5;28;01mfor\u001b[39;00m i \u001b[38;5;129;01min\u001b[39;00m \u001b[38;5;28mrange\u001b[39m(\u001b[38;5;28mlen\u001b[39m(features) \u001b[38;5;241m-\u001b[39m sequence_length):\n\u001b[0;32m     24\u001b[0m     sequence \u001b[38;5;241m=\u001b[39m features[i:i \u001b[38;5;241m+\u001b[39m sequence_length]\n\u001b[1;32m---> 25\u001b[0m     label \u001b[38;5;241m=\u001b[39m \u001b[43mtarget\u001b[49m\u001b[43m[\u001b[49m\u001b[43mi\u001b[49m\u001b[43m \u001b[49m\u001b[38;5;241;43m+\u001b[39;49m\u001b[43m \u001b[49m\u001b[43msequence_length\u001b[49m\u001b[43m]\u001b[49m\n\u001b[0;32m     26\u001b[0m     sequences\u001b[38;5;241m.\u001b[39mappend(sequence)\n\u001b[0;32m     27\u001b[0m     labels\u001b[38;5;241m.\u001b[39mappend(label)\n",
      "\u001b[1;31mIndexError\u001b[0m: index 188 is out of bounds for axis 0 with size 188"
     ]
    }
   ],
   "source": [
    "#@title data preparation, sequence_length = 7, only normalize the training set\n",
    "feature_columns = df.columns.difference(['Date'])\n",
    "X_data = df['daily_cases'].values\n",
    "y_data = df['daily_cases'].values\n",
    "\n",
    "# Split the data into training and testing sets\n",
    "X_train, X_test, y_train, y_test = train_test_split(X_data, y_data, test_size=10/len(df), random_state=42, shuffle=False)\n",
    "\n",
    "# Normalize the data using only the training data\n",
    "scaler_X_train = StandardScaler()\n",
    "scaler_y_train = StandardScaler()\n",
    "scaler_X_test = StandardScaler()\n",
    "scaler_y_test = StandardScaler()\n",
    "\n",
    "X_train_scaled = scaler_X_train.fit_transform(X_train.reshape(-1, 1))\n",
    "y_train_scaled = scaler_y_train.fit_transform(y_train.reshape(-1, 1))\n",
    "X_test_scaled = scaler_X_test.fit_transform(X_test.reshape(-1, 1))\n",
    "y_test_scaled = scaler_y_test.fit_transform(y_test.reshape(-1, 1))\n",
    "\n",
    "def create_sequences(features, target, sequence_length):\n",
    "    sequences = []\n",
    "    labels = []\n",
    "    for i in range(len(features) - sequence_length):\n",
    "        sequence = features[i:i + sequence_length]\n",
    "        label = target[i + sequence_length]\n",
    "        sequences.append(sequence)\n",
    "        labels.append(label)\n",
    "    return np.array(sequences), np.array(labels)\n",
    "\n",
    "sequence_length = 3\n",
    "X_train_seq, y_train_seq = create_sequences(X_train_scaled, y_train_scaled, sequence_length)\n",
    "X_test_seq, y_test_seq = create_sequences(X_test_scaled, y_test_scaled.reshape(-1,1), sequence_length)\n",
    "X_test_seq = X_test_seq.reshape(X_test_seq.shape[0], X_test_seq.shape[1], 1)\n",
    "\n",
    "print(X_train_seq.shape, y_train_seq.shape, X_test_seq.shape, y_test_seq.shape)"
   ]
  },
  {
   "cell_type": "markdown",
   "metadata": {},
   "source": [
    "## Building model"
   ]
  },
  {
   "cell_type": "markdown",
   "metadata": {},
   "source": [
    "### LSTM"
   ]
  },
  {
   "cell_type": "code",
   "execution_count": 39,
   "metadata": {},
   "outputs": [
    {
     "name": "stderr",
     "output_type": "stream",
     "text": [
      "c:\\Users\\ADMIN\\AppData\\Local\\Programs\\Python\\Python312\\Lib\\site-packages\\keras\\src\\layers\\rnn\\rnn.py:204: UserWarning:\n",
      "\n",
      "Do not pass an `input_shape`/`input_dim` argument to a layer. When using Sequential models, prefer using an `Input(shape)` object as the first layer in the model instead.\n",
      "\n"
     ]
    },
    {
     "data": {
      "text/html": [
       "<pre style=\"white-space:pre;overflow-x:auto;line-height:normal;font-family:Menlo,'DejaVu Sans Mono',consolas,'Courier New',monospace\"><span style=\"font-weight: bold\">Model: \"sequential_7\"</span>\n",
       "</pre>\n"
      ],
      "text/plain": [
       "\u001b[1mModel: \"sequential_7\"\u001b[0m\n"
      ]
     },
     "metadata": {},
     "output_type": "display_data"
    },
    {
     "data": {
      "text/html": [
       "<pre style=\"white-space:pre;overflow-x:auto;line-height:normal;font-family:Menlo,'DejaVu Sans Mono',consolas,'Courier New',monospace\">┏━━━━━━━━━━━━━━━━━━━━━━━━━━━━━━━━━┳━━━━━━━━━━━━━━━━━━━━━━━━┳━━━━━━━━━━━━━━━┓\n",
       "┃<span style=\"font-weight: bold\"> Layer (type)                    </span>┃<span style=\"font-weight: bold\"> Output Shape           </span>┃<span style=\"font-weight: bold\">       Param # </span>┃\n",
       "┡━━━━━━━━━━━━━━━━━━━━━━━━━━━━━━━━━╇━━━━━━━━━━━━━━━━━━━━━━━━╇━━━━━━━━━━━━━━━┩\n",
       "│ lstm_7 (<span style=\"color: #0087ff; text-decoration-color: #0087ff\">LSTM</span>)                   │ (<span style=\"color: #00d7ff; text-decoration-color: #00d7ff\">None</span>, <span style=\"color: #00af00; text-decoration-color: #00af00\">100</span>)            │        <span style=\"color: #00af00; text-decoration-color: #00af00\">40,800</span> │\n",
       "├─────────────────────────────────┼────────────────────────┼───────────────┤\n",
       "│ dense_14 (<span style=\"color: #0087ff; text-decoration-color: #0087ff\">Dense</span>)                │ (<span style=\"color: #00d7ff; text-decoration-color: #00d7ff\">None</span>, <span style=\"color: #00af00; text-decoration-color: #00af00\">8</span>)              │           <span style=\"color: #00af00; text-decoration-color: #00af00\">808</span> │\n",
       "├─────────────────────────────────┼────────────────────────┼───────────────┤\n",
       "│ dense_15 (<span style=\"color: #0087ff; text-decoration-color: #0087ff\">Dense</span>)                │ (<span style=\"color: #00d7ff; text-decoration-color: #00d7ff\">None</span>, <span style=\"color: #00af00; text-decoration-color: #00af00\">1</span>)              │             <span style=\"color: #00af00; text-decoration-color: #00af00\">9</span> │\n",
       "└─────────────────────────────────┴────────────────────────┴───────────────┘\n",
       "</pre>\n"
      ],
      "text/plain": [
       "┏━━━━━━━━━━━━━━━━━━━━━━━━━━━━━━━━━┳━━━━━━━━━━━━━━━━━━━━━━━━┳━━━━━━━━━━━━━━━┓\n",
       "┃\u001b[1m \u001b[0m\u001b[1mLayer (type)                   \u001b[0m\u001b[1m \u001b[0m┃\u001b[1m \u001b[0m\u001b[1mOutput Shape          \u001b[0m\u001b[1m \u001b[0m┃\u001b[1m \u001b[0m\u001b[1m      Param #\u001b[0m\u001b[1m \u001b[0m┃\n",
       "┡━━━━━━━━━━━━━━━━━━━━━━━━━━━━━━━━━╇━━━━━━━━━━━━━━━━━━━━━━━━╇━━━━━━━━━━━━━━━┩\n",
       "│ lstm_7 (\u001b[38;5;33mLSTM\u001b[0m)                   │ (\u001b[38;5;45mNone\u001b[0m, \u001b[38;5;34m100\u001b[0m)            │        \u001b[38;5;34m40,800\u001b[0m │\n",
       "├─────────────────────────────────┼────────────────────────┼───────────────┤\n",
       "│ dense_14 (\u001b[38;5;33mDense\u001b[0m)                │ (\u001b[38;5;45mNone\u001b[0m, \u001b[38;5;34m8\u001b[0m)              │           \u001b[38;5;34m808\u001b[0m │\n",
       "├─────────────────────────────────┼────────────────────────┼───────────────┤\n",
       "│ dense_15 (\u001b[38;5;33mDense\u001b[0m)                │ (\u001b[38;5;45mNone\u001b[0m, \u001b[38;5;34m1\u001b[0m)              │             \u001b[38;5;34m9\u001b[0m │\n",
       "└─────────────────────────────────┴────────────────────────┴───────────────┘\n"
      ]
     },
     "metadata": {},
     "output_type": "display_data"
    },
    {
     "data": {
      "text/html": [
       "<pre style=\"white-space:pre;overflow-x:auto;line-height:normal;font-family:Menlo,'DejaVu Sans Mono',consolas,'Courier New',monospace\"><span style=\"font-weight: bold\"> Total params: </span><span style=\"color: #00af00; text-decoration-color: #00af00\">41,617</span> (162.57 KB)\n",
       "</pre>\n"
      ],
      "text/plain": [
       "\u001b[1m Total params: \u001b[0m\u001b[38;5;34m41,617\u001b[0m (162.57 KB)\n"
      ]
     },
     "metadata": {},
     "output_type": "display_data"
    },
    {
     "data": {
      "text/html": [
       "<pre style=\"white-space:pre;overflow-x:auto;line-height:normal;font-family:Menlo,'DejaVu Sans Mono',consolas,'Courier New',monospace\"><span style=\"font-weight: bold\"> Trainable params: </span><span style=\"color: #00af00; text-decoration-color: #00af00\">41,617</span> (162.57 KB)\n",
       "</pre>\n"
      ],
      "text/plain": [
       "\u001b[1m Trainable params: \u001b[0m\u001b[38;5;34m41,617\u001b[0m (162.57 KB)\n"
      ]
     },
     "metadata": {},
     "output_type": "display_data"
    },
    {
     "data": {
      "text/html": [
       "<pre style=\"white-space:pre;overflow-x:auto;line-height:normal;font-family:Menlo,'DejaVu Sans Mono',consolas,'Courier New',monospace\"><span style=\"font-weight: bold\"> Non-trainable params: </span><span style=\"color: #00af00; text-decoration-color: #00af00\">0</span> (0.00 B)\n",
       "</pre>\n"
      ],
      "text/plain": [
       "\u001b[1m Non-trainable params: \u001b[0m\u001b[38;5;34m0\u001b[0m (0.00 B)\n"
      ]
     },
     "metadata": {},
     "output_type": "display_data"
    }
   ],
   "source": [
    "#@title model architecture\n",
    "\n",
    "lstm_model = Sequential()\n",
    "lstm_model.add(LSTM(100, dropout=0.2, return_sequences=False, input_shape=(X_train_seq.shape[1], X_train_seq.shape[2])))\n",
    "lstm_model.add(Dense(8, 'relu'))\n",
    "lstm_model.add(Dense(1, 'linear'))\n",
    "keras.backend.set_epsilon(1)\n",
    "lstm_model.compile(optimizer=Adam(learning_rate=0.001), loss=MeanAbsoluteError(), metrics=[MeanAbsolutePercentageError()])\n",
    "lstm_model.summary()\n"
   ]
  },
  {
   "cell_type": "code",
   "execution_count": 31,
   "metadata": {},
   "outputs": [
    {
     "name": "stdout",
     "output_type": "stream",
     "text": [
      "(185, 3, 1)\n",
      "(185, 1)\n",
      "float64\n",
      "float64\n"
     ]
    },
    {
     "name": "stderr",
     "output_type": "stream",
     "text": [
      "c:\\Users\\ADMIN\\AppData\\Local\\Programs\\Python\\Python312\\Lib\\site-packages\\keras\\src\\layers\\rnn\\rnn.py:204: UserWarning:\n",
      "\n",
      "Do not pass an `input_shape`/`input_dim` argument to a layer. When using Sequential models, prefer using an `Input(shape)` object as the first layer in the model instead.\n",
      "\n"
     ]
    },
    {
     "name": "stdout",
     "output_type": "stream",
     "text": [
      "\u001b[1m24/24\u001b[0m \u001b[32m━━━━━━━━━━━━━━━━━━━━\u001b[0m\u001b[37m\u001b[0m \u001b[1m2s\u001b[0m 4ms/step - loss: 0.7407 - mean_absolute_percentage_error: 57.3711\n",
      "Single fit successful\n"
     ]
    },
    {
     "name": "stderr",
     "output_type": "stream",
     "text": [
      "c:\\Users\\ADMIN\\AppData\\Local\\Programs\\Python\\Python312\\Lib\\site-packages\\scikeras\\wrappers.py:925: UserWarning:\n",
      "\n",
      "``build_fn`` will be renamed to ``model`` in a future release, at which point use of ``build_fn`` will raise an Error instead.\n",
      "\n",
      "c:\\Users\\ADMIN\\AppData\\Local\\Programs\\Python\\Python312\\Lib\\site-packages\\keras\\src\\layers\\rnn\\rnn.py:204: UserWarning:\n",
      "\n",
      "Do not pass an `input_shape`/`input_dim` argument to a layer. When using Sequential models, prefer using an `Input(shape)` object as the first layer in the model instead.\n",
      "\n"
     ]
    },
    {
     "name": "stdout",
     "output_type": "stream",
     "text": [
      "Best: -0.455854 using {'batch_size': 32, 'epochs': 200}\n"
     ]
    }
   ],
   "source": [
    "# Import necessary modules\n",
    "from tensorflow.keras.models import Sequential\n",
    "from tensorflow.keras.layers import LSTM, Dense\n",
    "from tensorflow.keras.optimizers import Adam\n",
    "from tensorflow.keras.losses import MeanAbsoluteError\n",
    "from tensorflow.keras.metrics import MeanAbsolutePercentageError\n",
    "import tensorflow.keras.backend as K\n",
    "from scikeras.wrappers import KerasRegressor\n",
    "from sklearn.model_selection import GridSearchCV\n",
    "\n",
    "# Define a function to create the Keras model\n",
    "def create_model():\n",
    "    model = Sequential()\n",
    "    model.add(LSTM(100, dropout=0.2, return_sequences=False, input_shape=(X_train_seq.shape[1], X_train_seq.shape[2])))\n",
    "    model.add(Dense(8, activation='relu'))\n",
    "    model.add(Dense(1, activation='linear'))\n",
    "    K.set_epsilon(1)\n",
    "    model.compile(optimizer=Adam(learning_rate=0.001), loss=MeanAbsoluteError(), metrics=[MeanAbsolutePercentageError()])\n",
    "    return model\n",
    "\n",
    "# Wrap the Keras model using KerasRegressor\n",
    "model = KerasRegressor(build_fn=create_model, verbose=0)\n",
    "\n",
    "# Define the parameter grid\n",
    "batch_size = [8, 16, 32]\n",
    "epochs = [200, 300, 500]\n",
    "param_grid = dict(batch_size=batch_size, epochs=epochs)\n",
    "\n",
    "# Perform Grid Search with appropriate scoring for regression\n",
    "grid = GridSearchCV(estimator=model, param_grid=param_grid, n_jobs=-1, cv=3, scoring='neg_mean_absolute_error', error_score='raise')\n",
    "\n",
    "# Check shapes and data types\n",
    "print(X_train_seq.shape)\n",
    "print(y_train_seq.shape)\n",
    "print(X_train_seq.dtype if hasattr(X_train_seq, 'dtype') else \"Not a DataFrame\")\n",
    "print(y_train_seq.dtype if hasattr(y_train_seq, 'dtype') else \"Not a Series\")\n",
    "\n",
    "# Try a single fit to see if it works\n",
    "try:\n",
    "    single_model = create_model()\n",
    "    single_model.fit(X_train_seq, y_train_seq, epochs=1, batch_size=8)\n",
    "    print(\"Single fit successful\")\n",
    "except ValueError as e:\n",
    "    print(f\"Single fit ValueError: {e}\")\n",
    "\n",
    "# Fit the grid search\n",
    "try:\n",
    "    grid_result = grid.fit(X_train_seq, y_train_seq)\n",
    "    print(\"Best: %f using %s\" % (grid_result.best_score_, grid_result.best_params_))\n",
    "except ValueError as e:\n",
    "    print(f\"GridSearchCV ValueError: {e}\")\n"
   ]
  },
  {
   "cell_type": "code",
   "execution_count": null,
   "metadata": {},
   "outputs": [],
   "source": [
    "grid_result = grid.fit(X_train_seq, y_train_seq)\n",
    "\n",
    "# Print the best results\n",
    "print(\"Best: %f using %s\" % (grid_result.best_score_, grid_result.best_params_))\n"
   ]
  },
  {
   "cell_type": "code",
   "execution_count": 36,
   "metadata": {},
   "outputs": [
    {
     "name": "stdout",
     "output_type": "stream",
     "text": [
      "Epoch 1/200\n",
      "\u001b[1m5/5\u001b[0m \u001b[32m━━━━━━━━━━━━━━━━━━━━\u001b[0m\u001b[37m\u001b[0m \u001b[1m3s\u001b[0m 92ms/step - loss: 0.7031 - mean_absolute_percentage_error: 58.7599 - val_loss: 0.7021 - val_mean_absolute_percentage_error: 57.8116\n",
      "Epoch 2/200\n",
      "\u001b[1m5/5\u001b[0m \u001b[32m━━━━━━━━━━━━━━━━━━━━\u001b[0m\u001b[37m\u001b[0m \u001b[1m0s\u001b[0m 13ms/step - loss: 0.7335 - mean_absolute_percentage_error: 58.7437 - val_loss: 0.6651 - val_mean_absolute_percentage_error: 55.2688\n",
      "Epoch 3/200\n",
      "\u001b[1m5/5\u001b[0m \u001b[32m━━━━━━━━━━━━━━━━━━━━\u001b[0m\u001b[37m\u001b[0m \u001b[1m0s\u001b[0m 14ms/step - loss: 0.6624 - mean_absolute_percentage_error: 56.9920 - val_loss: 0.6297 - val_mean_absolute_percentage_error: 52.8160\n",
      "Epoch 4/200\n",
      "\u001b[1m5/5\u001b[0m \u001b[32m━━━━━━━━━━━━━━━━━━━━\u001b[0m\u001b[37m\u001b[0m \u001b[1m0s\u001b[0m 16ms/step - loss: 0.6609 - mean_absolute_percentage_error: 55.8737 - val_loss: 0.5964 - val_mean_absolute_percentage_error: 50.5550\n",
      "Epoch 5/200\n",
      "\u001b[1m5/5\u001b[0m \u001b[32m━━━━━━━━━━━━━━━━━━━━\u001b[0m\u001b[37m\u001b[0m \u001b[1m0s\u001b[0m 15ms/step - loss: 0.6319 - mean_absolute_percentage_error: 54.5658 - val_loss: 0.5723 - val_mean_absolute_percentage_error: 48.8794\n",
      "Epoch 6/200\n",
      "\u001b[1m5/5\u001b[0m \u001b[32m━━━━━━━━━━━━━━━━━━━━\u001b[0m\u001b[37m\u001b[0m \u001b[1m0s\u001b[0m 12ms/step - loss: 0.6820 - mean_absolute_percentage_error: 54.1724 - val_loss: 0.5521 - val_mean_absolute_percentage_error: 47.4819\n",
      "Epoch 7/200\n",
      "\u001b[1m5/5\u001b[0m \u001b[32m━━━━━━━━━━━━━━━━━━━━\u001b[0m\u001b[37m\u001b[0m \u001b[1m0s\u001b[0m 12ms/step - loss: 0.6495 - mean_absolute_percentage_error: 54.2204 - val_loss: 0.5455 - val_mean_absolute_percentage_error: 46.9654\n",
      "Epoch 8/200\n",
      "\u001b[1m5/5\u001b[0m \u001b[32m━━━━━━━━━━━━━━━━━━━━\u001b[0m\u001b[37m\u001b[0m \u001b[1m0s\u001b[0m 12ms/step - loss: 0.6498 - mean_absolute_percentage_error: 57.1619 - val_loss: 0.5362 - val_mean_absolute_percentage_error: 46.2565\n",
      "Epoch 9/200\n",
      "\u001b[1m5/5\u001b[0m \u001b[32m━━━━━━━━━━━━━━━━━━━━\u001b[0m\u001b[37m\u001b[0m \u001b[1m0s\u001b[0m 12ms/step - loss: 0.6255 - mean_absolute_percentage_error: 54.4458 - val_loss: 0.5315 - val_mean_absolute_percentage_error: 45.7169\n",
      "Epoch 10/200\n",
      "\u001b[1m5/5\u001b[0m \u001b[32m━━━━━━━━━━━━━━━━━━━━\u001b[0m\u001b[37m\u001b[0m \u001b[1m0s\u001b[0m 12ms/step - loss: 0.5937 - mean_absolute_percentage_error: 49.4220 - val_loss: 0.5230 - val_mean_absolute_percentage_error: 44.8498\n",
      "Epoch 11/200\n",
      "\u001b[1m5/5\u001b[0m \u001b[32m━━━━━━━━━━━━━━━━━━━━\u001b[0m\u001b[37m\u001b[0m \u001b[1m0s\u001b[0m 15ms/step - loss: 0.5608 - mean_absolute_percentage_error: 46.9776 - val_loss: 0.5092 - val_mean_absolute_percentage_error: 43.5849\n",
      "Epoch 12/200\n",
      "\u001b[1m5/5\u001b[0m \u001b[32m━━━━━━━━━━━━━━━━━━━━\u001b[0m\u001b[37m\u001b[0m \u001b[1m0s\u001b[0m 17ms/step - loss: 0.6394 - mean_absolute_percentage_error: 52.8188 - val_loss: 0.4972 - val_mean_absolute_percentage_error: 42.2606\n",
      "Epoch 13/200\n",
      "\u001b[1m5/5\u001b[0m \u001b[32m━━━━━━━━━━━━━━━━━━━━\u001b[0m\u001b[37m\u001b[0m \u001b[1m0s\u001b[0m 12ms/step - loss: 0.5853 - mean_absolute_percentage_error: 45.9887 - val_loss: 0.4886 - val_mean_absolute_percentage_error: 40.9999\n",
      "Epoch 14/200\n",
      "\u001b[1m5/5\u001b[0m \u001b[32m━━━━━━━━━━━━━━━━━━━━\u001b[0m\u001b[37m\u001b[0m \u001b[1m0s\u001b[0m 12ms/step - loss: 0.5869 - mean_absolute_percentage_error: 46.1320 - val_loss: 0.4690 - val_mean_absolute_percentage_error: 38.9503\n",
      "Epoch 15/200\n",
      "\u001b[1m5/5\u001b[0m \u001b[32m━━━━━━━━━━━━━━━━━━━━\u001b[0m\u001b[37m\u001b[0m \u001b[1m0s\u001b[0m 12ms/step - loss: 0.5373 - mean_absolute_percentage_error: 44.5584 - val_loss: 0.4399 - val_mean_absolute_percentage_error: 36.0512\n",
      "Epoch 16/200\n",
      "\u001b[1m5/5\u001b[0m \u001b[32m━━━━━━━━━━━━━━━━━━━━\u001b[0m\u001b[37m\u001b[0m \u001b[1m0s\u001b[0m 12ms/step - loss: 0.5023 - mean_absolute_percentage_error: 37.4617 - val_loss: 0.4012 - val_mean_absolute_percentage_error: 32.4883\n",
      "Epoch 17/200\n",
      "\u001b[1m5/5\u001b[0m \u001b[32m━━━━━━━━━━━━━━━━━━━━\u001b[0m\u001b[37m\u001b[0m \u001b[1m0s\u001b[0m 13ms/step - loss: 0.4780 - mean_absolute_percentage_error: 36.7978 - val_loss: 0.3635 - val_mean_absolute_percentage_error: 28.8668\n",
      "Epoch 18/200\n",
      "\u001b[1m5/5\u001b[0m \u001b[32m━━━━━━━━━━━━━━━━━━━━\u001b[0m\u001b[37m\u001b[0m \u001b[1m0s\u001b[0m 12ms/step - loss: 0.4433 - mean_absolute_percentage_error: 33.6750 - val_loss: 0.3526 - val_mean_absolute_percentage_error: 27.9132\n",
      "Epoch 19/200\n",
      "\u001b[1m5/5\u001b[0m \u001b[32m━━━━━━━━━━━━━━━━━━━━\u001b[0m\u001b[37m\u001b[0m \u001b[1m0s\u001b[0m 12ms/step - loss: 0.4718 - mean_absolute_percentage_error: 37.7196 - val_loss: 0.3466 - val_mean_absolute_percentage_error: 27.3581\n",
      "Epoch 20/200\n",
      "\u001b[1m5/5\u001b[0m \u001b[32m━━━━━━━━━━━━━━━━━━━━\u001b[0m\u001b[37m\u001b[0m \u001b[1m0s\u001b[0m 12ms/step - loss: 0.4991 - mean_absolute_percentage_error: 36.0976 - val_loss: 0.3446 - val_mean_absolute_percentage_error: 27.3081\n",
      "Epoch 21/200\n",
      "\u001b[1m5/5\u001b[0m \u001b[32m━━━━━━━━━━━━━━━━━━━━\u001b[0m\u001b[37m\u001b[0m \u001b[1m0s\u001b[0m 12ms/step - loss: 0.4468 - mean_absolute_percentage_error: 32.5286 - val_loss: 0.3439 - val_mean_absolute_percentage_error: 27.1542\n",
      "Epoch 22/200\n",
      "\u001b[1m5/5\u001b[0m \u001b[32m━━━━━━━━━━━━━━━━━━━━\u001b[0m\u001b[37m\u001b[0m \u001b[1m0s\u001b[0m 12ms/step - loss: 0.4123 - mean_absolute_percentage_error: 31.3223 - val_loss: 0.3377 - val_mean_absolute_percentage_error: 26.5786\n",
      "Epoch 23/200\n",
      "\u001b[1m5/5\u001b[0m \u001b[32m━━━━━━━━━━━━━━━━━━━━\u001b[0m\u001b[37m\u001b[0m \u001b[1m0s\u001b[0m 12ms/step - loss: 0.4734 - mean_absolute_percentage_error: 33.3364 - val_loss: 0.3384 - val_mean_absolute_percentage_error: 26.4969\n",
      "Epoch 24/200\n",
      "\u001b[1m5/5\u001b[0m \u001b[32m━━━━━━━━━━━━━━━━━━━━\u001b[0m\u001b[37m\u001b[0m \u001b[1m0s\u001b[0m 12ms/step - loss: 0.4720 - mean_absolute_percentage_error: 34.0360 - val_loss: 0.3533 - val_mean_absolute_percentage_error: 27.4265\n",
      "Epoch 25/200\n",
      "\u001b[1m5/5\u001b[0m \u001b[32m━━━━━━━━━━━━━━━━━━━━\u001b[0m\u001b[37m\u001b[0m \u001b[1m0s\u001b[0m 11ms/step - loss: 0.4415 - mean_absolute_percentage_error: 32.3724 - val_loss: 0.3547 - val_mean_absolute_percentage_error: 27.4515\n",
      "Epoch 26/200\n",
      "\u001b[1m5/5\u001b[0m \u001b[32m━━━━━━━━━━━━━━━━━━━━\u001b[0m\u001b[37m\u001b[0m \u001b[1m0s\u001b[0m 13ms/step - loss: 0.4275 - mean_absolute_percentage_error: 32.4384 - val_loss: 0.3501 - val_mean_absolute_percentage_error: 27.0827\n",
      "Epoch 27/200\n",
      "\u001b[1m5/5\u001b[0m \u001b[32m━━━━━━━━━━━━━━━━━━━━\u001b[0m\u001b[37m\u001b[0m \u001b[1m0s\u001b[0m 11ms/step - loss: 0.4100 - mean_absolute_percentage_error: 32.3776 - val_loss: 0.3521 - val_mean_absolute_percentage_error: 27.2598\n",
      "Epoch 28/200\n",
      "\u001b[1m5/5\u001b[0m \u001b[32m━━━━━━━━━━━━━━━━━━━━\u001b[0m\u001b[37m\u001b[0m \u001b[1m0s\u001b[0m 16ms/step - loss: 0.3812 - mean_absolute_percentage_error: 29.1757 - val_loss: 0.3438 - val_mean_absolute_percentage_error: 26.7178\n",
      "Epoch 29/200\n",
      "\u001b[1m5/5\u001b[0m \u001b[32m━━━━━━━━━━━━━━━━━━━━\u001b[0m\u001b[37m\u001b[0m \u001b[1m0s\u001b[0m 14ms/step - loss: 0.3873 - mean_absolute_percentage_error: 27.7534 - val_loss: 0.3334 - val_mean_absolute_percentage_error: 26.0626\n",
      "Epoch 30/200\n",
      "\u001b[1m5/5\u001b[0m \u001b[32m━━━━━━━━━━━━━━━━━━━━\u001b[0m\u001b[37m\u001b[0m \u001b[1m0s\u001b[0m 13ms/step - loss: 0.4389 - mean_absolute_percentage_error: 34.4874 - val_loss: 0.3317 - val_mean_absolute_percentage_error: 25.9239\n",
      "Epoch 31/200\n",
      "\u001b[1m5/5\u001b[0m \u001b[32m━━━━━━━━━━━━━━━━━━━━\u001b[0m\u001b[37m\u001b[0m \u001b[1m0s\u001b[0m 14ms/step - loss: 0.4978 - mean_absolute_percentage_error: 35.2277 - val_loss: 0.3336 - val_mean_absolute_percentage_error: 26.0632\n",
      "Epoch 32/200\n",
      "\u001b[1m5/5\u001b[0m \u001b[32m━━━━━━━━━━━━━━━━━━━━\u001b[0m\u001b[37m\u001b[0m \u001b[1m0s\u001b[0m 15ms/step - loss: 0.4535 - mean_absolute_percentage_error: 33.9298 - val_loss: 0.3453 - val_mean_absolute_percentage_error: 26.8445\n",
      "Epoch 33/200\n",
      "\u001b[1m5/5\u001b[0m \u001b[32m━━━━━━━━━━━━━━━━━━━━\u001b[0m\u001b[37m\u001b[0m \u001b[1m0s\u001b[0m 14ms/step - loss: 0.4221 - mean_absolute_percentage_error: 31.3069 - val_loss: 0.3479 - val_mean_absolute_percentage_error: 26.9866\n",
      "Epoch 34/200\n",
      "\u001b[1m5/5\u001b[0m \u001b[32m━━━━━━━━━━━━━━━━━━━━\u001b[0m\u001b[37m\u001b[0m \u001b[1m0s\u001b[0m 15ms/step - loss: 0.4682 - mean_absolute_percentage_error: 32.1132 - val_loss: 0.3510 - val_mean_absolute_percentage_error: 27.2001\n",
      "Epoch 35/200\n",
      "\u001b[1m5/5\u001b[0m \u001b[32m━━━━━━━━━━━━━━━━━━━━\u001b[0m\u001b[37m\u001b[0m \u001b[1m0s\u001b[0m 25ms/step - loss: 0.4855 - mean_absolute_percentage_error: 35.6230 - val_loss: 0.3500 - val_mean_absolute_percentage_error: 27.0916\n",
      "Epoch 36/200\n",
      "\u001b[1m5/5\u001b[0m \u001b[32m━━━━━━━━━━━━━━━━━━━━\u001b[0m\u001b[37m\u001b[0m \u001b[1m0s\u001b[0m 19ms/step - loss: 0.4290 - mean_absolute_percentage_error: 30.5063 - val_loss: 0.3307 - val_mean_absolute_percentage_error: 25.8545\n",
      "Epoch 37/200\n",
      "\u001b[1m5/5\u001b[0m \u001b[32m━━━━━━━━━━━━━━━━━━━━\u001b[0m\u001b[37m\u001b[0m \u001b[1m0s\u001b[0m 14ms/step - loss: 0.4210 - mean_absolute_percentage_error: 32.6889 - val_loss: 0.3218 - val_mean_absolute_percentage_error: 25.3400\n",
      "Epoch 38/200\n",
      "\u001b[1m5/5\u001b[0m \u001b[32m━━━━━━━━━━━━━━━━━━━━\u001b[0m\u001b[37m\u001b[0m \u001b[1m0s\u001b[0m 12ms/step - loss: 0.4240 - mean_absolute_percentage_error: 32.8939 - val_loss: 0.3187 - val_mean_absolute_percentage_error: 25.1877\n",
      "Epoch 39/200\n",
      "\u001b[1m5/5\u001b[0m \u001b[32m━━━━━━━━━━━━━━━━━━━━\u001b[0m\u001b[37m\u001b[0m \u001b[1m0s\u001b[0m 14ms/step - loss: 0.3754 - mean_absolute_percentage_error: 30.9969 - val_loss: 0.3170 - val_mean_absolute_percentage_error: 25.0777\n",
      "Epoch 40/200\n",
      "\u001b[1m5/5\u001b[0m \u001b[32m━━━━━━━━━━━━━━━━━━━━\u001b[0m\u001b[37m\u001b[0m \u001b[1m0s\u001b[0m 16ms/step - loss: 0.4206 - mean_absolute_percentage_error: 32.6955 - val_loss: 0.3267 - val_mean_absolute_percentage_error: 25.6579\n",
      "Epoch 41/200\n",
      "\u001b[1m5/5\u001b[0m \u001b[32m━━━━━━━━━━━━━━━━━━━━\u001b[0m\u001b[37m\u001b[0m \u001b[1m0s\u001b[0m 14ms/step - loss: 0.4004 - mean_absolute_percentage_error: 30.9796 - val_loss: 0.3326 - val_mean_absolute_percentage_error: 25.9984\n",
      "Epoch 42/200\n",
      "\u001b[1m5/5\u001b[0m \u001b[32m━━━━━━━━━━━━━━━━━━━━\u001b[0m\u001b[37m\u001b[0m \u001b[1m0s\u001b[0m 17ms/step - loss: 0.3968 - mean_absolute_percentage_error: 29.8476 - val_loss: 0.3268 - val_mean_absolute_percentage_error: 25.6877\n",
      "Epoch 43/200\n",
      "\u001b[1m5/5\u001b[0m \u001b[32m━━━━━━━━━━━━━━━━━━━━\u001b[0m\u001b[37m\u001b[0m \u001b[1m0s\u001b[0m 17ms/step - loss: 0.4097 - mean_absolute_percentage_error: 30.9804 - val_loss: 0.3247 - val_mean_absolute_percentage_error: 25.6004\n",
      "Epoch 44/200\n",
      "\u001b[1m5/5\u001b[0m \u001b[32m━━━━━━━━━━━━━━━━━━━━\u001b[0m\u001b[37m\u001b[0m \u001b[1m0s\u001b[0m 16ms/step - loss: 0.4562 - mean_absolute_percentage_error: 33.1928 - val_loss: 0.3314 - val_mean_absolute_percentage_error: 26.0000\n",
      "Epoch 45/200\n",
      "\u001b[1m5/5\u001b[0m \u001b[32m━━━━━━━━━━━━━━━━━━━━\u001b[0m\u001b[37m\u001b[0m \u001b[1m0s\u001b[0m 15ms/step - loss: 0.3615 - mean_absolute_percentage_error: 27.8672 - val_loss: 0.3422 - val_mean_absolute_percentage_error: 26.7354\n",
      "Epoch 46/200\n",
      "\u001b[1m5/5\u001b[0m \u001b[32m━━━━━━━━━━━━━━━━━━━━\u001b[0m\u001b[37m\u001b[0m \u001b[1m0s\u001b[0m 17ms/step - loss: 0.3935 - mean_absolute_percentage_error: 30.7482 - val_loss: 0.3564 - val_mean_absolute_percentage_error: 27.6507\n",
      "Epoch 47/200\n",
      "\u001b[1m5/5\u001b[0m \u001b[32m━━━━━━━━━━━━━━━━━━━━\u001b[0m\u001b[37m\u001b[0m \u001b[1m0s\u001b[0m 14ms/step - loss: 0.4300 - mean_absolute_percentage_error: 33.2193 - val_loss: 0.3572 - val_mean_absolute_percentage_error: 27.6346\n",
      "Epoch 48/200\n",
      "\u001b[1m5/5\u001b[0m \u001b[32m━━━━━━━━━━━━━━━━━━━━\u001b[0m\u001b[37m\u001b[0m \u001b[1m0s\u001b[0m 16ms/step - loss: 0.4615 - mean_absolute_percentage_error: 32.5746 - val_loss: 0.3477 - val_mean_absolute_percentage_error: 27.0629\n",
      "Epoch 49/200\n",
      "\u001b[1m5/5\u001b[0m \u001b[32m━━━━━━━━━━━━━━━━━━━━\u001b[0m\u001b[37m\u001b[0m \u001b[1m0s\u001b[0m 13ms/step - loss: 0.3754 - mean_absolute_percentage_error: 27.7749 - val_loss: 0.3415 - val_mean_absolute_percentage_error: 26.6257\n",
      "Epoch 50/200\n",
      "\u001b[1m5/5\u001b[0m \u001b[32m━━━━━━━━━━━━━━━━━━━━\u001b[0m\u001b[37m\u001b[0m \u001b[1m0s\u001b[0m 10ms/step - loss: 0.4585 - mean_absolute_percentage_error: 33.7450 - val_loss: 0.3413 - val_mean_absolute_percentage_error: 26.5408\n",
      "Epoch 51/200\n",
      "\u001b[1m5/5\u001b[0m \u001b[32m━━━━━━━━━━━━━━━━━━━━\u001b[0m\u001b[37m\u001b[0m \u001b[1m0s\u001b[0m 12ms/step - loss: 0.4993 - mean_absolute_percentage_error: 37.0017 - val_loss: 0.3513 - val_mean_absolute_percentage_error: 27.1186\n",
      "Epoch 52/200\n",
      "\u001b[1m5/5\u001b[0m \u001b[32m━━━━━━━━━━━━━━━━━━━━\u001b[0m\u001b[37m\u001b[0m \u001b[1m0s\u001b[0m 13ms/step - loss: 0.4477 - mean_absolute_percentage_error: 33.2000 - val_loss: 0.3616 - val_mean_absolute_percentage_error: 27.7911\n",
      "Epoch 53/200\n",
      "\u001b[1m5/5\u001b[0m \u001b[32m━━━━━━━━━━━━━━━━━━━━\u001b[0m\u001b[37m\u001b[0m \u001b[1m0s\u001b[0m 17ms/step - loss: 0.4232 - mean_absolute_percentage_error: 32.0847 - val_loss: 0.3594 - val_mean_absolute_percentage_error: 27.6175\n",
      "Epoch 54/200\n",
      "\u001b[1m5/5\u001b[0m \u001b[32m━━━━━━━━━━━━━━━━━━━━\u001b[0m\u001b[37m\u001b[0m \u001b[1m0s\u001b[0m 13ms/step - loss: 0.4467 - mean_absolute_percentage_error: 34.4211 - val_loss: 0.3455 - val_mean_absolute_percentage_error: 26.7336\n",
      "Epoch 55/200\n",
      "\u001b[1m5/5\u001b[0m \u001b[32m━━━━━━━━━━━━━━━━━━━━\u001b[0m\u001b[37m\u001b[0m \u001b[1m0s\u001b[0m 15ms/step - loss: 0.4301 - mean_absolute_percentage_error: 30.0294 - val_loss: 0.3353 - val_mean_absolute_percentage_error: 26.1135\n",
      "Epoch 56/200\n",
      "\u001b[1m5/5\u001b[0m \u001b[32m━━━━━━━━━━━━━━━━━━━━\u001b[0m\u001b[37m\u001b[0m \u001b[1m0s\u001b[0m 11ms/step - loss: 0.4401 - mean_absolute_percentage_error: 32.8525 - val_loss: 0.3436 - val_mean_absolute_percentage_error: 26.6305\n",
      "Epoch 57/200\n",
      "\u001b[1m5/5\u001b[0m \u001b[32m━━━━━━━━━━━━━━━━━━━━\u001b[0m\u001b[37m\u001b[0m \u001b[1m0s\u001b[0m 13ms/step - loss: 0.5206 - mean_absolute_percentage_error: 36.7733 - val_loss: 0.3455 - val_mean_absolute_percentage_error: 26.7624\n",
      "Epoch 58/200\n",
      "\u001b[1m5/5\u001b[0m \u001b[32m━━━━━━━━━━━━━━━━━━━━\u001b[0m\u001b[37m\u001b[0m \u001b[1m0s\u001b[0m 13ms/step - loss: 0.4284 - mean_absolute_percentage_error: 33.6587 - val_loss: 0.3532 - val_mean_absolute_percentage_error: 27.2912\n",
      "Epoch 59/200\n",
      "\u001b[1m5/5\u001b[0m \u001b[32m━━━━━━━━━━━━━━━━━━━━\u001b[0m\u001b[37m\u001b[0m \u001b[1m0s\u001b[0m 17ms/step - loss: 0.4571 - mean_absolute_percentage_error: 33.4382 - val_loss: 0.3502 - val_mean_absolute_percentage_error: 27.1267\n",
      "Epoch 60/200\n",
      "\u001b[1m5/5\u001b[0m \u001b[32m━━━━━━━━━━━━━━━━━━━━\u001b[0m\u001b[37m\u001b[0m \u001b[1m0s\u001b[0m 14ms/step - loss: 0.3863 - mean_absolute_percentage_error: 28.3199 - val_loss: 0.3454 - val_mean_absolute_percentage_error: 26.7697\n",
      "Epoch 61/200\n",
      "\u001b[1m5/5\u001b[0m \u001b[32m━━━━━━━━━━━━━━━━━━━━\u001b[0m\u001b[37m\u001b[0m \u001b[1m0s\u001b[0m 13ms/step - loss: 0.3765 - mean_absolute_percentage_error: 29.6763 - val_loss: 0.3367 - val_mean_absolute_percentage_error: 26.1934\n",
      "Epoch 62/200\n",
      "\u001b[1m5/5\u001b[0m \u001b[32m━━━━━━━━━━━━━━━━━━━━\u001b[0m\u001b[37m\u001b[0m \u001b[1m0s\u001b[0m 13ms/step - loss: 0.4434 - mean_absolute_percentage_error: 33.4562 - val_loss: 0.3356 - val_mean_absolute_percentage_error: 26.0814\n",
      "Epoch 63/200\n",
      "\u001b[1m5/5\u001b[0m \u001b[32m━━━━━━━━━━━━━━━━━━━━\u001b[0m\u001b[37m\u001b[0m \u001b[1m0s\u001b[0m 13ms/step - loss: 0.4092 - mean_absolute_percentage_error: 31.3991 - val_loss: 0.3343 - val_mean_absolute_percentage_error: 26.0325\n",
      "Epoch 64/200\n",
      "\u001b[1m5/5\u001b[0m \u001b[32m━━━━━━━━━━━━━━━━━━━━\u001b[0m\u001b[37m\u001b[0m \u001b[1m0s\u001b[0m 16ms/step - loss: 0.3985 - mean_absolute_percentage_error: 31.4398 - val_loss: 0.3392 - val_mean_absolute_percentage_error: 26.3501\n",
      "Epoch 65/200\n",
      "\u001b[1m5/5\u001b[0m \u001b[32m━━━━━━━━━━━━━━━━━━━━\u001b[0m\u001b[37m\u001b[0m \u001b[1m0s\u001b[0m 15ms/step - loss: 0.4446 - mean_absolute_percentage_error: 33.5131 - val_loss: 0.3441 - val_mean_absolute_percentage_error: 26.6227\n",
      "Epoch 66/200\n",
      "\u001b[1m5/5\u001b[0m \u001b[32m━━━━━━━━━━━━━━━━━━━━\u001b[0m\u001b[37m\u001b[0m \u001b[1m0s\u001b[0m 14ms/step - loss: 0.4172 - mean_absolute_percentage_error: 29.5692 - val_loss: 0.3435 - val_mean_absolute_percentage_error: 26.6427\n",
      "Epoch 67/200\n",
      "\u001b[1m5/5\u001b[0m \u001b[32m━━━━━━━━━━━━━━━━━━━━\u001b[0m\u001b[37m\u001b[0m \u001b[1m0s\u001b[0m 13ms/step - loss: 0.4213 - mean_absolute_percentage_error: 33.6271 - val_loss: 0.3355 - val_mean_absolute_percentage_error: 26.1467\n",
      "Epoch 68/200\n",
      "\u001b[1m5/5\u001b[0m \u001b[32m━━━━━━━━━━━━━━━━━━━━\u001b[0m\u001b[37m\u001b[0m \u001b[1m0s\u001b[0m 12ms/step - loss: 0.3978 - mean_absolute_percentage_error: 31.2849 - val_loss: 0.3304 - val_mean_absolute_percentage_error: 25.8099\n",
      "Epoch 69/200\n",
      "\u001b[1m5/5\u001b[0m \u001b[32m━━━━━━━━━━━━━━━━━━━━\u001b[0m\u001b[37m\u001b[0m \u001b[1m0s\u001b[0m 12ms/step - loss: 0.4722 - mean_absolute_percentage_error: 33.9675 - val_loss: 0.3268 - val_mean_absolute_percentage_error: 25.5411\n",
      "Epoch 70/200\n",
      "\u001b[1m5/5\u001b[0m \u001b[32m━━━━━━━━━━━━━━━━━━━━\u001b[0m\u001b[37m\u001b[0m \u001b[1m0s\u001b[0m 13ms/step - loss: 0.4061 - mean_absolute_percentage_error: 30.4368 - val_loss: 0.3304 - val_mean_absolute_percentage_error: 25.8204\n",
      "Epoch 71/200\n",
      "\u001b[1m5/5\u001b[0m \u001b[32m━━━━━━━━━━━━━━━━━━━━\u001b[0m\u001b[37m\u001b[0m \u001b[1m0s\u001b[0m 13ms/step - loss: 0.4430 - mean_absolute_percentage_error: 34.7285 - val_loss: 0.3315 - val_mean_absolute_percentage_error: 25.9161\n",
      "Epoch 72/200\n",
      "\u001b[1m5/5\u001b[0m \u001b[32m━━━━━━━━━━━━━━━━━━━━\u001b[0m\u001b[37m\u001b[0m \u001b[1m0s\u001b[0m 13ms/step - loss: 0.5007 - mean_absolute_percentage_error: 37.1847 - val_loss: 0.3335 - val_mean_absolute_percentage_error: 26.0190\n",
      "Epoch 73/200\n",
      "\u001b[1m5/5\u001b[0m \u001b[32m━━━━━━━━━━━━━━━━━━━━\u001b[0m\u001b[37m\u001b[0m \u001b[1m0s\u001b[0m 12ms/step - loss: 0.4381 - mean_absolute_percentage_error: 34.1785 - val_loss: 0.3339 - val_mean_absolute_percentage_error: 26.0920\n",
      "Epoch 74/200\n",
      "\u001b[1m5/5\u001b[0m \u001b[32m━━━━━━━━━━━━━━━━━━━━\u001b[0m\u001b[37m\u001b[0m \u001b[1m0s\u001b[0m 13ms/step - loss: 0.4453 - mean_absolute_percentage_error: 34.0621 - val_loss: 0.3343 - val_mean_absolute_percentage_error: 26.0918\n",
      "Epoch 75/200\n",
      "\u001b[1m5/5\u001b[0m \u001b[32m━━━━━━━━━━━━━━━━━━━━\u001b[0m\u001b[37m\u001b[0m \u001b[1m0s\u001b[0m 13ms/step - loss: 0.4454 - mean_absolute_percentage_error: 33.5983 - val_loss: 0.3391 - val_mean_absolute_percentage_error: 26.4003\n",
      "Epoch 76/200\n",
      "\u001b[1m5/5\u001b[0m \u001b[32m━━━━━━━━━━━━━━━━━━━━\u001b[0m\u001b[37m\u001b[0m \u001b[1m0s\u001b[0m 11ms/step - loss: 0.3924 - mean_absolute_percentage_error: 31.1109 - val_loss: 0.3422 - val_mean_absolute_percentage_error: 26.6388\n",
      "Epoch 77/200\n",
      "\u001b[1m5/5\u001b[0m \u001b[32m━━━━━━━━━━━━━━━━━━━━\u001b[0m\u001b[37m\u001b[0m \u001b[1m0s\u001b[0m 15ms/step - loss: 0.3829 - mean_absolute_percentage_error: 30.1350 - val_loss: 0.3433 - val_mean_absolute_percentage_error: 26.6921\n",
      "Epoch 78/200\n",
      "\u001b[1m5/5\u001b[0m \u001b[32m━━━━━━━━━━━━━━━━━━━━\u001b[0m\u001b[37m\u001b[0m \u001b[1m0s\u001b[0m 13ms/step - loss: 0.3799 - mean_absolute_percentage_error: 27.5494 - val_loss: 0.3400 - val_mean_absolute_percentage_error: 26.5040\n",
      "Epoch 79/200\n",
      "\u001b[1m5/5\u001b[0m \u001b[32m━━━━━━━━━━━━━━━━━━━━\u001b[0m\u001b[37m\u001b[0m \u001b[1m0s\u001b[0m 16ms/step - loss: 0.4451 - mean_absolute_percentage_error: 32.5054 - val_loss: 0.3417 - val_mean_absolute_percentage_error: 26.5882\n",
      "Epoch 80/200\n",
      "\u001b[1m5/5\u001b[0m \u001b[32m━━━━━━━━━━━━━━━━━━━━\u001b[0m\u001b[37m\u001b[0m \u001b[1m0s\u001b[0m 12ms/step - loss: 0.4543 - mean_absolute_percentage_error: 32.3809 - val_loss: 0.3382 - val_mean_absolute_percentage_error: 26.2996\n",
      "Epoch 81/200\n",
      "\u001b[1m5/5\u001b[0m \u001b[32m━━━━━━━━━━━━━━━━━━━━\u001b[0m\u001b[37m\u001b[0m \u001b[1m0s\u001b[0m 14ms/step - loss: 0.4365 - mean_absolute_percentage_error: 31.3616 - val_loss: 0.3355 - val_mean_absolute_percentage_error: 26.1403\n",
      "Epoch 82/200\n",
      "\u001b[1m5/5\u001b[0m \u001b[32m━━━━━━━━━━━━━━━━━━━━\u001b[0m\u001b[37m\u001b[0m \u001b[1m0s\u001b[0m 13ms/step - loss: 0.4556 - mean_absolute_percentage_error: 34.7806 - val_loss: 0.3340 - val_mean_absolute_percentage_error: 26.0677\n",
      "Epoch 83/200\n",
      "\u001b[1m5/5\u001b[0m \u001b[32m━━━━━━━━━━━━━━━━━━━━\u001b[0m\u001b[37m\u001b[0m \u001b[1m0s\u001b[0m 13ms/step - loss: 0.4247 - mean_absolute_percentage_error: 30.1520 - val_loss: 0.3330 - val_mean_absolute_percentage_error: 25.9312\n",
      "Epoch 84/200\n",
      "\u001b[1m5/5\u001b[0m \u001b[32m━━━━━━━━━━━━━━━━━━━━\u001b[0m\u001b[37m\u001b[0m \u001b[1m0s\u001b[0m 12ms/step - loss: 0.3526 - mean_absolute_percentage_error: 28.1394 - val_loss: 0.3404 - val_mean_absolute_percentage_error: 26.3933\n",
      "Epoch 85/200\n",
      "\u001b[1m5/5\u001b[0m \u001b[32m━━━━━━━━━━━━━━━━━━━━\u001b[0m\u001b[37m\u001b[0m \u001b[1m0s\u001b[0m 15ms/step - loss: 0.4234 - mean_absolute_percentage_error: 31.4898 - val_loss: 0.3355 - val_mean_absolute_percentage_error: 26.0496\n",
      "Epoch 86/200\n",
      "\u001b[1m5/5\u001b[0m \u001b[32m━━━━━━━━━━━━━━━━━━━━\u001b[0m\u001b[37m\u001b[0m \u001b[1m0s\u001b[0m 13ms/step - loss: 0.4588 - mean_absolute_percentage_error: 31.3611 - val_loss: 0.3393 - val_mean_absolute_percentage_error: 26.2858\n",
      "Epoch 87/200\n",
      "\u001b[1m5/5\u001b[0m \u001b[32m━━━━━━━━━━━━━━━━━━━━\u001b[0m\u001b[37m\u001b[0m \u001b[1m0s\u001b[0m 13ms/step - loss: 0.4453 - mean_absolute_percentage_error: 31.5907 - val_loss: 0.3336 - val_mean_absolute_percentage_error: 25.9149\n",
      "Epoch 88/200\n",
      "\u001b[1m5/5\u001b[0m \u001b[32m━━━━━━━━━━━━━━━━━━━━\u001b[0m\u001b[37m\u001b[0m \u001b[1m0s\u001b[0m 13ms/step - loss: 0.4110 - mean_absolute_percentage_error: 30.6419 - val_loss: 0.3407 - val_mean_absolute_percentage_error: 26.3337\n",
      "Epoch 89/200\n",
      "\u001b[1m5/5\u001b[0m \u001b[32m━━━━━━━━━━━━━━━━━━━━\u001b[0m\u001b[37m\u001b[0m \u001b[1m0s\u001b[0m 13ms/step - loss: 0.4353 - mean_absolute_percentage_error: 32.1935 - val_loss: 0.3472 - val_mean_absolute_percentage_error: 26.7642\n",
      "Epoch 90/200\n",
      "\u001b[1m5/5\u001b[0m \u001b[32m━━━━━━━━━━━━━━━━━━━━\u001b[0m\u001b[37m\u001b[0m \u001b[1m0s\u001b[0m 14ms/step - loss: 0.3953 - mean_absolute_percentage_error: 29.0610 - val_loss: 0.3609 - val_mean_absolute_percentage_error: 27.6765\n",
      "Epoch 91/200\n",
      "\u001b[1m5/5\u001b[0m \u001b[32m━━━━━━━━━━━━━━━━━━━━\u001b[0m\u001b[37m\u001b[0m \u001b[1m0s\u001b[0m 13ms/step - loss: 0.4885 - mean_absolute_percentage_error: 34.9538 - val_loss: 0.3635 - val_mean_absolute_percentage_error: 27.8302\n",
      "Epoch 92/200\n",
      "\u001b[1m5/5\u001b[0m \u001b[32m━━━━━━━━━━━━━━━━━━━━\u001b[0m\u001b[37m\u001b[0m \u001b[1m0s\u001b[0m 12ms/step - loss: 0.5104 - mean_absolute_percentage_error: 32.8748 - val_loss: 0.3680 - val_mean_absolute_percentage_error: 28.0297\n",
      "Epoch 93/200\n",
      "\u001b[1m5/5\u001b[0m \u001b[32m━━━━━━━━━━━━━━━━━━━━\u001b[0m\u001b[37m\u001b[0m \u001b[1m0s\u001b[0m 14ms/step - loss: 0.4929 - mean_absolute_percentage_error: 35.4183 - val_loss: 0.3665 - val_mean_absolute_percentage_error: 27.9312\n",
      "Epoch 94/200\n",
      "\u001b[1m5/5\u001b[0m \u001b[32m━━━━━━━━━━━━━━━━━━━━\u001b[0m\u001b[37m\u001b[0m \u001b[1m0s\u001b[0m 15ms/step - loss: 0.4395 - mean_absolute_percentage_error: 33.5178 - val_loss: 0.3686 - val_mean_absolute_percentage_error: 28.1468\n",
      "Epoch 95/200\n",
      "\u001b[1m5/5\u001b[0m \u001b[32m━━━━━━━━━━━━━━━━━━━━\u001b[0m\u001b[37m\u001b[0m \u001b[1m0s\u001b[0m 13ms/step - loss: 0.4660 - mean_absolute_percentage_error: 34.1139 - val_loss: 0.3634 - val_mean_absolute_percentage_error: 27.7777\n",
      "Epoch 96/200\n",
      "\u001b[1m5/5\u001b[0m \u001b[32m━━━━━━━━━━━━━━━━━━━━\u001b[0m\u001b[37m\u001b[0m \u001b[1m0s\u001b[0m 13ms/step - loss: 0.4137 - mean_absolute_percentage_error: 31.4084 - val_loss: 0.3588 - val_mean_absolute_percentage_error: 27.3747\n",
      "Epoch 97/200\n",
      "\u001b[1m5/5\u001b[0m \u001b[32m━━━━━━━━━━━━━━━━━━━━\u001b[0m\u001b[37m\u001b[0m \u001b[1m0s\u001b[0m 17ms/step - loss: 0.4157 - mean_absolute_percentage_error: 30.0794 - val_loss: 0.3543 - val_mean_absolute_percentage_error: 27.1271\n",
      "Epoch 98/200\n",
      "\u001b[1m5/5\u001b[0m \u001b[32m━━━━━━━━━━━━━━━━━━━━\u001b[0m\u001b[37m\u001b[0m \u001b[1m0s\u001b[0m 21ms/step - loss: 0.3807 - mean_absolute_percentage_error: 30.5739 - val_loss: 0.3499 - val_mean_absolute_percentage_error: 26.9990\n",
      "Epoch 99/200\n",
      "\u001b[1m5/5\u001b[0m \u001b[32m━━━━━━━━━━━━━━━━━━━━\u001b[0m\u001b[37m\u001b[0m \u001b[1m0s\u001b[0m 12ms/step - loss: 0.4634 - mean_absolute_percentage_error: 34.1092 - val_loss: 0.3556 - val_mean_absolute_percentage_error: 27.3150\n",
      "Epoch 100/200\n",
      "\u001b[1m5/5\u001b[0m \u001b[32m━━━━━━━━━━━━━━━━━━━━\u001b[0m\u001b[37m\u001b[0m \u001b[1m0s\u001b[0m 12ms/step - loss: 0.4663 - mean_absolute_percentage_error: 31.0587 - val_loss: 0.3608 - val_mean_absolute_percentage_error: 27.5040\n",
      "Epoch 101/200\n",
      "\u001b[1m5/5\u001b[0m \u001b[32m━━━━━━━━━━━━━━━━━━━━\u001b[0m\u001b[37m\u001b[0m \u001b[1m0s\u001b[0m 16ms/step - loss: 0.4781 - mean_absolute_percentage_error: 36.8859 - val_loss: 0.3674 - val_mean_absolute_percentage_error: 27.9510\n",
      "Epoch 102/200\n",
      "\u001b[1m5/5\u001b[0m \u001b[32m━━━━━━━━━━━━━━━━━━━━\u001b[0m\u001b[37m\u001b[0m \u001b[1m0s\u001b[0m 13ms/step - loss: 0.4224 - mean_absolute_percentage_error: 33.1410 - val_loss: 0.3611 - val_mean_absolute_percentage_error: 27.6467\n",
      "Epoch 103/200\n",
      "\u001b[1m5/5\u001b[0m \u001b[32m━━━━━━━━━━━━━━━━━━━━\u001b[0m\u001b[37m\u001b[0m \u001b[1m0s\u001b[0m 13ms/step - loss: 0.4550 - mean_absolute_percentage_error: 32.0149 - val_loss: 0.3484 - val_mean_absolute_percentage_error: 26.7652\n",
      "Epoch 104/200\n",
      "\u001b[1m5/5\u001b[0m \u001b[32m━━━━━━━━━━━━━━━━━━━━\u001b[0m\u001b[37m\u001b[0m \u001b[1m0s\u001b[0m 13ms/step - loss: 0.4047 - mean_absolute_percentage_error: 31.3625 - val_loss: 0.3384 - val_mean_absolute_percentage_error: 26.1852\n",
      "Epoch 105/200\n",
      "\u001b[1m5/5\u001b[0m \u001b[32m━━━━━━━━━━━━━━━━━━━━\u001b[0m\u001b[37m\u001b[0m \u001b[1m0s\u001b[0m 15ms/step - loss: 0.4516 - mean_absolute_percentage_error: 31.2395 - val_loss: 0.3337 - val_mean_absolute_percentage_error: 25.8849\n",
      "Epoch 106/200\n",
      "\u001b[1m5/5\u001b[0m \u001b[32m━━━━━━━━━━━━━━━━━━━━\u001b[0m\u001b[37m\u001b[0m \u001b[1m0s\u001b[0m 13ms/step - loss: 0.4329 - mean_absolute_percentage_error: 32.0817 - val_loss: 0.3382 - val_mean_absolute_percentage_error: 26.1056\n",
      "Epoch 107/200\n",
      "\u001b[1m5/5\u001b[0m \u001b[32m━━━━━━━━━━━━━━━━━━━━\u001b[0m\u001b[37m\u001b[0m \u001b[1m0s\u001b[0m 13ms/step - loss: 0.4602 - mean_absolute_percentage_error: 31.9374 - val_loss: 0.3465 - val_mean_absolute_percentage_error: 26.5621\n",
      "Epoch 108/200\n",
      "\u001b[1m5/5\u001b[0m \u001b[32m━━━━━━━━━━━━━━━━━━━━\u001b[0m\u001b[37m\u001b[0m \u001b[1m0s\u001b[0m 15ms/step - loss: 0.3942 - mean_absolute_percentage_error: 29.8721 - val_loss: 0.3679 - val_mean_absolute_percentage_error: 27.9711\n",
      "Epoch 109/200\n",
      "\u001b[1m5/5\u001b[0m \u001b[32m━━━━━━━━━━━━━━━━━━━━\u001b[0m\u001b[37m\u001b[0m \u001b[1m0s\u001b[0m 14ms/step - loss: 0.4305 - mean_absolute_percentage_error: 30.7425 - val_loss: 0.3691 - val_mean_absolute_percentage_error: 28.0811\n",
      "Epoch 110/200\n",
      "\u001b[1m5/5\u001b[0m \u001b[32m━━━━━━━━━━━━━━━━━━━━\u001b[0m\u001b[37m\u001b[0m \u001b[1m0s\u001b[0m 15ms/step - loss: 0.4707 - mean_absolute_percentage_error: 31.8087 - val_loss: 0.3592 - val_mean_absolute_percentage_error: 27.4324\n",
      "Epoch 111/200\n",
      "\u001b[1m5/5\u001b[0m \u001b[32m━━━━━━━━━━━━━━━━━━━━\u001b[0m\u001b[37m\u001b[0m \u001b[1m0s\u001b[0m 17ms/step - loss: 0.4034 - mean_absolute_percentage_error: 29.1007 - val_loss: 0.3547 - val_mean_absolute_percentage_error: 27.1309\n",
      "Epoch 112/200\n",
      "\u001b[1m5/5\u001b[0m \u001b[32m━━━━━━━━━━━━━━━━━━━━\u001b[0m\u001b[37m\u001b[0m \u001b[1m0s\u001b[0m 14ms/step - loss: 0.4718 - mean_absolute_percentage_error: 33.0952 - val_loss: 0.3506 - val_mean_absolute_percentage_error: 26.8979\n",
      "Epoch 113/200\n",
      "\u001b[1m5/5\u001b[0m \u001b[32m━━━━━━━━━━━━━━━━━━━━\u001b[0m\u001b[37m\u001b[0m \u001b[1m0s\u001b[0m 13ms/step - loss: 0.4751 - mean_absolute_percentage_error: 35.0478 - val_loss: 0.3535 - val_mean_absolute_percentage_error: 27.0760\n",
      "Epoch 114/200\n",
      "\u001b[1m5/5\u001b[0m \u001b[32m━━━━━━━━━━━━━━━━━━━━\u001b[0m\u001b[37m\u001b[0m \u001b[1m0s\u001b[0m 14ms/step - loss: 0.4285 - mean_absolute_percentage_error: 32.0752 - val_loss: 0.3616 - val_mean_absolute_percentage_error: 27.5868\n",
      "Epoch 115/200\n",
      "\u001b[1m5/5\u001b[0m \u001b[32m━━━━━━━━━━━━━━━━━━━━\u001b[0m\u001b[37m\u001b[0m \u001b[1m0s\u001b[0m 16ms/step - loss: 0.4306 - mean_absolute_percentage_error: 30.5215 - val_loss: 0.3656 - val_mean_absolute_percentage_error: 27.8716\n",
      "Epoch 116/200\n",
      "\u001b[1m5/5\u001b[0m \u001b[32m━━━━━━━━━━━━━━━━━━━━\u001b[0m\u001b[37m\u001b[0m \u001b[1m0s\u001b[0m 15ms/step - loss: 0.4750 - mean_absolute_percentage_error: 33.9526 - val_loss: 0.3684 - val_mean_absolute_percentage_error: 28.0506\n",
      "Epoch 117/200\n",
      "\u001b[1m5/5\u001b[0m \u001b[32m━━━━━━━━━━━━━━━━━━━━\u001b[0m\u001b[37m\u001b[0m \u001b[1m0s\u001b[0m 14ms/step - loss: 0.4543 - mean_absolute_percentage_error: 34.0866 - val_loss: 0.3704 - val_mean_absolute_percentage_error: 28.2270\n",
      "Epoch 118/200\n",
      "\u001b[1m5/5\u001b[0m \u001b[32m━━━━━━━━━━━━━━━━━━━━\u001b[0m\u001b[37m\u001b[0m \u001b[1m0s\u001b[0m 16ms/step - loss: 0.4214 - mean_absolute_percentage_error: 32.0662 - val_loss: 0.3684 - val_mean_absolute_percentage_error: 28.0793\n",
      "Epoch 119/200\n",
      "\u001b[1m5/5\u001b[0m \u001b[32m━━━━━━━━━━━━━━━━━━━━\u001b[0m\u001b[37m\u001b[0m \u001b[1m0s\u001b[0m 13ms/step - loss: 0.4047 - mean_absolute_percentage_error: 31.1295 - val_loss: 0.3537 - val_mean_absolute_percentage_error: 27.0641\n",
      "Epoch 120/200\n",
      "\u001b[1m5/5\u001b[0m \u001b[32m━━━━━━━━━━━━━━━━━━━━\u001b[0m\u001b[37m\u001b[0m \u001b[1m0s\u001b[0m 13ms/step - loss: 0.3975 - mean_absolute_percentage_error: 29.1964 - val_loss: 0.3477 - val_mean_absolute_percentage_error: 26.6944\n",
      "Epoch 121/200\n",
      "\u001b[1m5/5\u001b[0m \u001b[32m━━━━━━━━━━━━━━━━━━━━\u001b[0m\u001b[37m\u001b[0m \u001b[1m0s\u001b[0m 11ms/step - loss: 0.4303 - mean_absolute_percentage_error: 31.6324 - val_loss: 0.3466 - val_mean_absolute_percentage_error: 26.6101\n",
      "Epoch 122/200\n",
      "\u001b[1m5/5\u001b[0m \u001b[32m━━━━━━━━━━━━━━━━━━━━\u001b[0m\u001b[37m\u001b[0m \u001b[1m0s\u001b[0m 13ms/step - loss: 0.4272 - mean_absolute_percentage_error: 31.5927 - val_loss: 0.3606 - val_mean_absolute_percentage_error: 27.5380\n",
      "Epoch 123/200\n",
      "\u001b[1m5/5\u001b[0m \u001b[32m━━━━━━━━━━━━━━━━━━━━\u001b[0m\u001b[37m\u001b[0m \u001b[1m0s\u001b[0m 17ms/step - loss: 0.4006 - mean_absolute_percentage_error: 29.6312 - val_loss: 0.3647 - val_mean_absolute_percentage_error: 27.8098\n",
      "Epoch 124/200\n",
      "\u001b[1m5/5\u001b[0m \u001b[32m━━━━━━━━━━━━━━━━━━━━\u001b[0m\u001b[37m\u001b[0m \u001b[1m0s\u001b[0m 13ms/step - loss: 0.4049 - mean_absolute_percentage_error: 31.1989 - val_loss: 0.3700 - val_mean_absolute_percentage_error: 28.1085\n",
      "Epoch 125/200\n",
      "\u001b[1m5/5\u001b[0m \u001b[32m━━━━━━━━━━━━━━━━━━━━\u001b[0m\u001b[37m\u001b[0m \u001b[1m0s\u001b[0m 24ms/step - loss: 0.4651 - mean_absolute_percentage_error: 31.5556 - val_loss: 0.3658 - val_mean_absolute_percentage_error: 27.9064\n",
      "Epoch 126/200\n",
      "\u001b[1m5/5\u001b[0m \u001b[32m━━━━━━━━━━━━━━━━━━━━\u001b[0m\u001b[37m\u001b[0m \u001b[1m0s\u001b[0m 14ms/step - loss: 0.3915 - mean_absolute_percentage_error: 29.6721 - val_loss: 0.3516 - val_mean_absolute_percentage_error: 26.9631\n",
      "Epoch 127/200\n",
      "\u001b[1m5/5\u001b[0m \u001b[32m━━━━━━━━━━━━━━━━━━━━\u001b[0m\u001b[37m\u001b[0m \u001b[1m0s\u001b[0m 14ms/step - loss: 0.4830 - mean_absolute_percentage_error: 35.2049 - val_loss: 0.3493 - val_mean_absolute_percentage_error: 26.8452\n",
      "Epoch 128/200\n",
      "\u001b[1m5/5\u001b[0m \u001b[32m━━━━━━━━━━━━━━━━━━━━\u001b[0m\u001b[37m\u001b[0m \u001b[1m0s\u001b[0m 16ms/step - loss: 0.4155 - mean_absolute_percentage_error: 31.7915 - val_loss: 0.3575 - val_mean_absolute_percentage_error: 27.3206\n",
      "Epoch 129/200\n",
      "\u001b[1m5/5\u001b[0m \u001b[32m━━━━━━━━━━━━━━━━━━━━\u001b[0m\u001b[37m\u001b[0m \u001b[1m0s\u001b[0m 12ms/step - loss: 0.3554 - mean_absolute_percentage_error: 27.3094 - val_loss: 0.3673 - val_mean_absolute_percentage_error: 28.0381\n",
      "Epoch 130/200\n",
      "\u001b[1m5/5\u001b[0m \u001b[32m━━━━━━━━━━━━━━━━━━━━\u001b[0m\u001b[37m\u001b[0m \u001b[1m0s\u001b[0m 13ms/step - loss: 0.4540 - mean_absolute_percentage_error: 32.8339 - val_loss: 0.3702 - val_mean_absolute_percentage_error: 28.2693\n",
      "Epoch 131/200\n",
      "\u001b[1m5/5\u001b[0m \u001b[32m━━━━━━━━━━━━━━━━━━━━\u001b[0m\u001b[37m\u001b[0m \u001b[1m0s\u001b[0m 14ms/step - loss: 0.4374 - mean_absolute_percentage_error: 32.5198 - val_loss: 0.3640 - val_mean_absolute_percentage_error: 27.7863\n",
      "Epoch 132/200\n",
      "\u001b[1m5/5\u001b[0m \u001b[32m━━━━━━━━━━━━━━━━━━━━\u001b[0m\u001b[37m\u001b[0m \u001b[1m0s\u001b[0m 15ms/step - loss: 0.4529 - mean_absolute_percentage_error: 31.6692 - val_loss: 0.3554 - val_mean_absolute_percentage_error: 27.2177\n",
      "Epoch 133/200\n",
      "\u001b[1m5/5\u001b[0m \u001b[32m━━━━━━━━━━━━━━━━━━━━\u001b[0m\u001b[37m\u001b[0m \u001b[1m0s\u001b[0m 13ms/step - loss: 0.4455 - mean_absolute_percentage_error: 30.9795 - val_loss: 0.3499 - val_mean_absolute_percentage_error: 26.8952\n",
      "Epoch 134/200\n",
      "\u001b[1m5/5\u001b[0m \u001b[32m━━━━━━━━━━━━━━━━━━━━\u001b[0m\u001b[37m\u001b[0m \u001b[1m0s\u001b[0m 16ms/step - loss: 0.4676 - mean_absolute_percentage_error: 34.0013 - val_loss: 0.3634 - val_mean_absolute_percentage_error: 27.7386\n",
      "Epoch 135/200\n",
      "\u001b[1m5/5\u001b[0m \u001b[32m━━━━━━━━━━━━━━━━━━━━\u001b[0m\u001b[37m\u001b[0m \u001b[1m0s\u001b[0m 14ms/step - loss: 0.4450 - mean_absolute_percentage_error: 30.5024 - val_loss: 0.3652 - val_mean_absolute_percentage_error: 27.9386\n",
      "Epoch 136/200\n",
      "\u001b[1m5/5\u001b[0m \u001b[32m━━━━━━━━━━━━━━━━━━━━\u001b[0m\u001b[37m\u001b[0m \u001b[1m0s\u001b[0m 13ms/step - loss: 0.4307 - mean_absolute_percentage_error: 31.6826 - val_loss: 0.3724 - val_mean_absolute_percentage_error: 28.3643\n",
      "Epoch 137/200\n",
      "\u001b[1m5/5\u001b[0m \u001b[32m━━━━━━━━━━━━━━━━━━━━\u001b[0m\u001b[37m\u001b[0m \u001b[1m0s\u001b[0m 12ms/step - loss: 0.4198 - mean_absolute_percentage_error: 29.7908 - val_loss: 0.3672 - val_mean_absolute_percentage_error: 28.0160\n",
      "Epoch 138/200\n",
      "\u001b[1m5/5\u001b[0m \u001b[32m━━━━━━━━━━━━━━━━━━━━\u001b[0m\u001b[37m\u001b[0m \u001b[1m0s\u001b[0m 14ms/step - loss: 0.4385 - mean_absolute_percentage_error: 31.6843 - val_loss: 0.3635 - val_mean_absolute_percentage_error: 27.8433\n",
      "Epoch 139/200\n",
      "\u001b[1m5/5\u001b[0m \u001b[32m━━━━━━━━━━━━━━━━━━━━\u001b[0m\u001b[37m\u001b[0m \u001b[1m0s\u001b[0m 12ms/step - loss: 0.4397 - mean_absolute_percentage_error: 32.1463 - val_loss: 0.3597 - val_mean_absolute_percentage_error: 27.5440\n",
      "Epoch 140/200\n",
      "\u001b[1m5/5\u001b[0m \u001b[32m━━━━━━━━━━━━━━━━━━━━\u001b[0m\u001b[37m\u001b[0m \u001b[1m0s\u001b[0m 11ms/step - loss: 0.4680 - mean_absolute_percentage_error: 32.6803 - val_loss: 0.3608 - val_mean_absolute_percentage_error: 27.5194\n",
      "Epoch 141/200\n",
      "\u001b[1m5/5\u001b[0m \u001b[32m━━━━━━━━━━━━━━━━━━━━\u001b[0m\u001b[37m\u001b[0m \u001b[1m0s\u001b[0m 14ms/step - loss: 0.3886 - mean_absolute_percentage_error: 30.1102 - val_loss: 0.3630 - val_mean_absolute_percentage_error: 27.7477\n",
      "Epoch 142/200\n",
      "\u001b[1m5/5\u001b[0m \u001b[32m━━━━━━━━━━━━━━━━━━━━\u001b[0m\u001b[37m\u001b[0m \u001b[1m0s\u001b[0m 15ms/step - loss: 0.3802 - mean_absolute_percentage_error: 29.4953 - val_loss: 0.3636 - val_mean_absolute_percentage_error: 27.8277\n",
      "Epoch 143/200\n",
      "\u001b[1m5/5\u001b[0m \u001b[32m━━━━━━━━━━━━━━━━━━━━\u001b[0m\u001b[37m\u001b[0m \u001b[1m0s\u001b[0m 13ms/step - loss: 0.4058 - mean_absolute_percentage_error: 30.1531 - val_loss: 0.3553 - val_mean_absolute_percentage_error: 27.2115\n",
      "Epoch 144/200\n",
      "\u001b[1m5/5\u001b[0m \u001b[32m━━━━━━━━━━━━━━━━━━━━\u001b[0m\u001b[37m\u001b[0m \u001b[1m0s\u001b[0m 15ms/step - loss: 0.4222 - mean_absolute_percentage_error: 31.9679 - val_loss: 0.3657 - val_mean_absolute_percentage_error: 27.9148\n",
      "Epoch 145/200\n",
      "\u001b[1m5/5\u001b[0m \u001b[32m━━━━━━━━━━━━━━━━━━━━\u001b[0m\u001b[37m\u001b[0m \u001b[1m0s\u001b[0m 17ms/step - loss: 0.4363 - mean_absolute_percentage_error: 30.9591 - val_loss: 0.3723 - val_mean_absolute_percentage_error: 28.3253\n",
      "Epoch 146/200\n",
      "\u001b[1m5/5\u001b[0m \u001b[32m━━━━━━━━━━━━━━━━━━━━\u001b[0m\u001b[37m\u001b[0m \u001b[1m0s\u001b[0m 13ms/step - loss: 0.4452 - mean_absolute_percentage_error: 34.6488 - val_loss: 0.3704 - val_mean_absolute_percentage_error: 28.1839\n",
      "Epoch 147/200\n",
      "\u001b[1m5/5\u001b[0m \u001b[32m━━━━━━━━━━━━━━━━━━━━\u001b[0m\u001b[37m\u001b[0m \u001b[1m0s\u001b[0m 14ms/step - loss: 0.4479 - mean_absolute_percentage_error: 32.7625 - val_loss: 0.3673 - val_mean_absolute_percentage_error: 28.0463\n",
      "Epoch 148/200\n",
      "\u001b[1m5/5\u001b[0m \u001b[32m━━━━━━━━━━━━━━━━━━━━\u001b[0m\u001b[37m\u001b[0m \u001b[1m0s\u001b[0m 13ms/step - loss: 0.3865 - mean_absolute_percentage_error: 28.7196 - val_loss: 0.3556 - val_mean_absolute_percentage_error: 27.1538\n",
      "Epoch 149/200\n",
      "\u001b[1m5/5\u001b[0m \u001b[32m━━━━━━━━━━━━━━━━━━━━\u001b[0m\u001b[37m\u001b[0m \u001b[1m0s\u001b[0m 27ms/step - loss: 0.4600 - mean_absolute_percentage_error: 31.5513 - val_loss: 0.3564 - val_mean_absolute_percentage_error: 27.2731\n",
      "Epoch 150/200\n",
      "\u001b[1m5/5\u001b[0m \u001b[32m━━━━━━━━━━━━━━━━━━━━\u001b[0m\u001b[37m\u001b[0m \u001b[1m0s\u001b[0m 14ms/step - loss: 0.4477 - mean_absolute_percentage_error: 34.1571 - val_loss: 0.3651 - val_mean_absolute_percentage_error: 27.8462\n",
      "Epoch 151/200\n",
      "\u001b[1m5/5\u001b[0m \u001b[32m━━━━━━━━━━━━━━━━━━━━\u001b[0m\u001b[37m\u001b[0m \u001b[1m0s\u001b[0m 13ms/step - loss: 0.4048 - mean_absolute_percentage_error: 30.9293 - val_loss: 0.3615 - val_mean_absolute_percentage_error: 27.6170\n",
      "Epoch 152/200\n",
      "\u001b[1m5/5\u001b[0m \u001b[32m━━━━━━━━━━━━━━━━━━━━\u001b[0m\u001b[37m\u001b[0m \u001b[1m0s\u001b[0m 13ms/step - loss: 0.3770 - mean_absolute_percentage_error: 31.2407 - val_loss: 0.3647 - val_mean_absolute_percentage_error: 27.8540\n",
      "Epoch 153/200\n",
      "\u001b[1m5/5\u001b[0m \u001b[32m━━━━━━━━━━━━━━━━━━━━\u001b[0m\u001b[37m\u001b[0m \u001b[1m0s\u001b[0m 13ms/step - loss: 0.4190 - mean_absolute_percentage_error: 30.6923 - val_loss: 0.3641 - val_mean_absolute_percentage_error: 27.8119\n",
      "Epoch 154/200\n",
      "\u001b[1m5/5\u001b[0m \u001b[32m━━━━━━━━━━━━━━━━━━━━\u001b[0m\u001b[37m\u001b[0m \u001b[1m0s\u001b[0m 13ms/step - loss: 0.4433 - mean_absolute_percentage_error: 32.6579 - val_loss: 0.3587 - val_mean_absolute_percentage_error: 27.3894\n",
      "Epoch 155/200\n",
      "\u001b[1m5/5\u001b[0m \u001b[32m━━━━━━━━━━━━━━━━━━━━\u001b[0m\u001b[37m\u001b[0m \u001b[1m0s\u001b[0m 13ms/step - loss: 0.4174 - mean_absolute_percentage_error: 30.4678 - val_loss: 0.3710 - val_mean_absolute_percentage_error: 28.1944\n",
      "Epoch 156/200\n",
      "\u001b[1m5/5\u001b[0m \u001b[32m━━━━━━━━━━━━━━━━━━━━\u001b[0m\u001b[37m\u001b[0m \u001b[1m0s\u001b[0m 13ms/step - loss: 0.4915 - mean_absolute_percentage_error: 34.2934 - val_loss: 0.3660 - val_mean_absolute_percentage_error: 27.8957\n",
      "Epoch 157/200\n",
      "\u001b[1m5/5\u001b[0m \u001b[32m━━━━━━━━━━━━━━━━━━━━\u001b[0m\u001b[37m\u001b[0m \u001b[1m0s\u001b[0m 14ms/step - loss: 0.4677 - mean_absolute_percentage_error: 33.3171 - val_loss: 0.3622 - val_mean_absolute_percentage_error: 27.6053\n",
      "Epoch 158/200\n",
      "\u001b[1m5/5\u001b[0m \u001b[32m━━━━━━━━━━━━━━━━━━━━\u001b[0m\u001b[37m\u001b[0m \u001b[1m0s\u001b[0m 14ms/step - loss: 0.4040 - mean_absolute_percentage_error: 28.8357 - val_loss: 0.3642 - val_mean_absolute_percentage_error: 27.7164\n",
      "Epoch 159/200\n",
      "\u001b[1m5/5\u001b[0m \u001b[32m━━━━━━━━━━━━━━━━━━━━\u001b[0m\u001b[37m\u001b[0m \u001b[1m0s\u001b[0m 13ms/step - loss: 0.4715 - mean_absolute_percentage_error: 33.2313 - val_loss: 0.3676 - val_mean_absolute_percentage_error: 28.0197\n",
      "Epoch 160/200\n",
      "\u001b[1m5/5\u001b[0m \u001b[32m━━━━━━━━━━━━━━━━━━━━\u001b[0m\u001b[37m\u001b[0m \u001b[1m0s\u001b[0m 13ms/step - loss: 0.4480 - mean_absolute_percentage_error: 33.8530 - val_loss: 0.3629 - val_mean_absolute_percentage_error: 27.6864\n",
      "Epoch 161/200\n",
      "\u001b[1m5/5\u001b[0m \u001b[32m━━━━━━━━━━━━━━━━━━━━\u001b[0m\u001b[37m\u001b[0m \u001b[1m0s\u001b[0m 16ms/step - loss: 0.3830 - mean_absolute_percentage_error: 30.1370 - val_loss: 0.3610 - val_mean_absolute_percentage_error: 27.6129\n",
      "Epoch 162/200\n",
      "\u001b[1m5/5\u001b[0m \u001b[32m━━━━━━━━━━━━━━━━━━━━\u001b[0m\u001b[37m\u001b[0m \u001b[1m0s\u001b[0m 13ms/step - loss: 0.4345 - mean_absolute_percentage_error: 32.0663 - val_loss: 0.3634 - val_mean_absolute_percentage_error: 27.7683\n",
      "Epoch 163/200\n",
      "\u001b[1m5/5\u001b[0m \u001b[32m━━━━━━━━━━━━━━━━━━━━\u001b[0m\u001b[37m\u001b[0m \u001b[1m0s\u001b[0m 13ms/step - loss: 0.4497 - mean_absolute_percentage_error: 31.3103 - val_loss: 0.3600 - val_mean_absolute_percentage_error: 27.5173\n",
      "Epoch 164/200\n",
      "\u001b[1m5/5\u001b[0m \u001b[32m━━━━━━━━━━━━━━━━━━━━\u001b[0m\u001b[37m\u001b[0m \u001b[1m0s\u001b[0m 16ms/step - loss: 0.4238 - mean_absolute_percentage_error: 31.3817 - val_loss: 0.3650 - val_mean_absolute_percentage_error: 27.7873\n",
      "Epoch 165/200\n",
      "\u001b[1m5/5\u001b[0m \u001b[32m━━━━━━━━━━━━━━━━━━━━\u001b[0m\u001b[37m\u001b[0m \u001b[1m0s\u001b[0m 13ms/step - loss: 0.4249 - mean_absolute_percentage_error: 30.6481 - val_loss: 0.3633 - val_mean_absolute_percentage_error: 27.7164\n",
      "Epoch 166/200\n",
      "\u001b[1m5/5\u001b[0m \u001b[32m━━━━━━━━━━━━━━━━━━━━\u001b[0m\u001b[37m\u001b[0m \u001b[1m0s\u001b[0m 17ms/step - loss: 0.3854 - mean_absolute_percentage_error: 29.2635 - val_loss: 0.3644 - val_mean_absolute_percentage_error: 27.8954\n",
      "Epoch 167/200\n",
      "\u001b[1m5/5\u001b[0m \u001b[32m━━━━━━━━━━━━━━━━━━━━\u001b[0m\u001b[37m\u001b[0m \u001b[1m0s\u001b[0m 13ms/step - loss: 0.4162 - mean_absolute_percentage_error: 33.3025 - val_loss: 0.3525 - val_mean_absolute_percentage_error: 26.9515\n",
      "Epoch 168/200\n",
      "\u001b[1m5/5\u001b[0m \u001b[32m━━━━━━━━━━━━━━━━━━━━\u001b[0m\u001b[37m\u001b[0m \u001b[1m0s\u001b[0m 14ms/step - loss: 0.4283 - mean_absolute_percentage_error: 30.0061 - val_loss: 0.3599 - val_mean_absolute_percentage_error: 27.5013\n",
      "Epoch 169/200\n",
      "\u001b[1m5/5\u001b[0m \u001b[32m━━━━━━━━━━━━━━━━━━━━\u001b[0m\u001b[37m\u001b[0m \u001b[1m0s\u001b[0m 13ms/step - loss: 0.4981 - mean_absolute_percentage_error: 36.1679 - val_loss: 0.3697 - val_mean_absolute_percentage_error: 28.1346\n",
      "Epoch 170/200\n",
      "\u001b[1m5/5\u001b[0m \u001b[32m━━━━━━━━━━━━━━━━━━━━\u001b[0m\u001b[37m\u001b[0m \u001b[1m0s\u001b[0m 16ms/step - loss: 0.3933 - mean_absolute_percentage_error: 31.0514 - val_loss: 0.3774 - val_mean_absolute_percentage_error: 28.6663\n",
      "Epoch 171/200\n",
      "\u001b[1m5/5\u001b[0m \u001b[32m━━━━━━━━━━━━━━━━━━━━\u001b[0m\u001b[37m\u001b[0m \u001b[1m0s\u001b[0m 12ms/step - loss: 0.4349 - mean_absolute_percentage_error: 32.6982 - val_loss: 0.3623 - val_mean_absolute_percentage_error: 27.6853\n",
      "Epoch 172/200\n",
      "\u001b[1m5/5\u001b[0m \u001b[32m━━━━━━━━━━━━━━━━━━━━\u001b[0m\u001b[37m\u001b[0m \u001b[1m0s\u001b[0m 14ms/step - loss: 0.4012 - mean_absolute_percentage_error: 30.8136 - val_loss: 0.3524 - val_mean_absolute_percentage_error: 26.9555\n",
      "Epoch 173/200\n",
      "\u001b[1m5/5\u001b[0m \u001b[32m━━━━━━━━━━━━━━━━━━━━\u001b[0m\u001b[37m\u001b[0m \u001b[1m0s\u001b[0m 17ms/step - loss: 0.4643 - mean_absolute_percentage_error: 34.0954 - val_loss: 0.3591 - val_mean_absolute_percentage_error: 27.4363\n",
      "Epoch 174/200\n",
      "\u001b[1m5/5\u001b[0m \u001b[32m━━━━━━━━━━━━━━━━━━━━\u001b[0m\u001b[37m\u001b[0m \u001b[1m0s\u001b[0m 13ms/step - loss: 0.4520 - mean_absolute_percentage_error: 31.4940 - val_loss: 0.3669 - val_mean_absolute_percentage_error: 27.8974\n",
      "Epoch 175/200\n",
      "\u001b[1m5/5\u001b[0m \u001b[32m━━━━━━━━━━━━━━━━━━━━\u001b[0m\u001b[37m\u001b[0m \u001b[1m0s\u001b[0m 15ms/step - loss: 0.4270 - mean_absolute_percentage_error: 30.3987 - val_loss: 0.3692 - val_mean_absolute_percentage_error: 28.1177\n",
      "Epoch 176/200\n",
      "\u001b[1m5/5\u001b[0m \u001b[32m━━━━━━━━━━━━━━━━━━━━\u001b[0m\u001b[37m\u001b[0m \u001b[1m0s\u001b[0m 13ms/step - loss: 0.4375 - mean_absolute_percentage_error: 30.4190 - val_loss: 0.3667 - val_mean_absolute_percentage_error: 27.9981\n",
      "Epoch 177/200\n",
      "\u001b[1m5/5\u001b[0m \u001b[32m━━━━━━━━━━━━━━━━━━━━\u001b[0m\u001b[37m\u001b[0m \u001b[1m0s\u001b[0m 13ms/step - loss: 0.4200 - mean_absolute_percentage_error: 33.0352 - val_loss: 0.3670 - val_mean_absolute_percentage_error: 27.9031\n",
      "Epoch 178/200\n",
      "\u001b[1m5/5\u001b[0m \u001b[32m━━━━━━━━━━━━━━━━━━━━\u001b[0m\u001b[37m\u001b[0m \u001b[1m0s\u001b[0m 13ms/step - loss: 0.4281 - mean_absolute_percentage_error: 31.9269 - val_loss: 0.3598 - val_mean_absolute_percentage_error: 27.4622\n",
      "Epoch 179/200\n",
      "\u001b[1m5/5\u001b[0m \u001b[32m━━━━━━━━━━━━━━━━━━━━\u001b[0m\u001b[37m\u001b[0m \u001b[1m0s\u001b[0m 13ms/step - loss: 0.4421 - mean_absolute_percentage_error: 29.5395 - val_loss: 0.3665 - val_mean_absolute_percentage_error: 27.8698\n",
      "Epoch 180/200\n",
      "\u001b[1m5/5\u001b[0m \u001b[32m━━━━━━━━━━━━━━━━━━━━\u001b[0m\u001b[37m\u001b[0m \u001b[1m0s\u001b[0m 12ms/step - loss: 0.4090 - mean_absolute_percentage_error: 28.5413 - val_loss: 0.3743 - val_mean_absolute_percentage_error: 28.4741\n",
      "Epoch 181/200\n",
      "\u001b[1m5/5\u001b[0m \u001b[32m━━━━━━━━━━━━━━━━━━━━\u001b[0m\u001b[37m\u001b[0m \u001b[1m0s\u001b[0m 17ms/step - loss: 0.3942 - mean_absolute_percentage_error: 27.2601 - val_loss: 0.3684 - val_mean_absolute_percentage_error: 28.0081\n",
      "Epoch 182/200\n",
      "\u001b[1m5/5\u001b[0m \u001b[32m━━━━━━━━━━━━━━━━━━━━\u001b[0m\u001b[37m\u001b[0m \u001b[1m0s\u001b[0m 16ms/step - loss: 0.3971 - mean_absolute_percentage_error: 26.9979 - val_loss: 0.3624 - val_mean_absolute_percentage_error: 27.6172\n",
      "Epoch 183/200\n",
      "\u001b[1m5/5\u001b[0m \u001b[32m━━━━━━━━━━━━━━━━━━━━\u001b[0m\u001b[37m\u001b[0m \u001b[1m0s\u001b[0m 13ms/step - loss: 0.4307 - mean_absolute_percentage_error: 30.1290 - val_loss: 0.3681 - val_mean_absolute_percentage_error: 27.9750\n",
      "Epoch 184/200\n",
      "\u001b[1m5/5\u001b[0m \u001b[32m━━━━━━━━━━━━━━━━━━━━\u001b[0m\u001b[37m\u001b[0m \u001b[1m0s\u001b[0m 14ms/step - loss: 0.4004 - mean_absolute_percentage_error: 29.2679 - val_loss: 0.3739 - val_mean_absolute_percentage_error: 28.2901\n",
      "Epoch 185/200\n",
      "\u001b[1m5/5\u001b[0m \u001b[32m━━━━━━━━━━━━━━━━━━━━\u001b[0m\u001b[37m\u001b[0m \u001b[1m0s\u001b[0m 15ms/step - loss: 0.4686 - mean_absolute_percentage_error: 30.6629 - val_loss: 0.3746 - val_mean_absolute_percentage_error: 28.4660\n",
      "Epoch 186/200\n",
      "\u001b[1m5/5\u001b[0m \u001b[32m━━━━━━━━━━━━━━━━━━━━\u001b[0m\u001b[37m\u001b[0m \u001b[1m0s\u001b[0m 13ms/step - loss: 0.4325 - mean_absolute_percentage_error: 32.8628 - val_loss: 0.3701 - val_mean_absolute_percentage_error: 28.2943\n",
      "Epoch 187/200\n",
      "\u001b[1m5/5\u001b[0m \u001b[32m━━━━━━━━━━━━━━━━━━━━\u001b[0m\u001b[37m\u001b[0m \u001b[1m0s\u001b[0m 12ms/step - loss: 0.4043 - mean_absolute_percentage_error: 31.0001 - val_loss: 0.3620 - val_mean_absolute_percentage_error: 27.5651\n",
      "Epoch 188/200\n",
      "\u001b[1m5/5\u001b[0m \u001b[32m━━━━━━━━━━━━━━━━━━━━\u001b[0m\u001b[37m\u001b[0m \u001b[1m0s\u001b[0m 15ms/step - loss: 0.4662 - mean_absolute_percentage_error: 33.2828 - val_loss: 0.3638 - val_mean_absolute_percentage_error: 27.8444\n",
      "Epoch 189/200\n",
      "\u001b[1m5/5\u001b[0m \u001b[32m━━━━━━━━━━━━━━━━━━━━\u001b[0m\u001b[37m\u001b[0m \u001b[1m0s\u001b[0m 14ms/step - loss: 0.4890 - mean_absolute_percentage_error: 35.0912 - val_loss: 0.3751 - val_mean_absolute_percentage_error: 28.7038\n",
      "Epoch 190/200\n",
      "\u001b[1m5/5\u001b[0m \u001b[32m━━━━━━━━━━━━━━━━━━━━\u001b[0m\u001b[37m\u001b[0m \u001b[1m0s\u001b[0m 14ms/step - loss: 0.4737 - mean_absolute_percentage_error: 33.2510 - val_loss: 0.3856 - val_mean_absolute_percentage_error: 29.2685\n",
      "Epoch 191/200\n",
      "\u001b[1m5/5\u001b[0m \u001b[32m━━━━━━━━━━━━━━━━━━━━\u001b[0m\u001b[37m\u001b[0m \u001b[1m0s\u001b[0m 13ms/step - loss: 0.4392 - mean_absolute_percentage_error: 32.0954 - val_loss: 0.3878 - val_mean_absolute_percentage_error: 29.4365\n",
      "Epoch 192/200\n",
      "\u001b[1m5/5\u001b[0m \u001b[32m━━━━━━━━━━━━━━━━━━━━\u001b[0m\u001b[37m\u001b[0m \u001b[1m0s\u001b[0m 14ms/step - loss: 0.4430 - mean_absolute_percentage_error: 32.2229 - val_loss: 0.3837 - val_mean_absolute_percentage_error: 29.2085\n",
      "Epoch 193/200\n",
      "\u001b[1m5/5\u001b[0m \u001b[32m━━━━━━━━━━━━━━━━━━━━\u001b[0m\u001b[37m\u001b[0m \u001b[1m0s\u001b[0m 25ms/step - loss: 0.4067 - mean_absolute_percentage_error: 29.2990 - val_loss: 0.3699 - val_mean_absolute_percentage_error: 28.2472\n",
      "Epoch 194/200\n",
      "\u001b[1m5/5\u001b[0m \u001b[32m━━━━━━━━━━━━━━━━━━━━\u001b[0m\u001b[37m\u001b[0m \u001b[1m0s\u001b[0m 13ms/step - loss: 0.3955 - mean_absolute_percentage_error: 29.5244 - val_loss: 0.3621 - val_mean_absolute_percentage_error: 27.7983\n",
      "Epoch 195/200\n",
      "\u001b[1m5/5\u001b[0m \u001b[32m━━━━━━━━━━━━━━━━━━━━\u001b[0m\u001b[37m\u001b[0m \u001b[1m0s\u001b[0m 14ms/step - loss: 0.4471 - mean_absolute_percentage_error: 31.6562 - val_loss: 0.3586 - val_mean_absolute_percentage_error: 27.6317\n",
      "Epoch 196/200\n",
      "\u001b[1m5/5\u001b[0m \u001b[32m━━━━━━━━━━━━━━━━━━━━\u001b[0m\u001b[37m\u001b[0m \u001b[1m0s\u001b[0m 14ms/step - loss: 0.4594 - mean_absolute_percentage_error: 31.2165 - val_loss: 0.3535 - val_mean_absolute_percentage_error: 27.2534\n",
      "Epoch 197/200\n",
      "\u001b[1m5/5\u001b[0m \u001b[32m━━━━━━━━━━━━━━━━━━━━\u001b[0m\u001b[37m\u001b[0m \u001b[1m0s\u001b[0m 16ms/step - loss: 0.4371 - mean_absolute_percentage_error: 31.3919 - val_loss: 0.3625 - val_mean_absolute_percentage_error: 27.8510\n",
      "Epoch 198/200\n",
      "\u001b[1m5/5\u001b[0m \u001b[32m━━━━━━━━━━━━━━━━━━━━\u001b[0m\u001b[37m\u001b[0m \u001b[1m0s\u001b[0m 14ms/step - loss: 0.4950 - mean_absolute_percentage_error: 36.1853 - val_loss: 0.3600 - val_mean_absolute_percentage_error: 27.6761\n",
      "Epoch 199/200\n",
      "\u001b[1m5/5\u001b[0m \u001b[32m━━━━━━━━━━━━━━━━━━━━\u001b[0m\u001b[37m\u001b[0m \u001b[1m0s\u001b[0m 14ms/step - loss: 0.3551 - mean_absolute_percentage_error: 27.5635 - val_loss: 0.3700 - val_mean_absolute_percentage_error: 28.3410\n",
      "Epoch 200/200\n",
      "\u001b[1m5/5\u001b[0m \u001b[32m━━━━━━━━━━━━━━━━━━━━\u001b[0m\u001b[37m\u001b[0m \u001b[1m0s\u001b[0m 12ms/step - loss: 0.4817 - mean_absolute_percentage_error: 32.8963 - val_loss: 0.3814 - val_mean_absolute_percentage_error: 29.1399\n"
     ]
    }
   ],
   "source": [
    "#@title training the model\n",
    "early_stopping = EarlyStopping(monitor='val_loss', patience=20, restore_best_weights=True)\n",
    "reduce_lr = ReduceLROnPlateau(monitor='val_loss', factor=0.9, patience=5, min_lr=0.00000001)\n",
    "\n",
    "history = lstm_model.fit(X_train_seq, y_train_seq, epochs=200, batch_size=32, validation_split=0.2, verbose=1)\n"
   ]
  },
  {
   "cell_type": "code",
   "execution_count": 37,
   "metadata": {},
   "outputs": [
    {
     "data": {
      "text/plain": [
       "<matplotlib.legend.Legend at 0x1b1bc05ca10>"
      ]
     },
     "execution_count": 37,
     "metadata": {},
     "output_type": "execute_result"
    },
    {
     "data": {
      "image/png": "[encoded data removed]",
      "text/plain": [
       "<Figure size 640x480 with 1 Axes>"
      ]
     },
     "metadata": {},
     "output_type": "display_data"
    }
   ],
   "source": [
    "#@title plot the loss function\n",
    "plt.plot(history.history['loss'], label='Training loss')\n",
    "plt.plot(history.history['val_loss'], label='Validation loss')\n",
    "plt.legend()"
   ]
  },
  {
   "cell_type": "code",
   "execution_count": 25,
   "metadata": {},
   "outputs": [
    {
     "name": "stdout",
     "output_type": "stream",
     "text": [
      "\u001b[1m6/6\u001b[0m \u001b[32m━━━━━━━━━━━━━━━━━━━━\u001b[0m\u001b[37m\u001b[0m \u001b[1m0s\u001b[0m 42ms/step\n",
      "\u001b[1m1/1\u001b[0m \u001b[32m━━━━━━━━━━━━━━━━━━━━\u001b[0m\u001b[37m\u001b[0m \u001b[1m0s\u001b[0m 32ms/step\n"
     ]
    },
    {
     "data": {
      "application/vnd.plotly.v1+json": {
       "config": {
        "plotlyServerURL": "https://plot.ly"
       },
       "data": [
        {
         "mode": "lines",
         "name": "Original Training Data",
         "type": "scatter",
         "x": [
          0,
          1,
          2,
          3,
          4,
          5,
          6,
          7,
          8,
          9,
          10,
          11,
          12,
          13,
          14,
          15,
          16,
          17,
          18,
          19,
          20,
          21,
          22,
          23,
          24,
          25,
          26,
          27,
          28,
          29,
          30,
          31,
          32,
          33,
          34,
          35,
          36,
          37,
          38,
          39,
          40,
          41,
          42,
          43,
          44,
          45,
          46,
          47,
          48,
          49,
          50,
          51,
          52,
          53,
          54,
          55,
          56,
          57,
          58,
          59,
          60,
          61,
          62,
          63,
          64,
          65,
          66,
          67,
          68,
          69,
          70,
          71,
          72,
          73,
          74,
          75,
          76,
          77,
          78,
          79,
          80,
          81,
          82,
          83,
          84,
          85,
          86,
          87,
          88,
          89,
          90,
          91,
          92,
          93,
          94,
          95,
          96,
          97,
          98,
          99,
          100,
          101,
          102,
          103,
          104,
          105,
          106,
          107,
          108,
          109,
          110,
          111,
          112,
          113,
          114,
          115,
          116,
          117,
          118,
          119,
          120,
          121,
          122,
          123,
          124,
          125,
          126,
          127,
          128,
          129,
          130,
          131,
          132,
          133,
          134,
          135,
          136,
          137,
          138,
          139,
          140,
          141,
          142,
          143,
          144,
          145,
          146,
          147,
          148,
          149,
          150,
          151,
          152,
          153,
          154,
          155,
          156,
          157,
          158,
          159,
          160,
          161,
          162,
          163,
          164,
          165,
          166,
          167,
          168,
          169,
          170,
          171,
          172,
          173,
          174,
          175,
          176,
          177,
          178,
          179,
          180,
          181,
          182,
          183,
          184,
          185
         ],
         "xaxis": "x",
         "y": [
          -0.006415968442644055,
          -0.25887686623226563,
          0.07773766415389646,
          -0.6515938183494547,
          -0.3991329205598331,
          -0.5674401857529142,
          -0.03446717930815756,
          -0.3430304988288061,
          -0.5113377640218871,
          -0.6235426074839412,
          -0.2308256553667521,
          -0.5393889748874007,
          -0.5954913966184276,
          -0.7357474509459953,
          -0.45523534229086016,
          -0.5954913966184276,
          -0.11862081190469807,
          -0.14667202277021157,
          -0.37108170969431964,
          -0.5674401857529142,
          -0.7637986618115087,
          -0.45523534229086016,
          -0.2308256553667521,
          -0.006415968442644055,
          -0.7357474509459953,
          -0.5674401857529142,
          -0.6515938183494547,
          -0.6796450292149682,
          -0.7637986618115087,
          -0.7357474509459953,
          -0.6235426074839412,
          -0.7918498726770222,
          -0.6235426074839412,
          -0.7076962400804817,
          -0.6515938183494547,
          -0.45523534229086016,
          -0.7918498726770222,
          -0.7918498726770222,
          -0.7918498726770222,
          -0.7918498726770222,
          -0.7918498726770222,
          -0.7918498726770222,
          -0.7918498726770222,
          -0.7918498726770222,
          -0.7918498726770222,
          -0.7918498726770222,
          -0.7637986618115087,
          -0.7637986618115087,
          -0.7918498726770222,
          -0.7076962400804817,
          -0.7918498726770222,
          -0.7918498726770222,
          -0.7918498726770222,
          -0.7918498726770222,
          -0.7918498726770222,
          -0.7637986618115087,
          -0.7918498726770222,
          -0.7918498726770222,
          -0.7918498726770222,
          -0.7918498726770222,
          -0.5113377640218871,
          -0.7918498726770222,
          -0.7918498726770222,
          -0.7357474509459953,
          -0.7918498726770222,
          -0.3991329205598331,
          -0.03446717930815756,
          -0.7637986618115087,
          -0.45523534229086016,
          -0.03446717930815756,
          -0.7357474509459953,
          0.13384008588492347,
          -0.7918498726770222,
          1.2839397313709773,
          -0.09056960103918457,
          -0.7918498726770222,
          5.239160463408381,
          -0.5393889748874007,
          -0.37108170969431964,
          1.4802982074295719,
          -0.14667202277021157,
          1.2839397313709773,
          0.8631715683882746,
          3.2475244919569226,
          0.498505827136599,
          1.4802982074295719,
          3.668292654939625,
          1.9571687921433014,
          -0.11862081190469807,
          1.1436836770434098,
          2.4620905877225443,
          -0.5113377640218871,
          2.4059881659915177,
          1.3961445748330312,
          0.9192739901193017,
          0.330198561943518,
          1.3961445748330312,
          1.9291175812777879,
          0.330198561943518,
          0.3021473510780045,
          0.610710670598653,
          0.9192739901193017,
          0.554608248867626,
          0.6948643031951935,
          1.2278373096399502,
          1.3400421531020041,
          -0.48328655315637364,
          0.35824977280903153,
          1.0595300444468692,
          1.9010663704122743,
          0.6387618814641666,
          1.3680933639675177,
          0.9192739901193017,
          2.938961172436274,
          2.2937833225294635,
          1.3680933639675177,
          0.6387618814641666,
          0.554608248867626,
          0.8351203575227611,
          0.6668130923296801,
          0.6948643031951935,
          0.13384008588492347,
          0.21799371848146398,
          0.1899425076159505,
          0.1899425076159505,
          0.02163524242286945,
          0.1899425076159505,
          -0.2308256553667521,
          -0.7637986618115087,
          -0.2027744445012386,
          -0.3991329205598331,
          -0.37108170969431964,
          -0.37108170969431964,
          -0.25887686623226563,
          -0.2308256553667521,
          -0.5393889748874007,
          -0.45523534229086016,
          -0.5954913966184276,
          -0.6515938183494547,
          -0.6515938183494547,
          -0.6796450292149682,
          -0.7357474509459953,
          -0.7637986618115087,
          -0.6235426074839412,
          -0.6796450292149682,
          -0.7637986618115087,
          -0.5674401857529142,
          -0.3991329205598331,
          -0.6796450292149682,
          -0.5674401857529142,
          -0.7076962400804817,
          -0.5393889748874007,
          -0.7076962400804817,
          -0.6515938183494547,
          -0.7637986618115087,
          -0.7637986618115087,
          -0.7637986618115087,
          -0.6796450292149682,
          0.02163524242286945,
          -0.7637986618115087,
          -0.7637986618115087,
          -0.14667202277021157,
          -0.5113377640218871,
          -0.6235426074839412,
          -0.48328655315637364,
          -0.5113377640218871,
          -0.5393889748874007,
          -0.5674401857529142,
          -0.5954913966184276,
          -0.3991329205598331,
          -0.2869280770977791,
          -0.2869280770977791,
          -0.06251839017367107,
          0.07773766415389646,
          0.2460449293469775,
          0.7790179357917341,
          0.498505827136599,
          0.8070691466572476,
          0.7790179357917341,
          1.3400421531020041,
          2.0132712138743285,
          1.7608103160847068,
          2.4620905877225443,
          1.2278373096399502,
          2.321834533394977
         ],
         "yaxis": "y"
        },
        {
         "line": {
          "dash": "dash"
         },
         "mode": "lines",
         "name": "Fitted Training Data",
         "type": "scatter",
         "x": [
          0,
          1,
          2,
          3,
          4,
          5,
          6,
          7,
          8,
          9,
          10,
          11,
          12,
          13,
          14,
          15,
          16,
          17,
          18,
          19,
          20,
          21,
          22,
          23,
          24,
          25,
          26,
          27,
          28,
          29,
          30,
          31,
          32,
          33,
          34,
          35,
          36,
          37,
          38,
          39,
          40,
          41,
          42,
          43,
          44,
          45,
          46,
          47,
          48,
          49,
          50,
          51,
          52,
          53,
          54,
          55,
          56,
          57,
          58,
          59,
          60,
          61,
          62,
          63,
          64,
          65,
          66,
          67,
          68,
          69,
          70,
          71,
          72,
          73,
          74,
          75,
          76,
          77,
          78,
          79,
          80,
          81,
          82,
          83,
          84,
          85,
          86,
          87,
          88,
          89,
          90,
          91,
          92,
          93,
          94,
          95,
          96,
          97,
          98,
          99,
          100,
          101,
          102,
          103,
          104,
          105,
          106,
          107,
          108,
          109,
          110,
          111,
          112,
          113,
          114,
          115,
          116,
          117,
          118,
          119,
          120,
          121,
          122,
          123,
          124,
          125,
          126,
          127,
          128,
          129,
          130,
          131,
          132,
          133,
          134,
          135,
          136,
          137,
          138,
          139,
          140,
          141,
          142,
          143,
          144,
          145,
          146,
          147,
          148,
          149,
          150,
          151,
          152,
          153,
          154,
          155,
          156,
          157,
          158,
          159,
          160,
          161,
          162,
          163,
          164,
          165,
          166,
          167,
          168,
          169,
          170,
          171,
          172,
          173,
          174,
          175,
          176,
          177,
          178,
          179,
          180,
          181,
          182,
          183,
          184,
          185
         ],
         "xaxis": "x",
         "y": [
          -0.3728647232055664,
          -0.3209386467933655,
          -0.3541514575481415,
          -0.3360849618911743,
          -0.4182419180870056,
          -0.45110294222831726,
          -0.5491727590560913,
          -0.4613969624042511,
          -0.4416668117046356,
          -0.43490639328956604,
          -0.5289537906646729,
          -0.5166703462600708,
          -0.5119631290435791,
          -0.5116125345230103,
          -0.5898429155349731,
          -0.5811207294464111,
          -0.5751464366912842,
          -0.4869285821914673,
          -0.43164440989494324,
          -0.39695820212364197,
          -0.465771347284317,
          -0.5625263452529907,
          -0.5815318822860718,
          -0.5249650478363037,
          -0.4101145565509796,
          -0.4395288825035095,
          -0.5023919343948364,
          -0.6024541854858398,
          -0.5955789089202881,
          -0.6251215934753418,
          -0.6393468379974365,
          -0.6307313442230225,
          -0.6322224140167236,
          -0.6193051338195801,
          -0.6282603740692139,
          -0.6094220876693726,
          -0.5836770534515381,
          -0.5909615755081177,
          -0.6174418926239014,
          -0.6686410903930664,
          -0.6686410903930664,
          -0.6686410903930664,
          -0.6686410903930664,
          -0.6686410903930664,
          -0.6686410903930664,
          -0.6686410903930664,
          -0.6686410903930664,
          -0.6645835638046265,
          -0.6599255800247192,
          -0.6598870754241943,
          -0.6523525714874268,
          -0.6546108722686768,
          -0.6562637090682983,
          -0.6686410903930664,
          -0.6686410903930664,
          -0.6686410903930664,
          -0.6645835638046265,
          -0.6639811992645264,
          -0.6645464897155762,
          -0.6686410903930664,
          -0.6686410903930664,
          -0.6274747848510742,
          -0.6213030815124512,
          -0.6262882947921753,
          -0.6605128049850464,
          -0.6593043804168701,
          -0.6026129722595215,
          -0.4894011616706848,
          -0.47488608956336975,
          -0.49610409140586853,
          -0.49502143263816833,
          -0.47978639602661133,
          -0.4069371223449707,
          -0.49901020526885986,
          -0.2176949828863144,
          -0.20385965704917908,
          0.286901593208313,
          -0.07351550459861755,
          0.2553938031196594,
          1.3514509201049805,
          -0.2142518311738968,
          0.16851714253425598,
          0.7656983137130737,
          0.392980694770813,
          0.9123010635375977,
          0.5115292072296143,
          1.168378233909607,
          0.8054076433181763,
          0.4437616169452667,
          0.7261141538619995,
          0.9207655191421509,
          0.49425479769706726,
          0.4954700171947479,
          1.194395661354065,
          0.5786952972412109,
          0.8108724355697632,
          0.6854331493377686,
          0.6331112384796143,
          0.6820605993270874,
          0.6278753280639648,
          0.8019694089889526,
          0.20336416363716125,
          0.3903362452983856,
          0.5404525995254517,
          0.59316086769104,
          0.5541727542877197,
          0.6931465864181519,
          0.5502197742462158,
          0.4940185844898224,
          -0.16455242037773132,
          0.6254425048828125,
          0.6596837043762207,
          0.9071946144104004,
          0.6503781080245972,
          0.9172478914260864,
          0.690239667892456,
          0.6518186330795288,
          0.7795708179473877,
          0.7048312425613403,
          0.5104637145996094,
          0.520767331123352,
          0.5842428207397461,
          0.4493221342563629,
          0.26983243227005005,
          -0.09364623576402664,
          -0.044944729655981064,
          -0.1109255775809288,
          -0.1642606556415558,
          -0.3007025122642517,
          -0.4102714955806732,
          -0.4921073019504547,
          -0.5067558884620667,
          -0.4523501694202423,
          -0.47825708985328674,
          -0.45784780383110046,
          -0.4350765645503998,
          -0.45635107159614563,
          -0.4919295907020569,
          -0.546040415763855,
          -0.5648041367530823,
          -0.595806360244751,
          -0.608301043510437,
          -0.6210960149765015,
          -0.6387180089950562,
          -0.6313080787658691,
          -0.6201173067092896,
          -0.6208838224411011,
          -0.6148216724395752,
          -0.5692468881607056,
          -0.5526965856552124,
          -0.558009684085846,
          -0.6023150682449341,
          -0.5846225023269653,
          -0.6016939878463745,
          -0.5966196060180664,
          -0.6287856101989746,
          -0.6391775608062744,
          -0.6558376550674438,
          -0.6436104774475098,
          -0.5236413478851318,
          -0.507264256477356,
          -0.5288938283920288,
          -0.5635656118392944,
          -0.5133455991744995,
          -0.4969293177127838,
          -0.5539149045944214,
          -0.5512504577636719,
          -0.5389375686645508,
          -0.5519962310791016,
          -0.5650451183319092,
          -0.5453543663024902,
          -0.4999273717403412,
          -0.4520327150821686,
          -0.4029602110385895,
          -0.3462294340133667,
          -0.2684699296951294,
          0.03061649203300476,
          0.3491363227367401,
          0.5483177900314331,
          0.5088744163513184,
          0.6656792163848877,
          0.7757962942123413,
          0.7566168308258057,
          0.8449220657348633,
          0.6166877746582031
         ],
         "yaxis": "y"
        },
        {
         "mode": "lines",
         "name": "Original Training Data",
         "type": "scatter",
         "x": [
          0,
          1,
          2,
          3,
          4,
          5,
          6,
          7
         ],
         "xaxis": "x2",
         "y": [
          0.04341789532727141,
          -0.37339389981453414,
          -1.4848920201926823,
          1.137548857574511,
          -0.26919095102908275,
          0.7728385368254311,
          0.4949640067308941
         ],
         "yaxis": "y2"
        },
        {
         "line": {
          "dash": "dash"
         },
         "mode": "lines",
         "name": "Fitted Training Data",
         "type": "scatter",
         "x": [
          0,
          1,
          2,
          3,
          4,
          5,
          6,
          7
         ],
         "xaxis": "x2",
         "y": [
          0.08917288482189178,
          -0.5695598125457764,
          -0.39906078577041626,
          -0.5503674745559692,
          -0.4108414053916931,
          -0.33054250478744507,
          0.5271707773208618
         ],
         "yaxis": "y2"
        }
       ],
       "layout": {
        "annotations": [
         {
          "font": {
           "size": 16
          },
          "showarrow": false,
          "text": "O",
          "x": 0.225,
          "xanchor": "center",
          "xref": "paper",
          "y": 1,
          "yanchor": "bottom",
          "yref": "paper"
         },
         {
          "font": {
           "size": 16
          },
          "showarrow": false,
          "text": "r",
          "x": 0.775,
          "xanchor": "center",
          "xref": "paper",
          "y": 1,
          "yanchor": "bottom",
          "yref": "paper"
         }
        ],
        "height": 400,
        "hovermode": "x unified",
        "template": {
         "data": {
          "bar": [
           {
            "error_x": {
             "color": "#2a3f5f"
            },
            "error_y": {
             "color": "#2a3f5f"
            },
            "marker": {
             "line": {
              "color": "#E5ECF6",
              "width": 0.5
             },
             "pattern": {
              "fillmode": "overlay",
              "size": 10,
              "solidity": 0.2
             }
            },
            "type": "bar"
           }
          ],
          "barpolar": [
           {
            "marker": {
             "line": {
              "color": "#E5ECF6",
              "width": 0.5
             },
             "pattern": {
              "fillmode": "overlay",
              "size": 10,
              "solidity": 0.2
             }
            },
            "type": "barpolar"
           }
          ],
          "carpet": [
           {
            "aaxis": {
             "endlinecolor": "#2a3f5f",
             "gridcolor": "white",
             "linecolor": "white",
             "minorgridcolor": "white",
             "startlinecolor": "#2a3f5f"
            },
            "baxis": {
             "endlinecolor": "#2a3f5f",
             "gridcolor": "white",
             "linecolor": "white",
             "minorgridcolor": "white",
             "startlinecolor": "#2a3f5f"
            },
            "type": "carpet"
           }
          ],
          "choropleth": [
           {
            "colorbar": {
             "outlinewidth": 0,
             "ticks": ""
            },
            "type": "choropleth"
           }
          ],
          "contour": [
           {
            "colorbar": {
             "outlinewidth": 0,
             "ticks": ""
            },
            "colorscale": [
             [
              0,
              "#0d0887"
             ],
             [
              0.1111111111111111,
              "#46039f"
             ],
             [
              0.2222222222222222,
              "#7201a8"
             ],
             [
              0.3333333333333333,
              "#9c179e"
             ],
             [
              0.4444444444444444,
              "#bd3786"
             ],
             [
              0.5555555555555556,
              "#d8576b"
             ],
             [
              0.6666666666666666,
              "#ed7953"
             ],
             [
              0.7777777777777778,
              "#fb9f3a"
             ],
             [
              0.8888888888888888,
              "#fdca26"
             ],
             [
              1,
              "#f0f921"
             ]
            ],
            "type": "contour"
           }
          ],
          "contourcarpet": [
           {
            "colorbar": {
             "outlinewidth": 0,
             "ticks": ""
            },
            "type": "contourcarpet"
           }
          ],
          "heatmap": [
           {
            "colorbar": {
             "outlinewidth": 0,
             "ticks": ""
            },
            "colorscale": [
             [
              0,
              "#0d0887"
             ],
             [
              0.1111111111111111,
              "#46039f"
             ],
             [
              0.2222222222222222,
              "#7201a8"
             ],
             [
              0.3333333333333333,
              "#9c179e"
             ],
             [
              0.4444444444444444,
              "#bd3786"
             ],
             [
              0.5555555555555556,
              "#d8576b"
             ],
             [
              0.6666666666666666,
              "#ed7953"
             ],
             [
              0.7777777777777778,
              "#fb9f3a"
             ],
             [
              0.8888888888888888,
              "#fdca26"
             ],
             [
              1,
              "#f0f921"
             ]
            ],
            "type": "heatmap"
           }
          ],
          "heatmapgl": [
           {
            "colorbar": {
             "outlinewidth": 0,
             "ticks": ""
            },
            "colorscale": [
             [
              0,
              "#0d0887"
             ],
             [
              0.1111111111111111,
              "#46039f"
             ],
             [
              0.2222222222222222,
              "#7201a8"
             ],
             [
              0.3333333333333333,
              "#9c179e"
             ],
             [
              0.4444444444444444,
              "#bd3786"
             ],
             [
              0.5555555555555556,
              "#d8576b"
             ],
             [
              0.6666666666666666,
              "#ed7953"
             ],
             [
              0.7777777777777778,
              "#fb9f3a"
             ],
             [
              0.8888888888888888,
              "#fdca26"
             ],
             [
              1,
              "#f0f921"
             ]
            ],
            "type": "heatmapgl"
           }
          ],
          "histogram": [
           {
            "marker": {
             "pattern": {
              "fillmode": "overlay",
              "size": 10,
              "solidity": 0.2
             }
            },
            "type": "histogram"
           }
          ],
          "histogram2d": [
           {
            "colorbar": {
             "outlinewidth": 0,
             "ticks": ""
            },
            "colorscale": [
             [
              0,
              "#0d0887"
             ],
             [
              0.1111111111111111,
              "#46039f"
             ],
             [
              0.2222222222222222,
              "#7201a8"
             ],
             [
              0.3333333333333333,
              "#9c179e"
             ],
             [
              0.4444444444444444,
              "#bd3786"
             ],
             [
              0.5555555555555556,
              "#d8576b"
             ],
             [
              0.6666666666666666,
              "#ed7953"
             ],
             [
              0.7777777777777778,
              "#fb9f3a"
             ],
             [
              0.8888888888888888,
              "#fdca26"
             ],
             [
              1,
              "#f0f921"
             ]
            ],
            "type": "histogram2d"
           }
          ],
          "histogram2dcontour": [
           {
            "colorbar": {
             "outlinewidth": 0,
             "ticks": ""
            },
            "colorscale": [
             [
              0,
              "#0d0887"
             ],
             [
              0.1111111111111111,
              "#46039f"
             ],
             [
              0.2222222222222222,
              "#7201a8"
             ],
             [
              0.3333333333333333,
              "#9c179e"
             ],
             [
              0.4444444444444444,
              "#bd3786"
             ],
             [
              0.5555555555555556,
              "#d8576b"
             ],
             [
              0.6666666666666666,
              "#ed7953"
             ],
             [
              0.7777777777777778,
              "#fb9f3a"
             ],
             [
              0.8888888888888888,
              "#fdca26"
             ],
             [
              1,
              "#f0f921"
             ]
            ],
            "type": "histogram2dcontour"
           }
          ],
          "mesh3d": [
           {
            "colorbar": {
             "outlinewidth": 0,
             "ticks": ""
            },
            "type": "mesh3d"
           }
          ],
          "parcoords": [
           {
            "line": {
             "colorbar": {
              "outlinewidth": 0,
              "ticks": ""
             }
            },
            "type": "parcoords"
           }
          ],
          "pie": [
           {
            "automargin": true,
            "type": "pie"
           }
          ],
          "scatter": [
           {
            "fillpattern": {
             "fillmode": "overlay",
             "size": 10,
             "solidity": 0.2
            },
            "type": "scatter"
           }
          ],
          "scatter3d": [
           {
            "line": {
             "colorbar": {
              "outlinewidth": 0,
              "ticks": ""
             }
            },
            "marker": {
             "colorbar": {
              "outlinewidth": 0,
              "ticks": ""
             }
            },
            "type": "scatter3d"
           }
          ],
          "scattercarpet": [
           {
            "marker": {
             "colorbar": {
              "outlinewidth": 0,
              "ticks": ""
             }
            },
            "type": "scattercarpet"
           }
          ],
          "scattergeo": [
           {
            "marker": {
             "colorbar": {
              "outlinewidth": 0,
              "ticks": ""
             }
            },
            "type": "scattergeo"
           }
          ],
          "scattergl": [
           {
            "marker": {
             "colorbar": {
              "outlinewidth": 0,
              "ticks": ""
             }
            },
            "type": "scattergl"
           }
          ],
          "scattermapbox": [
           {
            "marker": {
             "colorbar": {
              "outlinewidth": 0,
              "ticks": ""
             }
            },
            "type": "scattermapbox"
           }
          ],
          "scatterpolar": [
           {
            "marker": {
             "colorbar": {
              "outlinewidth": 0,
              "ticks": ""
             }
            },
            "type": "scatterpolar"
           }
          ],
          "scatterpolargl": [
           {
            "marker": {
             "colorbar": {
              "outlinewidth": 0,
              "ticks": ""
             }
            },
            "type": "scatterpolargl"
           }
          ],
          "scatterternary": [
           {
            "marker": {
             "colorbar": {
              "outlinewidth": 0,
              "ticks": ""
             }
            },
            "type": "scatterternary"
           }
          ],
          "surface": [
           {
            "colorbar": {
             "outlinewidth": 0,
             "ticks": ""
            },
            "colorscale": [
             [
              0,
              "#0d0887"
             ],
             [
              0.1111111111111111,
              "#46039f"
             ],
             [
              0.2222222222222222,
              "#7201a8"
             ],
             [
              0.3333333333333333,
              "#9c179e"
             ],
             [
              0.4444444444444444,
              "#bd3786"
             ],
             [
              0.5555555555555556,
              "#d8576b"
             ],
             [
              0.6666666666666666,
              "#ed7953"
             ],
             [
              0.7777777777777778,
              "#fb9f3a"
             ],
             [
              0.8888888888888888,
              "#fdca26"
             ],
             [
              1,
              "#f0f921"
             ]
            ],
            "type": "surface"
           }
          ],
          "table": [
           {
            "cells": {
             "fill": {
              "color": "#EBF0F8"
             },
             "line": {
              "color": "white"
             }
            },
            "header": {
             "fill": {
              "color": "#C8D4E3"
             },
             "line": {
              "color": "white"
             }
            },
            "type": "table"
           }
          ]
         },
         "layout": {
          "annotationdefaults": {
           "arrowcolor": "#2a3f5f",
           "arrowhead": 0,
           "arrowwidth": 1
          },
          "autotypenumbers": "strict",
          "coloraxis": {
           "colorbar": {
            "outlinewidth": 0,
            "ticks": ""
           }
          },
          "colorscale": {
           "diverging": [
            [
             0,
             "#8e0152"
            ],
            [
             0.1,
             "#c51b7d"
            ],
            [
             0.2,
             "#de77ae"
            ],
            [
             0.3,
             "#f1b6da"
            ],
            [
             0.4,
             "#fde0ef"
            ],
            [
             0.5,
             "#f7f7f7"
            ],
            [
             0.6,
             "#e6f5d0"
            ],
            [
             0.7,
             "#b8e186"
            ],
            [
             0.8,
             "#7fbc41"
            ],
            [
             0.9,
             "#4d9221"
            ],
            [
             1,
             "#276419"
            ]
           ],
           "sequential": [
            [
             0,
             "#0d0887"
            ],
            [
             0.1111111111111111,
             "#46039f"
            ],
            [
             0.2222222222222222,
             "#7201a8"
            ],
            [
             0.3333333333333333,
             "#9c179e"
            ],
            [
             0.4444444444444444,
             "#bd3786"
            ],
            [
             0.5555555555555556,
             "#d8576b"
            ],
            [
             0.6666666666666666,
             "#ed7953"
            ],
            [
             0.7777777777777778,
             "#fb9f3a"
            ],
            [
             0.8888888888888888,
             "#fdca26"
            ],
            [
             1,
             "#f0f921"
            ]
           ],
           "sequentialminus": [
            [
             0,
             "#0d0887"
            ],
            [
             0.1111111111111111,
             "#46039f"
            ],
            [
             0.2222222222222222,
             "#7201a8"
            ],
            [
             0.3333333333333333,
             "#9c179e"
            ],
            [
             0.4444444444444444,
             "#bd3786"
            ],
            [
             0.5555555555555556,
             "#d8576b"
            ],
            [
             0.6666666666666666,
             "#ed7953"
            ],
            [
             0.7777777777777778,
             "#fb9f3a"
            ],
            [
             0.8888888888888888,
             "#fdca26"
            ],
            [
             1,
             "#f0f921"
            ]
           ]
          },
          "colorway": [
           "#636efa",
           "#EF553B",
           "#00cc96",
           "#ab63fa",
           "#FFA15A",
           "#19d3f3",
           "#FF6692",
           "#B6E880",
           "#FF97FF",
           "#FECB52"
          ],
          "font": {
           "color": "#2a3f5f"
          },
          "geo": {
           "bgcolor": "white",
           "lakecolor": "white",
           "landcolor": "#E5ECF6",
           "showlakes": true,
           "showland": true,
           "subunitcolor": "white"
          },
          "hoverlabel": {
           "align": "left"
          },
          "hovermode": "closest",
          "mapbox": {
           "style": "light"
          },
          "paper_bgcolor": "white",
          "plot_bgcolor": "#E5ECF6",
          "polar": {
           "angularaxis": {
            "gridcolor": "white",
            "linecolor": "white",
            "ticks": ""
           },
           "bgcolor": "#E5ECF6",
           "radialaxis": {
            "gridcolor": "white",
            "linecolor": "white",
            "ticks": ""
           }
          },
          "scene": {
           "xaxis": {
            "backgroundcolor": "#E5ECF6",
            "gridcolor": "white",
            "gridwidth": 2,
            "linecolor": "white",
            "showbackground": true,
            "ticks": "",
            "zerolinecolor": "white"
           },
           "yaxis": {
            "backgroundcolor": "#E5ECF6",
            "gridcolor": "white",
            "gridwidth": 2,
            "linecolor": "white",
            "showbackground": true,
            "ticks": "",
            "zerolinecolor": "white"
           },
           "zaxis": {
            "backgroundcolor": "#E5ECF6",
            "gridcolor": "white",
            "gridwidth": 2,
            "linecolor": "white",
            "showbackground": true,
            "ticks": "",
            "zerolinecolor": "white"
           }
          },
          "shapedefaults": {
           "line": {
            "color": "#2a3f5f"
           }
          },
          "ternary": {
           "aaxis": {
            "gridcolor": "white",
            "linecolor": "white",
            "ticks": ""
           },
           "baxis": {
            "gridcolor": "white",
            "linecolor": "white",
            "ticks": ""
           },
           "bgcolor": "#E5ECF6",
           "caxis": {
            "gridcolor": "white",
            "linecolor": "white",
            "ticks": ""
           }
          },
          "title": {
           "x": 0.05
          },
          "xaxis": {
           "automargin": true,
           "gridcolor": "white",
           "linecolor": "white",
           "ticks": "",
           "title": {
            "standoff": 15
           },
           "zerolinecolor": "white",
           "zerolinewidth": 2
          },
          "yaxis": {
           "automargin": true,
           "gridcolor": "white",
           "linecolor": "white",
           "ticks": "",
           "title": {
            "standoff": 15
           },
           "zerolinecolor": "white",
           "zerolinewidth": 2
          }
         }
        },
        "title": {
         "text": "COVID-19 Data"
        },
        "width": 600,
        "xaxis": {
         "anchor": "y",
         "domain": [
          0,
          0.45
         ],
         "tickangle": 45,
         "tickformat": "%b %d\n%Y",
         "tickvals": [
          "2021-04-05T00:00:00",
          "2021-04-18T00:00:00",
          "2021-05-01T00:00:00",
          "2021-05-14T00:00:00",
          "2021-05-27T00:00:00",
          "2021-06-09T00:00:00",
          "2021-06-22T00:00:00",
          "2021-07-05T00:00:00",
          "2021-07-18T00:00:00",
          "2021-07-31T00:00:00",
          "2021-08-13T00:00:00",
          "2021-08-26T00:00:00",
          "2021-09-08T00:00:00",
          "2021-09-21T00:00:00",
          "2021-10-04T00:00:00",
          "2021-10-17T00:00:00"
         ]
        },
        "xaxis2": {
         "anchor": "y2",
         "domain": [
          0.55,
          1
         ],
         "tickangle": 45,
         "tickformat": "%b %d\n%Y",
         "tickvals": [
          "2021-04-05T00:00:00",
          "2021-04-18T00:00:00",
          "2021-05-01T00:00:00",
          "2021-05-14T00:00:00",
          "2021-05-27T00:00:00",
          "2021-06-09T00:00:00",
          "2021-06-22T00:00:00",
          "2021-07-05T00:00:00",
          "2021-07-18T00:00:00",
          "2021-07-31T00:00:00",
          "2021-08-13T00:00:00",
          "2021-08-26T00:00:00",
          "2021-09-08T00:00:00",
          "2021-09-21T00:00:00",
          "2021-10-04T00:00:00",
          "2021-10-17T00:00:00"
         ]
        },
        "yaxis": {
         "anchor": "x",
         "domain": [
          0,
          1
         ]
        },
        "yaxis2": {
         "anchor": "x2",
         "domain": [
          0,
          1
         ]
        }
       }
      }
     },
     "metadata": {},
     "output_type": "display_data"
    }
   ],
   "source": [
    "#@title visualization the result\n",
    "import numpy as np\n",
    "import plotly.graph_objects as go\n",
    "from plotly.subplots import make_subplots\n",
    "\n",
    "y_pred_train = model.predict(X_train_seq).reshape(-1,1)\n",
    "y_pred_test = model.predict(X_test_seq).reshape(-1,1)\n",
    "\n",
    "num_dates = len(df['Date'])\n",
    "step = max(1, num_dates // 15)\n",
    "display_dates = df['Date'][::step]\n",
    "\n",
    "# Create subplots\n",
    "fig = make_subplots(\n",
    "    rows=1, cols=2,\n",
    "    subplot_titles=(\"Original Training Data\"),\n",
    "    shared_xaxes=True\n",
    ")\n",
    "\n",
    "# Add training data traces\n",
    "fig.add_trace(go.Scatter(x=np.arange(len(X_train) - sequence_length + 1), y=y_train_seq.flatten(), mode='lines', name='Original Training Data'), row=1, col=1)\n",
    "fig.add_trace(go.Scatter(x=np.arange(len(X_train) - sequence_length + 1), y=y_pred_train.flatten(), mode='lines', name='Fitted Training Data', line=dict(dash='dash')), row=1, col=1)\n",
    "\n",
    "# Add testing data traces\n",
    "fig.add_trace(go.Scatter(x=np.arange(len(X_test) - sequence_length + 1), y=y_test_seq.flatten(), mode='lines', name='Original Training Data'), row=1, col=2)\n",
    "fig.add_trace(go.Scatter(x=np.arange(len(X_test) - sequence_length + 1), y=y_pred_test.flatten(), mode='lines', name='Fitted Training Data', line=dict(dash='dash')), row=1, col=2)\n",
    "\n",
    "# Update layout\n",
    "fig.update_layout(\n",
    "    height=400, width=600,\n",
    "    title_text=\"COVID-19 Data\",\n",
    "    hovermode='x unified'\n",
    ")\n",
    "\n",
    "for i in range(1, 2):\n",
    "    for j in range(1, 3):\n",
    "        fig.update_xaxes(\n",
    "            tickvals=display_dates,\n",
    "            tickformat=\"%b %d\\n%Y\",\n",
    "            tickangle=45,\n",
    "            row=i, col=j\n",
    "        )\n",
    "\n",
    "# Show the plot\n",
    "fig.show()\n",
    "\n"
   ]
  },
  {
   "cell_type": "code",
   "execution_count": 38,
   "metadata": {},
   "outputs": [
    {
     "name": "stdout",
     "output_type": "stream",
     "text": [
      "MAE: 0.6132723689079285\n",
      "RMSE: 0.870731770992279\n",
      "R² score: -0.16893494129180908\n"
     ]
    }
   ],
   "source": [
    "# Convert to tensors\n",
    "y_true_tf = tf.convert_to_tensor(y_test_seq.reshape(-1), dtype=tf.float32)\n",
    "y_pred_tf = tf.convert_to_tensor(y_pred_test.reshape(-1), dtype=tf.float32)\n",
    "\n",
    "# Initialize the metrics\n",
    "mae_metric = tf.keras.metrics.MeanAbsoluteError()\n",
    "mse_metric = tf.keras.metrics.MeanSquaredError()\n",
    "\n",
    "# Update the state with the true and predicted values\n",
    "mae_metric.update_state(y_true_tf, y_pred_tf)\n",
    "mse_metric.update_state(y_true_tf, y_pred_tf)\n",
    "\n",
    "# Calculate MAE and MSE\n",
    "mae = mae_metric.result().numpy()\n",
    "mse = mse_metric.result().numpy()\n",
    "\n",
    "# Calculate RMSE\n",
    "rmse = np.sqrt(mse)\n",
    "\n",
    "# Calculate R² score\n",
    "total_error = tf.reduce_sum(tf.square(y_true_tf - tf.reduce_mean(y_true_tf)))\n",
    "unexplained_error = tf.reduce_sum(tf.square(y_true_tf - y_pred_tf))\n",
    "r2_score = 1 - tf.divide(unexplained_error, total_error).numpy()\n",
    "\n",
    "print(f\"MAE: {mae}\")\n",
    "print(f\"RMSE: {rmse}\")\n",
    "print(f\"R² score: {r2_score}\")\n"
   ]
  },
  {
   "cell_type": "code",
   "execution_count": 27,
   "metadata": {},
   "outputs": [
    {
     "name": "stderr",
     "output_type": "stream",
     "text": [
      "WARNING:absl:You are saving your model as an HDF5 file via `model.save()` or `keras.saving.save_model(model)`. This file format is considered legacy. We recommend using instead the native Keras format, e.g. `model.save('my_model.keras')` or `keras.saving.save_model(model, 'my_model.keras')`. \n"
     ]
    }
   ],
   "source": [
    "model.save('./checkpoints/LSTM.h5')\n"
   ]
  },
  {
   "cell_type": "markdown",
   "metadata": {},
   "source": [
    "### RNN"
   ]
  },
  {
   "cell_type": "code",
   "execution_count": 42,
   "metadata": {},
   "outputs": [
    {
     "name": "stderr",
     "output_type": "stream",
     "text": [
      "c:\\Users\\ADMIN\\AppData\\Local\\Programs\\Python\\Python312\\Lib\\site-packages\\keras\\src\\layers\\rnn\\rnn.py:204: UserWarning:\n",
      "\n",
      "Do not pass an `input_shape`/`input_dim` argument to a layer. When using Sequential models, prefer using an `Input(shape)` object as the first layer in the model instead.\n",
      "\n"
     ]
    },
    {
     "data": {
      "text/html": [
       "<pre style=\"white-space:pre;overflow-x:auto;line-height:normal;font-family:Menlo,'DejaVu Sans Mono',consolas,'Courier New',monospace\"><span style=\"font-weight: bold\">Model: \"sequential_9\"</span>\n",
       "</pre>\n"
      ],
      "text/plain": [
       "\u001b[1mModel: \"sequential_9\"\u001b[0m\n"
      ]
     },
     "metadata": {},
     "output_type": "display_data"
    },
    {
     "data": {
      "text/html": [
       "<pre style=\"white-space:pre;overflow-x:auto;line-height:normal;font-family:Menlo,'DejaVu Sans Mono',consolas,'Courier New',monospace\">┏━━━━━━━━━━━━━━━━━━━━━━━━━━━━━━━━━┳━━━━━━━━━━━━━━━━━━━━━━━━┳━━━━━━━━━━━━━━━┓\n",
       "┃<span style=\"font-weight: bold\"> Layer (type)                    </span>┃<span style=\"font-weight: bold\"> Output Shape           </span>┃<span style=\"font-weight: bold\">       Param # </span>┃\n",
       "┡━━━━━━━━━━━━━━━━━━━━━━━━━━━━━━━━━╇━━━━━━━━━━━━━━━━━━━━━━━━╇━━━━━━━━━━━━━━━┩\n",
       "│ simple_rnn (<span style=\"color: #0087ff; text-decoration-color: #0087ff\">SimpleRNN</span>)          │ (<span style=\"color: #00d7ff; text-decoration-color: #00d7ff\">None</span>, <span style=\"color: #00af00; text-decoration-color: #00af00\">100</span>)            │        <span style=\"color: #00af00; text-decoration-color: #00af00\">10,200</span> │\n",
       "├─────────────────────────────────┼────────────────────────┼───────────────┤\n",
       "│ dense_16 (<span style=\"color: #0087ff; text-decoration-color: #0087ff\">Dense</span>)                │ (<span style=\"color: #00d7ff; text-decoration-color: #00d7ff\">None</span>, <span style=\"color: #00af00; text-decoration-color: #00af00\">8</span>)              │           <span style=\"color: #00af00; text-decoration-color: #00af00\">808</span> │\n",
       "├─────────────────────────────────┼────────────────────────┼───────────────┤\n",
       "│ dense_17 (<span style=\"color: #0087ff; text-decoration-color: #0087ff\">Dense</span>)                │ (<span style=\"color: #00d7ff; text-decoration-color: #00d7ff\">None</span>, <span style=\"color: #00af00; text-decoration-color: #00af00\">1</span>)              │             <span style=\"color: #00af00; text-decoration-color: #00af00\">9</span> │\n",
       "└─────────────────────────────────┴────────────────────────┴───────────────┘\n",
       "</pre>\n"
      ],
      "text/plain": [
       "┏━━━━━━━━━━━━━━━━━━━━━━━━━━━━━━━━━┳━━━━━━━━━━━━━━━━━━━━━━━━┳━━━━━━━━━━━━━━━┓\n",
       "┃\u001b[1m \u001b[0m\u001b[1mLayer (type)                   \u001b[0m\u001b[1m \u001b[0m┃\u001b[1m \u001b[0m\u001b[1mOutput Shape          \u001b[0m\u001b[1m \u001b[0m┃\u001b[1m \u001b[0m\u001b[1m      Param #\u001b[0m\u001b[1m \u001b[0m┃\n",
       "┡━━━━━━━━━━━━━━━━━━━━━━━━━━━━━━━━━╇━━━━━━━━━━━━━━━━━━━━━━━━╇━━━━━━━━━━━━━━━┩\n",
       "│ simple_rnn (\u001b[38;5;33mSimpleRNN\u001b[0m)          │ (\u001b[38;5;45mNone\u001b[0m, \u001b[38;5;34m100\u001b[0m)            │        \u001b[38;5;34m10,200\u001b[0m │\n",
       "├─────────────────────────────────┼────────────────────────┼───────────────┤\n",
       "│ dense_16 (\u001b[38;5;33mDense\u001b[0m)                │ (\u001b[38;5;45mNone\u001b[0m, \u001b[38;5;34m8\u001b[0m)              │           \u001b[38;5;34m808\u001b[0m │\n",
       "├─────────────────────────────────┼────────────────────────┼───────────────┤\n",
       "│ dense_17 (\u001b[38;5;33mDense\u001b[0m)                │ (\u001b[38;5;45mNone\u001b[0m, \u001b[38;5;34m1\u001b[0m)              │             \u001b[38;5;34m9\u001b[0m │\n",
       "└─────────────────────────────────┴────────────────────────┴───────────────┘\n"
      ]
     },
     "metadata": {},
     "output_type": "display_data"
    },
    {
     "data": {
      "text/html": [
       "<pre style=\"white-space:pre;overflow-x:auto;line-height:normal;font-family:Menlo,'DejaVu Sans Mono',consolas,'Courier New',monospace\"><span style=\"font-weight: bold\"> Total params: </span><span style=\"color: #00af00; text-decoration-color: #00af00\">11,017</span> (43.04 KB)\n",
       "</pre>\n"
      ],
      "text/plain": [
       "\u001b[1m Total params: \u001b[0m\u001b[38;5;34m11,017\u001b[0m (43.04 KB)\n"
      ]
     },
     "metadata": {},
     "output_type": "display_data"
    },
    {
     "data": {
      "text/html": [
       "<pre style=\"white-space:pre;overflow-x:auto;line-height:normal;font-family:Menlo,'DejaVu Sans Mono',consolas,'Courier New',monospace\"><span style=\"font-weight: bold\"> Trainable params: </span><span style=\"color: #00af00; text-decoration-color: #00af00\">11,017</span> (43.04 KB)\n",
       "</pre>\n"
      ],
      "text/plain": [
       "\u001b[1m Trainable params: \u001b[0m\u001b[38;5;34m11,017\u001b[0m (43.04 KB)\n"
      ]
     },
     "metadata": {},
     "output_type": "display_data"
    },
    {
     "data": {
      "text/html": [
       "<pre style=\"white-space:pre;overflow-x:auto;line-height:normal;font-family:Menlo,'DejaVu Sans Mono',consolas,'Courier New',monospace\"><span style=\"font-weight: bold\"> Non-trainable params: </span><span style=\"color: #00af00; text-decoration-color: #00af00\">0</span> (0.00 B)\n",
       "</pre>\n"
      ],
      "text/plain": [
       "\u001b[1m Non-trainable params: \u001b[0m\u001b[38;5;34m0\u001b[0m (0.00 B)\n"
      ]
     },
     "metadata": {},
     "output_type": "display_data"
    }
   ],
   "source": [
    "rnn_model = Sequential()\n",
    "rnn_model.add(SimpleRNN(100, dropout=0.2, return_sequences=False, input_shape=(X_train_seq.shape[1], X_train_seq.shape[2])))\n",
    "rnn_model.add(Dense(8, activation='relu'))\n",
    "rnn_model.add(Dense(1, activation='linear'))\n",
    "K.set_epsilon(1)\n",
    "rnn_model.compile(optimizer=Adam(learning_rate=0.001), loss=MeanAbsoluteError(), metrics=[MeanAbsolutePercentageError()])\n",
    "rnn_model.summary()"
   ]
  },
  {
   "cell_type": "code",
   "execution_count": 44,
   "metadata": {},
   "outputs": [
    {
     "name": "stdout",
     "output_type": "stream",
     "text": [
      "Epoch 1/200\n",
      "\u001b[1m5/5\u001b[0m \u001b[32m━━━━━━━━━━━━━━━━━━━━\u001b[0m\u001b[37m\u001b[0m \u001b[1m2s\u001b[0m 75ms/step - loss: 0.7291 - mean_absolute_percentage_error: 58.1423 - val_loss: 0.3122 - val_mean_absolute_percentage_error: 24.3994\n",
      "Epoch 2/200\n",
      "\u001b[1m5/5\u001b[0m \u001b[32m━━━━━━━━━━━━━━━━━━━━\u001b[0m\u001b[37m\u001b[0m \u001b[1m0s\u001b[0m 13ms/step - loss: 0.5164 - mean_absolute_percentage_error: 40.1212 - val_loss: 0.2876 - val_mean_absolute_percentage_error: 22.9586\n",
      "Epoch 3/200\n",
      "\u001b[1m5/5\u001b[0m \u001b[32m━━━━━━━━━━━━━━━━━━━━\u001b[0m\u001b[37m\u001b[0m \u001b[1m0s\u001b[0m 12ms/step - loss: 0.4737 - mean_absolute_percentage_error: 38.4320 - val_loss: 0.4204 - val_mean_absolute_percentage_error: 33.0377\n",
      "Epoch 4/200\n",
      "\u001b[1m5/5\u001b[0m \u001b[32m━━━━━━━━━━━━━━━━━━━━\u001b[0m\u001b[37m\u001b[0m \u001b[1m0s\u001b[0m 13ms/step - loss: 0.5591 - mean_absolute_percentage_error: 41.1340 - val_loss: 0.4166 - val_mean_absolute_percentage_error: 31.4173\n",
      "Epoch 5/200\n",
      "\u001b[1m5/5\u001b[0m \u001b[32m━━━━━━━━━━━━━━━━━━━━\u001b[0m\u001b[37m\u001b[0m \u001b[1m0s\u001b[0m 13ms/step - loss: 0.4539 - mean_absolute_percentage_error: 32.5369 - val_loss: 0.3994 - val_mean_absolute_percentage_error: 30.2025\n",
      "Epoch 6/200\n",
      "\u001b[1m5/5\u001b[0m \u001b[32m━━━━━━━━━━━━━━━━━━━━\u001b[0m\u001b[37m\u001b[0m \u001b[1m0s\u001b[0m 13ms/step - loss: 0.4012 - mean_absolute_percentage_error: 30.4777 - val_loss: 0.3565 - val_mean_absolute_percentage_error: 27.4448\n",
      "Epoch 7/200\n",
      "\u001b[1m5/5\u001b[0m \u001b[32m━━━━━━━━━━━━━━━━━━━━\u001b[0m\u001b[37m\u001b[0m \u001b[1m0s\u001b[0m 12ms/step - loss: 0.4938 - mean_absolute_percentage_error: 36.5869 - val_loss: 0.3510 - val_mean_absolute_percentage_error: 27.2933\n",
      "Epoch 8/200\n",
      "\u001b[1m5/5\u001b[0m \u001b[32m━━━━━━━━━━━━━━━━━━━━\u001b[0m\u001b[37m\u001b[0m \u001b[1m0s\u001b[0m 13ms/step - loss: 0.3794 - mean_absolute_percentage_error: 29.0612 - val_loss: 0.3333 - val_mean_absolute_percentage_error: 26.3406\n",
      "Epoch 9/200\n",
      "\u001b[1m5/5\u001b[0m \u001b[32m━━━━━━━━━━━━━━━━━━━━\u001b[0m\u001b[37m\u001b[0m \u001b[1m0s\u001b[0m 12ms/step - loss: 0.4251 - mean_absolute_percentage_error: 34.2744 - val_loss: 0.3246 - val_mean_absolute_percentage_error: 25.8290\n",
      "Epoch 10/200\n",
      "\u001b[1m5/5\u001b[0m \u001b[32m━━━━━━━━━━━━━━━━━━━━\u001b[0m\u001b[37m\u001b[0m \u001b[1m0s\u001b[0m 12ms/step - loss: 0.4303 - mean_absolute_percentage_error: 34.6973 - val_loss: 0.3408 - val_mean_absolute_percentage_error: 26.7796\n",
      "Epoch 11/200\n",
      "\u001b[1m5/5\u001b[0m \u001b[32m━━━━━━━━━━━━━━━━━━━━\u001b[0m\u001b[37m\u001b[0m \u001b[1m0s\u001b[0m 12ms/step - loss: 0.4123 - mean_absolute_percentage_error: 33.2001 - val_loss: 0.3573 - val_mean_absolute_percentage_error: 27.9323\n",
      "Epoch 12/200\n",
      "\u001b[1m5/5\u001b[0m \u001b[32m━━━━━━━━━━━━━━━━━━━━\u001b[0m\u001b[37m\u001b[0m \u001b[1m0s\u001b[0m 12ms/step - loss: 0.4945 - mean_absolute_percentage_error: 34.9658 - val_loss: 0.3692 - val_mean_absolute_percentage_error: 28.7537\n",
      "Epoch 13/200\n",
      "\u001b[1m5/5\u001b[0m \u001b[32m━━━━━━━━━━━━━━━━━━━━\u001b[0m\u001b[37m\u001b[0m \u001b[1m0s\u001b[0m 13ms/step - loss: 0.5001 - mean_absolute_percentage_error: 33.6960 - val_loss: 0.3653 - val_mean_absolute_percentage_error: 28.6237\n",
      "Epoch 14/200\n",
      "\u001b[1m5/5\u001b[0m \u001b[32m━━━━━━━━━━━━━━━━━━━━\u001b[0m\u001b[37m\u001b[0m \u001b[1m0s\u001b[0m 12ms/step - loss: 0.4820 - mean_absolute_percentage_error: 35.9000 - val_loss: 0.3672 - val_mean_absolute_percentage_error: 28.8001\n",
      "Epoch 15/200\n",
      "\u001b[1m5/5\u001b[0m \u001b[32m━━━━━━━━━━━━━━━━━━━━\u001b[0m\u001b[37m\u001b[0m \u001b[1m0s\u001b[0m 10ms/step - loss: 0.4560 - mean_absolute_percentage_error: 31.3338 - val_loss: 0.3573 - val_mean_absolute_percentage_error: 28.2272\n",
      "Epoch 16/200\n",
      "\u001b[1m5/5\u001b[0m \u001b[32m━━━━━━━━━━━━━━━━━━━━\u001b[0m\u001b[37m\u001b[0m \u001b[1m0s\u001b[0m 10ms/step - loss: 0.4454 - mean_absolute_percentage_error: 31.0281 - val_loss: 0.3541 - val_mean_absolute_percentage_error: 28.2042\n",
      "Epoch 17/200\n",
      "\u001b[1m5/5\u001b[0m \u001b[32m━━━━━━━━━━━━━━━━━━━━\u001b[0m\u001b[37m\u001b[0m \u001b[1m0s\u001b[0m 9ms/step - loss: 0.4896 - mean_absolute_percentage_error: 36.3181 - val_loss: 0.3571 - val_mean_absolute_percentage_error: 28.1497\n",
      "Epoch 18/200\n",
      "\u001b[1m5/5\u001b[0m \u001b[32m━━━━━━━━━━━━━━━━━━━━\u001b[0m\u001b[37m\u001b[0m \u001b[1m0s\u001b[0m 9ms/step - loss: 0.4833 - mean_absolute_percentage_error: 34.3152 - val_loss: 0.3676 - val_mean_absolute_percentage_error: 28.9231\n",
      "Epoch 19/200\n",
      "\u001b[1m5/5\u001b[0m \u001b[32m━━━━━━━━━━━━━━━━━━━━\u001b[0m\u001b[37m\u001b[0m \u001b[1m0s\u001b[0m 13ms/step - loss: 0.4302 - mean_absolute_percentage_error: 30.7769 - val_loss: 0.3623 - val_mean_absolute_percentage_error: 28.5398\n",
      "Epoch 20/200\n",
      "\u001b[1m5/5\u001b[0m \u001b[32m━━━━━━━━━━━━━━━━━━━━\u001b[0m\u001b[37m\u001b[0m \u001b[1m0s\u001b[0m 14ms/step - loss: 0.4650 - mean_absolute_percentage_error: 36.5199 - val_loss: 0.3479 - val_mean_absolute_percentage_error: 27.2533\n",
      "Epoch 21/200\n",
      "\u001b[1m5/5\u001b[0m \u001b[32m━━━━━━━━━━━━━━━━━━━━\u001b[0m\u001b[37m\u001b[0m \u001b[1m0s\u001b[0m 13ms/step - loss: 0.4387 - mean_absolute_percentage_error: 32.4324 - val_loss: 0.3520 - val_mean_absolute_percentage_error: 27.6561\n",
      "Epoch 22/200\n",
      "\u001b[1m5/5\u001b[0m \u001b[32m━━━━━━━━━━━━━━━━━━━━\u001b[0m\u001b[37m\u001b[0m \u001b[1m0s\u001b[0m 12ms/step - loss: 0.4921 - mean_absolute_percentage_error: 34.8950 - val_loss: 0.3576 - val_mean_absolute_percentage_error: 28.1637\n",
      "Epoch 23/200\n",
      "\u001b[1m5/5\u001b[0m \u001b[32m━━━━━━━━━━━━━━━━━━━━\u001b[0m\u001b[37m\u001b[0m \u001b[1m0s\u001b[0m 12ms/step - loss: 0.4526 - mean_absolute_percentage_error: 33.8091 - val_loss: 0.3825 - val_mean_absolute_percentage_error: 30.5487\n",
      "Epoch 24/200\n",
      "\u001b[1m5/5\u001b[0m \u001b[32m━━━━━━━━━━━━━━━━━━━━\u001b[0m\u001b[37m\u001b[0m \u001b[1m0s\u001b[0m 11ms/step - loss: 0.4456 - mean_absolute_percentage_error: 33.5245 - val_loss: 0.3782 - val_mean_absolute_percentage_error: 29.8319\n",
      "Epoch 25/200\n",
      "\u001b[1m5/5\u001b[0m \u001b[32m━━━━━━━━━━━━━━━━━━━━\u001b[0m\u001b[37m\u001b[0m \u001b[1m0s\u001b[0m 12ms/step - loss: 0.4919 - mean_absolute_percentage_error: 37.5502 - val_loss: 0.3670 - val_mean_absolute_percentage_error: 29.0936\n",
      "Epoch 26/200\n",
      "\u001b[1m5/5\u001b[0m \u001b[32m━━━━━━━━━━━━━━━━━━━━\u001b[0m\u001b[37m\u001b[0m \u001b[1m0s\u001b[0m 13ms/step - loss: 0.4035 - mean_absolute_percentage_error: 29.7712 - val_loss: 0.3890 - val_mean_absolute_percentage_error: 30.4299\n",
      "Epoch 27/200\n",
      "\u001b[1m5/5\u001b[0m \u001b[32m━━━━━━━━━━━━━━━━━━━━\u001b[0m\u001b[37m\u001b[0m \u001b[1m0s\u001b[0m 13ms/step - loss: 0.4732 - mean_absolute_percentage_error: 34.0732 - val_loss: 0.3952 - val_mean_absolute_percentage_error: 30.9359\n",
      "Epoch 28/200\n",
      "\u001b[1m5/5\u001b[0m \u001b[32m━━━━━━━━━━━━━━━━━━━━\u001b[0m\u001b[37m\u001b[0m \u001b[1m0s\u001b[0m 12ms/step - loss: 0.3680 - mean_absolute_percentage_error: 29.2755 - val_loss: 0.3856 - val_mean_absolute_percentage_error: 30.0626\n",
      "Epoch 29/200\n",
      "\u001b[1m5/5\u001b[0m \u001b[32m━━━━━━━━━━━━━━━━━━━━\u001b[0m\u001b[37m\u001b[0m \u001b[1m0s\u001b[0m 13ms/step - loss: 0.4725 - mean_absolute_percentage_error: 30.8648 - val_loss: 0.3826 - val_mean_absolute_percentage_error: 29.8696\n",
      "Epoch 30/200\n",
      "\u001b[1m5/5\u001b[0m \u001b[32m━━━━━━━━━━━━━━━━━━━━\u001b[0m\u001b[37m\u001b[0m \u001b[1m0s\u001b[0m 12ms/step - loss: 0.4108 - mean_absolute_percentage_error: 28.6722 - val_loss: 0.3655 - val_mean_absolute_percentage_error: 28.6631\n",
      "Epoch 31/200\n",
      "\u001b[1m5/5\u001b[0m \u001b[32m━━━━━━━━━━━━━━━━━━━━\u001b[0m\u001b[37m\u001b[0m \u001b[1m0s\u001b[0m 11ms/step - loss: 0.3753 - mean_absolute_percentage_error: 28.1217 - val_loss: 0.3474 - val_mean_absolute_percentage_error: 27.5388\n",
      "Epoch 32/200\n",
      "\u001b[1m5/5\u001b[0m \u001b[32m━━━━━━━━━━━━━━━━━━━━\u001b[0m\u001b[37m\u001b[0m \u001b[1m0s\u001b[0m 13ms/step - loss: 0.5075 - mean_absolute_percentage_error: 37.8603 - val_loss: 0.3655 - val_mean_absolute_percentage_error: 28.5541\n",
      "Epoch 33/200\n",
      "\u001b[1m5/5\u001b[0m \u001b[32m━━━━━━━━━━━━━━━━━━━━\u001b[0m\u001b[37m\u001b[0m \u001b[1m0s\u001b[0m 13ms/step - loss: 0.4036 - mean_absolute_percentage_error: 31.6253 - val_loss: 0.3834 - val_mean_absolute_percentage_error: 29.7371\n",
      "Epoch 34/200\n",
      "\u001b[1m5/5\u001b[0m \u001b[32m━━━━━━━━━━━━━━━━━━━━\u001b[0m\u001b[37m\u001b[0m \u001b[1m0s\u001b[0m 22ms/step - loss: 0.4616 - mean_absolute_percentage_error: 33.0138 - val_loss: 0.3745 - val_mean_absolute_percentage_error: 29.0197\n",
      "Epoch 35/200\n",
      "\u001b[1m5/5\u001b[0m \u001b[32m━━━━━━━━━━━━━━━━━━━━\u001b[0m\u001b[37m\u001b[0m \u001b[1m0s\u001b[0m 12ms/step - loss: 0.4212 - mean_absolute_percentage_error: 32.5706 - val_loss: 0.3674 - val_mean_absolute_percentage_error: 28.5421\n",
      "Epoch 36/200\n",
      "\u001b[1m5/5\u001b[0m \u001b[32m━━━━━━━━━━━━━━━━━━━━\u001b[0m\u001b[37m\u001b[0m \u001b[1m0s\u001b[0m 12ms/step - loss: 0.4485 - mean_absolute_percentage_error: 32.7463 - val_loss: 0.3556 - val_mean_absolute_percentage_error: 27.7454\n",
      "Epoch 37/200\n",
      "\u001b[1m5/5\u001b[0m \u001b[32m━━━━━━━━━━━━━━━━━━━━\u001b[0m\u001b[37m\u001b[0m \u001b[1m0s\u001b[0m 13ms/step - loss: 0.4501 - mean_absolute_percentage_error: 31.1563 - val_loss: 0.3523 - val_mean_absolute_percentage_error: 27.7118\n",
      "Epoch 38/200\n",
      "\u001b[1m5/5\u001b[0m \u001b[32m━━━━━━━━━━━━━━━━━━━━\u001b[0m\u001b[37m\u001b[0m \u001b[1m0s\u001b[0m 13ms/step - loss: 0.4143 - mean_absolute_percentage_error: 27.3235 - val_loss: 0.3582 - val_mean_absolute_percentage_error: 28.0402\n",
      "Epoch 39/200\n",
      "\u001b[1m5/5\u001b[0m \u001b[32m━━━━━━━━━━━━━━━━━━━━\u001b[0m\u001b[37m\u001b[0m \u001b[1m0s\u001b[0m 13ms/step - loss: 0.4665 - mean_absolute_percentage_error: 33.3246 - val_loss: 0.4108 - val_mean_absolute_percentage_error: 31.6715\n",
      "Epoch 40/200\n",
      "\u001b[1m5/5\u001b[0m \u001b[32m━━━━━━━━━━━━━━━━━━━━\u001b[0m\u001b[37m\u001b[0m \u001b[1m0s\u001b[0m 13ms/step - loss: 0.4127 - mean_absolute_percentage_error: 31.3284 - val_loss: 0.4013 - val_mean_absolute_percentage_error: 30.9497\n",
      "Epoch 41/200\n",
      "\u001b[1m5/5\u001b[0m \u001b[32m━━━━━━━━━━━━━━━━━━━━\u001b[0m\u001b[37m\u001b[0m \u001b[1m0s\u001b[0m 10ms/step - loss: 0.4569 - mean_absolute_percentage_error: 32.2418 - val_loss: 0.3839 - val_mean_absolute_percentage_error: 29.8164\n",
      "Epoch 42/200\n",
      "\u001b[1m5/5\u001b[0m \u001b[32m━━━━━━━━━━━━━━━━━━━━\u001b[0m\u001b[37m\u001b[0m \u001b[1m0s\u001b[0m 13ms/step - loss: 0.4211 - mean_absolute_percentage_error: 34.5257 - val_loss: 0.3590 - val_mean_absolute_percentage_error: 28.1612\n",
      "Epoch 43/200\n",
      "\u001b[1m5/5\u001b[0m \u001b[32m━━━━━━━━━━━━━━━━━━━━\u001b[0m\u001b[37m\u001b[0m \u001b[1m0s\u001b[0m 13ms/step - loss: 0.4451 - mean_absolute_percentage_error: 30.9121 - val_loss: 0.3557 - val_mean_absolute_percentage_error: 28.0944\n",
      "Epoch 44/200\n",
      "\u001b[1m5/5\u001b[0m \u001b[32m━━━━━━━━━━━━━━━━━━━━\u001b[0m\u001b[37m\u001b[0m \u001b[1m0s\u001b[0m 13ms/step - loss: 0.4154 - mean_absolute_percentage_error: 32.5298 - val_loss: 0.3409 - val_mean_absolute_percentage_error: 27.0196\n",
      "Epoch 45/200\n",
      "\u001b[1m5/5\u001b[0m \u001b[32m━━━━━━━━━━━━━━━━━━━━\u001b[0m\u001b[37m\u001b[0m \u001b[1m0s\u001b[0m 13ms/step - loss: 0.4711 - mean_absolute_percentage_error: 34.2078 - val_loss: 0.3417 - val_mean_absolute_percentage_error: 26.9619\n",
      "Epoch 46/200\n",
      "\u001b[1m5/5\u001b[0m \u001b[32m━━━━━━━━━━━━━━━━━━━━\u001b[0m\u001b[37m\u001b[0m \u001b[1m0s\u001b[0m 13ms/step - loss: 0.5019 - mean_absolute_percentage_error: 36.2999 - val_loss: 0.3355 - val_mean_absolute_percentage_error: 26.6206\n",
      "Epoch 47/200\n",
      "\u001b[1m5/5\u001b[0m \u001b[32m━━━━━━━━━━━━━━━━━━━━\u001b[0m\u001b[37m\u001b[0m \u001b[1m0s\u001b[0m 13ms/step - loss: 0.3976 - mean_absolute_percentage_error: 29.6444 - val_loss: 0.3643 - val_mean_absolute_percentage_error: 28.5213\n",
      "Epoch 48/200\n",
      "\u001b[1m5/5\u001b[0m \u001b[32m━━━━━━━━━━━━━━━━━━━━\u001b[0m\u001b[37m\u001b[0m \u001b[1m0s\u001b[0m 13ms/step - loss: 0.3929 - mean_absolute_percentage_error: 30.4164 - val_loss: 0.3758 - val_mean_absolute_percentage_error: 29.4152\n",
      "Epoch 49/200\n",
      "\u001b[1m5/5\u001b[0m \u001b[32m━━━━━━━━━━━━━━━━━━━━\u001b[0m\u001b[37m\u001b[0m \u001b[1m0s\u001b[0m 13ms/step - loss: 0.4441 - mean_absolute_percentage_error: 31.6410 - val_loss: 0.3614 - val_mean_absolute_percentage_error: 28.2192\n",
      "Epoch 50/200\n",
      "\u001b[1m5/5\u001b[0m \u001b[32m━━━━━━━━━━━━━━━━━━━━\u001b[0m\u001b[37m\u001b[0m \u001b[1m0s\u001b[0m 13ms/step - loss: 0.4837 - mean_absolute_percentage_error: 35.2835 - val_loss: 0.3543 - val_mean_absolute_percentage_error: 27.6733\n",
      "Epoch 51/200\n",
      "\u001b[1m5/5\u001b[0m \u001b[32m━━━━━━━━━━━━━━━━━━━━\u001b[0m\u001b[37m\u001b[0m \u001b[1m0s\u001b[0m 14ms/step - loss: 0.4328 - mean_absolute_percentage_error: 31.9580 - val_loss: 0.3439 - val_mean_absolute_percentage_error: 26.6667\n",
      "Epoch 52/200\n",
      "\u001b[1m5/5\u001b[0m \u001b[32m━━━━━━━━━━━━━━━━━━━━\u001b[0m\u001b[37m\u001b[0m \u001b[1m0s\u001b[0m 13ms/step - loss: 0.4082 - mean_absolute_percentage_error: 30.1751 - val_loss: 0.3693 - val_mean_absolute_percentage_error: 28.5077\n",
      "Epoch 53/200\n",
      "\u001b[1m5/5\u001b[0m \u001b[32m━━━━━━━━━━━━━━━━━━━━\u001b[0m\u001b[37m\u001b[0m \u001b[1m0s\u001b[0m 13ms/step - loss: 0.4161 - mean_absolute_percentage_error: 31.2809 - val_loss: 0.4063 - val_mean_absolute_percentage_error: 31.3088\n",
      "Epoch 54/200\n",
      "\u001b[1m5/5\u001b[0m \u001b[32m━━━━━━━━━━━━━━━━━━━━\u001b[0m\u001b[37m\u001b[0m \u001b[1m0s\u001b[0m 13ms/step - loss: 0.3719 - mean_absolute_percentage_error: 28.5888 - val_loss: 0.3828 - val_mean_absolute_percentage_error: 29.6822\n",
      "Epoch 55/200\n",
      "\u001b[1m5/5\u001b[0m \u001b[32m━━━━━━━━━━━━━━━━━━━━\u001b[0m\u001b[37m\u001b[0m \u001b[1m0s\u001b[0m 12ms/step - loss: 0.4300 - mean_absolute_percentage_error: 29.9582 - val_loss: 0.3283 - val_mean_absolute_percentage_error: 26.1317\n",
      "Epoch 56/200\n",
      "\u001b[1m5/5\u001b[0m \u001b[32m━━━━━━━━━━━━━━━━━━━━\u001b[0m\u001b[37m\u001b[0m \u001b[1m0s\u001b[0m 12ms/step - loss: 0.4255 - mean_absolute_percentage_error: 33.0797 - val_loss: 0.3285 - val_mean_absolute_percentage_error: 26.0777\n",
      "Epoch 57/200\n",
      "\u001b[1m5/5\u001b[0m \u001b[32m━━━━━━━━━━━━━━━━━━━━\u001b[0m\u001b[37m\u001b[0m \u001b[1m0s\u001b[0m 12ms/step - loss: 0.3978 - mean_absolute_percentage_error: 30.7908 - val_loss: 0.3492 - val_mean_absolute_percentage_error: 27.4662\n",
      "Epoch 58/200\n",
      "\u001b[1m5/5\u001b[0m \u001b[32m━━━━━━━━━━━━━━━━━━━━\u001b[0m\u001b[37m\u001b[0m \u001b[1m0s\u001b[0m 13ms/step - loss: 0.4179 - mean_absolute_percentage_error: 30.0511 - val_loss: 0.3664 - val_mean_absolute_percentage_error: 28.6085\n",
      "Epoch 59/200\n",
      "\u001b[1m5/5\u001b[0m \u001b[32m━━━━━━━━━━━━━━━━━━━━\u001b[0m\u001b[37m\u001b[0m \u001b[1m0s\u001b[0m 9ms/step - loss: 0.3478 - mean_absolute_percentage_error: 27.6023 - val_loss: 0.3724 - val_mean_absolute_percentage_error: 29.0011\n",
      "Epoch 60/200\n",
      "\u001b[1m5/5\u001b[0m \u001b[32m━━━━━━━━━━━━━━━━━━━━\u001b[0m\u001b[37m\u001b[0m \u001b[1m0s\u001b[0m 12ms/step - loss: 0.3807 - mean_absolute_percentage_error: 29.5084 - val_loss: 0.3791 - val_mean_absolute_percentage_error: 29.5753\n",
      "Epoch 61/200\n",
      "\u001b[1m5/5\u001b[0m \u001b[32m━━━━━━━━━━━━━━━━━━━━\u001b[0m\u001b[37m\u001b[0m \u001b[1m0s\u001b[0m 13ms/step - loss: 0.4193 - mean_absolute_percentage_error: 30.5906 - val_loss: 0.3746 - val_mean_absolute_percentage_error: 29.4255\n",
      "Epoch 62/200\n",
      "\u001b[1m5/5\u001b[0m \u001b[32m━━━━━━━━━━━━━━━━━━━━\u001b[0m\u001b[37m\u001b[0m \u001b[1m0s\u001b[0m 11ms/step - loss: 0.4204 - mean_absolute_percentage_error: 32.7134 - val_loss: 0.3668 - val_mean_absolute_percentage_error: 28.6306\n",
      "Epoch 63/200\n",
      "\u001b[1m5/5\u001b[0m \u001b[32m━━━━━━━━━━━━━━━━━━━━\u001b[0m\u001b[37m\u001b[0m \u001b[1m0s\u001b[0m 11ms/step - loss: 0.4768 - mean_absolute_percentage_error: 32.8017 - val_loss: 0.3552 - val_mean_absolute_percentage_error: 27.9896\n",
      "Epoch 64/200\n",
      "\u001b[1m5/5\u001b[0m \u001b[32m━━━━━━━━━━━━━━━━━━━━\u001b[0m\u001b[37m\u001b[0m \u001b[1m0s\u001b[0m 13ms/step - loss: 0.4555 - mean_absolute_percentage_error: 31.7982 - val_loss: 0.3745 - val_mean_absolute_percentage_error: 29.2492\n",
      "Epoch 65/200\n",
      "\u001b[1m5/5\u001b[0m \u001b[32m━━━━━━━━━━━━━━━━━━━━\u001b[0m\u001b[37m\u001b[0m \u001b[1m0s\u001b[0m 12ms/step - loss: 0.4685 - mean_absolute_percentage_error: 33.5610 - val_loss: 0.3722 - val_mean_absolute_percentage_error: 29.0297\n",
      "Epoch 66/200\n",
      "\u001b[1m5/5\u001b[0m \u001b[32m━━━━━━━━━━━━━━━━━━━━\u001b[0m\u001b[37m\u001b[0m \u001b[1m0s\u001b[0m 10ms/step - loss: 0.3737 - mean_absolute_percentage_error: 26.8683 - val_loss: 0.3524 - val_mean_absolute_percentage_error: 27.5998\n",
      "Epoch 67/200\n",
      "\u001b[1m5/5\u001b[0m \u001b[32m━━━━━━━━━━━━━━━━━━━━\u001b[0m\u001b[37m\u001b[0m \u001b[1m0s\u001b[0m 14ms/step - loss: 0.4135 - mean_absolute_percentage_error: 32.9933 - val_loss: 0.3327 - val_mean_absolute_percentage_error: 26.3452\n",
      "Epoch 68/200\n",
      "\u001b[1m5/5\u001b[0m \u001b[32m━━━━━━━━━━━━━━━━━━━━\u001b[0m\u001b[37m\u001b[0m \u001b[1m0s\u001b[0m 12ms/step - loss: 0.3907 - mean_absolute_percentage_error: 29.7085 - val_loss: 0.3375 - val_mean_absolute_percentage_error: 26.8030\n",
      "Epoch 69/200\n",
      "\u001b[1m5/5\u001b[0m \u001b[32m━━━━━━━━━━━━━━━━━━━━\u001b[0m\u001b[37m\u001b[0m \u001b[1m0s\u001b[0m 12ms/step - loss: 0.4503 - mean_absolute_percentage_error: 31.1903 - val_loss: 0.3658 - val_mean_absolute_percentage_error: 28.7833\n",
      "Epoch 70/200\n",
      "\u001b[1m5/5\u001b[0m \u001b[32m━━━━━━━━━━━━━━━━━━━━\u001b[0m\u001b[37m\u001b[0m \u001b[1m0s\u001b[0m 12ms/step - loss: 0.4173 - mean_absolute_percentage_error: 30.6957 - val_loss: 0.3711 - val_mean_absolute_percentage_error: 29.1800\n",
      "Epoch 71/200\n",
      "\u001b[1m5/5\u001b[0m \u001b[32m━━━━━━━━━━━━━━━━━━━━\u001b[0m\u001b[37m\u001b[0m \u001b[1m0s\u001b[0m 12ms/step - loss: 0.4343 - mean_absolute_percentage_error: 32.2387 - val_loss: 0.3372 - val_mean_absolute_percentage_error: 26.5757\n",
      "Epoch 72/200\n",
      "\u001b[1m5/5\u001b[0m \u001b[32m━━━━━━━━━━━━━━━━━━━━\u001b[0m\u001b[37m\u001b[0m \u001b[1m0s\u001b[0m 12ms/step - loss: 0.4214 - mean_absolute_percentage_error: 31.0739 - val_loss: 0.3432 - val_mean_absolute_percentage_error: 27.1860\n",
      "Epoch 73/200\n",
      "\u001b[1m5/5\u001b[0m \u001b[32m━━━━━━━━━━━━━━━━━━━━\u001b[0m\u001b[37m\u001b[0m \u001b[1m0s\u001b[0m 9ms/step - loss: 0.3941 - mean_absolute_percentage_error: 29.9410 - val_loss: 0.3251 - val_mean_absolute_percentage_error: 25.7159\n",
      "Epoch 74/200\n",
      "\u001b[1m5/5\u001b[0m \u001b[32m━━━━━━━━━━━━━━━━━━━━\u001b[0m\u001b[37m\u001b[0m \u001b[1m0s\u001b[0m 10ms/step - loss: 0.3719 - mean_absolute_percentage_error: 28.8602 - val_loss: 0.3333 - val_mean_absolute_percentage_error: 26.3826\n",
      "Epoch 75/200\n",
      "\u001b[1m5/5\u001b[0m \u001b[32m━━━━━━━━━━━━━━━━━━━━\u001b[0m\u001b[37m\u001b[0m \u001b[1m0s\u001b[0m 13ms/step - loss: 0.4318 - mean_absolute_percentage_error: 30.5802 - val_loss: 0.3555 - val_mean_absolute_percentage_error: 28.0708\n",
      "Epoch 76/200\n",
      "\u001b[1m5/5\u001b[0m \u001b[32m━━━━━━━━━━━━━━━━━━━━\u001b[0m\u001b[37m\u001b[0m \u001b[1m0s\u001b[0m 13ms/step - loss: 0.4971 - mean_absolute_percentage_error: 33.9283 - val_loss: 0.3516 - val_mean_absolute_percentage_error: 27.7739\n",
      "Epoch 77/200\n",
      "\u001b[1m5/5\u001b[0m \u001b[32m━━━━━━━━━━━━━━━━━━━━\u001b[0m\u001b[37m\u001b[0m \u001b[1m0s\u001b[0m 12ms/step - loss: 0.4112 - mean_absolute_percentage_error: 31.9189 - val_loss: 0.3667 - val_mean_absolute_percentage_error: 28.8297\n",
      "Epoch 78/200\n",
      "\u001b[1m5/5\u001b[0m \u001b[32m━━━━━━━━━━━━━━━━━━━━\u001b[0m\u001b[37m\u001b[0m \u001b[1m0s\u001b[0m 12ms/step - loss: 0.3822 - mean_absolute_percentage_error: 30.3899 - val_loss: 0.3900 - val_mean_absolute_percentage_error: 30.4116\n",
      "Epoch 79/200\n",
      "\u001b[1m5/5\u001b[0m \u001b[32m━━━━━━━━━━━━━━━━━━━━\u001b[0m\u001b[37m\u001b[0m \u001b[1m0s\u001b[0m 11ms/step - loss: 0.3963 - mean_absolute_percentage_error: 29.8713 - val_loss: 0.3693 - val_mean_absolute_percentage_error: 28.9562\n",
      "Epoch 80/200\n",
      "\u001b[1m5/5\u001b[0m \u001b[32m━━━━━━━━━━━━━━━━━━━━\u001b[0m\u001b[37m\u001b[0m \u001b[1m0s\u001b[0m 9ms/step - loss: 0.3973 - mean_absolute_percentage_error: 28.2778 - val_loss: 0.3514 - val_mean_absolute_percentage_error: 27.7646\n",
      "Epoch 81/200\n",
      "\u001b[1m5/5\u001b[0m \u001b[32m━━━━━━━━━━━━━━━━━━━━\u001b[0m\u001b[37m\u001b[0m \u001b[1m0s\u001b[0m 12ms/step - loss: 0.4264 - mean_absolute_percentage_error: 32.5631 - val_loss: 0.3574 - val_mean_absolute_percentage_error: 28.0414\n",
      "Epoch 82/200\n",
      "\u001b[1m5/5\u001b[0m \u001b[32m━━━━━━━━━━━━━━━━━━━━\u001b[0m\u001b[37m\u001b[0m \u001b[1m0s\u001b[0m 10ms/step - loss: 0.3215 - mean_absolute_percentage_error: 26.3914 - val_loss: 0.3427 - val_mean_absolute_percentage_error: 27.0919\n",
      "Epoch 83/200\n",
      "\u001b[1m5/5\u001b[0m \u001b[32m━━━━━━━━━━━━━━━━━━━━\u001b[0m\u001b[37m\u001b[0m \u001b[1m0s\u001b[0m 13ms/step - loss: 0.4340 - mean_absolute_percentage_error: 32.0642 - val_loss: 0.3746 - val_mean_absolute_percentage_error: 29.2521\n",
      "Epoch 84/200\n",
      "\u001b[1m5/5\u001b[0m \u001b[32m━━━━━━━━━━━━━━━━━━━━\u001b[0m\u001b[37m\u001b[0m \u001b[1m0s\u001b[0m 9ms/step - loss: 0.4051 - mean_absolute_percentage_error: 30.0166 - val_loss: 0.3857 - val_mean_absolute_percentage_error: 30.2585\n",
      "Epoch 85/200\n",
      "\u001b[1m5/5\u001b[0m \u001b[32m━━━━━━━━━━━━━━━━━━━━\u001b[0m\u001b[37m\u001b[0m \u001b[1m0s\u001b[0m 9ms/step - loss: 0.4305 - mean_absolute_percentage_error: 32.1017 - val_loss: 0.3775 - val_mean_absolute_percentage_error: 29.3914\n",
      "Epoch 86/200\n",
      "\u001b[1m5/5\u001b[0m \u001b[32m━━━━━━━━━━━━━━━━━━━━\u001b[0m\u001b[37m\u001b[0m \u001b[1m0s\u001b[0m 12ms/step - loss: 0.4277 - mean_absolute_percentage_error: 28.0973 - val_loss: 0.3506 - val_mean_absolute_percentage_error: 27.5420\n",
      "Epoch 87/200\n",
      "\u001b[1m5/5\u001b[0m \u001b[32m━━━━━━━━━━━━━━━━━━━━\u001b[0m\u001b[37m\u001b[0m \u001b[1m0s\u001b[0m 9ms/step - loss: 0.4507 - mean_absolute_percentage_error: 32.8333 - val_loss: 0.3332 - val_mean_absolute_percentage_error: 26.0964\n",
      "Epoch 88/200\n",
      "\u001b[1m5/5\u001b[0m \u001b[32m━━━━━━━━━━━━━━━━━━━━\u001b[0m\u001b[37m\u001b[0m \u001b[1m0s\u001b[0m 13ms/step - loss: 0.3599 - mean_absolute_percentage_error: 29.5070 - val_loss: 0.3674 - val_mean_absolute_percentage_error: 28.6400\n",
      "Epoch 89/200\n",
      "\u001b[1m5/5\u001b[0m \u001b[32m━━━━━━━━━━━━━━━━━━━━\u001b[0m\u001b[37m\u001b[0m \u001b[1m0s\u001b[0m 13ms/step - loss: 0.4186 - mean_absolute_percentage_error: 29.8411 - val_loss: 0.3714 - val_mean_absolute_percentage_error: 28.8791\n",
      "Epoch 90/200\n",
      "\u001b[1m5/5\u001b[0m \u001b[32m━━━━━━━━━━━━━━━━━━━━\u001b[0m\u001b[37m\u001b[0m \u001b[1m0s\u001b[0m 13ms/step - loss: 0.4004 - mean_absolute_percentage_error: 29.1946 - val_loss: 0.3612 - val_mean_absolute_percentage_error: 28.3989\n",
      "Epoch 91/200\n",
      "\u001b[1m5/5\u001b[0m \u001b[32m━━━━━━━━━━━━━━━━━━━━\u001b[0m\u001b[37m\u001b[0m \u001b[1m0s\u001b[0m 12ms/step - loss: 0.4362 - mean_absolute_percentage_error: 30.8578 - val_loss: 0.3442 - val_mean_absolute_percentage_error: 27.2897\n",
      "Epoch 92/200\n",
      "\u001b[1m5/5\u001b[0m \u001b[32m━━━━━━━━━━━━━━━━━━━━\u001b[0m\u001b[37m\u001b[0m \u001b[1m0s\u001b[0m 12ms/step - loss: 0.3666 - mean_absolute_percentage_error: 29.7125 - val_loss: 0.3440 - val_mean_absolute_percentage_error: 27.3416\n",
      "Epoch 93/200\n",
      "\u001b[1m5/5\u001b[0m \u001b[32m━━━━━━━━━━━━━━━━━━━━\u001b[0m\u001b[37m\u001b[0m \u001b[1m0s\u001b[0m 9ms/step - loss: 0.4637 - mean_absolute_percentage_error: 34.0560 - val_loss: 0.3471 - val_mean_absolute_percentage_error: 27.6280\n",
      "Epoch 94/200\n",
      "\u001b[1m5/5\u001b[0m \u001b[32m━━━━━━━━━━━━━━━━━━━━\u001b[0m\u001b[37m\u001b[0m \u001b[1m0s\u001b[0m 14ms/step - loss: 0.3726 - mean_absolute_percentage_error: 28.6785 - val_loss: 0.3792 - val_mean_absolute_percentage_error: 29.7628\n",
      "Epoch 95/200\n",
      "\u001b[1m5/5\u001b[0m \u001b[32m━━━━━━━━━━━━━━━━━━━━\u001b[0m\u001b[37m\u001b[0m \u001b[1m0s\u001b[0m 12ms/step - loss: 0.3805 - mean_absolute_percentage_error: 28.3789 - val_loss: 0.3929 - val_mean_absolute_percentage_error: 30.7351\n",
      "Epoch 96/200\n",
      "\u001b[1m5/5\u001b[0m \u001b[32m━━━━━━━━━━━━━━━━━━━━\u001b[0m\u001b[37m\u001b[0m \u001b[1m0s\u001b[0m 11ms/step - loss: 0.4011 - mean_absolute_percentage_error: 29.4805 - val_loss: 0.3901 - val_mean_absolute_percentage_error: 30.5612\n",
      "Epoch 97/200\n",
      "\u001b[1m5/5\u001b[0m \u001b[32m━━━━━━━━━━━━━━━━━━━━\u001b[0m\u001b[37m\u001b[0m \u001b[1m0s\u001b[0m 10ms/step - loss: 0.3828 - mean_absolute_percentage_error: 32.1878 - val_loss: 0.3742 - val_mean_absolute_percentage_error: 29.4159\n",
      "Epoch 98/200\n",
      "\u001b[1m5/5\u001b[0m \u001b[32m━━━━━━━━━━━━━━━━━━━━\u001b[0m\u001b[37m\u001b[0m \u001b[1m0s\u001b[0m 10ms/step - loss: 0.3902 - mean_absolute_percentage_error: 27.9680 - val_loss: 0.3631 - val_mean_absolute_percentage_error: 28.7457\n",
      "Epoch 99/200\n",
      "\u001b[1m5/5\u001b[0m \u001b[32m━━━━━━━━━━━━━━━━━━━━\u001b[0m\u001b[37m\u001b[0m \u001b[1m0s\u001b[0m 13ms/step - loss: 0.3890 - mean_absolute_percentage_error: 29.7588 - val_loss: 0.3236 - val_mean_absolute_percentage_error: 26.0458\n",
      "Epoch 100/200\n",
      "\u001b[1m5/5\u001b[0m \u001b[32m━━━━━━━━━━━━━━━━━━━━\u001b[0m\u001b[37m\u001b[0m \u001b[1m0s\u001b[0m 12ms/step - loss: 0.3953 - mean_absolute_percentage_error: 31.2685 - val_loss: 0.3226 - val_mean_absolute_percentage_error: 25.8993\n",
      "Epoch 101/200\n",
      "\u001b[1m5/5\u001b[0m \u001b[32m━━━━━━━━━━━━━━━━━━━━\u001b[0m\u001b[37m\u001b[0m \u001b[1m0s\u001b[0m 13ms/step - loss: 0.4039 - mean_absolute_percentage_error: 30.3330 - val_loss: 0.3421 - val_mean_absolute_percentage_error: 27.2277\n",
      "Epoch 102/200\n",
      "\u001b[1m5/5\u001b[0m \u001b[32m━━━━━━━━━━━━━━━━━━━━\u001b[0m\u001b[37m\u001b[0m \u001b[1m0s\u001b[0m 13ms/step - loss: 0.4414 - mean_absolute_percentage_error: 32.9775 - val_loss: 0.3681 - val_mean_absolute_percentage_error: 29.1346\n",
      "Epoch 103/200\n",
      "\u001b[1m5/5\u001b[0m \u001b[32m━━━━━━━━━━━━━━━━━━━━\u001b[0m\u001b[37m\u001b[0m \u001b[1m0s\u001b[0m 13ms/step - loss: 0.4250 - mean_absolute_percentage_error: 30.6620 - val_loss: 0.3640 - val_mean_absolute_percentage_error: 28.6950\n",
      "Epoch 104/200\n",
      "\u001b[1m5/5\u001b[0m \u001b[32m━━━━━━━━━━━━━━━━━━━━\u001b[0m\u001b[37m\u001b[0m \u001b[1m0s\u001b[0m 12ms/step - loss: 0.4474 - mean_absolute_percentage_error: 31.5325 - val_loss: 0.3614 - val_mean_absolute_percentage_error: 28.8177\n",
      "Epoch 105/200\n",
      "\u001b[1m5/5\u001b[0m \u001b[32m━━━━━━━━━━━━━━━━━━━━\u001b[0m\u001b[37m\u001b[0m \u001b[1m0s\u001b[0m 12ms/step - loss: 0.5263 - mean_absolute_percentage_error: 36.4144 - val_loss: 0.3684 - val_mean_absolute_percentage_error: 29.2157\n",
      "Epoch 106/200\n",
      "\u001b[1m5/5\u001b[0m \u001b[32m━━━━━━━━━━━━━━━━━━━━\u001b[0m\u001b[37m\u001b[0m \u001b[1m0s\u001b[0m 13ms/step - loss: 0.4700 - mean_absolute_percentage_error: 32.5002 - val_loss: 0.4034 - val_mean_absolute_percentage_error: 32.5223\n",
      "Epoch 107/200\n",
      "\u001b[1m5/5\u001b[0m \u001b[32m━━━━━━━━━━━━━━━━━━━━\u001b[0m\u001b[37m\u001b[0m \u001b[1m0s\u001b[0m 13ms/step - loss: 0.3975 - mean_absolute_percentage_error: 31.5442 - val_loss: 0.3370 - val_mean_absolute_percentage_error: 26.8989\n",
      "Epoch 108/200\n",
      "\u001b[1m5/5\u001b[0m \u001b[32m━━━━━━━━━━━━━━━━━━━━\u001b[0m\u001b[37m\u001b[0m \u001b[1m0s\u001b[0m 25ms/step - loss: 0.4387 - mean_absolute_percentage_error: 31.7749 - val_loss: 0.3580 - val_mean_absolute_percentage_error: 28.6187\n",
      "Epoch 109/200\n",
      "\u001b[1m5/5\u001b[0m \u001b[32m━━━━━━━━━━━━━━━━━━━━\u001b[0m\u001b[37m\u001b[0m \u001b[1m0s\u001b[0m 12ms/step - loss: 0.4635 - mean_absolute_percentage_error: 36.0253 - val_loss: 0.3745 - val_mean_absolute_percentage_error: 29.4860\n",
      "Epoch 110/200\n",
      "\u001b[1m5/5\u001b[0m \u001b[32m━━━━━━━━━━━━━━━━━━━━\u001b[0m\u001b[37m\u001b[0m \u001b[1m0s\u001b[0m 12ms/step - loss: 0.4824 - mean_absolute_percentage_error: 36.0763 - val_loss: 0.3735 - val_mean_absolute_percentage_error: 29.3132\n",
      "Epoch 111/200\n",
      "\u001b[1m5/5\u001b[0m \u001b[32m━━━━━━━━━━━━━━━━━━━━\u001b[0m\u001b[37m\u001b[0m \u001b[1m0s\u001b[0m 11ms/step - loss: 0.3991 - mean_absolute_percentage_error: 27.7040 - val_loss: 0.3883 - val_mean_absolute_percentage_error: 30.5722\n",
      "Epoch 112/200\n",
      "\u001b[1m5/5\u001b[0m \u001b[32m━━━━━━━━━━━━━━━━━━━━\u001b[0m\u001b[37m\u001b[0m \u001b[1m0s\u001b[0m 9ms/step - loss: 0.4586 - mean_absolute_percentage_error: 32.9697 - val_loss: 0.3844 - val_mean_absolute_percentage_error: 30.0914\n",
      "Epoch 113/200\n",
      "\u001b[1m5/5\u001b[0m \u001b[32m━━━━━━━━━━━━━━━━━━━━\u001b[0m\u001b[37m\u001b[0m \u001b[1m0s\u001b[0m 14ms/step - loss: 0.3970 - mean_absolute_percentage_error: 31.1425 - val_loss: 0.3850 - val_mean_absolute_percentage_error: 30.4466\n",
      "Epoch 114/200\n",
      "\u001b[1m5/5\u001b[0m \u001b[32m━━━━━━━━━━━━━━━━━━━━\u001b[0m\u001b[37m\u001b[0m \u001b[1m0s\u001b[0m 13ms/step - loss: 0.3623 - mean_absolute_percentage_error: 27.5598 - val_loss: 0.3657 - val_mean_absolute_percentage_error: 28.7599\n",
      "Epoch 115/200\n",
      "\u001b[1m5/5\u001b[0m \u001b[32m━━━━━━━━━━━━━━━━━━━━\u001b[0m\u001b[37m\u001b[0m \u001b[1m0s\u001b[0m 16ms/step - loss: 0.3903 - mean_absolute_percentage_error: 29.2727 - val_loss: 0.3480 - val_mean_absolute_percentage_error: 27.6070\n",
      "Epoch 116/200\n",
      "\u001b[1m5/5\u001b[0m \u001b[32m━━━━━━━━━━━━━━━━━━━━\u001b[0m\u001b[37m\u001b[0m \u001b[1m0s\u001b[0m 11ms/step - loss: 0.4006 - mean_absolute_percentage_error: 30.2040 - val_loss: 0.3514 - val_mean_absolute_percentage_error: 27.7199\n",
      "Epoch 117/200\n",
      "\u001b[1m5/5\u001b[0m \u001b[32m━━━━━━━━━━━━━━━━━━━━\u001b[0m\u001b[37m\u001b[0m \u001b[1m0s\u001b[0m 11ms/step - loss: 0.4109 - mean_absolute_percentage_error: 30.3386 - val_loss: 0.3527 - val_mean_absolute_percentage_error: 27.6197\n",
      "Epoch 118/200\n",
      "\u001b[1m5/5\u001b[0m \u001b[32m━━━━━━━━━━━━━━━━━━━━\u001b[0m\u001b[37m\u001b[0m \u001b[1m0s\u001b[0m 11ms/step - loss: 0.3956 - mean_absolute_percentage_error: 27.0045 - val_loss: 0.3699 - val_mean_absolute_percentage_error: 28.9548\n",
      "Epoch 119/200\n",
      "\u001b[1m5/5\u001b[0m \u001b[32m━━━━━━━━━━━━━━━━━━━━\u001b[0m\u001b[37m\u001b[0m \u001b[1m0s\u001b[0m 13ms/step - loss: 0.5007 - mean_absolute_percentage_error: 37.8069 - val_loss: 0.3971 - val_mean_absolute_percentage_error: 30.7327\n",
      "Epoch 120/200\n",
      "\u001b[1m5/5\u001b[0m \u001b[32m━━━━━━━━━━━━━━━━━━━━\u001b[0m\u001b[37m\u001b[0m \u001b[1m0s\u001b[0m 11ms/step - loss: 0.4065 - mean_absolute_percentage_error: 28.2868 - val_loss: 0.3832 - val_mean_absolute_percentage_error: 29.8524\n",
      "Epoch 121/200\n",
      "\u001b[1m5/5\u001b[0m \u001b[32m━━━━━━━━━━━━━━━━━━━━\u001b[0m\u001b[37m\u001b[0m \u001b[1m0s\u001b[0m 12ms/step - loss: 0.4220 - mean_absolute_percentage_error: 30.0888 - val_loss: 0.3722 - val_mean_absolute_percentage_error: 29.3013\n",
      "Epoch 122/200\n",
      "\u001b[1m5/5\u001b[0m \u001b[32m━━━━━━━━━━━━━━━━━━━━\u001b[0m\u001b[37m\u001b[0m \u001b[1m0s\u001b[0m 12ms/step - loss: 0.3679 - mean_absolute_percentage_error: 26.1346 - val_loss: 0.3586 - val_mean_absolute_percentage_error: 28.2069\n",
      "Epoch 123/200\n",
      "\u001b[1m5/5\u001b[0m \u001b[32m━━━━━━━━━━━━━━━━━━━━\u001b[0m\u001b[37m\u001b[0m \u001b[1m0s\u001b[0m 12ms/step - loss: 0.3855 - mean_absolute_percentage_error: 29.0486 - val_loss: 0.3424 - val_mean_absolute_percentage_error: 27.2241\n",
      "Epoch 124/200\n",
      "\u001b[1m5/5\u001b[0m \u001b[32m━━━━━━━━━━━━━━━━━━━━\u001b[0m\u001b[37m\u001b[0m \u001b[1m0s\u001b[0m 12ms/step - loss: 0.4339 - mean_absolute_percentage_error: 29.7013 - val_loss: 0.3564 - val_mean_absolute_percentage_error: 27.9139\n",
      "Epoch 125/200\n",
      "\u001b[1m5/5\u001b[0m \u001b[32m━━━━━━━━━━━━━━━━━━━━\u001b[0m\u001b[37m\u001b[0m \u001b[1m0s\u001b[0m 10ms/step - loss: 0.4530 - mean_absolute_percentage_error: 34.1004 - val_loss: 0.3592 - val_mean_absolute_percentage_error: 27.8691\n",
      "Epoch 126/200\n",
      "\u001b[1m5/5\u001b[0m \u001b[32m━━━━━━━━━━━━━━━━━━━━\u001b[0m\u001b[37m\u001b[0m \u001b[1m0s\u001b[0m 14ms/step - loss: 0.4412 - mean_absolute_percentage_error: 33.4251 - val_loss: 0.3791 - val_mean_absolute_percentage_error: 29.4272\n",
      "Epoch 127/200\n",
      "\u001b[1m5/5\u001b[0m \u001b[32m━━━━━━━━━━━━━━━━━━━━\u001b[0m\u001b[37m\u001b[0m \u001b[1m0s\u001b[0m 12ms/step - loss: 0.4381 - mean_absolute_percentage_error: 31.0610 - val_loss: 0.3962 - val_mean_absolute_percentage_error: 30.5029\n",
      "Epoch 128/200\n",
      "\u001b[1m5/5\u001b[0m \u001b[32m━━━━━━━━━━━━━━━━━━━━\u001b[0m\u001b[37m\u001b[0m \u001b[1m0s\u001b[0m 10ms/step - loss: 0.3531 - mean_absolute_percentage_error: 26.3844 - val_loss: 0.3759 - val_mean_absolute_percentage_error: 29.1875\n",
      "Epoch 129/200\n",
      "\u001b[1m5/5\u001b[0m \u001b[32m━━━━━━━━━━━━━━━━━━━━\u001b[0m\u001b[37m\u001b[0m \u001b[1m0s\u001b[0m 12ms/step - loss: 0.3857 - mean_absolute_percentage_error: 28.1889 - val_loss: 0.3645 - val_mean_absolute_percentage_error: 28.5103\n",
      "Epoch 130/200\n",
      "\u001b[1m5/5\u001b[0m \u001b[32m━━━━━━━━━━━━━━━━━━━━\u001b[0m\u001b[37m\u001b[0m \u001b[1m0s\u001b[0m 12ms/step - loss: 0.3899 - mean_absolute_percentage_error: 29.6821 - val_loss: 0.3465 - val_mean_absolute_percentage_error: 27.4005\n",
      "Epoch 131/200\n",
      "\u001b[1m5/5\u001b[0m \u001b[32m━━━━━━━━━━━━━━━━━━━━\u001b[0m\u001b[37m\u001b[0m \u001b[1m0s\u001b[0m 13ms/step - loss: 0.3860 - mean_absolute_percentage_error: 29.5602 - val_loss: 0.3646 - val_mean_absolute_percentage_error: 28.5607\n",
      "Epoch 132/200\n",
      "\u001b[1m5/5\u001b[0m \u001b[32m━━━━━━━━━━━━━━━━━━━━\u001b[0m\u001b[37m\u001b[0m \u001b[1m0s\u001b[0m 14ms/step - loss: 0.3856 - mean_absolute_percentage_error: 29.1576 - val_loss: 0.3868 - val_mean_absolute_percentage_error: 29.9421\n",
      "Epoch 133/200\n",
      "\u001b[1m5/5\u001b[0m \u001b[32m━━━━━━━━━━━━━━━━━━━━\u001b[0m\u001b[37m\u001b[0m \u001b[1m0s\u001b[0m 12ms/step - loss: 0.4342 - mean_absolute_percentage_error: 31.7251 - val_loss: 0.3935 - val_mean_absolute_percentage_error: 30.4612\n",
      "Epoch 134/200\n",
      "\u001b[1m5/5\u001b[0m \u001b[32m━━━━━━━━━━━━━━━━━━━━\u001b[0m\u001b[37m\u001b[0m \u001b[1m0s\u001b[0m 11ms/step - loss: 0.4425 - mean_absolute_percentage_error: 30.2986 - val_loss: 0.3751 - val_mean_absolute_percentage_error: 29.0961\n",
      "Epoch 135/200\n",
      "\u001b[1m5/5\u001b[0m \u001b[32m━━━━━━━━━━━━━━━━━━━━\u001b[0m\u001b[37m\u001b[0m \u001b[1m0s\u001b[0m 10ms/step - loss: 0.4070 - mean_absolute_percentage_error: 29.6477 - val_loss: 0.3781 - val_mean_absolute_percentage_error: 29.5846\n",
      "Epoch 136/200\n",
      "\u001b[1m5/5\u001b[0m \u001b[32m━━━━━━━━━━━━━━━━━━━━\u001b[0m\u001b[37m\u001b[0m \u001b[1m0s\u001b[0m 12ms/step - loss: 0.4226 - mean_absolute_percentage_error: 31.9369 - val_loss: 0.3754 - val_mean_absolute_percentage_error: 29.3321\n",
      "Epoch 137/200\n",
      "\u001b[1m5/5\u001b[0m \u001b[32m━━━━━━━━━━━━━━━━━━━━\u001b[0m\u001b[37m\u001b[0m \u001b[1m0s\u001b[0m 10ms/step - loss: 0.3876 - mean_absolute_percentage_error: 30.6367 - val_loss: 0.3875 - val_mean_absolute_percentage_error: 30.0755\n",
      "Epoch 138/200\n",
      "\u001b[1m5/5\u001b[0m \u001b[32m━━━━━━━━━━━━━━━━━━━━\u001b[0m\u001b[37m\u001b[0m \u001b[1m0s\u001b[0m 12ms/step - loss: 0.4339 - mean_absolute_percentage_error: 31.9351 - val_loss: 0.3647 - val_mean_absolute_percentage_error: 28.5851\n",
      "Epoch 139/200\n",
      "\u001b[1m5/5\u001b[0m \u001b[32m━━━━━━━━━━━━━━━━━━━━\u001b[0m\u001b[37m\u001b[0m \u001b[1m0s\u001b[0m 12ms/step - loss: 0.4748 - mean_absolute_percentage_error: 33.3275 - val_loss: 0.3652 - val_mean_absolute_percentage_error: 28.4618\n",
      "Epoch 140/200\n",
      "\u001b[1m5/5\u001b[0m \u001b[32m━━━━━━━━━━━━━━━━━━━━\u001b[0m\u001b[37m\u001b[0m \u001b[1m0s\u001b[0m 12ms/step - loss: 0.4792 - mean_absolute_percentage_error: 35.5789 - val_loss: 0.3898 - val_mean_absolute_percentage_error: 30.3584\n",
      "Epoch 141/200\n",
      "\u001b[1m5/5\u001b[0m \u001b[32m━━━━━━━━━━━━━━━━━━━━\u001b[0m\u001b[37m\u001b[0m \u001b[1m0s\u001b[0m 12ms/step - loss: 0.4204 - mean_absolute_percentage_error: 29.7683 - val_loss: 0.3825 - val_mean_absolute_percentage_error: 29.7986\n",
      "Epoch 142/200\n",
      "\u001b[1m5/5\u001b[0m \u001b[32m━━━━━━━━━━━━━━━━━━━━\u001b[0m\u001b[37m\u001b[0m \u001b[1m0s\u001b[0m 11ms/step - loss: 0.4177 - mean_absolute_percentage_error: 29.1969 - val_loss: 0.3658 - val_mean_absolute_percentage_error: 28.7618\n",
      "Epoch 143/200\n",
      "\u001b[1m5/5\u001b[0m \u001b[32m━━━━━━━━━━━━━━━━━━━━\u001b[0m\u001b[37m\u001b[0m \u001b[1m0s\u001b[0m 10ms/step - loss: 0.5247 - mean_absolute_percentage_error: 34.9860 - val_loss: 0.3728 - val_mean_absolute_percentage_error: 29.0359\n",
      "Epoch 144/200\n",
      "\u001b[1m5/5\u001b[0m \u001b[32m━━━━━━━━━━━━━━━━━━━━\u001b[0m\u001b[37m\u001b[0m \u001b[1m0s\u001b[0m 14ms/step - loss: 0.3709 - mean_absolute_percentage_error: 28.7640 - val_loss: 0.3797 - val_mean_absolute_percentage_error: 29.4117\n",
      "Epoch 145/200\n",
      "\u001b[1m5/5\u001b[0m \u001b[32m━━━━━━━━━━━━━━━━━━━━\u001b[0m\u001b[37m\u001b[0m \u001b[1m0s\u001b[0m 13ms/step - loss: 0.3907 - mean_absolute_percentage_error: 28.1374 - val_loss: 0.3666 - val_mean_absolute_percentage_error: 28.4137\n",
      "Epoch 146/200\n",
      "\u001b[1m5/5\u001b[0m \u001b[32m━━━━━━━━━━━━━━━━━━━━\u001b[0m\u001b[37m\u001b[0m \u001b[1m0s\u001b[0m 13ms/step - loss: 0.4129 - mean_absolute_percentage_error: 31.9962 - val_loss: 0.3474 - val_mean_absolute_percentage_error: 27.2717\n",
      "Epoch 147/200\n",
      "\u001b[1m5/5\u001b[0m \u001b[32m━━━━━━━━━━━━━━━━━━━━\u001b[0m\u001b[37m\u001b[0m \u001b[1m0s\u001b[0m 12ms/step - loss: 0.3507 - mean_absolute_percentage_error: 26.9938 - val_loss: 0.3480 - val_mean_absolute_percentage_error: 27.3816\n",
      "Epoch 148/200\n",
      "\u001b[1m5/5\u001b[0m \u001b[32m━━━━━━━━━━━━━━━━━━━━\u001b[0m\u001b[37m\u001b[0m \u001b[1m0s\u001b[0m 12ms/step - loss: 0.4396 - mean_absolute_percentage_error: 31.3600 - val_loss: 0.3648 - val_mean_absolute_percentage_error: 28.3631\n",
      "Epoch 149/200\n",
      "\u001b[1m5/5\u001b[0m \u001b[32m━━━━━━━━━━━━━━━━━━━━\u001b[0m\u001b[37m\u001b[0m \u001b[1m0s\u001b[0m 13ms/step - loss: 0.4580 - mean_absolute_percentage_error: 31.3091 - val_loss: 0.3742 - val_mean_absolute_percentage_error: 28.9598\n",
      "Epoch 150/200\n",
      "\u001b[1m5/5\u001b[0m \u001b[32m━━━━━━━━━━━━━━━━━━━━\u001b[0m\u001b[37m\u001b[0m \u001b[1m0s\u001b[0m 12ms/step - loss: 0.3840 - mean_absolute_percentage_error: 27.5308 - val_loss: 0.3828 - val_mean_absolute_percentage_error: 29.5007\n",
      "Epoch 151/200\n",
      "\u001b[1m5/5\u001b[0m \u001b[32m━━━━━━━━━━━━━━━━━━━━\u001b[0m\u001b[37m\u001b[0m \u001b[1m0s\u001b[0m 13ms/step - loss: 0.3654 - mean_absolute_percentage_error: 28.2973 - val_loss: 0.3712 - val_mean_absolute_percentage_error: 28.6773\n",
      "Epoch 152/200\n",
      "\u001b[1m5/5\u001b[0m \u001b[32m━━━━━━━━━━━━━━━━━━━━\u001b[0m\u001b[37m\u001b[0m \u001b[1m0s\u001b[0m 12ms/step - loss: 0.4392 - mean_absolute_percentage_error: 28.3069 - val_loss: 0.3530 - val_mean_absolute_percentage_error: 27.2363\n",
      "Epoch 153/200\n",
      "\u001b[1m5/5\u001b[0m \u001b[32m━━━━━━━━━━━━━━━━━━━━\u001b[0m\u001b[37m\u001b[0m \u001b[1m0s\u001b[0m 12ms/step - loss: 0.3607 - mean_absolute_percentage_error: 28.8744 - val_loss: 0.3484 - val_mean_absolute_percentage_error: 27.1594\n",
      "Epoch 154/200\n",
      "\u001b[1m5/5\u001b[0m \u001b[32m━━━━━━━━━━━━━━━━━━━━\u001b[0m\u001b[37m\u001b[0m \u001b[1m0s\u001b[0m 11ms/step - loss: 0.4141 - mean_absolute_percentage_error: 29.8334 - val_loss: 0.3347 - val_mean_absolute_percentage_error: 26.2368\n",
      "Epoch 155/200\n",
      "\u001b[1m5/5\u001b[0m \u001b[32m━━━━━━━━━━━━━━━━━━━━\u001b[0m\u001b[37m\u001b[0m \u001b[1m0s\u001b[0m 11ms/step - loss: 0.3815 - mean_absolute_percentage_error: 29.6595 - val_loss: 0.3438 - val_mean_absolute_percentage_error: 26.8223\n",
      "Epoch 156/200\n",
      "\u001b[1m5/5\u001b[0m \u001b[32m━━━━━━━━━━━━━━━━━━━━\u001b[0m\u001b[37m\u001b[0m \u001b[1m0s\u001b[0m 11ms/step - loss: 0.3856 - mean_absolute_percentage_error: 29.0655 - val_loss: 0.3780 - val_mean_absolute_percentage_error: 29.2813\n",
      "Epoch 157/200\n",
      "\u001b[1m5/5\u001b[0m \u001b[32m━━━━━━━━━━━━━━━━━━━━\u001b[0m\u001b[37m\u001b[0m \u001b[1m0s\u001b[0m 13ms/step - loss: 0.4035 - mean_absolute_percentage_error: 29.8162 - val_loss: 0.3754 - val_mean_absolute_percentage_error: 28.7294\n",
      "Epoch 158/200\n",
      "\u001b[1m5/5\u001b[0m \u001b[32m━━━━━━━━━━━━━━━━━━━━\u001b[0m\u001b[37m\u001b[0m \u001b[1m0s\u001b[0m 12ms/step - loss: 0.3755 - mean_absolute_percentage_error: 28.5787 - val_loss: 0.3915 - val_mean_absolute_percentage_error: 30.4519\n",
      "Epoch 159/200\n",
      "\u001b[1m5/5\u001b[0m \u001b[32m━━━━━━━━━━━━━━━━━━━━\u001b[0m\u001b[37m\u001b[0m \u001b[1m0s\u001b[0m 24ms/step - loss: 0.4086 - mean_absolute_percentage_error: 31.4146 - val_loss: 0.3306 - val_mean_absolute_percentage_error: 25.8869\n",
      "Epoch 160/200\n",
      "\u001b[1m5/5\u001b[0m \u001b[32m━━━━━━━━━━━━━━━━━━━━\u001b[0m\u001b[37m\u001b[0m \u001b[1m0s\u001b[0m 14ms/step - loss: 0.3745 - mean_absolute_percentage_error: 29.9818 - val_loss: 0.3597 - val_mean_absolute_percentage_error: 28.3787\n",
      "Epoch 161/200\n",
      "\u001b[1m5/5\u001b[0m \u001b[32m━━━━━━━━━━━━━━━━━━━━\u001b[0m\u001b[37m\u001b[0m \u001b[1m0s\u001b[0m 12ms/step - loss: 0.3806 - mean_absolute_percentage_error: 28.6349 - val_loss: 0.3894 - val_mean_absolute_percentage_error: 30.5550\n",
      "Epoch 162/200\n",
      "\u001b[1m5/5\u001b[0m \u001b[32m━━━━━━━━━━━━━━━━━━━━\u001b[0m\u001b[37m\u001b[0m \u001b[1m0s\u001b[0m 12ms/step - loss: 0.4355 - mean_absolute_percentage_error: 31.6636 - val_loss: 0.3816 - val_mean_absolute_percentage_error: 29.8617\n",
      "Epoch 163/200\n",
      "\u001b[1m5/5\u001b[0m \u001b[32m━━━━━━━━━━━━━━━━━━━━\u001b[0m\u001b[37m\u001b[0m \u001b[1m0s\u001b[0m 14ms/step - loss: 0.4414 - mean_absolute_percentage_error: 31.1948 - val_loss: 0.3702 - val_mean_absolute_percentage_error: 29.0922\n",
      "Epoch 164/200\n",
      "\u001b[1m5/5\u001b[0m \u001b[32m━━━━━━━━━━━━━━━━━━━━\u001b[0m\u001b[37m\u001b[0m \u001b[1m0s\u001b[0m 14ms/step - loss: 0.4684 - mean_absolute_percentage_error: 34.1808 - val_loss: 0.3772 - val_mean_absolute_percentage_error: 29.5874\n",
      "Epoch 165/200\n",
      "\u001b[1m5/5\u001b[0m \u001b[32m━━━━━━━━━━━━━━━━━━━━\u001b[0m\u001b[37m\u001b[0m \u001b[1m0s\u001b[0m 13ms/step - loss: 0.4611 - mean_absolute_percentage_error: 31.9069 - val_loss: 0.3769 - val_mean_absolute_percentage_error: 29.4319\n",
      "Epoch 166/200\n",
      "\u001b[1m5/5\u001b[0m \u001b[32m━━━━━━━━━━━━━━━━━━━━\u001b[0m\u001b[37m\u001b[0m \u001b[1m0s\u001b[0m 12ms/step - loss: 0.4148 - mean_absolute_percentage_error: 32.5961 - val_loss: 0.3784 - val_mean_absolute_percentage_error: 29.3196\n",
      "Epoch 167/200\n",
      "\u001b[1m5/5\u001b[0m \u001b[32m━━━━━━━━━━━━━━━━━━━━\u001b[0m\u001b[37m\u001b[0m \u001b[1m0s\u001b[0m 11ms/step - loss: 0.3863 - mean_absolute_percentage_error: 27.8002 - val_loss: 0.3584 - val_mean_absolute_percentage_error: 27.8902\n",
      "Epoch 168/200\n",
      "\u001b[1m5/5\u001b[0m \u001b[32m━━━━━━━━━━━━━━━━━━━━\u001b[0m\u001b[37m\u001b[0m \u001b[1m0s\u001b[0m 13ms/step - loss: 0.3976 - mean_absolute_percentage_error: 30.8744 - val_loss: 0.3873 - val_mean_absolute_percentage_error: 30.0692\n",
      "Epoch 169/200\n",
      "\u001b[1m5/5\u001b[0m \u001b[32m━━━━━━━━━━━━━━━━━━━━\u001b[0m\u001b[37m\u001b[0m \u001b[1m0s\u001b[0m 14ms/step - loss: 0.4191 - mean_absolute_percentage_error: 30.2769 - val_loss: 0.3888 - val_mean_absolute_percentage_error: 29.8764\n",
      "Epoch 170/200\n",
      "\u001b[1m5/5\u001b[0m \u001b[32m━━━━━━━━━━━━━━━━━━━━\u001b[0m\u001b[37m\u001b[0m \u001b[1m0s\u001b[0m 12ms/step - loss: 0.3847 - mean_absolute_percentage_error: 28.0831 - val_loss: 0.3902 - val_mean_absolute_percentage_error: 29.9905\n",
      "Epoch 171/200\n",
      "\u001b[1m5/5\u001b[0m \u001b[32m━━━━━━━━━━━━━━━━━━━━\u001b[0m\u001b[37m\u001b[0m \u001b[1m0s\u001b[0m 11ms/step - loss: 0.4442 - mean_absolute_percentage_error: 32.6056 - val_loss: 0.3854 - val_mean_absolute_percentage_error: 29.7994\n",
      "Epoch 172/200\n",
      "\u001b[1m5/5\u001b[0m \u001b[32m━━━━━━━━━━━━━━━━━━━━\u001b[0m\u001b[37m\u001b[0m \u001b[1m0s\u001b[0m 10ms/step - loss: 0.4776 - mean_absolute_percentage_error: 31.8392 - val_loss: 0.3685 - val_mean_absolute_percentage_error: 28.6643\n",
      "Epoch 173/200\n",
      "\u001b[1m5/5\u001b[0m \u001b[32m━━━━━━━━━━━━━━━━━━━━\u001b[0m\u001b[37m\u001b[0m \u001b[1m0s\u001b[0m 13ms/step - loss: 0.4122 - mean_absolute_percentage_error: 29.4325 - val_loss: 0.3484 - val_mean_absolute_percentage_error: 27.4495\n",
      "Epoch 174/200\n",
      "\u001b[1m5/5\u001b[0m \u001b[32m━━━━━━━━━━━━━━━━━━━━\u001b[0m\u001b[37m\u001b[0m \u001b[1m0s\u001b[0m 11ms/step - loss: 0.3785 - mean_absolute_percentage_error: 27.1981 - val_loss: 0.3595 - val_mean_absolute_percentage_error: 28.5727\n",
      "Epoch 175/200\n",
      "\u001b[1m5/5\u001b[0m \u001b[32m━━━━━━━━━━━━━━━━━━━━\u001b[0m\u001b[37m\u001b[0m \u001b[1m0s\u001b[0m 12ms/step - loss: 0.4370 - mean_absolute_percentage_error: 31.9857 - val_loss: 0.3696 - val_mean_absolute_percentage_error: 28.7126\n",
      "Epoch 176/200\n",
      "\u001b[1m5/5\u001b[0m \u001b[32m━━━━━━━━━━━━━━━━━━━━\u001b[0m\u001b[37m\u001b[0m \u001b[1m0s\u001b[0m 11ms/step - loss: 0.4032 - mean_absolute_percentage_error: 31.2383 - val_loss: 0.3964 - val_mean_absolute_percentage_error: 30.4376\n",
      "Epoch 177/200\n",
      "\u001b[1m5/5\u001b[0m \u001b[32m━━━━━━━━━━━━━━━━━━━━\u001b[0m\u001b[37m\u001b[0m \u001b[1m0s\u001b[0m 14ms/step - loss: 0.4022 - mean_absolute_percentage_error: 29.1702 - val_loss: 0.3806 - val_mean_absolute_percentage_error: 29.1731\n",
      "Epoch 178/200\n",
      "\u001b[1m5/5\u001b[0m \u001b[32m━━━━━━━━━━━━━━━━━━━━\u001b[0m\u001b[37m\u001b[0m \u001b[1m0s\u001b[0m 11ms/step - loss: 0.3799 - mean_absolute_percentage_error: 27.1914 - val_loss: 0.3818 - val_mean_absolute_percentage_error: 29.4958\n",
      "Epoch 179/200\n",
      "\u001b[1m5/5\u001b[0m \u001b[32m━━━━━━━━━━━━━━━━━━━━\u001b[0m\u001b[37m\u001b[0m \u001b[1m0s\u001b[0m 9ms/step - loss: 0.3733 - mean_absolute_percentage_error: 26.8275 - val_loss: 0.3956 - val_mean_absolute_percentage_error: 30.3680\n",
      "Epoch 180/200\n",
      "\u001b[1m5/5\u001b[0m \u001b[32m━━━━━━━━━━━━━━━━━━━━\u001b[0m\u001b[37m\u001b[0m \u001b[1m0s\u001b[0m 11ms/step - loss: 0.3918 - mean_absolute_percentage_error: 28.7112 - val_loss: 0.4229 - val_mean_absolute_percentage_error: 32.6735\n",
      "Epoch 181/200\n",
      "\u001b[1m5/5\u001b[0m \u001b[32m━━━━━━━━━━━━━━━━━━━━\u001b[0m\u001b[37m\u001b[0m \u001b[1m0s\u001b[0m 14ms/step - loss: 0.4078 - mean_absolute_percentage_error: 29.1015 - val_loss: 0.3967 - val_mean_absolute_percentage_error: 30.4860\n",
      "Epoch 182/200\n",
      "\u001b[1m5/5\u001b[0m \u001b[32m━━━━━━━━━━━━━━━━━━━━\u001b[0m\u001b[37m\u001b[0m \u001b[1m0s\u001b[0m 13ms/step - loss: 0.4273 - mean_absolute_percentage_error: 29.3971 - val_loss: 0.3944 - val_mean_absolute_percentage_error: 30.4778\n",
      "Epoch 183/200\n",
      "\u001b[1m5/5\u001b[0m \u001b[32m━━━━━━━━━━━━━━━━━━━━\u001b[0m\u001b[37m\u001b[0m \u001b[1m0s\u001b[0m 11ms/step - loss: 0.3927 - mean_absolute_percentage_error: 29.3893 - val_loss: 0.3753 - val_mean_absolute_percentage_error: 28.7108\n",
      "Epoch 184/200\n",
      "\u001b[1m5/5\u001b[0m \u001b[32m━━━━━━━━━━━━━━━━━━━━\u001b[0m\u001b[37m\u001b[0m \u001b[1m0s\u001b[0m 14ms/step - loss: 0.3529 - mean_absolute_percentage_error: 25.3660 - val_loss: 0.3834 - val_mean_absolute_percentage_error: 29.4648\n",
      "Epoch 185/200\n",
      "\u001b[1m5/5\u001b[0m \u001b[32m━━━━━━━━━━━━━━━━━━━━\u001b[0m\u001b[37m\u001b[0m \u001b[1m0s\u001b[0m 10ms/step - loss: 0.4270 - mean_absolute_percentage_error: 31.5229 - val_loss: 0.4064 - val_mean_absolute_percentage_error: 30.9639\n",
      "Epoch 186/200\n",
      "\u001b[1m5/5\u001b[0m \u001b[32m━━━━━━━━━━━━━━━━━━━━\u001b[0m\u001b[37m\u001b[0m \u001b[1m0s\u001b[0m 13ms/step - loss: 0.3716 - mean_absolute_percentage_error: 27.6620 - val_loss: 0.3980 - val_mean_absolute_percentage_error: 30.3798\n",
      "Epoch 187/200\n",
      "\u001b[1m5/5\u001b[0m \u001b[32m━━━━━━━━━━━━━━━━━━━━\u001b[0m\u001b[37m\u001b[0m \u001b[1m0s\u001b[0m 11ms/step - loss: 0.4660 - mean_absolute_percentage_error: 30.6780 - val_loss: 0.3790 - val_mean_absolute_percentage_error: 28.9624\n",
      "Epoch 188/200\n",
      "\u001b[1m5/5\u001b[0m \u001b[32m━━━━━━━━━━━━━━━━━━━━\u001b[0m\u001b[37m\u001b[0m \u001b[1m0s\u001b[0m 13ms/step - loss: 0.3999 - mean_absolute_percentage_error: 30.7882 - val_loss: 0.3666 - val_mean_absolute_percentage_error: 28.0097\n",
      "Epoch 189/200\n",
      "\u001b[1m5/5\u001b[0m \u001b[32m━━━━━━━━━━━━━━━━━━━━\u001b[0m\u001b[37m\u001b[0m \u001b[1m0s\u001b[0m 11ms/step - loss: 0.4148 - mean_absolute_percentage_error: 28.5226 - val_loss: 0.3903 - val_mean_absolute_percentage_error: 29.5541\n",
      "Epoch 190/200\n",
      "\u001b[1m5/5\u001b[0m \u001b[32m━━━━━━━━━━━━━━━━━━━━\u001b[0m\u001b[37m\u001b[0m \u001b[1m0s\u001b[0m 13ms/step - loss: 0.3816 - mean_absolute_percentage_error: 28.4232 - val_loss: 0.3802 - val_mean_absolute_percentage_error: 28.9967\n",
      "Epoch 191/200\n",
      "\u001b[1m5/5\u001b[0m \u001b[32m━━━━━━━━━━━━━━━━━━━━\u001b[0m\u001b[37m\u001b[0m \u001b[1m0s\u001b[0m 13ms/step - loss: 0.3625 - mean_absolute_percentage_error: 29.0426 - val_loss: 0.3972 - val_mean_absolute_percentage_error: 30.5984\n",
      "Epoch 192/200\n",
      "\u001b[1m5/5\u001b[0m \u001b[32m━━━━━━━━━━━━━━━━━━━━\u001b[0m\u001b[37m\u001b[0m \u001b[1m0s\u001b[0m 13ms/step - loss: 0.4611 - mean_absolute_percentage_error: 30.1556 - val_loss: 0.3771 - val_mean_absolute_percentage_error: 29.1154\n",
      "Epoch 193/200\n",
      "\u001b[1m5/5\u001b[0m \u001b[32m━━━━━━━━━━━━━━━━━━━━\u001b[0m\u001b[37m\u001b[0m \u001b[1m0s\u001b[0m 24ms/step - loss: 0.4275 - mean_absolute_percentage_error: 30.4490 - val_loss: 0.3807 - val_mean_absolute_percentage_error: 29.4960\n",
      "Epoch 194/200\n",
      "\u001b[1m5/5\u001b[0m \u001b[32m━━━━━━━━━━━━━━━━━━━━\u001b[0m\u001b[37m\u001b[0m \u001b[1m0s\u001b[0m 12ms/step - loss: 0.3415 - mean_absolute_percentage_error: 25.5171 - val_loss: 0.3974 - val_mean_absolute_percentage_error: 30.4726\n",
      "Epoch 195/200\n",
      "\u001b[1m5/5\u001b[0m \u001b[32m━━━━━━━━━━━━━━━━━━━━\u001b[0m\u001b[37m\u001b[0m \u001b[1m0s\u001b[0m 13ms/step - loss: 0.3903 - mean_absolute_percentage_error: 28.2595 - val_loss: 0.4095 - val_mean_absolute_percentage_error: 31.3305\n",
      "Epoch 196/200\n",
      "\u001b[1m5/5\u001b[0m \u001b[32m━━━━━━━━━━━━━━━━━━━━\u001b[0m\u001b[37m\u001b[0m \u001b[1m0s\u001b[0m 13ms/step - loss: 0.3584 - mean_absolute_percentage_error: 26.8547 - val_loss: 0.4104 - val_mean_absolute_percentage_error: 31.4773\n",
      "Epoch 197/200\n",
      "\u001b[1m5/5\u001b[0m \u001b[32m━━━━━━━━━━━━━━━━━━━━\u001b[0m\u001b[37m\u001b[0m \u001b[1m0s\u001b[0m 13ms/step - loss: 0.4384 - mean_absolute_percentage_error: 30.8722 - val_loss: 0.3926 - val_mean_absolute_percentage_error: 29.9672\n",
      "Epoch 198/200\n",
      "\u001b[1m5/5\u001b[0m \u001b[32m━━━━━━━━━━━━━━━━━━━━\u001b[0m\u001b[37m\u001b[0m \u001b[1m0s\u001b[0m 11ms/step - loss: 0.4101 - mean_absolute_percentage_error: 30.4161 - val_loss: 0.3921 - val_mean_absolute_percentage_error: 29.8524\n",
      "Epoch 199/200\n",
      "\u001b[1m5/5\u001b[0m \u001b[32m━━━━━━━━━━━━━━━━━━━━\u001b[0m\u001b[37m\u001b[0m \u001b[1m0s\u001b[0m 12ms/step - loss: 0.4067 - mean_absolute_percentage_error: 28.3570 - val_loss: 0.3904 - val_mean_absolute_percentage_error: 29.6662\n",
      "Epoch 200/200\n",
      "\u001b[1m5/5\u001b[0m \u001b[32m━━━━━━━━━━━━━━━━━━━━\u001b[0m\u001b[37m\u001b[0m \u001b[1m0s\u001b[0m 21ms/step - loss: 0.3336 - mean_absolute_percentage_error: 24.1465 - val_loss: 0.3742 - val_mean_absolute_percentage_error: 28.6940\n"
     ]
    }
   ],
   "source": [
    "#@title training the model\n",
    "early_stopping = EarlyStopping(monitor='val_loss', patience=20, restore_best_weights=True)\n",
    "reduce_lr = ReduceLROnPlateau(monitor='val_loss', factor=0.9, patience=5, min_lr=0.00000001)\n",
    "\n",
    "history = rnn_model.fit(X_train_seq, y_train_seq, epochs=200, batch_size=32, validation_split=0.2, verbose=1)\n"
   ]
  },
  {
   "cell_type": "code",
   "execution_count": 45,
   "metadata": {},
   "outputs": [
    {
     "data": {
      "text/plain": [
       "<matplotlib.legend.Legend at 0x1b1c2a94a10>"
      ]
     },
     "execution_count": 45,
     "metadata": {},
     "output_type": "execute_result"
    },
    {
     "data": {
      "image/png": "[encoded data removed]",
      "text/plain": [
       "<Figure size 640x480 with 1 Axes>"
      ]
     },
     "metadata": {},
     "output_type": "display_data"
    }
   ],
   "source": [
    "#@title plot the loss function\n",
    "plt.plot(history.history['loss'], label='Training loss')\n",
    "plt.plot(history.history['val_loss'], label='Validation loss')\n",
    "plt.legend()"
   ]
  },
  {
   "cell_type": "code",
   "execution_count": 46,
   "metadata": {},
   "outputs": [
    {
     "name": "stdout",
     "output_type": "stream",
     "text": [
      "\u001b[1m6/6\u001b[0m \u001b[32m━━━━━━━━━━━━━━━━━━━━\u001b[0m\u001b[37m\u001b[0m \u001b[1m0s\u001b[0m 36ms/step\n",
      "\u001b[1m1/1\u001b[0m \u001b[32m━━━━━━━━━━━━━━━━━━━━\u001b[0m\u001b[37m\u001b[0m \u001b[1m0s\u001b[0m 39ms/step\n"
     ]
    },
    {
     "data": {
      "application/vnd.plotly.v1+json": {
       "config": {
        "plotlyServerURL": "https://plot.ly"
       },
       "data": [
        {
         "mode": "lines",
         "name": "Original Training Data",
         "type": "scatter",
         "x": [
          0,
          1,
          2,
          3,
          4,
          5,
          6,
          7,
          8,
          9,
          10,
          11,
          12,
          13,
          14,
          15,
          16,
          17,
          18,
          19,
          20,
          21,
          22,
          23,
          24,
          25,
          26,
          27,
          28,
          29,
          30,
          31,
          32,
          33,
          34,
          35,
          36,
          37,
          38,
          39,
          40,
          41,
          42,
          43,
          44,
          45,
          46,
          47,
          48,
          49,
          50,
          51,
          52,
          53,
          54,
          55,
          56,
          57,
          58,
          59,
          60,
          61,
          62,
          63,
          64,
          65,
          66,
          67,
          68,
          69,
          70,
          71,
          72,
          73,
          74,
          75,
          76,
          77,
          78,
          79,
          80,
          81,
          82,
          83,
          84,
          85,
          86,
          87,
          88,
          89,
          90,
          91,
          92,
          93,
          94,
          95,
          96,
          97,
          98,
          99,
          100,
          101,
          102,
          103,
          104,
          105,
          106,
          107,
          108,
          109,
          110,
          111,
          112,
          113,
          114,
          115,
          116,
          117,
          118,
          119,
          120,
          121,
          122,
          123,
          124,
          125,
          126,
          127,
          128,
          129,
          130,
          131,
          132,
          133,
          134,
          135,
          136,
          137,
          138,
          139,
          140,
          141,
          142,
          143,
          144,
          145,
          146,
          147,
          148,
          149,
          150,
          151,
          152,
          153,
          154,
          155,
          156,
          157,
          158,
          159,
          160,
          161,
          162,
          163,
          164,
          165,
          166,
          167,
          168,
          169,
          170,
          171,
          172,
          173,
          174,
          175,
          176,
          177,
          178,
          179,
          180,
          181,
          182,
          183,
          184,
          185
         ],
         "xaxis": "x",
         "y": [
          -0.006415968442644055,
          -0.25887686623226563,
          0.07773766415389646,
          -0.6515938183494547,
          -0.3991329205598331,
          -0.5674401857529142,
          -0.03446717930815756,
          -0.3430304988288061,
          -0.5113377640218871,
          -0.6235426074839412,
          -0.2308256553667521,
          -0.5393889748874007,
          -0.5954913966184276,
          -0.7357474509459953,
          -0.45523534229086016,
          -0.5954913966184276,
          -0.11862081190469807,
          -0.14667202277021157,
          -0.37108170969431964,
          -0.5674401857529142,
          -0.7637986618115087,
          -0.45523534229086016,
          -0.2308256553667521,
          -0.006415968442644055,
          -0.7357474509459953,
          -0.5674401857529142,
          -0.6515938183494547,
          -0.6796450292149682,
          -0.7637986618115087,
          -0.7357474509459953,
          -0.6235426074839412,
          -0.7918498726770222,
          -0.6235426074839412,
          -0.7076962400804817,
          -0.6515938183494547,
          -0.45523534229086016,
          -0.7918498726770222,
          -0.7918498726770222,
          -0.7918498726770222,
          -0.7918498726770222,
          -0.7918498726770222,
          -0.7918498726770222,
          -0.7918498726770222,
          -0.7918498726770222,
          -0.7918498726770222,
          -0.7918498726770222,
          -0.7637986618115087,
          -0.7637986618115087,
          -0.7918498726770222,
          -0.7076962400804817,
          -0.7918498726770222,
          -0.7918498726770222,
          -0.7918498726770222,
          -0.7918498726770222,
          -0.7918498726770222,
          -0.7637986618115087,
          -0.7918498726770222,
          -0.7918498726770222,
          -0.7918498726770222,
          -0.7918498726770222,
          -0.5113377640218871,
          -0.7918498726770222,
          -0.7918498726770222,
          -0.7357474509459953,
          -0.7918498726770222,
          -0.3991329205598331,
          -0.03446717930815756,
          -0.7637986618115087,
          -0.45523534229086016,
          -0.03446717930815756,
          -0.7357474509459953,
          0.13384008588492347,
          -0.7918498726770222,
          1.2839397313709773,
          -0.09056960103918457,
          -0.7918498726770222,
          5.239160463408381,
          -0.5393889748874007,
          -0.37108170969431964,
          1.4802982074295719,
          -0.14667202277021157,
          1.2839397313709773,
          0.8631715683882746,
          3.2475244919569226,
          0.498505827136599,
          1.4802982074295719,
          3.668292654939625,
          1.9571687921433014,
          -0.11862081190469807,
          1.1436836770434098,
          2.4620905877225443,
          -0.5113377640218871,
          2.4059881659915177,
          1.3961445748330312,
          0.9192739901193017,
          0.330198561943518,
          1.3961445748330312,
          1.9291175812777879,
          0.330198561943518,
          0.3021473510780045,
          0.610710670598653,
          0.9192739901193017,
          0.554608248867626,
          0.6948643031951935,
          1.2278373096399502,
          1.3400421531020041,
          -0.48328655315637364,
          0.35824977280903153,
          1.0595300444468692,
          1.9010663704122743,
          0.6387618814641666,
          1.3680933639675177,
          0.9192739901193017,
          2.938961172436274,
          2.2937833225294635,
          1.3680933639675177,
          0.6387618814641666,
          0.554608248867626,
          0.8351203575227611,
          0.6668130923296801,
          0.6948643031951935,
          0.13384008588492347,
          0.21799371848146398,
          0.1899425076159505,
          0.1899425076159505,
          0.02163524242286945,
          0.1899425076159505,
          -0.2308256553667521,
          -0.7637986618115087,
          -0.2027744445012386,
          -0.3991329205598331,
          -0.37108170969431964,
          -0.37108170969431964,
          -0.25887686623226563,
          -0.2308256553667521,
          -0.5393889748874007,
          -0.45523534229086016,
          -0.5954913966184276,
          -0.6515938183494547,
          -0.6515938183494547,
          -0.6796450292149682,
          -0.7357474509459953,
          -0.7637986618115087,
          -0.6235426074839412,
          -0.6796450292149682,
          -0.7637986618115087,
          -0.5674401857529142,
          -0.3991329205598331,
          -0.6796450292149682,
          -0.5674401857529142,
          -0.7076962400804817,
          -0.5393889748874007,
          -0.7076962400804817,
          -0.6515938183494547,
          -0.7637986618115087,
          -0.7637986618115087,
          -0.7637986618115087,
          -0.6796450292149682,
          0.02163524242286945,
          -0.7637986618115087,
          -0.7637986618115087,
          -0.14667202277021157,
          -0.5113377640218871,
          -0.6235426074839412,
          -0.48328655315637364,
          -0.5113377640218871,
          -0.5393889748874007,
          -0.5674401857529142,
          -0.5954913966184276,
          -0.3991329205598331,
          -0.2869280770977791,
          -0.2869280770977791,
          -0.06251839017367107,
          0.07773766415389646,
          0.2460449293469775,
          0.7790179357917341,
          0.498505827136599,
          0.8070691466572476,
          0.7790179357917341,
          1.3400421531020041,
          2.0132712138743285,
          1.7608103160847068,
          2.4620905877225443,
          1.2278373096399502,
          2.321834533394977
         ],
         "yaxis": "y"
        },
        {
         "line": {
          "dash": "dash"
         },
         "mode": "lines",
         "name": "Fitted Training Data",
         "type": "scatter",
         "x": [
          0,
          1,
          2,
          3,
          4,
          5,
          6,
          7,
          8,
          9,
          10,
          11,
          12,
          13,
          14,
          15,
          16,
          17,
          18,
          19,
          20,
          21,
          22,
          23,
          24,
          25,
          26,
          27,
          28,
          29,
          30,
          31,
          32,
          33,
          34,
          35,
          36,
          37,
          38,
          39,
          40,
          41,
          42,
          43,
          44,
          45,
          46,
          47,
          48,
          49,
          50,
          51,
          52,
          53,
          54,
          55,
          56,
          57,
          58,
          59,
          60,
          61,
          62,
          63,
          64,
          65,
          66,
          67,
          68,
          69,
          70,
          71,
          72,
          73,
          74,
          75,
          76,
          77,
          78,
          79,
          80,
          81,
          82,
          83,
          84,
          85,
          86,
          87,
          88,
          89,
          90,
          91,
          92,
          93,
          94,
          95,
          96,
          97,
          98,
          99,
          100,
          101,
          102,
          103,
          104,
          105,
          106,
          107,
          108,
          109,
          110,
          111,
          112,
          113,
          114,
          115,
          116,
          117,
          118,
          119,
          120,
          121,
          122,
          123,
          124,
          125,
          126,
          127,
          128,
          129,
          130,
          131,
          132,
          133,
          134,
          135,
          136,
          137,
          138,
          139,
          140,
          141,
          142,
          143,
          144,
          145,
          146,
          147,
          148,
          149,
          150,
          151,
          152,
          153,
          154,
          155,
          156,
          157,
          158,
          159,
          160,
          161,
          162,
          163,
          164,
          165,
          166,
          167,
          168,
          169,
          170,
          171,
          172,
          173,
          174,
          175,
          176,
          177,
          178,
          179,
          180,
          181,
          182,
          183,
          184,
          185
         ],
         "xaxis": "x",
         "y": [
          -0.2912847697734833,
          -0.43173882365226746,
          -0.41020819544792175,
          -0.45952263474464417,
          -0.35995468497276306,
          -0.5565323233604431,
          -0.5038039684295654,
          -0.43461915850639343,
          -0.31600213050842285,
          -0.5639211535453796,
          -0.5339680910110474,
          -0.48590967059135437,
          -0.43741360306739807,
          -0.5501142740249634,
          -0.5678219795227051,
          -0.5552308559417725,
          -0.5384988188743591,
          -0.4560820162296295,
          -0.35222068428993225,
          -0.47506776452064514,
          -0.5470108389854431,
          -0.5632627606391907,
          -0.5531924366950989,
          -0.5054791569709778,
          -0.35824039578437805,
          -0.4010719358921051,
          -0.6290770769119263,
          -0.579235851764679,
          -0.5748518109321594,
          -0.6052974462509155,
          -0.6242114901542664,
          -0.6271432638168335,
          -0.6044148802757263,
          -0.5959228873252869,
          -0.6115001440048218,
          -0.5895527601242065,
          -0.5695757269859314,
          -0.5373964309692383,
          -0.5932843089103699,
          -0.6645505428314209,
          -0.6645505428314209,
          -0.6645505428314209,
          -0.6645505428314209,
          -0.6645505428314209,
          -0.6645505428314209,
          -0.6645505428314209,
          -0.6645505428314209,
          -0.6632965803146362,
          -0.6555556058883667,
          -0.6507024765014648,
          -0.648338794708252,
          -0.6409348249435425,
          -0.6441254019737244,
          -0.6645505428314209,
          -0.6645505428314209,
          -0.6645505428314209,
          -0.6632965803146362,
          -0.6568370461463928,
          -0.6583694815635681,
          -0.6645505428314209,
          -0.6645505428314209,
          -0.6263468861579895,
          -0.5803519487380981,
          -0.6000076532363892,
          -0.6616015434265137,
          -0.6489653587341309,
          -0.590143084526062,
          -0.4630933701992035,
          -0.3851354122161865,
          -0.6007016897201538,
          -0.46862271428108215,
          -0.3766767680644989,
          -0.4983580410480499,
          -0.1790468841791153,
          -0.19465060532093048,
          0.6023843884468079,
          0.860912561416626,
          -0.5222383737564087,
          0.021277230232954025,
          1.504764437675476,
          -0.0843164473772049,
          0.9717239737510681,
          0.9318801760673523,
          0.8814194798469543,
          0.9813612103462219,
          1.593123197555542,
          1.3402851819992065,
          0.7246803641319275,
          1.0791337490081787,
          1.0260651111602783,
          1.0742013454437256,
          0.39089617133140564,
          1.3090298175811768,
          1.347354769706726,
          0.9440323710441589,
          0.7766928672790527,
          0.5726975798606873,
          0.7172487378120422,
          0.8944806456565857,
          0.6888425946235657,
          0.9564750790596008,
          0.2746208906173706,
          0.48605087399482727,
          0.7293015718460083,
          0.6188546419143677,
          0.6379488706588745,
          0.8857312798500061,
          0.5496267080307007,
          0.9444760680198669,
          0.37748482823371887,
          0.7149714827537537,
          0.9917899966239929,
          0.8582705855369568,
          1.011532187461853,
          1.0179834365844727,
          1.219878077507019,
          0.6697399616241455,
          0.7400197386741638,
          0.6310192346572876,
          0.5688541531562805,
          0.701138436794281,
          0.6108554005622864,
          0.550104558467865,
          0.4235234558582306,
          0.053360987454652786,
          0.1216692179441452,
          0.06120629981160164,
          -0.0771278440952301,
          -0.20786109566688538,
          -0.29272177815437317,
          -0.5038347840309143,
          -0.4376073181629181,
          -0.49759384989738464,
          -0.4609642028808594,
          -0.44163379073143005,
          -0.41234859824180603,
          -0.46781978011131287,
          -0.5255977511405945,
          -0.5151829719543457,
          -0.5490452647209167,
          -0.5755322575569153,
          -0.592246413230896,
          -0.6038768887519836,
          -0.6247832179069519,
          -0.6227307915687561,
          -0.6040215492248535,
          -0.6014510989189148,
          -0.5977533459663391,
          -0.5599640607833862,
          -0.5033664703369141,
          -0.5437602996826172,
          -0.5727857947349548,
          -0.5598297715187073,
          -0.5684574246406555,
          -0.5732086300849915,
          -0.606227457523346,
          -0.6211732029914856,
          -0.6494194269180298,
          -0.6401025056838989,
          -0.5052992701530457,
          -0.30489107966423035,
          -0.6655231714248657,
          -0.5507454872131348,
          -0.42107221484184265,
          -0.5746996998786926,
          -0.5299031138420105,
          -0.525447428226471,
          -0.5187177062034607,
          -0.530842125415802,
          -0.5436750054359436,
          -0.5190598368644714,
          -0.4646598696708679,
          -0.4273449778556824,
          -0.39759090542793274,
          -0.317215234041214,
          -0.23725003004074097,
          0.02709398791193962,
          0.6760827898979187,
          0.6032870411872864,
          0.7059323787689209,
          0.7198722958564758,
          0.9462098479270935,
          0.7817572355270386,
          0.8013814091682434,
          0.5892567038536072
         ],
         "yaxis": "y"
        },
        {
         "mode": "lines",
         "name": "Original Training Data",
         "type": "scatter",
         "x": [
          0,
          1,
          2,
          3,
          4,
          5,
          6,
          7
         ],
         "xaxis": "x2",
         "y": [
          0.04341789532727141,
          -0.37339389981453414,
          -1.4848920201926823,
          1.137548857574511,
          -0.26919095102908275,
          0.7728385368254311,
          0.4949640067308941
         ],
         "yaxis": "y2"
        },
        {
         "line": {
          "dash": "dash"
         },
         "mode": "lines",
         "name": "Fitted Training Data",
         "type": "scatter",
         "x": [
          0,
          1,
          2,
          3,
          4,
          5,
          6,
          7
         ],
         "xaxis": "x2",
         "y": [
          1.0755904912948608,
          -0.32446977496147156,
          -0.3127875328063965,
          -0.5753488540649414,
          -0.3086628317832947,
          0.2007177323102951,
          0.8218710422515869
         ],
         "yaxis": "y2"
        }
       ],
       "layout": {
        "annotations": [
         {
          "font": {
           "size": 16
          },
          "showarrow": false,
          "text": "O",
          "x": 0.225,
          "xanchor": "center",
          "xref": "paper",
          "y": 1,
          "yanchor": "bottom",
          "yref": "paper"
         },
         {
          "font": {
           "size": 16
          },
          "showarrow": false,
          "text": "r",
          "x": 0.775,
          "xanchor": "center",
          "xref": "paper",
          "y": 1,
          "yanchor": "bottom",
          "yref": "paper"
         }
        ],
        "height": 400,
        "hovermode": "x unified",
        "template": {
         "data": {
          "bar": [
           {
            "error_x": {
             "color": "#2a3f5f"
            },
            "error_y": {
             "color": "#2a3f5f"
            },
            "marker": {
             "line": {
              "color": "#E5ECF6",
              "width": 0.5
             },
             "pattern": {
              "fillmode": "overlay",
              "size": 10,
              "solidity": 0.2
             }
            },
            "type": "bar"
           }
          ],
          "barpolar": [
           {
            "marker": {
             "line": {
              "color": "#E5ECF6",
              "width": 0.5
             },
             "pattern": {
              "fillmode": "overlay",
              "size": 10,
              "solidity": 0.2
             }
            },
            "type": "barpolar"
           }
          ],
          "carpet": [
           {
            "aaxis": {
             "endlinecolor": "#2a3f5f",
             "gridcolor": "white",
             "linecolor": "white",
             "minorgridcolor": "white",
             "startlinecolor": "#2a3f5f"
            },
            "baxis": {
             "endlinecolor": "#2a3f5f",
             "gridcolor": "white",
             "linecolor": "white",
             "minorgridcolor": "white",
             "startlinecolor": "#2a3f5f"
            },
            "type": "carpet"
           }
          ],
          "choropleth": [
           {
            "colorbar": {
             "outlinewidth": 0,
             "ticks": ""
            },
            "type": "choropleth"
           }
          ],
          "contour": [
           {
            "colorbar": {
             "outlinewidth": 0,
             "ticks": ""
            },
            "colorscale": [
             [
              0,
              "#0d0887"
             ],
             [
              0.1111111111111111,
              "#46039f"
             ],
             [
              0.2222222222222222,
              "#7201a8"
             ],
             [
              0.3333333333333333,
              "#9c179e"
             ],
             [
              0.4444444444444444,
              "#bd3786"
             ],
             [
              0.5555555555555556,
              "#d8576b"
             ],
             [
              0.6666666666666666,
              "#ed7953"
             ],
             [
              0.7777777777777778,
              "#fb9f3a"
             ],
             [
              0.8888888888888888,
              "#fdca26"
             ],
             [
              1,
              "#f0f921"
             ]
            ],
            "type": "contour"
           }
          ],
          "contourcarpet": [
           {
            "colorbar": {
             "outlinewidth": 0,
             "ticks": ""
            },
            "type": "contourcarpet"
           }
          ],
          "heatmap": [
           {
            "colorbar": {
             "outlinewidth": 0,
             "ticks": ""
            },
            "colorscale": [
             [
              0,
              "#0d0887"
             ],
             [
              0.1111111111111111,
              "#46039f"
             ],
             [
              0.2222222222222222,
              "#7201a8"
             ],
             [
              0.3333333333333333,
              "#9c179e"
             ],
             [
              0.4444444444444444,
              "#bd3786"
             ],
             [
              0.5555555555555556,
              "#d8576b"
             ],
             [
              0.6666666666666666,
              "#ed7953"
             ],
             [
              0.7777777777777778,
              "#fb9f3a"
             ],
             [
              0.8888888888888888,
              "#fdca26"
             ],
             [
              1,
              "#f0f921"
             ]
            ],
            "type": "heatmap"
           }
          ],
          "heatmapgl": [
           {
            "colorbar": {
             "outlinewidth": 0,
             "ticks": ""
            },
            "colorscale": [
             [
              0,
              "#0d0887"
             ],
             [
              0.1111111111111111,
              "#46039f"
             ],
             [
              0.2222222222222222,
              "#7201a8"
             ],
             [
              0.3333333333333333,
              "#9c179e"
             ],
             [
              0.4444444444444444,
              "#bd3786"
             ],
             [
              0.5555555555555556,
              "#d8576b"
             ],
             [
              0.6666666666666666,
              "#ed7953"
             ],
             [
              0.7777777777777778,
              "#fb9f3a"
             ],
             [
              0.8888888888888888,
              "#fdca26"
             ],
             [
              1,
              "#f0f921"
             ]
            ],
            "type": "heatmapgl"
           }
          ],
          "histogram": [
           {
            "marker": {
             "pattern": {
              "fillmode": "overlay",
              "size": 10,
              "solidity": 0.2
             }
            },
            "type": "histogram"
           }
          ],
          "histogram2d": [
           {
            "colorbar": {
             "outlinewidth": 0,
             "ticks": ""
            },
            "colorscale": [
             [
              0,
              "#0d0887"
             ],
             [
              0.1111111111111111,
              "#46039f"
             ],
             [
              0.2222222222222222,
              "#7201a8"
             ],
             [
              0.3333333333333333,
              "#9c179e"
             ],
             [
              0.4444444444444444,
              "#bd3786"
             ],
             [
              0.5555555555555556,
              "#d8576b"
             ],
             [
              0.6666666666666666,
              "#ed7953"
             ],
             [
              0.7777777777777778,
              "#fb9f3a"
             ],
             [
              0.8888888888888888,
              "#fdca26"
             ],
             [
              1,
              "#f0f921"
             ]
            ],
            "type": "histogram2d"
           }
          ],
          "histogram2dcontour": [
           {
            "colorbar": {
             "outlinewidth": 0,
             "ticks": ""
            },
            "colorscale": [
             [
              0,
              "#0d0887"
             ],
             [
              0.1111111111111111,
              "#46039f"
             ],
             [
              0.2222222222222222,
              "#7201a8"
             ],
             [
              0.3333333333333333,
              "#9c179e"
             ],
             [
              0.4444444444444444,
              "#bd3786"
             ],
             [
              0.5555555555555556,
              "#d8576b"
             ],
             [
              0.6666666666666666,
              "#ed7953"
             ],
             [
              0.7777777777777778,
              "#fb9f3a"
             ],
             [
              0.8888888888888888,
              "#fdca26"
             ],
             [
              1,
              "#f0f921"
             ]
            ],
            "type": "histogram2dcontour"
           }
          ],
          "mesh3d": [
           {
            "colorbar": {
             "outlinewidth": 0,
             "ticks": ""
            },
            "type": "mesh3d"
           }
          ],
          "parcoords": [
           {
            "line": {
             "colorbar": {
              "outlinewidth": 0,
              "ticks": ""
             }
            },
            "type": "parcoords"
           }
          ],
          "pie": [
           {
            "automargin": true,
            "type": "pie"
           }
          ],
          "scatter": [
           {
            "fillpattern": {
             "fillmode": "overlay",
             "size": 10,
             "solidity": 0.2
            },
            "type": "scatter"
           }
          ],
          "scatter3d": [
           {
            "line": {
             "colorbar": {
              "outlinewidth": 0,
              "ticks": ""
             }
            },
            "marker": {
             "colorbar": {
              "outlinewidth": 0,
              "ticks": ""
             }
            },
            "type": "scatter3d"
           }
          ],
          "scattercarpet": [
           {
            "marker": {
             "colorbar": {
              "outlinewidth": 0,
              "ticks": ""
             }
            },
            "type": "scattercarpet"
           }
          ],
          "scattergeo": [
           {
            "marker": {
             "colorbar": {
              "outlinewidth": 0,
              "ticks": ""
             }
            },
            "type": "scattergeo"
           }
          ],
          "scattergl": [
           {
            "marker": {
             "colorbar": {
              "outlinewidth": 0,
              "ticks": ""
             }
            },
            "type": "scattergl"
           }
          ],
          "scattermapbox": [
           {
            "marker": {
             "colorbar": {
              "outlinewidth": 0,
              "ticks": ""
             }
            },
            "type": "scattermapbox"
           }
          ],
          "scatterpolar": [
           {
            "marker": {
             "colorbar": {
              "outlinewidth": 0,
              "ticks": ""
             }
            },
            "type": "scatterpolar"
           }
          ],
          "scatterpolargl": [
           {
            "marker": {
             "colorbar": {
              "outlinewidth": 0,
              "ticks": ""
             }
            },
            "type": "scatterpolargl"
           }
          ],
          "scatterternary": [
           {
            "marker": {
             "colorbar": {
              "outlinewidth": 0,
              "ticks": ""
             }
            },
            "type": "scatterternary"
           }
          ],
          "surface": [
           {
            "colorbar": {
             "outlinewidth": 0,
             "ticks": ""
            },
            "colorscale": [
             [
              0,
              "#0d0887"
             ],
             [
              0.1111111111111111,
              "#46039f"
             ],
             [
              0.2222222222222222,
              "#7201a8"
             ],
             [
              0.3333333333333333,
              "#9c179e"
             ],
             [
              0.4444444444444444,
              "#bd3786"
             ],
             [
              0.5555555555555556,
              "#d8576b"
             ],
             [
              0.6666666666666666,
              "#ed7953"
             ],
             [
              0.7777777777777778,
              "#fb9f3a"
             ],
             [
              0.8888888888888888,
              "#fdca26"
             ],
             [
              1,
              "#f0f921"
             ]
            ],
            "type": "surface"
           }
          ],
          "table": [
           {
            "cells": {
             "fill": {
              "color": "#EBF0F8"
             },
             "line": {
              "color": "white"
             }
            },
            "header": {
             "fill": {
              "color": "#C8D4E3"
             },
             "line": {
              "color": "white"
             }
            },
            "type": "table"
           }
          ]
         },
         "layout": {
          "annotationdefaults": {
           "arrowcolor": "#2a3f5f",
           "arrowhead": 0,
           "arrowwidth": 1
          },
          "autotypenumbers": "strict",
          "coloraxis": {
           "colorbar": {
            "outlinewidth": 0,
            "ticks": ""
           }
          },
          "colorscale": {
           "diverging": [
            [
             0,
             "#8e0152"
            ],
            [
             0.1,
             "#c51b7d"
            ],
            [
             0.2,
             "#de77ae"
            ],
            [
             0.3,
             "#f1b6da"
            ],
            [
             0.4,
             "#fde0ef"
            ],
            [
             0.5,
             "#f7f7f7"
            ],
            [
             0.6,
             "#e6f5d0"
            ],
            [
             0.7,
             "#b8e186"
            ],
            [
             0.8,
             "#7fbc41"
            ],
            [
             0.9,
             "#4d9221"
            ],
            [
             1,
             "#276419"
            ]
           ],
           "sequential": [
            [
             0,
             "#0d0887"
            ],
            [
             0.1111111111111111,
             "#46039f"
            ],
            [
             0.2222222222222222,
             "#7201a8"
            ],
            [
             0.3333333333333333,
             "#9c179e"
            ],
            [
             0.4444444444444444,
             "#bd3786"
            ],
            [
             0.5555555555555556,
             "#d8576b"
            ],
            [
             0.6666666666666666,
             "#ed7953"
            ],
            [
             0.7777777777777778,
             "#fb9f3a"
            ],
            [
             0.8888888888888888,
             "#fdca26"
            ],
            [
             1,
             "#f0f921"
            ]
           ],
           "sequentialminus": [
            [
             0,
             "#0d0887"
            ],
            [
             0.1111111111111111,
             "#46039f"
            ],
            [
             0.2222222222222222,
             "#7201a8"
            ],
            [
             0.3333333333333333,
             "#9c179e"
            ],
            [
             0.4444444444444444,
             "#bd3786"
            ],
            [
             0.5555555555555556,
             "#d8576b"
            ],
            [
             0.6666666666666666,
             "#ed7953"
            ],
            [
             0.7777777777777778,
             "#fb9f3a"
            ],
            [
             0.8888888888888888,
             "#fdca26"
            ],
            [
             1,
             "#f0f921"
            ]
           ]
          },
          "colorway": [
           "#636efa",
           "#EF553B",
           "#00cc96",
           "#ab63fa",
           "#FFA15A",
           "#19d3f3",
           "#FF6692",
           "#B6E880",
           "#FF97FF",
           "#FECB52"
          ],
          "font": {
           "color": "#2a3f5f"
          },
          "geo": {
           "bgcolor": "white",
           "lakecolor": "white",
           "landcolor": "#E5ECF6",
           "showlakes": true,
           "showland": true,
           "subunitcolor": "white"
          },
          "hoverlabel": {
           "align": "left"
          },
          "hovermode": "closest",
          "mapbox": {
           "style": "light"
          },
          "paper_bgcolor": "white",
          "plot_bgcolor": "#E5ECF6",
          "polar": {
           "angularaxis": {
            "gridcolor": "white",
            "linecolor": "white",
            "ticks": ""
           },
           "bgcolor": "#E5ECF6",
           "radialaxis": {
            "gridcolor": "white",
            "linecolor": "white",
            "ticks": ""
           }
          },
          "scene": {
           "xaxis": {
            "backgroundcolor": "#E5ECF6",
            "gridcolor": "white",
            "gridwidth": 2,
            "linecolor": "white",
            "showbackground": true,
            "ticks": "",
            "zerolinecolor": "white"
           },
           "yaxis": {
            "backgroundcolor": "#E5ECF6",
            "gridcolor": "white",
            "gridwidth": 2,
            "linecolor": "white",
            "showbackground": true,
            "ticks": "",
            "zerolinecolor": "white"
           },
           "zaxis": {
            "backgroundcolor": "#E5ECF6",
            "gridcolor": "white",
            "gridwidth": 2,
            "linecolor": "white",
            "showbackground": true,
            "ticks": "",
            "zerolinecolor": "white"
           }
          },
          "shapedefaults": {
           "line": {
            "color": "#2a3f5f"
           }
          },
          "ternary": {
           "aaxis": {
            "gridcolor": "white",
            "linecolor": "white",
            "ticks": ""
           },
           "baxis": {
            "gridcolor": "white",
            "linecolor": "white",
            "ticks": ""
           },
           "bgcolor": "#E5ECF6",
           "caxis": {
            "gridcolor": "white",
            "linecolor": "white",
            "ticks": ""
           }
          },
          "title": {
           "x": 0.05
          },
          "xaxis": {
           "automargin": true,
           "gridcolor": "white",
           "linecolor": "white",
           "ticks": "",
           "title": {
            "standoff": 15
           },
           "zerolinecolor": "white",
           "zerolinewidth": 2
          },
          "yaxis": {
           "automargin": true,
           "gridcolor": "white",
           "linecolor": "white",
           "ticks": "",
           "title": {
            "standoff": 15
           },
           "zerolinecolor": "white",
           "zerolinewidth": 2
          }
         }
        },
        "title": {
         "text": "COVID-19 Data"
        },
        "width": 600,
        "xaxis": {
         "anchor": "y",
         "domain": [
          0,
          0.45
         ],
         "tickangle": 45,
         "tickformat": "%b %d\n%Y",
         "tickvals": [
          "2021-04-05T00:00:00",
          "2021-04-18T00:00:00",
          "2021-05-01T00:00:00",
          "2021-05-14T00:00:00",
          "2021-05-27T00:00:00",
          "2021-06-09T00:00:00",
          "2021-06-22T00:00:00",
          "2021-07-05T00:00:00",
          "2021-07-18T00:00:00",
          "2021-07-31T00:00:00",
          "2021-08-13T00:00:00",
          "2021-08-26T00:00:00",
          "2021-09-08T00:00:00",
          "2021-09-21T00:00:00",
          "2021-10-04T00:00:00",
          "2021-10-17T00:00:00"
         ]
        },
        "xaxis2": {
         "anchor": "y2",
         "domain": [
          0.55,
          1
         ],
         "tickangle": 45,
         "tickformat": "%b %d\n%Y",
         "tickvals": [
          "2021-04-05T00:00:00",
          "2021-04-18T00:00:00",
          "2021-05-01T00:00:00",
          "2021-05-14T00:00:00",
          "2021-05-27T00:00:00",
          "2021-06-09T00:00:00",
          "2021-06-22T00:00:00",
          "2021-07-05T00:00:00",
          "2021-07-18T00:00:00",
          "2021-07-31T00:00:00",
          "2021-08-13T00:00:00",
          "2021-08-26T00:00:00",
          "2021-09-08T00:00:00",
          "2021-09-21T00:00:00",
          "2021-10-04T00:00:00",
          "2021-10-17T00:00:00"
         ]
        },
        "yaxis": {
         "anchor": "x",
         "domain": [
          0,
          1
         ]
        },
        "yaxis2": {
         "anchor": "x2",
         "domain": [
          0,
          1
         ]
        }
       }
      }
     },
     "metadata": {},
     "output_type": "display_data"
    }
   ],
   "source": [
    "#@title visualization the result\n",
    "import numpy as np\n",
    "import plotly.graph_objects as go\n",
    "from plotly.subplots import make_subplots\n",
    "\n",
    "y_pred_train = rnn_model.predict(X_train_seq).reshape(-1,1)\n",
    "y_pred_test = rnn_model.predict(X_test_seq).reshape(-1,1)\n",
    "\n",
    "num_dates = len(df['Date'])\n",
    "step = max(1, num_dates // 15)\n",
    "display_dates = df['Date'][::step]\n",
    "\n",
    "# Create subplots\n",
    "fig = make_subplots(\n",
    "    rows=1, cols=2,\n",
    "    subplot_titles=(\"Original Training Data\"),\n",
    "    shared_xaxes=True\n",
    ")\n",
    "\n",
    "# Add training data traces\n",
    "fig.add_trace(go.Scatter(x=np.arange(len(X_train) - sequence_length + 1), y=y_train_seq.flatten(), mode='lines', name='Original Training Data'), row=1, col=1)\n",
    "fig.add_trace(go.Scatter(x=np.arange(len(X_train) - sequence_length + 1), y=y_pred_train.flatten(), mode='lines', name='Fitted Training Data', line=dict(dash='dash')), row=1, col=1)\n",
    "\n",
    "# Add testing data traces\n",
    "fig.add_trace(go.Scatter(x=np.arange(len(X_test) - sequence_length + 1), y=y_test_seq.flatten(), mode='lines', name='Original Training Data'), row=1, col=2)\n",
    "fig.add_trace(go.Scatter(x=np.arange(len(X_test) - sequence_length + 1), y=y_pred_test.flatten(), mode='lines', name='Fitted Training Data', line=dict(dash='dash')), row=1, col=2)\n",
    "\n",
    "# Update layout\n",
    "fig.update_layout(\n",
    "    height=400, width=600,\n",
    "    title_text=\"COVID-19 Data\",\n",
    "    hovermode='x unified'\n",
    ")\n",
    "\n",
    "for i in range(1, 2):\n",
    "    for j in range(1, 3):\n",
    "        fig.update_xaxes(\n",
    "            tickvals=display_dates,\n",
    "            tickformat=\"%b %d\\n%Y\",\n",
    "            tickangle=45,\n",
    "            row=i, col=j\n",
    "        )\n",
    "\n",
    "# Show the plot\n",
    "fig.show()\n",
    "\n"
   ]
  },
  {
   "cell_type": "code",
   "execution_count": 47,
   "metadata": {},
   "outputs": [
    {
     "name": "stdout",
     "output_type": "stream",
     "text": [
      "MAE: 0.7006569504737854\n",
      "RMSE: 0.9111506938934326\n",
      "R² score: -0.279976487159729\n"
     ]
    }
   ],
   "source": [
    "# Convert to tensors\n",
    "y_true_tf = tf.convert_to_tensor(y_test_seq.reshape(-1), dtype=tf.float32)\n",
    "y_pred_tf = tf.convert_to_tensor(y_pred_test.reshape(-1), dtype=tf.float32)\n",
    "\n",
    "# Initialize the metrics\n",
    "mae_metric = tf.keras.metrics.MeanAbsoluteError()\n",
    "mse_metric = tf.keras.metrics.MeanSquaredError()\n",
    "\n",
    "# Update the state with the true and predicted values\n",
    "mae_metric.update_state(y_true_tf, y_pred_tf)\n",
    "mse_metric.update_state(y_true_tf, y_pred_tf)\n",
    "\n",
    "# Calculate MAE and MSE\n",
    "mae = mae_metric.result().numpy()\n",
    "mse = mse_metric.result().numpy()\n",
    "\n",
    "# Calculate RMSE\n",
    "rmse = np.sqrt(mse)\n",
    "\n",
    "# Calculate R² score\n",
    "total_error = tf.reduce_sum(tf.square(y_true_tf - tf.reduce_mean(y_true_tf)))\n",
    "unexplained_error = tf.reduce_sum(tf.square(y_true_tf - y_pred_tf))\n",
    "r2_score = 1 - tf.divide(unexplained_error, total_error).numpy()\n",
    "\n",
    "print(f\"MAE: {mae}\")\n",
    "print(f\"RMSE: {rmse}\")\n",
    "print(f\"R² score: {r2_score}\")\n"
   ]
  },
  {
   "cell_type": "code",
   "execution_count": 49,
   "metadata": {},
   "outputs": [
    {
     "name": "stderr",
     "output_type": "stream",
     "text": [
      "WARNING:absl:You are saving your model as an HDF5 file via `model.save()` or `keras.saving.save_model(model)`. This file format is considered legacy. We recommend using instead the native Keras format, e.g. `model.save('my_model.keras')` or `keras.saving.save_model(model, 'my_model.keras')`. \n"
     ]
    }
   ],
   "source": [
    "rnn_model.save(\"./checkpoints/rnn.h5\")"
   ]
  },
  {
   "cell_type": "markdown",
   "metadata": {},
   "source": [
    "### GRU"
   ]
  },
  {
   "cell_type": "code",
   "execution_count": 51,
   "metadata": {},
   "outputs": [
    {
     "name": "stderr",
     "output_type": "stream",
     "text": [
      "c:\\Users\\ADMIN\\AppData\\Local\\Programs\\Python\\Python312\\Lib\\site-packages\\keras\\src\\layers\\rnn\\rnn.py:204: UserWarning:\n",
      "\n",
      "Do not pass an `input_shape`/`input_dim` argument to a layer. When using Sequential models, prefer using an `Input(shape)` object as the first layer in the model instead.\n",
      "\n"
     ]
    },
    {
     "data": {
      "text/html": [
       "<pre style=\"white-space:pre;overflow-x:auto;line-height:normal;font-family:Menlo,'DejaVu Sans Mono',consolas,'Courier New',monospace\"><span style=\"font-weight: bold\">Model: \"sequential_11\"</span>\n",
       "</pre>\n"
      ],
      "text/plain": [
       "\u001b[1mModel: \"sequential_11\"\u001b[0m\n"
      ]
     },
     "metadata": {},
     "output_type": "display_data"
    },
    {
     "data": {
      "text/html": [
       "<pre style=\"white-space:pre;overflow-x:auto;line-height:normal;font-family:Menlo,'DejaVu Sans Mono',consolas,'Courier New',monospace\">┏━━━━━━━━━━━━━━━━━━━━━━━━━━━━━━━━━┳━━━━━━━━━━━━━━━━━━━━━━━━┳━━━━━━━━━━━━━━━┓\n",
       "┃<span style=\"font-weight: bold\"> Layer (type)                    </span>┃<span style=\"font-weight: bold\"> Output Shape           </span>┃<span style=\"font-weight: bold\">       Param # </span>┃\n",
       "┡━━━━━━━━━━━━━━━━━━━━━━━━━━━━━━━━━╇━━━━━━━━━━━━━━━━━━━━━━━━╇━━━━━━━━━━━━━━━┩\n",
       "│ gru_1 (<span style=\"color: #0087ff; text-decoration-color: #0087ff\">GRU</span>)                     │ (<span style=\"color: #00d7ff; text-decoration-color: #00d7ff\">None</span>, <span style=\"color: #00af00; text-decoration-color: #00af00\">100</span>)            │        <span style=\"color: #00af00; text-decoration-color: #00af00\">30,900</span> │\n",
       "├─────────────────────────────────┼────────────────────────┼───────────────┤\n",
       "│ dense_20 (<span style=\"color: #0087ff; text-decoration-color: #0087ff\">Dense</span>)                │ (<span style=\"color: #00d7ff; text-decoration-color: #00d7ff\">None</span>, <span style=\"color: #00af00; text-decoration-color: #00af00\">8</span>)              │           <span style=\"color: #00af00; text-decoration-color: #00af00\">808</span> │\n",
       "├─────────────────────────────────┼────────────────────────┼───────────────┤\n",
       "│ dense_21 (<span style=\"color: #0087ff; text-decoration-color: #0087ff\">Dense</span>)                │ (<span style=\"color: #00d7ff; text-decoration-color: #00d7ff\">None</span>, <span style=\"color: #00af00; text-decoration-color: #00af00\">1</span>)              │             <span style=\"color: #00af00; text-decoration-color: #00af00\">9</span> │\n",
       "└─────────────────────────────────┴────────────────────────┴───────────────┘\n",
       "</pre>\n"
      ],
      "text/plain": [
       "┏━━━━━━━━━━━━━━━━━━━━━━━━━━━━━━━━━┳━━━━━━━━━━━━━━━━━━━━━━━━┳━━━━━━━━━━━━━━━┓\n",
       "┃\u001b[1m \u001b[0m\u001b[1mLayer (type)                   \u001b[0m\u001b[1m \u001b[0m┃\u001b[1m \u001b[0m\u001b[1mOutput Shape          \u001b[0m\u001b[1m \u001b[0m┃\u001b[1m \u001b[0m\u001b[1m      Param #\u001b[0m\u001b[1m \u001b[0m┃\n",
       "┡━━━━━━━━━━━━━━━━━━━━━━━━━━━━━━━━━╇━━━━━━━━━━━━━━━━━━━━━━━━╇━━━━━━━━━━━━━━━┩\n",
       "│ gru_1 (\u001b[38;5;33mGRU\u001b[0m)                     │ (\u001b[38;5;45mNone\u001b[0m, \u001b[38;5;34m100\u001b[0m)            │        \u001b[38;5;34m30,900\u001b[0m │\n",
       "├─────────────────────────────────┼────────────────────────┼───────────────┤\n",
       "│ dense_20 (\u001b[38;5;33mDense\u001b[0m)                │ (\u001b[38;5;45mNone\u001b[0m, \u001b[38;5;34m8\u001b[0m)              │           \u001b[38;5;34m808\u001b[0m │\n",
       "├─────────────────────────────────┼────────────────────────┼───────────────┤\n",
       "│ dense_21 (\u001b[38;5;33mDense\u001b[0m)                │ (\u001b[38;5;45mNone\u001b[0m, \u001b[38;5;34m1\u001b[0m)              │             \u001b[38;5;34m9\u001b[0m │\n",
       "└─────────────────────────────────┴────────────────────────┴───────────────┘\n"
      ]
     },
     "metadata": {},
     "output_type": "display_data"
    },
    {
     "data": {
      "text/html": [
       "<pre style=\"white-space:pre;overflow-x:auto;line-height:normal;font-family:Menlo,'DejaVu Sans Mono',consolas,'Courier New',monospace\"><span style=\"font-weight: bold\"> Total params: </span><span style=\"color: #00af00; text-decoration-color: #00af00\">31,717</span> (123.89 KB)\n",
       "</pre>\n"
      ],
      "text/plain": [
       "\u001b[1m Total params: \u001b[0m\u001b[38;5;34m31,717\u001b[0m (123.89 KB)\n"
      ]
     },
     "metadata": {},
     "output_type": "display_data"
    },
    {
     "data": {
      "text/html": [
       "<pre style=\"white-space:pre;overflow-x:auto;line-height:normal;font-family:Menlo,'DejaVu Sans Mono',consolas,'Courier New',monospace\"><span style=\"font-weight: bold\"> Trainable params: </span><span style=\"color: #00af00; text-decoration-color: #00af00\">31,717</span> (123.89 KB)\n",
       "</pre>\n"
      ],
      "text/plain": [
       "\u001b[1m Trainable params: \u001b[0m\u001b[38;5;34m31,717\u001b[0m (123.89 KB)\n"
      ]
     },
     "metadata": {},
     "output_type": "display_data"
    },
    {
     "data": {
      "text/html": [
       "<pre style=\"white-space:pre;overflow-x:auto;line-height:normal;font-family:Menlo,'DejaVu Sans Mono',consolas,'Courier New',monospace\"><span style=\"font-weight: bold\"> Non-trainable params: </span><span style=\"color: #00af00; text-decoration-color: #00af00\">0</span> (0.00 B)\n",
       "</pre>\n"
      ],
      "text/plain": [
       "\u001b[1m Non-trainable params: \u001b[0m\u001b[38;5;34m0\u001b[0m (0.00 B)\n"
      ]
     },
     "metadata": {},
     "output_type": "display_data"
    },
    {
     "name": "stdout",
     "output_type": "stream",
     "text": [
      "Epoch 1/200\n",
      "\u001b[1m5/5\u001b[0m \u001b[32m━━━━━━━━━━━━━━━━━━━━\u001b[0m\u001b[37m\u001b[0m \u001b[1m2s\u001b[0m 82ms/step - loss: 0.7010 - mean_absolute_percentage_error: 57.8407 - val_loss: 0.6410 - val_mean_absolute_percentage_error: 50.2216\n",
      "Epoch 2/200\n",
      "\u001b[1m5/5\u001b[0m \u001b[32m━━━━━━━━━━━━━━━━━━━━\u001b[0m\u001b[37m\u001b[0m \u001b[1m0s\u001b[0m 17ms/step - loss: 0.6655 - mean_absolute_percentage_error: 50.3639 - val_loss: 0.5607 - val_mean_absolute_percentage_error: 42.2610\n",
      "Epoch 3/200\n",
      "\u001b[1m5/5\u001b[0m \u001b[32m━━━━━━━━━━━━━━━━━━━━\u001b[0m\u001b[37m\u001b[0m \u001b[1m0s\u001b[0m 14ms/step - loss: 0.5353 - mean_absolute_percentage_error: 40.2441 - val_loss: 0.5067 - val_mean_absolute_percentage_error: 36.9734\n",
      "Epoch 4/200\n",
      "\u001b[1m5/5\u001b[0m \u001b[32m━━━━━━━━━━━━━━━━━━━━\u001b[0m\u001b[37m\u001b[0m \u001b[1m0s\u001b[0m 17ms/step - loss: 0.5265 - mean_absolute_percentage_error: 38.1134 - val_loss: 0.5073 - val_mean_absolute_percentage_error: 37.3344\n",
      "Epoch 5/200\n",
      "\u001b[1m5/5\u001b[0m \u001b[32m━━━━━━━━━━━━━━━━━━━━\u001b[0m\u001b[37m\u001b[0m \u001b[1m0s\u001b[0m 13ms/step - loss: 0.6263 - mean_absolute_percentage_error: 42.3937 - val_loss: 0.4873 - val_mean_absolute_percentage_error: 35.7706\n",
      "Epoch 6/200\n",
      "\u001b[1m5/5\u001b[0m \u001b[32m━━━━━━━━━━━━━━━━━━━━\u001b[0m\u001b[37m\u001b[0m \u001b[1m0s\u001b[0m 14ms/step - loss: 0.4904 - mean_absolute_percentage_error: 36.5357 - val_loss: 0.4776 - val_mean_absolute_percentage_error: 35.3313\n",
      "Epoch 7/200\n",
      "\u001b[1m5/5\u001b[0m \u001b[32m━━━━━━━━━━━━━━━━━━━━\u001b[0m\u001b[37m\u001b[0m \u001b[1m0s\u001b[0m 14ms/step - loss: 0.5023 - mean_absolute_percentage_error: 36.2260 - val_loss: 0.4546 - val_mean_absolute_percentage_error: 33.6695\n",
      "Epoch 8/200\n",
      "\u001b[1m5/5\u001b[0m \u001b[32m━━━━━━━━━━━━━━━━━━━━\u001b[0m\u001b[37m\u001b[0m \u001b[1m0s\u001b[0m 13ms/step - loss: 0.4368 - mean_absolute_percentage_error: 31.3585 - val_loss: 0.4348 - val_mean_absolute_percentage_error: 32.3992\n",
      "Epoch 9/200\n",
      "\u001b[1m5/5\u001b[0m \u001b[32m━━━━━━━━━━━━━━━━━━━━\u001b[0m\u001b[37m\u001b[0m \u001b[1m0s\u001b[0m 12ms/step - loss: 0.4564 - mean_absolute_percentage_error: 32.5840 - val_loss: 0.4148 - val_mean_absolute_percentage_error: 31.2248\n",
      "Epoch 10/200\n",
      "\u001b[1m5/5\u001b[0m \u001b[32m━━━━━━━━━━━━━━━━━━━━\u001b[0m\u001b[37m\u001b[0m \u001b[1m0s\u001b[0m 13ms/step - loss: 0.4602 - mean_absolute_percentage_error: 33.7983 - val_loss: 0.3861 - val_mean_absolute_percentage_error: 29.2549\n",
      "Epoch 11/200\n",
      "\u001b[1m5/5\u001b[0m \u001b[32m━━━━━━━━━━━━━━━━━━━━\u001b[0m\u001b[37m\u001b[0m \u001b[1m0s\u001b[0m 17ms/step - loss: 0.4411 - mean_absolute_percentage_error: 31.5605 - val_loss: 0.3612 - val_mean_absolute_percentage_error: 27.5682\n",
      "Epoch 12/200\n",
      "\u001b[1m5/5\u001b[0m \u001b[32m━━━━━━━━━━━━━━━━━━━━\u001b[0m\u001b[37m\u001b[0m \u001b[1m0s\u001b[0m 15ms/step - loss: 0.4390 - mean_absolute_percentage_error: 34.4425 - val_loss: 0.3403 - val_mean_absolute_percentage_error: 26.2189\n",
      "Epoch 13/200\n",
      "\u001b[1m5/5\u001b[0m \u001b[32m━━━━━━━━━━━━━━━━━━━━\u001b[0m\u001b[37m\u001b[0m \u001b[1m0s\u001b[0m 14ms/step - loss: 0.4461 - mean_absolute_percentage_error: 34.5286 - val_loss: 0.3290 - val_mean_absolute_percentage_error: 25.6518\n",
      "Epoch 14/200\n",
      "\u001b[1m5/5\u001b[0m \u001b[32m━━━━━━━━━━━━━━━━━━━━\u001b[0m\u001b[37m\u001b[0m \u001b[1m0s\u001b[0m 39ms/step - loss: 0.3974 - mean_absolute_percentage_error: 32.2119 - val_loss: 0.3262 - val_mean_absolute_percentage_error: 25.5199\n",
      "Epoch 15/200\n",
      "\u001b[1m5/5\u001b[0m \u001b[32m━━━━━━━━━━━━━━━━━━━━\u001b[0m\u001b[37m\u001b[0m \u001b[1m0s\u001b[0m 15ms/step - loss: 0.4100 - mean_absolute_percentage_error: 32.5575 - val_loss: 0.3237 - val_mean_absolute_percentage_error: 25.5056\n",
      "Epoch 16/200\n",
      "\u001b[1m5/5\u001b[0m \u001b[32m━━━━━━━━━━━━━━━━━━━━\u001b[0m\u001b[37m\u001b[0m \u001b[1m0s\u001b[0m 14ms/step - loss: 0.4379 - mean_absolute_percentage_error: 34.8815 - val_loss: 0.3319 - val_mean_absolute_percentage_error: 26.1409\n",
      "Epoch 17/200\n",
      "\u001b[1m5/5\u001b[0m \u001b[32m━━━━━━━━━━━━━━━━━━━━\u001b[0m\u001b[37m\u001b[0m \u001b[1m0s\u001b[0m 17ms/step - loss: 0.4081 - mean_absolute_percentage_error: 31.5205 - val_loss: 0.3476 - val_mean_absolute_percentage_error: 27.2424\n",
      "Epoch 18/200\n",
      "\u001b[1m5/5\u001b[0m \u001b[32m━━━━━━━━━━━━━━━━━━━━\u001b[0m\u001b[37m\u001b[0m \u001b[1m0s\u001b[0m 18ms/step - loss: 0.4022 - mean_absolute_percentage_error: 32.3672 - val_loss: 0.3572 - val_mean_absolute_percentage_error: 27.9278\n",
      "Epoch 19/200\n",
      "\u001b[1m5/5\u001b[0m \u001b[32m━━━━━━━━━━━━━━━━━━━━\u001b[0m\u001b[37m\u001b[0m \u001b[1m0s\u001b[0m 19ms/step - loss: 0.4218 - mean_absolute_percentage_error: 32.3105 - val_loss: 0.3670 - val_mean_absolute_percentage_error: 28.5909\n",
      "Epoch 20/200\n",
      "\u001b[1m5/5\u001b[0m \u001b[32m━━━━━━━━━━━━━━━━━━━━\u001b[0m\u001b[37m\u001b[0m \u001b[1m0s\u001b[0m 20ms/step - loss: 0.4518 - mean_absolute_percentage_error: 34.1912 - val_loss: 0.3680 - val_mean_absolute_percentage_error: 28.5733\n",
      "Epoch 21/200\n",
      "\u001b[1m5/5\u001b[0m \u001b[32m━━━━━━━━━━━━━━━━━━━━\u001b[0m\u001b[37m\u001b[0m \u001b[1m0s\u001b[0m 17ms/step - loss: 0.4367 - mean_absolute_percentage_error: 34.4001 - val_loss: 0.3674 - val_mean_absolute_percentage_error: 28.4044\n",
      "Epoch 22/200\n",
      "\u001b[1m5/5\u001b[0m \u001b[32m━━━━━━━━━━━━━━━━━━━━\u001b[0m\u001b[37m\u001b[0m \u001b[1m0s\u001b[0m 17ms/step - loss: 0.4978 - mean_absolute_percentage_error: 35.4624 - val_loss: 0.3606 - val_mean_absolute_percentage_error: 27.8265\n",
      "Epoch 23/200\n",
      "\u001b[1m5/5\u001b[0m \u001b[32m━━━━━━━━━━━━━━━━━━━━\u001b[0m\u001b[37m\u001b[0m \u001b[1m0s\u001b[0m 19ms/step - loss: 0.4035 - mean_absolute_percentage_error: 31.6091 - val_loss: 0.3509 - val_mean_absolute_percentage_error: 27.1046\n",
      "Epoch 24/200\n",
      "\u001b[1m5/5\u001b[0m \u001b[32m━━━━━━━━━━━━━━━━━━━━\u001b[0m\u001b[37m\u001b[0m \u001b[1m0s\u001b[0m 17ms/step - loss: 0.4306 - mean_absolute_percentage_error: 30.3264 - val_loss: 0.3424 - val_mean_absolute_percentage_error: 26.5027\n",
      "Epoch 25/200\n",
      "\u001b[1m5/5\u001b[0m \u001b[32m━━━━━━━━━━━━━━━━━━━━\u001b[0m\u001b[37m\u001b[0m \u001b[1m0s\u001b[0m 18ms/step - loss: 0.4097 - mean_absolute_percentage_error: 31.4770 - val_loss: 0.3385 - val_mean_absolute_percentage_error: 26.2548\n",
      "Epoch 26/200\n",
      "\u001b[1m5/5\u001b[0m \u001b[32m━━━━━━━━━━━━━━━━━━━━\u001b[0m\u001b[37m\u001b[0m \u001b[1m0s\u001b[0m 20ms/step - loss: 0.4141 - mean_absolute_percentage_error: 28.4593 - val_loss: 0.3333 - val_mean_absolute_percentage_error: 25.8849\n",
      "Epoch 27/200\n",
      "\u001b[1m5/5\u001b[0m \u001b[32m━━━━━━━━━━━━━━━━━━━━\u001b[0m\u001b[37m\u001b[0m \u001b[1m0s\u001b[0m 21ms/step - loss: 0.4278 - mean_absolute_percentage_error: 34.2096 - val_loss: 0.3321 - val_mean_absolute_percentage_error: 25.8417\n",
      "Epoch 28/200\n",
      "\u001b[1m5/5\u001b[0m \u001b[32m━━━━━━━━━━━━━━━━━━━━\u001b[0m\u001b[37m\u001b[0m \u001b[1m0s\u001b[0m 19ms/step - loss: 0.4007 - mean_absolute_percentage_error: 33.4430 - val_loss: 0.3231 - val_mean_absolute_percentage_error: 25.1946\n",
      "Epoch 29/200\n",
      "\u001b[1m5/5\u001b[0m \u001b[32m━━━━━━━━━━━━━━━━━━━━\u001b[0m\u001b[37m\u001b[0m \u001b[1m0s\u001b[0m 20ms/step - loss: 0.4302 - mean_absolute_percentage_error: 34.0784 - val_loss: 0.3227 - val_mean_absolute_percentage_error: 25.2682\n",
      "Epoch 30/200\n",
      "\u001b[1m5/5\u001b[0m \u001b[32m━━━━━━━━━━━━━━━━━━━━\u001b[0m\u001b[37m\u001b[0m \u001b[1m0s\u001b[0m 17ms/step - loss: 0.4866 - mean_absolute_percentage_error: 33.6102 - val_loss: 0.3244 - val_mean_absolute_percentage_error: 25.4895\n",
      "Epoch 31/200\n",
      "\u001b[1m5/5\u001b[0m \u001b[32m━━━━━━━━━━━━━━━━━━━━\u001b[0m\u001b[37m\u001b[0m \u001b[1m0s\u001b[0m 17ms/step - loss: 0.4287 - mean_absolute_percentage_error: 32.3028 - val_loss: 0.3251 - val_mean_absolute_percentage_error: 25.5654\n",
      "Epoch 32/200\n",
      "\u001b[1m5/5\u001b[0m \u001b[32m━━━━━━━━━━━━━━━━━━━━\u001b[0m\u001b[37m\u001b[0m \u001b[1m0s\u001b[0m 16ms/step - loss: 0.4064 - mean_absolute_percentage_error: 29.8204 - val_loss: 0.3277 - val_mean_absolute_percentage_error: 25.8854\n",
      "Epoch 33/200\n",
      "\u001b[1m5/5\u001b[0m \u001b[32m━━━━━━━━━━━━━━━━━━━━\u001b[0m\u001b[37m\u001b[0m \u001b[1m0s\u001b[0m 13ms/step - loss: 0.4152 - mean_absolute_percentage_error: 31.3039 - val_loss: 0.3277 - val_mean_absolute_percentage_error: 25.6778\n",
      "Epoch 34/200\n",
      "\u001b[1m5/5\u001b[0m \u001b[32m━━━━━━━━━━━━━━━━━━━━\u001b[0m\u001b[37m\u001b[0m \u001b[1m0s\u001b[0m 14ms/step - loss: 0.5007 - mean_absolute_percentage_error: 36.1654 - val_loss: 0.3318 - val_mean_absolute_percentage_error: 25.8115\n",
      "Epoch 35/200\n",
      "\u001b[1m5/5\u001b[0m \u001b[32m━━━━━━━━━━━━━━━━━━━━\u001b[0m\u001b[37m\u001b[0m \u001b[1m0s\u001b[0m 15ms/step - loss: 0.4309 - mean_absolute_percentage_error: 31.1623 - val_loss: 0.3411 - val_mean_absolute_percentage_error: 26.5073\n",
      "Epoch 36/200\n",
      "\u001b[1m5/5\u001b[0m \u001b[32m━━━━━━━━━━━━━━━━━━━━\u001b[0m\u001b[37m\u001b[0m \u001b[1m0s\u001b[0m 17ms/step - loss: 0.4694 - mean_absolute_percentage_error: 32.7976 - val_loss: 0.3361 - val_mean_absolute_percentage_error: 26.0304\n",
      "Epoch 37/200\n",
      "\u001b[1m5/5\u001b[0m \u001b[32m━━━━━━━━━━━━━━━━━━━━\u001b[0m\u001b[37m\u001b[0m \u001b[1m0s\u001b[0m 15ms/step - loss: 0.3859 - mean_absolute_percentage_error: 30.1308 - val_loss: 0.3424 - val_mean_absolute_percentage_error: 26.5771\n",
      "Epoch 38/200\n",
      "\u001b[1m5/5\u001b[0m \u001b[32m━━━━━━━━━━━━━━━━━━━━\u001b[0m\u001b[37m\u001b[0m \u001b[1m0s\u001b[0m 14ms/step - loss: 0.5183 - mean_absolute_percentage_error: 37.1718 - val_loss: 0.3394 - val_mean_absolute_percentage_error: 26.5016\n",
      "Epoch 39/200\n",
      "\u001b[1m5/5\u001b[0m \u001b[32m━━━━━━━━━━━━━━━━━━━━\u001b[0m\u001b[37m\u001b[0m \u001b[1m0s\u001b[0m 13ms/step - loss: 0.4488 - mean_absolute_percentage_error: 32.5487 - val_loss: 0.3390 - val_mean_absolute_percentage_error: 26.6413\n",
      "Epoch 40/200\n",
      "\u001b[1m5/5\u001b[0m \u001b[32m━━━━━━━━━━━━━━━━━━━━\u001b[0m\u001b[37m\u001b[0m \u001b[1m0s\u001b[0m 14ms/step - loss: 0.4114 - mean_absolute_percentage_error: 32.2624 - val_loss: 0.3341 - val_mean_absolute_percentage_error: 26.2859\n",
      "Epoch 41/200\n",
      "\u001b[1m5/5\u001b[0m \u001b[32m━━━━━━━━━━━━━━━━━━━━\u001b[0m\u001b[37m\u001b[0m \u001b[1m0s\u001b[0m 13ms/step - loss: 0.4619 - mean_absolute_percentage_error: 34.5173 - val_loss: 0.3306 - val_mean_absolute_percentage_error: 26.1070\n",
      "Epoch 42/200\n",
      "\u001b[1m5/5\u001b[0m \u001b[32m━━━━━━━━━━━━━━━━━━━━\u001b[0m\u001b[37m\u001b[0m \u001b[1m0s\u001b[0m 17ms/step - loss: 0.4111 - mean_absolute_percentage_error: 30.4771 - val_loss: 0.3298 - val_mean_absolute_percentage_error: 26.0021\n",
      "Epoch 43/200\n",
      "\u001b[1m5/5\u001b[0m \u001b[32m━━━━━━━━━━━━━━━━━━━━\u001b[0m\u001b[37m\u001b[0m \u001b[1m0s\u001b[0m 16ms/step - loss: 0.4496 - mean_absolute_percentage_error: 37.2473 - val_loss: 0.3338 - val_mean_absolute_percentage_error: 26.1689\n",
      "Epoch 44/200\n",
      "\u001b[1m5/5\u001b[0m \u001b[32m━━━━━━━━━━━━━━━━━━━━\u001b[0m\u001b[37m\u001b[0m \u001b[1m0s\u001b[0m 16ms/step - loss: 0.4016 - mean_absolute_percentage_error: 31.9362 - val_loss: 0.3399 - val_mean_absolute_percentage_error: 26.6247\n",
      "Epoch 45/200\n",
      "\u001b[1m5/5\u001b[0m \u001b[32m━━━━━━━━━━━━━━━━━━━━\u001b[0m\u001b[37m\u001b[0m \u001b[1m0s\u001b[0m 14ms/step - loss: 0.5047 - mean_absolute_percentage_error: 37.3382 - val_loss: 0.3375 - val_mean_absolute_percentage_error: 26.3948\n",
      "Epoch 46/200\n",
      "\u001b[1m5/5\u001b[0m \u001b[32m━━━━━━━━━━━━━━━━━━━━\u001b[0m\u001b[37m\u001b[0m \u001b[1m0s\u001b[0m 15ms/step - loss: 0.4308 - mean_absolute_percentage_error: 34.5941 - val_loss: 0.3376 - val_mean_absolute_percentage_error: 26.3208\n",
      "Epoch 47/200\n",
      "\u001b[1m5/5\u001b[0m \u001b[32m━━━━━━━━━━━━━━━━━━━━\u001b[0m\u001b[37m\u001b[0m \u001b[1m0s\u001b[0m 15ms/step - loss: 0.4334 - mean_absolute_percentage_error: 33.8569 - val_loss: 0.3364 - val_mean_absolute_percentage_error: 26.3045\n",
      "Epoch 48/200\n",
      "\u001b[1m5/5\u001b[0m \u001b[32m━━━━━━━━━━━━━━━━━━━━\u001b[0m\u001b[37m\u001b[0m \u001b[1m0s\u001b[0m 13ms/step - loss: 0.3910 - mean_absolute_percentage_error: 30.8359 - val_loss: 0.3312 - val_mean_absolute_percentage_error: 25.8423\n",
      "Epoch 49/200\n",
      "\u001b[1m5/5\u001b[0m \u001b[32m━━━━━━━━━━━━━━━━━━━━\u001b[0m\u001b[37m\u001b[0m \u001b[1m0s\u001b[0m 17ms/step - loss: 0.4457 - mean_absolute_percentage_error: 32.9403 - val_loss: 0.3342 - val_mean_absolute_percentage_error: 26.1252\n",
      "Epoch 50/200\n",
      "\u001b[1m5/5\u001b[0m \u001b[32m━━━━━━━━━━━━━━━━━━━━\u001b[0m\u001b[37m\u001b[0m \u001b[1m0s\u001b[0m 13ms/step - loss: 0.4208 - mean_absolute_percentage_error: 30.4407 - val_loss: 0.3308 - val_mean_absolute_percentage_error: 25.7813\n",
      "Epoch 51/200\n",
      "\u001b[1m5/5\u001b[0m \u001b[32m━━━━━━━━━━━━━━━━━━━━\u001b[0m\u001b[37m\u001b[0m \u001b[1m0s\u001b[0m 13ms/step - loss: 0.4182 - mean_absolute_percentage_error: 30.9098 - val_loss: 0.3352 - val_mean_absolute_percentage_error: 26.1195\n",
      "Epoch 52/200\n",
      "\u001b[1m5/5\u001b[0m \u001b[32m━━━━━━━━━━━━━━━━━━━━\u001b[0m\u001b[37m\u001b[0m \u001b[1m0s\u001b[0m 12ms/step - loss: 0.4332 - mean_absolute_percentage_error: 31.4460 - val_loss: 0.3294 - val_mean_absolute_percentage_error: 25.6631\n",
      "Epoch 53/200\n",
      "\u001b[1m5/5\u001b[0m \u001b[32m━━━━━━━━━━━━━━━━━━━━\u001b[0m\u001b[37m\u001b[0m \u001b[1m0s\u001b[0m 13ms/step - loss: 0.4647 - mean_absolute_percentage_error: 32.4029 - val_loss: 0.3356 - val_mean_absolute_percentage_error: 26.0592\n",
      "Epoch 54/200\n",
      "\u001b[1m5/5\u001b[0m \u001b[32m━━━━━━━━━━━━━━━━━━━━\u001b[0m\u001b[37m\u001b[0m \u001b[1m0s\u001b[0m 14ms/step - loss: 0.4041 - mean_absolute_percentage_error: 31.9341 - val_loss: 0.3336 - val_mean_absolute_percentage_error: 25.8893\n",
      "Epoch 55/200\n",
      "\u001b[1m5/5\u001b[0m \u001b[32m━━━━━━━━━━━━━━━━━━━━\u001b[0m\u001b[37m\u001b[0m \u001b[1m0s\u001b[0m 20ms/step - loss: 0.4281 - mean_absolute_percentage_error: 32.5048 - val_loss: 0.3261 - val_mean_absolute_percentage_error: 25.2899\n",
      "Epoch 56/200\n",
      "\u001b[1m5/5\u001b[0m \u001b[32m━━━━━━━━━━━━━━━━━━━━\u001b[0m\u001b[37m\u001b[0m \u001b[1m0s\u001b[0m 14ms/step - loss: 0.4754 - mean_absolute_percentage_error: 36.3494 - val_loss: 0.3321 - val_mean_absolute_percentage_error: 25.7906\n",
      "Epoch 57/200\n",
      "\u001b[1m5/5\u001b[0m \u001b[32m━━━━━━━━━━━━━━━━━━━━\u001b[0m\u001b[37m\u001b[0m \u001b[1m0s\u001b[0m 17ms/step - loss: 0.4338 - mean_absolute_percentage_error: 30.5600 - val_loss: 0.3338 - val_mean_absolute_percentage_error: 25.9653\n",
      "Epoch 58/200\n",
      "\u001b[1m5/5\u001b[0m \u001b[32m━━━━━━━━━━━━━━━━━━━━\u001b[0m\u001b[37m\u001b[0m \u001b[1m0s\u001b[0m 14ms/step - loss: 0.5061 - mean_absolute_percentage_error: 33.7554 - val_loss: 0.3383 - val_mean_absolute_percentage_error: 26.2449\n",
      "Epoch 59/200\n",
      "\u001b[1m5/5\u001b[0m \u001b[32m━━━━━━━━━━━━━━━━━━━━\u001b[0m\u001b[37m\u001b[0m \u001b[1m0s\u001b[0m 19ms/step - loss: 0.3818 - mean_absolute_percentage_error: 29.4884 - val_loss: 0.3451 - val_mean_absolute_percentage_error: 26.7993\n",
      "Epoch 60/200\n",
      "\u001b[1m5/5\u001b[0m \u001b[32m━━━━━━━━━━━━━━━━━━━━\u001b[0m\u001b[37m\u001b[0m \u001b[1m0s\u001b[0m 18ms/step - loss: 0.4538 - mean_absolute_percentage_error: 34.8211 - val_loss: 0.3434 - val_mean_absolute_percentage_error: 26.6347\n",
      "Epoch 61/200\n",
      "\u001b[1m5/5\u001b[0m \u001b[32m━━━━━━━━━━━━━━━━━━━━\u001b[0m\u001b[37m\u001b[0m \u001b[1m0s\u001b[0m 17ms/step - loss: 0.3758 - mean_absolute_percentage_error: 29.4027 - val_loss: 0.3488 - val_mean_absolute_percentage_error: 27.0275\n",
      "Epoch 62/200\n",
      "\u001b[1m5/5\u001b[0m \u001b[32m━━━━━━━━━━━━━━━━━━━━\u001b[0m\u001b[37m\u001b[0m \u001b[1m0s\u001b[0m 13ms/step - loss: 0.5119 - mean_absolute_percentage_error: 38.5645 - val_loss: 0.3433 - val_mean_absolute_percentage_error: 26.6007\n",
      "Epoch 63/200\n",
      "\u001b[1m5/5\u001b[0m \u001b[32m━━━━━━━━━━━━━━━━━━━━\u001b[0m\u001b[37m\u001b[0m \u001b[1m0s\u001b[0m 25ms/step - loss: 0.3950 - mean_absolute_percentage_error: 28.7180 - val_loss: 0.3421 - val_mean_absolute_percentage_error: 26.4382\n",
      "Epoch 64/200\n",
      "\u001b[1m5/5\u001b[0m \u001b[32m━━━━━━━━━━━━━━━━━━━━\u001b[0m\u001b[37m\u001b[0m \u001b[1m0s\u001b[0m 13ms/step - loss: 0.4936 - mean_absolute_percentage_error: 33.9318 - val_loss: 0.3394 - val_mean_absolute_percentage_error: 26.1799\n",
      "Epoch 65/200\n",
      "\u001b[1m5/5\u001b[0m \u001b[32m━━━━━━━━━━━━━━━━━━━━\u001b[0m\u001b[37m\u001b[0m \u001b[1m0s\u001b[0m 16ms/step - loss: 0.4265 - mean_absolute_percentage_error: 32.1066 - val_loss: 0.3434 - val_mean_absolute_percentage_error: 26.5969\n",
      "Epoch 66/200\n",
      "\u001b[1m5/5\u001b[0m \u001b[32m━━━━━━━━━━━━━━━━━━━━\u001b[0m\u001b[37m\u001b[0m \u001b[1m0s\u001b[0m 15ms/step - loss: 0.4149 - mean_absolute_percentage_error: 31.1916 - val_loss: 0.3350 - val_mean_absolute_percentage_error: 25.8527\n",
      "Epoch 67/200\n",
      "\u001b[1m5/5\u001b[0m \u001b[32m━━━━━━━━━━━━━━━━━━━━\u001b[0m\u001b[37m\u001b[0m \u001b[1m0s\u001b[0m 14ms/step - loss: 0.4304 - mean_absolute_percentage_error: 31.1335 - val_loss: 0.3315 - val_mean_absolute_percentage_error: 25.7225\n",
      "Epoch 68/200\n",
      "\u001b[1m5/5\u001b[0m \u001b[32m━━━━━━━━━━━━━━━━━━━━\u001b[0m\u001b[37m\u001b[0m \u001b[1m0s\u001b[0m 15ms/step - loss: 0.4394 - mean_absolute_percentage_error: 31.9278 - val_loss: 0.3346 - val_mean_absolute_percentage_error: 26.2414\n",
      "Epoch 69/200\n",
      "\u001b[1m5/5\u001b[0m \u001b[32m━━━━━━━━━━━━━━━━━━━━\u001b[0m\u001b[37m\u001b[0m \u001b[1m0s\u001b[0m 14ms/step - loss: 0.3789 - mean_absolute_percentage_error: 28.7762 - val_loss: 0.3328 - val_mean_absolute_percentage_error: 25.9055\n",
      "Epoch 70/200\n",
      "\u001b[1m5/5\u001b[0m \u001b[32m━━━━━━━━━━━━━━━━━━━━\u001b[0m\u001b[37m\u001b[0m \u001b[1m0s\u001b[0m 17ms/step - loss: 0.4800 - mean_absolute_percentage_error: 36.2841 - val_loss: 0.3389 - val_mean_absolute_percentage_error: 26.3471\n",
      "Epoch 71/200\n",
      "\u001b[1m5/5\u001b[0m \u001b[32m━━━━━━━━━━━━━━━━━━━━\u001b[0m\u001b[37m\u001b[0m \u001b[1m0s\u001b[0m 15ms/step - loss: 0.4420 - mean_absolute_percentage_error: 32.9126 - val_loss: 0.3436 - val_mean_absolute_percentage_error: 26.7361\n",
      "Epoch 72/200\n",
      "\u001b[1m5/5\u001b[0m \u001b[32m━━━━━━━━━━━━━━━━━━━━\u001b[0m\u001b[37m\u001b[0m \u001b[1m0s\u001b[0m 14ms/step - loss: 0.4792 - mean_absolute_percentage_error: 32.6415 - val_loss: 0.3351 - val_mean_absolute_percentage_error: 26.0661\n",
      "Epoch 73/200\n",
      "\u001b[1m5/5\u001b[0m \u001b[32m━━━━━━━━━━━━━━━━━━━━\u001b[0m\u001b[37m\u001b[0m \u001b[1m0s\u001b[0m 15ms/step - loss: 0.4661 - mean_absolute_percentage_error: 34.3040 - val_loss: 0.3383 - val_mean_absolute_percentage_error: 26.3576\n",
      "Epoch 74/200\n",
      "\u001b[1m5/5\u001b[0m \u001b[32m━━━━━━━━━━━━━━━━━━━━\u001b[0m\u001b[37m\u001b[0m \u001b[1m0s\u001b[0m 14ms/step - loss: 0.4511 - mean_absolute_percentage_error: 35.2412 - val_loss: 0.3334 - val_mean_absolute_percentage_error: 25.9770\n",
      "Epoch 75/200\n",
      "\u001b[1m5/5\u001b[0m \u001b[32m━━━━━━━━━━━━━━━━━━━━\u001b[0m\u001b[37m\u001b[0m \u001b[1m0s\u001b[0m 13ms/step - loss: 0.4468 - mean_absolute_percentage_error: 32.6410 - val_loss: 0.3380 - val_mean_absolute_percentage_error: 26.3392\n",
      "Epoch 76/200\n",
      "\u001b[1m5/5\u001b[0m \u001b[32m━━━━━━━━━━━━━━━━━━━━\u001b[0m\u001b[37m\u001b[0m \u001b[1m0s\u001b[0m 14ms/step - loss: 0.4157 - mean_absolute_percentage_error: 32.3955 - val_loss: 0.3510 - val_mean_absolute_percentage_error: 27.2462\n",
      "Epoch 77/200\n",
      "\u001b[1m5/5\u001b[0m \u001b[32m━━━━━━━━━━━━━━━━━━━━\u001b[0m\u001b[37m\u001b[0m \u001b[1m0s\u001b[0m 18ms/step - loss: 0.4323 - mean_absolute_percentage_error: 32.6695 - val_loss: 0.3550 - val_mean_absolute_percentage_error: 27.5089\n",
      "Epoch 78/200\n",
      "\u001b[1m5/5\u001b[0m \u001b[32m━━━━━━━━━━━━━━━━━━━━\u001b[0m\u001b[37m\u001b[0m \u001b[1m0s\u001b[0m 15ms/step - loss: 0.4861 - mean_absolute_percentage_error: 33.6079 - val_loss: 0.3514 - val_mean_absolute_percentage_error: 27.3022\n",
      "Epoch 79/200\n",
      "\u001b[1m5/5\u001b[0m \u001b[32m━━━━━━━━━━━━━━━━━━━━\u001b[0m\u001b[37m\u001b[0m \u001b[1m0s\u001b[0m 15ms/step - loss: 0.4493 - mean_absolute_percentage_error: 32.8067 - val_loss: 0.3428 - val_mean_absolute_percentage_error: 26.7198\n",
      "Epoch 80/200\n",
      "\u001b[1m5/5\u001b[0m \u001b[32m━━━━━━━━━━━━━━━━━━━━\u001b[0m\u001b[37m\u001b[0m \u001b[1m0s\u001b[0m 13ms/step - loss: 0.4064 - mean_absolute_percentage_error: 31.0565 - val_loss: 0.3433 - val_mean_absolute_percentage_error: 26.8663\n",
      "Epoch 81/200\n",
      "\u001b[1m5/5\u001b[0m \u001b[32m━━━━━━━━━━━━━━━━━━━━\u001b[0m\u001b[37m\u001b[0m \u001b[1m0s\u001b[0m 14ms/step - loss: 0.4179 - mean_absolute_percentage_error: 32.2252 - val_loss: 0.3314 - val_mean_absolute_percentage_error: 26.0277\n",
      "Epoch 82/200\n",
      "\u001b[1m5/5\u001b[0m \u001b[32m━━━━━━━━━━━━━━━━━━━━\u001b[0m\u001b[37m\u001b[0m \u001b[1m0s\u001b[0m 15ms/step - loss: 0.3926 - mean_absolute_percentage_error: 29.8665 - val_loss: 0.3251 - val_mean_absolute_percentage_error: 25.6935\n",
      "Epoch 83/200\n",
      "\u001b[1m5/5\u001b[0m \u001b[32m━━━━━━━━━━━━━━━━━━━━\u001b[0m\u001b[37m\u001b[0m \u001b[1m0s\u001b[0m 15ms/step - loss: 0.4402 - mean_absolute_percentage_error: 31.7906 - val_loss: 0.3230 - val_mean_absolute_percentage_error: 25.3403\n",
      "Epoch 84/200\n",
      "\u001b[1m5/5\u001b[0m \u001b[32m━━━━━━━━━━━━━━━━━━━━\u001b[0m\u001b[37m\u001b[0m \u001b[1m0s\u001b[0m 16ms/step - loss: 0.4664 - mean_absolute_percentage_error: 36.0622 - val_loss: 0.3393 - val_mean_absolute_percentage_error: 26.3145\n",
      "Epoch 85/200\n",
      "\u001b[1m5/5\u001b[0m \u001b[32m━━━━━━━━━━━━━━━━━━━━\u001b[0m\u001b[37m\u001b[0m \u001b[1m0s\u001b[0m 14ms/step - loss: 0.4200 - mean_absolute_percentage_error: 32.1020 - val_loss: 0.3524 - val_mean_absolute_percentage_error: 27.0134\n",
      "Epoch 86/200\n",
      "\u001b[1m5/5\u001b[0m \u001b[32m━━━━━━━━━━━━━━━━━━━━\u001b[0m\u001b[37m\u001b[0m \u001b[1m0s\u001b[0m 17ms/step - loss: 0.5274 - mean_absolute_percentage_error: 35.6173 - val_loss: 0.3654 - val_mean_absolute_percentage_error: 28.0070\n",
      "Epoch 87/200\n",
      "\u001b[1m5/5\u001b[0m \u001b[32m━━━━━━━━━━━━━━━━━━━━\u001b[0m\u001b[37m\u001b[0m \u001b[1m0s\u001b[0m 13ms/step - loss: 0.5277 - mean_absolute_percentage_error: 35.6235 - val_loss: 0.3648 - val_mean_absolute_percentage_error: 28.2476\n",
      "Epoch 88/200\n",
      "\u001b[1m5/5\u001b[0m \u001b[32m━━━━━━━━━━━━━━━━━━━━\u001b[0m\u001b[37m\u001b[0m \u001b[1m0s\u001b[0m 14ms/step - loss: 0.4438 - mean_absolute_percentage_error: 32.7953 - val_loss: 0.3440 - val_mean_absolute_percentage_error: 26.5221\n",
      "Epoch 89/200\n",
      "\u001b[1m5/5\u001b[0m \u001b[32m━━━━━━━━━━━━━━━━━━━━\u001b[0m\u001b[37m\u001b[0m \u001b[1m0s\u001b[0m 17ms/step - loss: 0.4389 - mean_absolute_percentage_error: 31.0832 - val_loss: 0.3412 - val_mean_absolute_percentage_error: 26.4481\n",
      "Epoch 90/200\n",
      "\u001b[1m5/5\u001b[0m \u001b[32m━━━━━━━━━━━━━━━━━━━━\u001b[0m\u001b[37m\u001b[0m \u001b[1m0s\u001b[0m 13ms/step - loss: 0.4024 - mean_absolute_percentage_error: 31.7000 - val_loss: 0.3485 - val_mean_absolute_percentage_error: 27.1358\n",
      "Epoch 91/200\n",
      "\u001b[1m5/5\u001b[0m \u001b[32m━━━━━━━━━━━━━━━━━━━━\u001b[0m\u001b[37m\u001b[0m \u001b[1m0s\u001b[0m 14ms/step - loss: 0.3893 - mean_absolute_percentage_error: 31.0520 - val_loss: 0.3415 - val_mean_absolute_percentage_error: 26.4548\n",
      "Epoch 92/200\n",
      "\u001b[1m5/5\u001b[0m \u001b[32m━━━━━━━━━━━━━━━━━━━━\u001b[0m\u001b[37m\u001b[0m \u001b[1m0s\u001b[0m 12ms/step - loss: 0.3942 - mean_absolute_percentage_error: 28.9792 - val_loss: 0.3362 - val_mean_absolute_percentage_error: 26.1393\n",
      "Epoch 93/200\n",
      "\u001b[1m5/5\u001b[0m \u001b[32m━━━━━━━━━━━━━━━━━━━━\u001b[0m\u001b[37m\u001b[0m \u001b[1m0s\u001b[0m 13ms/step - loss: 0.4271 - mean_absolute_percentage_error: 31.2051 - val_loss: 0.3297 - val_mean_absolute_percentage_error: 25.5646\n",
      "Epoch 94/200\n",
      "\u001b[1m5/5\u001b[0m \u001b[32m━━━━━━━━━━━━━━━━━━━━\u001b[0m\u001b[37m\u001b[0m \u001b[1m0s\u001b[0m 17ms/step - loss: 0.3953 - mean_absolute_percentage_error: 31.6138 - val_loss: 0.3292 - val_mean_absolute_percentage_error: 25.6350\n",
      "Epoch 95/200\n",
      "\u001b[1m5/5\u001b[0m \u001b[32m━━━━━━━━━━━━━━━━━━━━\u001b[0m\u001b[37m\u001b[0m \u001b[1m0s\u001b[0m 13ms/step - loss: 0.3590 - mean_absolute_percentage_error: 28.0960 - val_loss: 0.3279 - val_mean_absolute_percentage_error: 25.5006\n",
      "Epoch 96/200\n",
      "\u001b[1m5/5\u001b[0m \u001b[32m━━━━━━━━━━━━━━━━━━━━\u001b[0m\u001b[37m\u001b[0m \u001b[1m0s\u001b[0m 15ms/step - loss: 0.4605 - mean_absolute_percentage_error: 33.1995 - val_loss: 0.3283 - val_mean_absolute_percentage_error: 25.5664\n",
      "Epoch 97/200\n",
      "\u001b[1m5/5\u001b[0m \u001b[32m━━━━━━━━━━━━━━━━━━━━\u001b[0m\u001b[37m\u001b[0m \u001b[1m0s\u001b[0m 14ms/step - loss: 0.4153 - mean_absolute_percentage_error: 31.7185 - val_loss: 0.3351 - val_mean_absolute_percentage_error: 26.0042\n",
      "Epoch 98/200\n",
      "\u001b[1m5/5\u001b[0m \u001b[32m━━━━━━━━━━━━━━━━━━━━\u001b[0m\u001b[37m\u001b[0m \u001b[1m0s\u001b[0m 17ms/step - loss: 0.4378 - mean_absolute_percentage_error: 31.6538 - val_loss: 0.3363 - val_mean_absolute_percentage_error: 26.1400\n",
      "Epoch 99/200\n",
      "\u001b[1m5/5\u001b[0m \u001b[32m━━━━━━━━━━━━━━━━━━━━\u001b[0m\u001b[37m\u001b[0m \u001b[1m0s\u001b[0m 13ms/step - loss: 0.4306 - mean_absolute_percentage_error: 32.0321 - val_loss: 0.3345 - val_mean_absolute_percentage_error: 25.9497\n",
      "Epoch 100/200\n",
      "\u001b[1m5/5\u001b[0m \u001b[32m━━━━━━━━━━━━━━━━━━━━\u001b[0m\u001b[37m\u001b[0m \u001b[1m0s\u001b[0m 17ms/step - loss: 0.4573 - mean_absolute_percentage_error: 33.2606 - val_loss: 0.3508 - val_mean_absolute_percentage_error: 27.1467\n",
      "Epoch 101/200\n",
      "\u001b[1m5/5\u001b[0m \u001b[32m━━━━━━━━━━━━━━━━━━━━\u001b[0m\u001b[37m\u001b[0m \u001b[1m0s\u001b[0m 14ms/step - loss: 0.4798 - mean_absolute_percentage_error: 33.6784 - val_loss: 0.3499 - val_mean_absolute_percentage_error: 27.0266\n",
      "Epoch 102/200\n",
      "\u001b[1m5/5\u001b[0m \u001b[32m━━━━━━━━━━━━━━━━━━━━\u001b[0m\u001b[37m\u001b[0m \u001b[1m0s\u001b[0m 15ms/step - loss: 0.4640 - mean_absolute_percentage_error: 33.4735 - val_loss: 0.3445 - val_mean_absolute_percentage_error: 26.6617\n",
      "Epoch 103/200\n",
      "\u001b[1m5/5\u001b[0m \u001b[32m━━━━━━━━━━━━━━━━━━━━\u001b[0m\u001b[37m\u001b[0m \u001b[1m0s\u001b[0m 18ms/step - loss: 0.4166 - mean_absolute_percentage_error: 31.8050 - val_loss: 0.3328 - val_mean_absolute_percentage_error: 25.8576\n",
      "Epoch 104/200\n",
      "\u001b[1m5/5\u001b[0m \u001b[32m━━━━━━━━━━━━━━━━━━━━\u001b[0m\u001b[37m\u001b[0m \u001b[1m0s\u001b[0m 14ms/step - loss: 0.3880 - mean_absolute_percentage_error: 29.8996 - val_loss: 0.3350 - val_mean_absolute_percentage_error: 26.0221\n",
      "Epoch 105/200\n",
      "\u001b[1m5/5\u001b[0m \u001b[32m━━━━━━━━━━━━━━━━━━━━\u001b[0m\u001b[37m\u001b[0m \u001b[1m0s\u001b[0m 14ms/step - loss: 0.4065 - mean_absolute_percentage_error: 30.8608 - val_loss: 0.3463 - val_mean_absolute_percentage_error: 26.9708\n",
      "Epoch 106/200\n",
      "\u001b[1m5/5\u001b[0m \u001b[32m━━━━━━━━━━━━━━━━━━━━\u001b[0m\u001b[37m\u001b[0m \u001b[1m0s\u001b[0m 13ms/step - loss: 0.4336 - mean_absolute_percentage_error: 32.6498 - val_loss: 0.3541 - val_mean_absolute_percentage_error: 27.4544\n",
      "Epoch 107/200\n",
      "\u001b[1m5/5\u001b[0m \u001b[32m━━━━━━━━━━━━━━━━━━━━\u001b[0m\u001b[37m\u001b[0m \u001b[1m0s\u001b[0m 14ms/step - loss: 0.4409 - mean_absolute_percentage_error: 32.7584 - val_loss: 0.3538 - val_mean_absolute_percentage_error: 27.4575\n",
      "Epoch 108/200\n",
      "\u001b[1m5/5\u001b[0m \u001b[32m━━━━━━━━━━━━━━━━━━━━\u001b[0m\u001b[37m\u001b[0m \u001b[1m0s\u001b[0m 14ms/step - loss: 0.3528 - mean_absolute_percentage_error: 25.6764 - val_loss: 0.3438 - val_mean_absolute_percentage_error: 26.8162\n",
      "Epoch 109/200\n",
      "\u001b[1m5/5\u001b[0m \u001b[32m━━━━━━━━━━━━━━━━━━━━\u001b[0m\u001b[37m\u001b[0m \u001b[1m0s\u001b[0m 16ms/step - loss: 0.4366 - mean_absolute_percentage_error: 32.1683 - val_loss: 0.3449 - val_mean_absolute_percentage_error: 26.8034\n",
      "Epoch 110/200\n",
      "\u001b[1m5/5\u001b[0m \u001b[32m━━━━━━━━━━━━━━━━━━━━\u001b[0m\u001b[37m\u001b[0m \u001b[1m0s\u001b[0m 12ms/step - loss: 0.4428 - mean_absolute_percentage_error: 32.0586 - val_loss: 0.3512 - val_mean_absolute_percentage_error: 27.1980\n",
      "Epoch 111/200\n",
      "\u001b[1m5/5\u001b[0m \u001b[32m━━━━━━━━━━━━━━━━━━━━\u001b[0m\u001b[37m\u001b[0m \u001b[1m0s\u001b[0m 14ms/step - loss: 0.4845 - mean_absolute_percentage_error: 34.2056 - val_loss: 0.3559 - val_mean_absolute_percentage_error: 27.5060\n",
      "Epoch 112/200\n",
      "\u001b[1m5/5\u001b[0m \u001b[32m━━━━━━━━━━━━━━━━━━━━\u001b[0m\u001b[37m\u001b[0m \u001b[1m0s\u001b[0m 15ms/step - loss: 0.4207 - mean_absolute_percentage_error: 30.3451 - val_loss: 0.3542 - val_mean_absolute_percentage_error: 27.3584\n",
      "Epoch 113/200\n",
      "\u001b[1m5/5\u001b[0m \u001b[32m━━━━━━━━━━━━━━━━━━━━\u001b[0m\u001b[37m\u001b[0m \u001b[1m0s\u001b[0m 15ms/step - loss: 0.4725 - mean_absolute_percentage_error: 36.1487 - val_loss: 0.3414 - val_mean_absolute_percentage_error: 26.3453\n",
      "Epoch 114/200\n",
      "\u001b[1m5/5\u001b[0m \u001b[32m━━━━━━━━━━━━━━━━━━━━\u001b[0m\u001b[37m\u001b[0m \u001b[1m0s\u001b[0m 15ms/step - loss: 0.4860 - mean_absolute_percentage_error: 35.1589 - val_loss: 0.3420 - val_mean_absolute_percentage_error: 26.4151\n",
      "Epoch 115/200\n",
      "\u001b[1m5/5\u001b[0m \u001b[32m━━━━━━━━━━━━━━━━━━━━\u001b[0m\u001b[37m\u001b[0m \u001b[1m0s\u001b[0m 14ms/step - loss: 0.3789 - mean_absolute_percentage_error: 28.8003 - val_loss: 0.3510 - val_mean_absolute_percentage_error: 27.2095\n",
      "Epoch 116/200\n",
      "\u001b[1m5/5\u001b[0m \u001b[32m━━━━━━━━━━━━━━━━━━━━\u001b[0m\u001b[37m\u001b[0m \u001b[1m0s\u001b[0m 15ms/step - loss: 0.4114 - mean_absolute_percentage_error: 31.9974 - val_loss: 0.3557 - val_mean_absolute_percentage_error: 27.5400\n",
      "Epoch 117/200\n",
      "\u001b[1m5/5\u001b[0m \u001b[32m━━━━━━━━━━━━━━━━━━━━\u001b[0m\u001b[37m\u001b[0m \u001b[1m0s\u001b[0m 13ms/step - loss: 0.4248 - mean_absolute_percentage_error: 33.9627 - val_loss: 0.3518 - val_mean_absolute_percentage_error: 27.2433\n",
      "Epoch 118/200\n",
      "\u001b[1m5/5\u001b[0m \u001b[32m━━━━━━━━━━━━━━━━━━━━\u001b[0m\u001b[37m\u001b[0m \u001b[1m0s\u001b[0m 13ms/step - loss: 0.4361 - mean_absolute_percentage_error: 32.9991 - val_loss: 0.3562 - val_mean_absolute_percentage_error: 27.6423\n",
      "Epoch 119/200\n",
      "\u001b[1m5/5\u001b[0m \u001b[32m━━━━━━━━━━━━━━━━━━━━\u001b[0m\u001b[37m\u001b[0m \u001b[1m0s\u001b[0m 14ms/step - loss: 0.4843 - mean_absolute_percentage_error: 30.8267 - val_loss: 0.3495 - val_mean_absolute_percentage_error: 27.0792\n",
      "Epoch 120/200\n",
      "\u001b[1m5/5\u001b[0m \u001b[32m━━━━━━━━━━━━━━━━━━━━\u001b[0m\u001b[37m\u001b[0m \u001b[1m0s\u001b[0m 18ms/step - loss: 0.3823 - mean_absolute_percentage_error: 29.1188 - val_loss: 0.3490 - val_mean_absolute_percentage_error: 27.0303\n",
      "Epoch 121/200\n",
      "\u001b[1m5/5\u001b[0m \u001b[32m━━━━━━━━━━━━━━━━━━━━\u001b[0m\u001b[37m\u001b[0m \u001b[1m0s\u001b[0m 17ms/step - loss: 0.4500 - mean_absolute_percentage_error: 35.0101 - val_loss: 0.3479 - val_mean_absolute_percentage_error: 26.9452\n",
      "Epoch 122/200\n",
      "\u001b[1m5/5\u001b[0m \u001b[32m━━━━━━━━━━━━━━━━━━━━\u001b[0m\u001b[37m\u001b[0m \u001b[1m0s\u001b[0m 13ms/step - loss: 0.4800 - mean_absolute_percentage_error: 34.2187 - val_loss: 0.3538 - val_mean_absolute_percentage_error: 27.3538\n",
      "Epoch 123/200\n",
      "\u001b[1m5/5\u001b[0m \u001b[32m━━━━━━━━━━━━━━━━━━━━\u001b[0m\u001b[37m\u001b[0m \u001b[1m0s\u001b[0m 14ms/step - loss: 0.4671 - mean_absolute_percentage_error: 33.7189 - val_loss: 0.3607 - val_mean_absolute_percentage_error: 27.7546\n",
      "Epoch 124/200\n",
      "\u001b[1m5/5\u001b[0m \u001b[32m━━━━━━━━━━━━━━━━━━━━\u001b[0m\u001b[37m\u001b[0m \u001b[1m0s\u001b[0m 15ms/step - loss: 0.3883 - mean_absolute_percentage_error: 31.3709 - val_loss: 0.3572 - val_mean_absolute_percentage_error: 27.3282\n",
      "Epoch 125/200\n",
      "\u001b[1m5/5\u001b[0m \u001b[32m━━━━━━━━━━━━━━━━━━━━\u001b[0m\u001b[37m\u001b[0m \u001b[1m0s\u001b[0m 14ms/step - loss: 0.3755 - mean_absolute_percentage_error: 28.4251 - val_loss: 0.3544 - val_mean_absolute_percentage_error: 27.4943\n",
      "Epoch 126/200\n",
      "\u001b[1m5/5\u001b[0m \u001b[32m━━━━━━━━━━━━━━━━━━━━\u001b[0m\u001b[37m\u001b[0m \u001b[1m0s\u001b[0m 15ms/step - loss: 0.4074 - mean_absolute_percentage_error: 29.9729 - val_loss: 0.3487 - val_mean_absolute_percentage_error: 27.0209\n",
      "Epoch 127/200\n",
      "\u001b[1m5/5\u001b[0m \u001b[32m━━━━━━━━━━━━━━━━━━━━\u001b[0m\u001b[37m\u001b[0m \u001b[1m0s\u001b[0m 27ms/step - loss: 0.3965 - mean_absolute_percentage_error: 31.4162 - val_loss: 0.3568 - val_mean_absolute_percentage_error: 27.4039\n",
      "Epoch 128/200\n",
      "\u001b[1m5/5\u001b[0m \u001b[32m━━━━━━━━━━━━━━━━━━━━\u001b[0m\u001b[37m\u001b[0m \u001b[1m0s\u001b[0m 13ms/step - loss: 0.3954 - mean_absolute_percentage_error: 30.7316 - val_loss: 0.3634 - val_mean_absolute_percentage_error: 28.0502\n",
      "Epoch 129/200\n",
      "\u001b[1m5/5\u001b[0m \u001b[32m━━━━━━━━━━━━━━━━━━━━\u001b[0m\u001b[37m\u001b[0m \u001b[1m0s\u001b[0m 14ms/step - loss: 0.4824 - mean_absolute_percentage_error: 33.0225 - val_loss: 0.3613 - val_mean_absolute_percentage_error: 27.9788\n",
      "Epoch 130/200\n",
      "\u001b[1m5/5\u001b[0m \u001b[32m━━━━━━━━━━━━━━━━━━━━\u001b[0m\u001b[37m\u001b[0m \u001b[1m0s\u001b[0m 15ms/step - loss: 0.4186 - mean_absolute_percentage_error: 28.2049 - val_loss: 0.3593 - val_mean_absolute_percentage_error: 27.6917\n",
      "Epoch 131/200\n",
      "\u001b[1m5/5\u001b[0m \u001b[32m━━━━━━━━━━━━━━━━━━━━\u001b[0m\u001b[37m\u001b[0m \u001b[1m0s\u001b[0m 17ms/step - loss: 0.4629 - mean_absolute_percentage_error: 32.7968 - val_loss: 0.3644 - val_mean_absolute_percentage_error: 28.0959\n",
      "Epoch 132/200\n",
      "\u001b[1m5/5\u001b[0m \u001b[32m━━━━━━━━━━━━━━━━━━━━\u001b[0m\u001b[37m\u001b[0m \u001b[1m0s\u001b[0m 15ms/step - loss: 0.3897 - mean_absolute_percentage_error: 28.6594 - val_loss: 0.3697 - val_mean_absolute_percentage_error: 28.2979\n",
      "Epoch 133/200\n",
      "\u001b[1m5/5\u001b[0m \u001b[32m━━━━━━━━━━━━━━━━━━━━\u001b[0m\u001b[37m\u001b[0m \u001b[1m0s\u001b[0m 15ms/step - loss: 0.4558 - mean_absolute_percentage_error: 30.4816 - val_loss: 0.3618 - val_mean_absolute_percentage_error: 27.6620\n",
      "Epoch 134/200\n",
      "\u001b[1m5/5\u001b[0m \u001b[32m━━━━━━━━━━━━━━━━━━━━\u001b[0m\u001b[37m\u001b[0m \u001b[1m0s\u001b[0m 15ms/step - loss: 0.5416 - mean_absolute_percentage_error: 35.4820 - val_loss: 0.3509 - val_mean_absolute_percentage_error: 27.1203\n",
      "Epoch 135/200\n",
      "\u001b[1m5/5\u001b[0m \u001b[32m━━━━━━━━━━━━━━━━━━━━\u001b[0m\u001b[37m\u001b[0m \u001b[1m0s\u001b[0m 13ms/step - loss: 0.4113 - mean_absolute_percentage_error: 30.4700 - val_loss: 0.3383 - val_mean_absolute_percentage_error: 26.1816\n",
      "Epoch 136/200\n",
      "\u001b[1m5/5\u001b[0m \u001b[32m━━━━━━━━━━━━━━━━━━━━\u001b[0m\u001b[37m\u001b[0m \u001b[1m0s\u001b[0m 17ms/step - loss: 0.4266 - mean_absolute_percentage_error: 30.5989 - val_loss: 0.3471 - val_mean_absolute_percentage_error: 26.9881\n",
      "Epoch 137/200\n",
      "\u001b[1m5/5\u001b[0m \u001b[32m━━━━━━━━━━━━━━━━━━━━\u001b[0m\u001b[37m\u001b[0m \u001b[1m0s\u001b[0m 17ms/step - loss: 0.4098 - mean_absolute_percentage_error: 30.6948 - val_loss: 0.3569 - val_mean_absolute_percentage_error: 27.5508\n",
      "Epoch 138/200\n",
      "\u001b[1m5/5\u001b[0m \u001b[32m━━━━━━━━━━━━━━━━━━━━\u001b[0m\u001b[37m\u001b[0m \u001b[1m0s\u001b[0m 11ms/step - loss: 0.4019 - mean_absolute_percentage_error: 30.5931 - val_loss: 0.3593 - val_mean_absolute_percentage_error: 27.5539\n",
      "Epoch 139/200\n",
      "\u001b[1m5/5\u001b[0m \u001b[32m━━━━━━━━━━━━━━━━━━━━\u001b[0m\u001b[37m\u001b[0m \u001b[1m0s\u001b[0m 15ms/step - loss: 0.4265 - mean_absolute_percentage_error: 31.7708 - val_loss: 0.3662 - val_mean_absolute_percentage_error: 28.2712\n",
      "Epoch 140/200\n",
      "\u001b[1m5/5\u001b[0m \u001b[32m━━━━━━━━━━━━━━━━━━━━\u001b[0m\u001b[37m\u001b[0m \u001b[1m0s\u001b[0m 17ms/step - loss: 0.4132 - mean_absolute_percentage_error: 33.3667 - val_loss: 0.3577 - val_mean_absolute_percentage_error: 27.5907\n",
      "Epoch 141/200\n",
      "\u001b[1m5/5\u001b[0m \u001b[32m━━━━━━━━━━━━━━━━━━━━\u001b[0m\u001b[37m\u001b[0m \u001b[1m0s\u001b[0m 13ms/step - loss: 0.4541 - mean_absolute_percentage_error: 30.1346 - val_loss: 0.3468 - val_mean_absolute_percentage_error: 26.6084\n",
      "Epoch 142/200\n",
      "\u001b[1m5/5\u001b[0m \u001b[32m━━━━━━━━━━━━━━━━━━━━\u001b[0m\u001b[37m\u001b[0m \u001b[1m0s\u001b[0m 12ms/step - loss: 0.3851 - mean_absolute_percentage_error: 27.7506 - val_loss: 0.3500 - val_mean_absolute_percentage_error: 26.8909\n",
      "Epoch 143/200\n",
      "\u001b[1m5/5\u001b[0m \u001b[32m━━━━━━━━━━━━━━━━━━━━\u001b[0m\u001b[37m\u001b[0m \u001b[1m0s\u001b[0m 14ms/step - loss: 0.3908 - mean_absolute_percentage_error: 29.5946 - val_loss: 0.3454 - val_mean_absolute_percentage_error: 26.4612\n",
      "Epoch 144/200\n",
      "\u001b[1m5/5\u001b[0m \u001b[32m━━━━━━━━━━━━━━━━━━━━\u001b[0m\u001b[37m\u001b[0m \u001b[1m0s\u001b[0m 14ms/step - loss: 0.4462 - mean_absolute_percentage_error: 33.8328 - val_loss: 0.3591 - val_mean_absolute_percentage_error: 27.6102\n",
      "Epoch 145/200\n",
      "\u001b[1m5/5\u001b[0m \u001b[32m━━━━━━━━━━━━━━━━━━━━\u001b[0m\u001b[37m\u001b[0m \u001b[1m0s\u001b[0m 17ms/step - loss: 0.4062 - mean_absolute_percentage_error: 30.6654 - val_loss: 0.3557 - val_mean_absolute_percentage_error: 27.2409\n",
      "Epoch 146/200\n",
      "\u001b[1m5/5\u001b[0m \u001b[32m━━━━━━━━━━━━━━━━━━━━\u001b[0m\u001b[37m\u001b[0m \u001b[1m0s\u001b[0m 14ms/step - loss: 0.4035 - mean_absolute_percentage_error: 30.3955 - val_loss: 0.3493 - val_mean_absolute_percentage_error: 26.8954\n",
      "Epoch 147/200\n",
      "\u001b[1m5/5\u001b[0m \u001b[32m━━━━━━━━━━━━━━━━━━━━\u001b[0m\u001b[37m\u001b[0m \u001b[1m0s\u001b[0m 15ms/step - loss: 0.4214 - mean_absolute_percentage_error: 30.1218 - val_loss: 0.3521 - val_mean_absolute_percentage_error: 27.2964\n",
      "Epoch 148/200\n",
      "\u001b[1m5/5\u001b[0m \u001b[32m━━━━━━━━━━━━━━━━━━━━\u001b[0m\u001b[37m\u001b[0m \u001b[1m0s\u001b[0m 14ms/step - loss: 0.3845 - mean_absolute_percentage_error: 29.2468 - val_loss: 0.3510 - val_mean_absolute_percentage_error: 26.9988\n",
      "Epoch 149/200\n",
      "\u001b[1m5/5\u001b[0m \u001b[32m━━━━━━━━━━━━━━━━━━━━\u001b[0m\u001b[37m\u001b[0m \u001b[1m0s\u001b[0m 15ms/step - loss: 0.3840 - mean_absolute_percentage_error: 27.5034 - val_loss: 0.3589 - val_mean_absolute_percentage_error: 27.6567\n",
      "Epoch 150/200\n",
      "\u001b[1m5/5\u001b[0m \u001b[32m━━━━━━━━━━━━━━━━━━━━\u001b[0m\u001b[37m\u001b[0m \u001b[1m0s\u001b[0m 13ms/step - loss: 0.4092 - mean_absolute_percentage_error: 28.7276 - val_loss: 0.3490 - val_mean_absolute_percentage_error: 26.9018\n",
      "Epoch 151/200\n",
      "\u001b[1m5/5\u001b[0m \u001b[32m━━━━━━━━━━━━━━━━━━━━\u001b[0m\u001b[37m\u001b[0m \u001b[1m0s\u001b[0m 18ms/step - loss: 0.4026 - mean_absolute_percentage_error: 30.7612 - val_loss: 0.3482 - val_mean_absolute_percentage_error: 26.9565\n",
      "Epoch 152/200\n",
      "\u001b[1m5/5\u001b[0m \u001b[32m━━━━━━━━━━━━━━━━━━━━\u001b[0m\u001b[37m\u001b[0m \u001b[1m0s\u001b[0m 17ms/step - loss: 0.4330 - mean_absolute_percentage_error: 32.1746 - val_loss: 0.3506 - val_mean_absolute_percentage_error: 27.1187\n",
      "Epoch 153/200\n",
      "\u001b[1m5/5\u001b[0m \u001b[32m━━━━━━━━━━━━━━━━━━━━\u001b[0m\u001b[37m\u001b[0m \u001b[1m0s\u001b[0m 14ms/step - loss: 0.4651 - mean_absolute_percentage_error: 36.0332 - val_loss: 0.3544 - val_mean_absolute_percentage_error: 27.2471\n",
      "Epoch 154/200\n",
      "\u001b[1m5/5\u001b[0m \u001b[32m━━━━━━━━━━━━━━━━━━━━\u001b[0m\u001b[37m\u001b[0m \u001b[1m0s\u001b[0m 13ms/step - loss: 0.4576 - mean_absolute_percentage_error: 36.2598 - val_loss: 0.3647 - val_mean_absolute_percentage_error: 28.0085\n",
      "Epoch 155/200\n",
      "\u001b[1m5/5\u001b[0m \u001b[32m━━━━━━━━━━━━━━━━━━━━\u001b[0m\u001b[37m\u001b[0m \u001b[1m0s\u001b[0m 13ms/step - loss: 0.4734 - mean_absolute_percentage_error: 33.5826 - val_loss: 0.3637 - val_mean_absolute_percentage_error: 27.8380\n",
      "Epoch 156/200\n",
      "\u001b[1m5/5\u001b[0m \u001b[32m━━━━━━━━━━━━━━━━━━━━\u001b[0m\u001b[37m\u001b[0m \u001b[1m0s\u001b[0m 17ms/step - loss: 0.4674 - mean_absolute_percentage_error: 33.2133 - val_loss: 0.3585 - val_mean_absolute_percentage_error: 27.4753\n",
      "Epoch 157/200\n",
      "\u001b[1m5/5\u001b[0m \u001b[32m━━━━━━━━━━━━━━━━━━━━\u001b[0m\u001b[37m\u001b[0m \u001b[1m0s\u001b[0m 15ms/step - loss: 0.3968 - mean_absolute_percentage_error: 29.2609 - val_loss: 0.3563 - val_mean_absolute_percentage_error: 27.3763\n",
      "Epoch 158/200\n",
      "\u001b[1m5/5\u001b[0m \u001b[32m━━━━━━━━━━━━━━━━━━━━\u001b[0m\u001b[37m\u001b[0m \u001b[1m0s\u001b[0m 13ms/step - loss: 0.3892 - mean_absolute_percentage_error: 28.8605 - val_loss: 0.3540 - val_mean_absolute_percentage_error: 27.2975\n",
      "Epoch 159/200\n",
      "\u001b[1m5/5\u001b[0m \u001b[32m━━━━━━━━━━━━━━━━━━━━\u001b[0m\u001b[37m\u001b[0m \u001b[1m0s\u001b[0m 15ms/step - loss: 0.4647 - mean_absolute_percentage_error: 33.0571 - val_loss: 0.3509 - val_mean_absolute_percentage_error: 27.0486\n",
      "Epoch 160/200\n",
      "\u001b[1m5/5\u001b[0m \u001b[32m━━━━━━━━━━━━━━━━━━━━\u001b[0m\u001b[37m\u001b[0m \u001b[1m0s\u001b[0m 13ms/step - loss: 0.4139 - mean_absolute_percentage_error: 31.4010 - val_loss: 0.3608 - val_mean_absolute_percentage_error: 27.9683\n",
      "Epoch 161/200\n",
      "\u001b[1m5/5\u001b[0m \u001b[32m━━━━━━━━━━━━━━━━━━━━\u001b[0m\u001b[37m\u001b[0m \u001b[1m0s\u001b[0m 16ms/step - loss: 0.4679 - mean_absolute_percentage_error: 34.3520 - val_loss: 0.3580 - val_mean_absolute_percentage_error: 27.5991\n",
      "Epoch 162/200\n",
      "\u001b[1m5/5\u001b[0m \u001b[32m━━━━━━━━━━━━━━━━━━━━\u001b[0m\u001b[37m\u001b[0m \u001b[1m0s\u001b[0m 12ms/step - loss: 0.3515 - mean_absolute_percentage_error: 28.1350 - val_loss: 0.3686 - val_mean_absolute_percentage_error: 28.4332\n",
      "Epoch 163/200\n",
      "\u001b[1m5/5\u001b[0m \u001b[32m━━━━━━━━━━━━━━━━━━━━\u001b[0m\u001b[37m\u001b[0m \u001b[1m0s\u001b[0m 15ms/step - loss: 0.4605 - mean_absolute_percentage_error: 32.7967 - val_loss: 0.3649 - val_mean_absolute_percentage_error: 28.1108\n",
      "Epoch 164/200\n",
      "\u001b[1m5/5\u001b[0m \u001b[32m━━━━━━━━━━━━━━━━━━━━\u001b[0m\u001b[37m\u001b[0m \u001b[1m0s\u001b[0m 15ms/step - loss: 0.4350 - mean_absolute_percentage_error: 32.0073 - val_loss: 0.3634 - val_mean_absolute_percentage_error: 27.9718\n",
      "Epoch 165/200\n",
      "\u001b[1m5/5\u001b[0m \u001b[32m━━━━━━━━━━━━━━━━━━━━\u001b[0m\u001b[37m\u001b[0m \u001b[1m0s\u001b[0m 14ms/step - loss: 0.4296 - mean_absolute_percentage_error: 29.3952 - val_loss: 0.3625 - val_mean_absolute_percentage_error: 27.8793\n",
      "Epoch 166/200\n",
      "\u001b[1m5/5\u001b[0m \u001b[32m━━━━━━━━━━━━━━━━━━━━\u001b[0m\u001b[37m\u001b[0m \u001b[1m0s\u001b[0m 14ms/step - loss: 0.5127 - mean_absolute_percentage_error: 34.2778 - val_loss: 0.3754 - val_mean_absolute_percentage_error: 28.9716\n",
      "Epoch 167/200\n",
      "\u001b[1m5/5\u001b[0m \u001b[32m━━━━━━━━━━━━━━━━━━━━\u001b[0m\u001b[37m\u001b[0m \u001b[1m0s\u001b[0m 12ms/step - loss: 0.3656 - mean_absolute_percentage_error: 27.3860 - val_loss: 0.3676 - val_mean_absolute_percentage_error: 28.1145\n",
      "Epoch 168/200\n",
      "\u001b[1m5/5\u001b[0m \u001b[32m━━━━━━━━━━━━━━━━━━━━\u001b[0m\u001b[37m\u001b[0m \u001b[1m0s\u001b[0m 14ms/step - loss: 0.4037 - mean_absolute_percentage_error: 29.8178 - val_loss: 0.3598 - val_mean_absolute_percentage_error: 27.5204\n",
      "Epoch 169/200\n",
      "\u001b[1m5/5\u001b[0m \u001b[32m━━━━━━━━━━━━━━━━━━━━\u001b[0m\u001b[37m\u001b[0m \u001b[1m0s\u001b[0m 17ms/step - loss: 0.3987 - mean_absolute_percentage_error: 29.0716 - val_loss: 0.3530 - val_mean_absolute_percentage_error: 27.0517\n",
      "Epoch 170/200\n",
      "\u001b[1m5/5\u001b[0m \u001b[32m━━━━━━━━━━━━━━━━━━━━\u001b[0m\u001b[37m\u001b[0m \u001b[1m0s\u001b[0m 14ms/step - loss: 0.3932 - mean_absolute_percentage_error: 30.5174 - val_loss: 0.3481 - val_mean_absolute_percentage_error: 26.5531\n",
      "Epoch 171/200\n",
      "\u001b[1m5/5\u001b[0m \u001b[32m━━━━━━━━━━━━━━━━━━━━\u001b[0m\u001b[37m\u001b[0m \u001b[1m0s\u001b[0m 16ms/step - loss: 0.4026 - mean_absolute_percentage_error: 27.5803 - val_loss: 0.3665 - val_mean_absolute_percentage_error: 28.0172\n",
      "Epoch 172/200\n",
      "\u001b[1m5/5\u001b[0m \u001b[32m━━━━━━━━━━━━━━━━━━━━\u001b[0m\u001b[37m\u001b[0m \u001b[1m0s\u001b[0m 15ms/step - loss: 0.4018 - mean_absolute_percentage_error: 29.9847 - val_loss: 0.3667 - val_mean_absolute_percentage_error: 27.9895\n",
      "Epoch 173/200\n",
      "\u001b[1m5/5\u001b[0m \u001b[32m━━━━━━━━━━━━━━━━━━━━\u001b[0m\u001b[37m\u001b[0m \u001b[1m0s\u001b[0m 16ms/step - loss: 0.3833 - mean_absolute_percentage_error: 28.6628 - val_loss: 0.3643 - val_mean_absolute_percentage_error: 28.0291\n",
      "Epoch 174/200\n",
      "\u001b[1m5/5\u001b[0m \u001b[32m━━━━━━━━━━━━━━━━━━━━\u001b[0m\u001b[37m\u001b[0m \u001b[1m0s\u001b[0m 15ms/step - loss: 0.3416 - mean_absolute_percentage_error: 26.7117 - val_loss: 0.3570 - val_mean_absolute_percentage_error: 27.4791\n",
      "Epoch 175/200\n",
      "\u001b[1m5/5\u001b[0m \u001b[32m━━━━━━━━━━━━━━━━━━━━\u001b[0m\u001b[37m\u001b[0m \u001b[1m0s\u001b[0m 13ms/step - loss: 0.4797 - mean_absolute_percentage_error: 33.3400 - val_loss: 0.3597 - val_mean_absolute_percentage_error: 27.7023\n",
      "Epoch 176/200\n",
      "\u001b[1m5/5\u001b[0m \u001b[32m━━━━━━━━━━━━━━━━━━━━\u001b[0m\u001b[37m\u001b[0m \u001b[1m0s\u001b[0m 15ms/step - loss: 0.4360 - mean_absolute_percentage_error: 29.9819 - val_loss: 0.3606 - val_mean_absolute_percentage_error: 27.8174\n",
      "Epoch 177/200\n",
      "\u001b[1m5/5\u001b[0m \u001b[32m━━━━━━━━━━━━━━━━━━━━\u001b[0m\u001b[37m\u001b[0m \u001b[1m0s\u001b[0m 13ms/step - loss: 0.3486 - mean_absolute_percentage_error: 26.7089 - val_loss: 0.3628 - val_mean_absolute_percentage_error: 27.9674\n",
      "Epoch 178/200\n",
      "\u001b[1m5/5\u001b[0m \u001b[32m━━━━━━━━━━━━━━━━━━━━\u001b[0m\u001b[37m\u001b[0m \u001b[1m0s\u001b[0m 15ms/step - loss: 0.4084 - mean_absolute_percentage_error: 29.5193 - val_loss: 0.3611 - val_mean_absolute_percentage_error: 27.9144\n",
      "Epoch 179/200\n",
      "\u001b[1m5/5\u001b[0m \u001b[32m━━━━━━━━━━━━━━━━━━━━\u001b[0m\u001b[37m\u001b[0m \u001b[1m0s\u001b[0m 13ms/step - loss: 0.4110 - mean_absolute_percentage_error: 29.0623 - val_loss: 0.3632 - val_mean_absolute_percentage_error: 28.0754\n",
      "Epoch 180/200\n",
      "\u001b[1m5/5\u001b[0m \u001b[32m━━━━━━━━━━━━━━━━━━━━\u001b[0m\u001b[37m\u001b[0m \u001b[1m0s\u001b[0m 17ms/step - loss: 0.5052 - mean_absolute_percentage_error: 34.9820 - val_loss: 0.3622 - val_mean_absolute_percentage_error: 28.0458\n",
      "Epoch 181/200\n",
      "\u001b[1m5/5\u001b[0m \u001b[32m━━━━━━━━━━━━━━━━━━━━\u001b[0m\u001b[37m\u001b[0m \u001b[1m0s\u001b[0m 17ms/step - loss: 0.4257 - mean_absolute_percentage_error: 31.7012 - val_loss: 0.3654 - val_mean_absolute_percentage_error: 28.3549\n",
      "Epoch 182/200\n",
      "\u001b[1m5/5\u001b[0m \u001b[32m━━━━━━━━━━━━━━━━━━━━\u001b[0m\u001b[37m\u001b[0m \u001b[1m0s\u001b[0m 13ms/step - loss: 0.4120 - mean_absolute_percentage_error: 31.7357 - val_loss: 0.3650 - val_mean_absolute_percentage_error: 28.2112\n",
      "Epoch 183/200\n",
      "\u001b[1m5/5\u001b[0m \u001b[32m━━━━━━━━━━━━━━━━━━━━\u001b[0m\u001b[37m\u001b[0m \u001b[1m0s\u001b[0m 16ms/step - loss: 0.4059 - mean_absolute_percentage_error: 31.4570 - val_loss: 0.3664 - val_mean_absolute_percentage_error: 28.3889\n",
      "Epoch 184/200\n",
      "\u001b[1m5/5\u001b[0m \u001b[32m━━━━━━━━━━━━━━━━━━━━\u001b[0m\u001b[37m\u001b[0m \u001b[1m0s\u001b[0m 13ms/step - loss: 0.4814 - mean_absolute_percentage_error: 33.8727 - val_loss: 0.3562 - val_mean_absolute_percentage_error: 27.8318\n",
      "Epoch 185/200\n",
      "\u001b[1m5/5\u001b[0m \u001b[32m━━━━━━━━━━━━━━━━━━━━\u001b[0m\u001b[37m\u001b[0m \u001b[1m0s\u001b[0m 13ms/step - loss: 0.4448 - mean_absolute_percentage_error: 31.1812 - val_loss: 0.3472 - val_mean_absolute_percentage_error: 26.9091\n",
      "Epoch 186/200\n",
      "\u001b[1m5/5\u001b[0m \u001b[32m━━━━━━━━━━━━━━━━━━━━\u001b[0m\u001b[37m\u001b[0m \u001b[1m0s\u001b[0m 12ms/step - loss: 0.3736 - mean_absolute_percentage_error: 28.7067 - val_loss: 0.3706 - val_mean_absolute_percentage_error: 28.7916\n",
      "Epoch 187/200\n",
      "\u001b[1m5/5\u001b[0m \u001b[32m━━━━━━━━━━━━━━━━━━━━\u001b[0m\u001b[37m\u001b[0m \u001b[1m0s\u001b[0m 13ms/step - loss: 0.3550 - mean_absolute_percentage_error: 25.8580 - val_loss: 0.3675 - val_mean_absolute_percentage_error: 28.4219\n",
      "Epoch 188/200\n",
      "\u001b[1m5/5\u001b[0m \u001b[32m━━━━━━━━━━━━━━━━━━━━\u001b[0m\u001b[37m\u001b[0m \u001b[1m0s\u001b[0m 18ms/step - loss: 0.3912 - mean_absolute_percentage_error: 31.0224 - val_loss: 0.3582 - val_mean_absolute_percentage_error: 27.8082\n",
      "Epoch 189/200\n",
      "\u001b[1m5/5\u001b[0m \u001b[32m━━━━━━━━━━━━━━━━━━━━\u001b[0m\u001b[37m\u001b[0m \u001b[1m0s\u001b[0m 14ms/step - loss: 0.3565 - mean_absolute_percentage_error: 28.6188 - val_loss: 0.3588 - val_mean_absolute_percentage_error: 27.9381\n",
      "Epoch 190/200\n",
      "\u001b[1m5/5\u001b[0m \u001b[32m━━━━━━━━━━━━━━━━━━━━\u001b[0m\u001b[37m\u001b[0m \u001b[1m0s\u001b[0m 17ms/step - loss: 0.4387 - mean_absolute_percentage_error: 31.0003 - val_loss: 0.3641 - val_mean_absolute_percentage_error: 28.1771\n",
      "Epoch 191/200\n",
      "\u001b[1m5/5\u001b[0m \u001b[32m━━━━━━━━━━━━━━━━━━━━\u001b[0m\u001b[37m\u001b[0m \u001b[1m0s\u001b[0m 13ms/step - loss: 0.4209 - mean_absolute_percentage_error: 30.0637 - val_loss: 0.3767 - val_mean_absolute_percentage_error: 29.1604\n",
      "Epoch 192/200\n",
      "\u001b[1m5/5\u001b[0m \u001b[32m━━━━━━━━━━━━━━━━━━━━\u001b[0m\u001b[37m\u001b[0m \u001b[1m0s\u001b[0m 25ms/step - loss: 0.4056 - mean_absolute_percentage_error: 28.1978 - val_loss: 0.3741 - val_mean_absolute_percentage_error: 28.9463\n",
      "Epoch 193/200\n",
      "\u001b[1m5/5\u001b[0m \u001b[32m━━━━━━━━━━━━━━━━━━━━\u001b[0m\u001b[37m\u001b[0m \u001b[1m0s\u001b[0m 14ms/step - loss: 0.4248 - mean_absolute_percentage_error: 31.6876 - val_loss: 0.3699 - val_mean_absolute_percentage_error: 28.6583\n",
      "Epoch 194/200\n",
      "\u001b[1m5/5\u001b[0m \u001b[32m━━━━━━━━━━━━━━━━━━━━\u001b[0m\u001b[37m\u001b[0m \u001b[1m0s\u001b[0m 15ms/step - loss: 0.4247 - mean_absolute_percentage_error: 31.5884 - val_loss: 0.3696 - val_mean_absolute_percentage_error: 28.6061\n",
      "Epoch 195/200\n",
      "\u001b[1m5/5\u001b[0m \u001b[32m━━━━━━━━━━━━━━━━━━━━\u001b[0m\u001b[37m\u001b[0m \u001b[1m0s\u001b[0m 14ms/step - loss: 0.4707 - mean_absolute_percentage_error: 32.1146 - val_loss: 0.3644 - val_mean_absolute_percentage_error: 28.1477\n",
      "Epoch 196/200\n",
      "\u001b[1m5/5\u001b[0m \u001b[32m━━━━━━━━━━━━━━━━━━━━\u001b[0m\u001b[37m\u001b[0m \u001b[1m0s\u001b[0m 14ms/step - loss: 0.4022 - mean_absolute_percentage_error: 30.9773 - val_loss: 0.3724 - val_mean_absolute_percentage_error: 28.8718\n",
      "Epoch 197/200\n",
      "\u001b[1m5/5\u001b[0m \u001b[32m━━━━━━━━━━━━━━━━━━━━\u001b[0m\u001b[37m\u001b[0m \u001b[1m0s\u001b[0m 16ms/step - loss: 0.4394 - mean_absolute_percentage_error: 34.2753 - val_loss: 0.3732 - val_mean_absolute_percentage_error: 28.8561\n",
      "Epoch 198/200\n",
      "\u001b[1m5/5\u001b[0m \u001b[32m━━━━━━━━━━━━━━━━━━━━\u001b[0m\u001b[37m\u001b[0m \u001b[1m0s\u001b[0m 15ms/step - loss: 0.4300 - mean_absolute_percentage_error: 32.0451 - val_loss: 0.3714 - val_mean_absolute_percentage_error: 28.6399\n",
      "Epoch 199/200\n",
      "\u001b[1m5/5\u001b[0m \u001b[32m━━━━━━━━━━━━━━━━━━━━\u001b[0m\u001b[37m\u001b[0m \u001b[1m0s\u001b[0m 13ms/step - loss: 0.4193 - mean_absolute_percentage_error: 29.8475 - val_loss: 0.3820 - val_mean_absolute_percentage_error: 29.6733\n",
      "Epoch 200/200\n",
      "\u001b[1m5/5\u001b[0m \u001b[32m━━━━━━━━━━━━━━━━━━━━\u001b[0m\u001b[37m\u001b[0m \u001b[1m0s\u001b[0m 14ms/step - loss: 0.4403 - mean_absolute_percentage_error: 33.3108 - val_loss: 0.3721 - val_mean_absolute_percentage_error: 28.7338\n",
      "WARNING:tensorflow:5 out of the last 15 calls to <function TensorFlowTrainer.make_predict_function.<locals>.one_step_on_data_distributed at 0x000001B1C96B1580> triggered tf.function retracing. Tracing is expensive and the excessive number of tracings could be due to (1) creating @tf.function repeatedly in a loop, (2) passing tensors with different shapes, (3) passing Python objects instead of tensors. For (1), please define your @tf.function outside of the loop. For (2), @tf.function has reduce_retracing=True option that can avoid unnecessary retracing. For (3), please refer to https://www.tensorflow.org/guide/function#controlling_retracing and https://www.tensorflow.org/api_docs/python/tf/function for  more details.\n"
     ]
    },
    {
     "name": "stderr",
     "output_type": "stream",
     "text": [
      "WARNING:tensorflow:5 out of the last 15 calls to <function TensorFlowTrainer.make_predict_function.<locals>.one_step_on_data_distributed at 0x000001B1C96B1580> triggered tf.function retracing. Tracing is expensive and the excessive number of tracings could be due to (1) creating @tf.function repeatedly in a loop, (2) passing tensors with different shapes, (3) passing Python objects instead of tensors. For (1), please define your @tf.function outside of the loop. For (2), @tf.function has reduce_retracing=True option that can avoid unnecessary retracing. For (3), please refer to https://www.tensorflow.org/guide/function#controlling_retracing and https://www.tensorflow.org/api_docs/python/tf/function for  more details.\n"
     ]
    },
    {
     "name": "stdout",
     "output_type": "stream",
     "text": [
      "\u001b[1m6/6\u001b[0m \u001b[32m━━━━━━━━━━━━━━━━━━━━\u001b[0m\u001b[37m\u001b[0m \u001b[1m0s\u001b[0m 41ms/step\n",
      "\u001b[1m1/1\u001b[0m \u001b[32m━━━━━━━━━━━━━━━━━━━━\u001b[0m\u001b[37m\u001b[0m \u001b[1m0s\u001b[0m 16ms/step\n"
     ]
    },
    {
     "data": {
      "application/vnd.plotly.v1+json": {
       "config": {
        "plotlyServerURL": "https://plot.ly"
       },
       "data": [
        {
         "mode": "lines",
         "name": "Original Training Data",
         "type": "scatter",
         "x": [
          0,
          1,
          2,
          3,
          4,
          5,
          6,
          7,
          8,
          9,
          10,
          11,
          12,
          13,
          14,
          15,
          16,
          17,
          18,
          19,
          20,
          21,
          22,
          23,
          24,
          25,
          26,
          27,
          28,
          29,
          30,
          31,
          32,
          33,
          34,
          35,
          36,
          37,
          38,
          39,
          40,
          41,
          42,
          43,
          44,
          45,
          46,
          47,
          48,
          49,
          50,
          51,
          52,
          53,
          54,
          55,
          56,
          57,
          58,
          59,
          60,
          61,
          62,
          63,
          64,
          65,
          66,
          67,
          68,
          69,
          70,
          71,
          72,
          73,
          74,
          75,
          76,
          77,
          78,
          79,
          80,
          81,
          82,
          83,
          84,
          85,
          86,
          87,
          88,
          89,
          90,
          91,
          92,
          93,
          94,
          95,
          96,
          97,
          98,
          99,
          100,
          101,
          102,
          103,
          104,
          105,
          106,
          107,
          108,
          109,
          110,
          111,
          112,
          113,
          114,
          115,
          116,
          117,
          118,
          119,
          120,
          121,
          122,
          123,
          124,
          125,
          126,
          127,
          128,
          129,
          130,
          131,
          132,
          133,
          134,
          135,
          136,
          137,
          138,
          139,
          140,
          141,
          142,
          143,
          144,
          145,
          146,
          147,
          148,
          149,
          150,
          151,
          152,
          153,
          154,
          155,
          156,
          157,
          158,
          159,
          160,
          161,
          162,
          163,
          164,
          165,
          166,
          167,
          168,
          169,
          170,
          171,
          172,
          173,
          174,
          175,
          176,
          177,
          178,
          179,
          180,
          181,
          182,
          183,
          184,
          185
         ],
         "xaxis": "x",
         "y": [
          -0.006415968442644055,
          -0.25887686623226563,
          0.07773766415389646,
          -0.6515938183494547,
          -0.3991329205598331,
          -0.5674401857529142,
          -0.03446717930815756,
          -0.3430304988288061,
          -0.5113377640218871,
          -0.6235426074839412,
          -0.2308256553667521,
          -0.5393889748874007,
          -0.5954913966184276,
          -0.7357474509459953,
          -0.45523534229086016,
          -0.5954913966184276,
          -0.11862081190469807,
          -0.14667202277021157,
          -0.37108170969431964,
          -0.5674401857529142,
          -0.7637986618115087,
          -0.45523534229086016,
          -0.2308256553667521,
          -0.006415968442644055,
          -0.7357474509459953,
          -0.5674401857529142,
          -0.6515938183494547,
          -0.6796450292149682,
          -0.7637986618115087,
          -0.7357474509459953,
          -0.6235426074839412,
          -0.7918498726770222,
          -0.6235426074839412,
          -0.7076962400804817,
          -0.6515938183494547,
          -0.45523534229086016,
          -0.7918498726770222,
          -0.7918498726770222,
          -0.7918498726770222,
          -0.7918498726770222,
          -0.7918498726770222,
          -0.7918498726770222,
          -0.7918498726770222,
          -0.7918498726770222,
          -0.7918498726770222,
          -0.7918498726770222,
          -0.7637986618115087,
          -0.7637986618115087,
          -0.7918498726770222,
          -0.7076962400804817,
          -0.7918498726770222,
          -0.7918498726770222,
          -0.7918498726770222,
          -0.7918498726770222,
          -0.7918498726770222,
          -0.7637986618115087,
          -0.7918498726770222,
          -0.7918498726770222,
          -0.7918498726770222,
          -0.7918498726770222,
          -0.5113377640218871,
          -0.7918498726770222,
          -0.7918498726770222,
          -0.7357474509459953,
          -0.7918498726770222,
          -0.3991329205598331,
          -0.03446717930815756,
          -0.7637986618115087,
          -0.45523534229086016,
          -0.03446717930815756,
          -0.7357474509459953,
          0.13384008588492347,
          -0.7918498726770222,
          1.2839397313709773,
          -0.09056960103918457,
          -0.7918498726770222,
          5.239160463408381,
          -0.5393889748874007,
          -0.37108170969431964,
          1.4802982074295719,
          -0.14667202277021157,
          1.2839397313709773,
          0.8631715683882746,
          3.2475244919569226,
          0.498505827136599,
          1.4802982074295719,
          3.668292654939625,
          1.9571687921433014,
          -0.11862081190469807,
          1.1436836770434098,
          2.4620905877225443,
          -0.5113377640218871,
          2.4059881659915177,
          1.3961445748330312,
          0.9192739901193017,
          0.330198561943518,
          1.3961445748330312,
          1.9291175812777879,
          0.330198561943518,
          0.3021473510780045,
          0.610710670598653,
          0.9192739901193017,
          0.554608248867626,
          0.6948643031951935,
          1.2278373096399502,
          1.3400421531020041,
          -0.48328655315637364,
          0.35824977280903153,
          1.0595300444468692,
          1.9010663704122743,
          0.6387618814641666,
          1.3680933639675177,
          0.9192739901193017,
          2.938961172436274,
          2.2937833225294635,
          1.3680933639675177,
          0.6387618814641666,
          0.554608248867626,
          0.8351203575227611,
          0.6668130923296801,
          0.6948643031951935,
          0.13384008588492347,
          0.21799371848146398,
          0.1899425076159505,
          0.1899425076159505,
          0.02163524242286945,
          0.1899425076159505,
          -0.2308256553667521,
          -0.7637986618115087,
          -0.2027744445012386,
          -0.3991329205598331,
          -0.37108170969431964,
          -0.37108170969431964,
          -0.25887686623226563,
          -0.2308256553667521,
          -0.5393889748874007,
          -0.45523534229086016,
          -0.5954913966184276,
          -0.6515938183494547,
          -0.6515938183494547,
          -0.6796450292149682,
          -0.7357474509459953,
          -0.7637986618115087,
          -0.6235426074839412,
          -0.6796450292149682,
          -0.7637986618115087,
          -0.5674401857529142,
          -0.3991329205598331,
          -0.6796450292149682,
          -0.5674401857529142,
          -0.7076962400804817,
          -0.5393889748874007,
          -0.7076962400804817,
          -0.6515938183494547,
          -0.7637986618115087,
          -0.7637986618115087,
          -0.7637986618115087,
          -0.6796450292149682,
          0.02163524242286945,
          -0.7637986618115087,
          -0.7637986618115087,
          -0.14667202277021157,
          -0.5113377640218871,
          -0.6235426074839412,
          -0.48328655315637364,
          -0.5113377640218871,
          -0.5393889748874007,
          -0.5674401857529142,
          -0.5954913966184276,
          -0.3991329205598331,
          -0.2869280770977791,
          -0.2869280770977791,
          -0.06251839017367107,
          0.07773766415389646,
          0.2460449293469775,
          0.7790179357917341,
          0.498505827136599,
          0.8070691466572476,
          0.7790179357917341,
          1.3400421531020041,
          2.0132712138743285,
          1.7608103160847068,
          2.4620905877225443,
          1.2278373096399502,
          2.321834533394977
         ],
         "yaxis": "y"
        },
        {
         "line": {
          "dash": "dash"
         },
         "mode": "lines",
         "name": "Fitted Training Data",
         "type": "scatter",
         "x": [
          0,
          1,
          2,
          3,
          4,
          5,
          6,
          7,
          8,
          9,
          10,
          11,
          12,
          13,
          14,
          15,
          16,
          17,
          18,
          19,
          20,
          21,
          22,
          23,
          24,
          25,
          26,
          27,
          28,
          29,
          30,
          31,
          32,
          33,
          34,
          35,
          36,
          37,
          38,
          39,
          40,
          41,
          42,
          43,
          44,
          45,
          46,
          47,
          48,
          49,
          50,
          51,
          52,
          53,
          54,
          55,
          56,
          57,
          58,
          59,
          60,
          61,
          62,
          63,
          64,
          65,
          66,
          67,
          68,
          69,
          70,
          71,
          72,
          73,
          74,
          75,
          76,
          77,
          78,
          79,
          80,
          81,
          82,
          83,
          84,
          85,
          86,
          87,
          88,
          89,
          90,
          91,
          92,
          93,
          94,
          95,
          96,
          97,
          98,
          99,
          100,
          101,
          102,
          103,
          104,
          105,
          106,
          107,
          108,
          109,
          110,
          111,
          112,
          113,
          114,
          115,
          116,
          117,
          118,
          119,
          120,
          121,
          122,
          123,
          124,
          125,
          126,
          127,
          128,
          129,
          130,
          131,
          132,
          133,
          134,
          135,
          136,
          137,
          138,
          139,
          140,
          141,
          142,
          143,
          144,
          145,
          146,
          147,
          148,
          149,
          150,
          151,
          152,
          153,
          154,
          155,
          156,
          157,
          158,
          159,
          160,
          161,
          162,
          163,
          164,
          165,
          166,
          167,
          168,
          169,
          170,
          171,
          172,
          173,
          174,
          175,
          176,
          177,
          178,
          179,
          180,
          181,
          182,
          183,
          184,
          185
         ],
         "xaxis": "x",
         "y": [
          -0.3502950072288513,
          -0.35324394702911377,
          -0.3799952566623688,
          -0.366022527217865,
          -0.4230573773384094,
          -0.5163041949272156,
          -0.5206718444824219,
          -0.42665421962738037,
          -0.3956032693386078,
          -0.49021899700164795,
          -0.5609586238861084,
          -0.4810527563095093,
          -0.4784740209579468,
          -0.5571338534355164,
          -0.6053441762924194,
          -0.5621808767318726,
          -0.5354194045066833,
          -0.4497655928134918,
          -0.3701942563056946,
          -0.42977258563041687,
          -0.5136483907699585,
          -0.6042686700820923,
          -0.5659651160240173,
          -0.45734232664108276,
          -0.3683067262172699,
          -0.457205593585968,
          -0.5723404288291931,
          -0.573223352432251,
          -0.6022565960884094,
          -0.6282861232757568,
          -0.6387839317321777,
          -0.6171445250511169,
          -0.6218709349632263,
          -0.6158052682876587,
          -0.6048234701156616,
          -0.6045037508010864,
          -0.5520600080490112,
          -0.5865280032157898,
          -0.657677412033081,
          -0.6731646060943604,
          -0.6731646060943604,
          -0.6731646060943604,
          -0.6731646060943604,
          -0.6731646060943604,
          -0.6731646060943604,
          -0.6731646060943604,
          -0.6731646060943604,
          -0.6670703291893005,
          -0.6587485074996948,
          -0.6613360047340393,
          -0.6514865159988403,
          -0.6478022336959839,
          -0.6623795628547668,
          -0.6731646060943604,
          -0.6731646060943604,
          -0.6731646060943604,
          -0.6670703291893005,
          -0.6647716164588928,
          -0.6696784496307373,
          -0.6731646060943604,
          -0.6731646060943604,
          -0.6109192371368408,
          -0.5949616432189941,
          -0.6584404706954956,
          -0.6609466075897217,
          -0.6563175320625305,
          -0.5798306465148926,
          -0.40414679050445557,
          -0.4749433696269989,
          -0.5545675158500671,
          -0.41697293519973755,
          -0.47079700231552124,
          -0.4111946225166321,
          -0.42379990220069885,
          -0.1316007375717163,
          0.04028323292732239,
          0.51973557472229,
          -0.36583811044692993,
          -0.08882933855056763,
          1.3932636976242065,
          -0.08718379586935043,
          0.2847188115119934,
          0.8897392153739929,
          0.42652904987335205,
          0.939673900604248,
          0.6714164614677429,
          1.1328986883163452,
          0.7202854156494141,
          0.6836864352226257,
          0.8393781185150146,
          1.0165420770645142,
          0.47952648997306824,
          0.6862437725067139,
          1.2294107675552368,
          0.47948312759399414,
          0.9235615134239197,
          0.8104830384254456,
          0.690746545791626,
          0.6767544150352478,
          0.7836459279060364,
          0.9253363609313965,
          0.18219046294689178,
          0.3640243113040924,
          0.588367760181427,
          0.6512100100517273,
          0.5752628445625305,
          0.7322295904159546,
          0.7184968590736389,
          0.6099266409873962,
          -0.03615958243608475,
          0.6462938785552979,
          0.7668598294258118,
          0.9719932675361633,
          0.7006332278251648,
          0.9457839131355286,
          0.7531087398529053,
          0.8503565788269043,
          0.9049214124679565,
          0.8203740119934082,
          0.5093610882759094,
          0.5456517934799194,
          0.6388678550720215,
          0.4832990765571594,
          0.27675819396972656,
          -0.08032497763633728,
          -0.03958863019943237,
          -0.096807099878788,
          -0.15094026923179626,
          -0.27046269178390503,
          -0.47434940934181213,
          -0.4997815489768982,
          -0.43175798654556274,
          -0.48273390531539917,
          -0.4776390790939331,
          -0.4530647397041321,
          -0.4268353283405304,
          -0.4825981855392456,
          -0.5266218185424805,
          -0.5427464246749878,
          -0.5851278901100159,
          -0.594510018825531,
          -0.6005071401596069,
          -0.6208912134170532,
          -0.6389703750610352,
          -0.6219366192817688,
          -0.5961380004882812,
          -0.6287554502487183,
          -0.6033229231834412,
          -0.5223474502563477,
          -0.5495660305023193,
          -0.5799808502197266,
          -0.5898797512054443,
          -0.575671911239624,
          -0.5830000638961792,
          -0.6059860587120056,
          -0.6212148666381836,
          -0.6449990272521973,
          -0.6553727984428406,
          -0.6373062133789062,
          -0.45809006690979004,
          -0.455300509929657,
          -0.614943265914917,
          -0.5170841217041016,
          -0.4445360600948334,
          -0.5531960129737854,
          -0.547683835029602,
          -0.5252112150192261,
          -0.5416706204414368,
          -0.5533671379089355,
          -0.5651643872261047,
          -0.519071102142334,
          -0.4549296200275421,
          -0.4433407187461853,
          -0.397752583026886,
          -0.33159685134887695,
          -0.2706303894519806,
          0.041877925395965576,
          0.3391258120536804,
          0.5661594271659851,
          0.5212951898574829,
          0.7293051481246948,
          0.7927926778793335,
          0.8519246578216553,
          0.9425048828125,
          0.8184995651245117
         ],
         "yaxis": "y"
        },
        {
         "mode": "lines",
         "name": "Original Training Data",
         "type": "scatter",
         "x": [
          0,
          1,
          2,
          3,
          4,
          5,
          6,
          7
         ],
         "xaxis": "x2",
         "y": [
          0.04341789532727141,
          -0.37339389981453414,
          -1.4848920201926823,
          1.137548857574511,
          -0.26919095102908275,
          0.7728385368254311,
          0.4949640067308941
         ],
         "yaxis": "y2"
        },
        {
         "line": {
          "dash": "dash"
         },
         "mode": "lines",
         "name": "Fitted Training Data",
         "type": "scatter",
         "x": [
          0,
          1,
          2,
          3,
          4,
          5,
          6,
          7
         ],
         "xaxis": "x2",
         "y": [
          0.49109581112861633,
          -0.37139371037483215,
          -0.3904879689216614,
          -0.6282081604003906,
          -0.2639416754245758,
          -0.058538369834423065,
          0.5755798816680908
         ],
         "yaxis": "y2"
        }
       ],
       "layout": {
        "annotations": [
         {
          "font": {
           "size": 16
          },
          "showarrow": false,
          "text": "O",
          "x": 0.225,
          "xanchor": "center",
          "xref": "paper",
          "y": 1,
          "yanchor": "bottom",
          "yref": "paper"
         },
         {
          "font": {
           "size": 16
          },
          "showarrow": false,
          "text": "r",
          "x": 0.775,
          "xanchor": "center",
          "xref": "paper",
          "y": 1,
          "yanchor": "bottom",
          "yref": "paper"
         }
        ],
        "height": 400,
        "hovermode": "x unified",
        "template": {
         "data": {
          "bar": [
           {
            "error_x": {
             "color": "#2a3f5f"
            },
            "error_y": {
             "color": "#2a3f5f"
            },
            "marker": {
             "line": {
              "color": "#E5ECF6",
              "width": 0.5
             },
             "pattern": {
              "fillmode": "overlay",
              "size": 10,
              "solidity": 0.2
             }
            },
            "type": "bar"
           }
          ],
          "barpolar": [
           {
            "marker": {
             "line": {
              "color": "#E5ECF6",
              "width": 0.5
             },
             "pattern": {
              "fillmode": "overlay",
              "size": 10,
              "solidity": 0.2
             }
            },
            "type": "barpolar"
           }
          ],
          "carpet": [
           {
            "aaxis": {
             "endlinecolor": "#2a3f5f",
             "gridcolor": "white",
             "linecolor": "white",
             "minorgridcolor": "white",
             "startlinecolor": "#2a3f5f"
            },
            "baxis": {
             "endlinecolor": "#2a3f5f",
             "gridcolor": "white",
             "linecolor": "white",
             "minorgridcolor": "white",
             "startlinecolor": "#2a3f5f"
            },
            "type": "carpet"
           }
          ],
          "choropleth": [
           {
            "colorbar": {
             "outlinewidth": 0,
             "ticks": ""
            },
            "type": "choropleth"
           }
          ],
          "contour": [
           {
            "colorbar": {
             "outlinewidth": 0,
             "ticks": ""
            },
            "colorscale": [
             [
              0,
              "#0d0887"
             ],
             [
              0.1111111111111111,
              "#46039f"
             ],
             [
              0.2222222222222222,
              "#7201a8"
             ],
             [
              0.3333333333333333,
              "#9c179e"
             ],
             [
              0.4444444444444444,
              "#bd3786"
             ],
             [
              0.5555555555555556,
              "#d8576b"
             ],
             [
              0.6666666666666666,
              "#ed7953"
             ],
             [
              0.7777777777777778,
              "#fb9f3a"
             ],
             [
              0.8888888888888888,
              "#fdca26"
             ],
             [
              1,
              "#f0f921"
             ]
            ],
            "type": "contour"
           }
          ],
          "contourcarpet": [
           {
            "colorbar": {
             "outlinewidth": 0,
             "ticks": ""
            },
            "type": "contourcarpet"
           }
          ],
          "heatmap": [
           {
            "colorbar": {
             "outlinewidth": 0,
             "ticks": ""
            },
            "colorscale": [
             [
              0,
              "#0d0887"
             ],
             [
              0.1111111111111111,
              "#46039f"
             ],
             [
              0.2222222222222222,
              "#7201a8"
             ],
             [
              0.3333333333333333,
              "#9c179e"
             ],
             [
              0.4444444444444444,
              "#bd3786"
             ],
             [
              0.5555555555555556,
              "#d8576b"
             ],
             [
              0.6666666666666666,
              "#ed7953"
             ],
             [
              0.7777777777777778,
              "#fb9f3a"
             ],
             [
              0.8888888888888888,
              "#fdca26"
             ],
             [
              1,
              "#f0f921"
             ]
            ],
            "type": "heatmap"
           }
          ],
          "heatmapgl": [
           {
            "colorbar": {
             "outlinewidth": 0,
             "ticks": ""
            },
            "colorscale": [
             [
              0,
              "#0d0887"
             ],
             [
              0.1111111111111111,
              "#46039f"
             ],
             [
              0.2222222222222222,
              "#7201a8"
             ],
             [
              0.3333333333333333,
              "#9c179e"
             ],
             [
              0.4444444444444444,
              "#bd3786"
             ],
             [
              0.5555555555555556,
              "#d8576b"
             ],
             [
              0.6666666666666666,
              "#ed7953"
             ],
             [
              0.7777777777777778,
              "#fb9f3a"
             ],
             [
              0.8888888888888888,
              "#fdca26"
             ],
             [
              1,
              "#f0f921"
             ]
            ],
            "type": "heatmapgl"
           }
          ],
          "histogram": [
           {
            "marker": {
             "pattern": {
              "fillmode": "overlay",
              "size": 10,
              "solidity": 0.2
             }
            },
            "type": "histogram"
           }
          ],
          "histogram2d": [
           {
            "colorbar": {
             "outlinewidth": 0,
             "ticks": ""
            },
            "colorscale": [
             [
              0,
              "#0d0887"
             ],
             [
              0.1111111111111111,
              "#46039f"
             ],
             [
              0.2222222222222222,
              "#7201a8"
             ],
             [
              0.3333333333333333,
              "#9c179e"
             ],
             [
              0.4444444444444444,
              "#bd3786"
             ],
             [
              0.5555555555555556,
              "#d8576b"
             ],
             [
              0.6666666666666666,
              "#ed7953"
             ],
             [
              0.7777777777777778,
              "#fb9f3a"
             ],
             [
              0.8888888888888888,
              "#fdca26"
             ],
             [
              1,
              "#f0f921"
             ]
            ],
            "type": "histogram2d"
           }
          ],
          "histogram2dcontour": [
           {
            "colorbar": {
             "outlinewidth": 0,
             "ticks": ""
            },
            "colorscale": [
             [
              0,
              "#0d0887"
             ],
             [
              0.1111111111111111,
              "#46039f"
             ],
             [
              0.2222222222222222,
              "#7201a8"
             ],
             [
              0.3333333333333333,
              "#9c179e"
             ],
             [
              0.4444444444444444,
              "#bd3786"
             ],
             [
              0.5555555555555556,
              "#d8576b"
             ],
             [
              0.6666666666666666,
              "#ed7953"
             ],
             [
              0.7777777777777778,
              "#fb9f3a"
             ],
             [
              0.8888888888888888,
              "#fdca26"
             ],
             [
              1,
              "#f0f921"
             ]
            ],
            "type": "histogram2dcontour"
           }
          ],
          "mesh3d": [
           {
            "colorbar": {
             "outlinewidth": 0,
             "ticks": ""
            },
            "type": "mesh3d"
           }
          ],
          "parcoords": [
           {
            "line": {
             "colorbar": {
              "outlinewidth": 0,
              "ticks": ""
             }
            },
            "type": "parcoords"
           }
          ],
          "pie": [
           {
            "automargin": true,
            "type": "pie"
           }
          ],
          "scatter": [
           {
            "fillpattern": {
             "fillmode": "overlay",
             "size": 10,
             "solidity": 0.2
            },
            "type": "scatter"
           }
          ],
          "scatter3d": [
           {
            "line": {
             "colorbar": {
              "outlinewidth": 0,
              "ticks": ""
             }
            },
            "marker": {
             "colorbar": {
              "outlinewidth": 0,
              "ticks": ""
             }
            },
            "type": "scatter3d"
           }
          ],
          "scattercarpet": [
           {
            "marker": {
             "colorbar": {
              "outlinewidth": 0,
              "ticks": ""
             }
            },
            "type": "scattercarpet"
           }
          ],
          "scattergeo": [
           {
            "marker": {
             "colorbar": {
              "outlinewidth": 0,
              "ticks": ""
             }
            },
            "type": "scattergeo"
           }
          ],
          "scattergl": [
           {
            "marker": {
             "colorbar": {
              "outlinewidth": 0,
              "ticks": ""
             }
            },
            "type": "scattergl"
           }
          ],
          "scattermapbox": [
           {
            "marker": {
             "colorbar": {
              "outlinewidth": 0,
              "ticks": ""
             }
            },
            "type": "scattermapbox"
           }
          ],
          "scatterpolar": [
           {
            "marker": {
             "colorbar": {
              "outlinewidth": 0,
              "ticks": ""
             }
            },
            "type": "scatterpolar"
           }
          ],
          "scatterpolargl": [
           {
            "marker": {
             "colorbar": {
              "outlinewidth": 0,
              "ticks": ""
             }
            },
            "type": "scatterpolargl"
           }
          ],
          "scatterternary": [
           {
            "marker": {
             "colorbar": {
              "outlinewidth": 0,
              "ticks": ""
             }
            },
            "type": "scatterternary"
           }
          ],
          "surface": [
           {
            "colorbar": {
             "outlinewidth": 0,
             "ticks": ""
            },
            "colorscale": [
             [
              0,
              "#0d0887"
             ],
             [
              0.1111111111111111,
              "#46039f"
             ],
             [
              0.2222222222222222,
              "#7201a8"
             ],
             [
              0.3333333333333333,
              "#9c179e"
             ],
             [
              0.4444444444444444,
              "#bd3786"
             ],
             [
              0.5555555555555556,
              "#d8576b"
             ],
             [
              0.6666666666666666,
              "#ed7953"
             ],
             [
              0.7777777777777778,
              "#fb9f3a"
             ],
             [
              0.8888888888888888,
              "#fdca26"
             ],
             [
              1,
              "#f0f921"
             ]
            ],
            "type": "surface"
           }
          ],
          "table": [
           {
            "cells": {
             "fill": {
              "color": "#EBF0F8"
             },
             "line": {
              "color": "white"
             }
            },
            "header": {
             "fill": {
              "color": "#C8D4E3"
             },
             "line": {
              "color": "white"
             }
            },
            "type": "table"
           }
          ]
         },
         "layout": {
          "annotationdefaults": {
           "arrowcolor": "#2a3f5f",
           "arrowhead": 0,
           "arrowwidth": 1
          },
          "autotypenumbers": "strict",
          "coloraxis": {
           "colorbar": {
            "outlinewidth": 0,
            "ticks": ""
           }
          },
          "colorscale": {
           "diverging": [
            [
             0,
             "#8e0152"
            ],
            [
             0.1,
             "#c51b7d"
            ],
            [
             0.2,
             "#de77ae"
            ],
            [
             0.3,
             "#f1b6da"
            ],
            [
             0.4,
             "#fde0ef"
            ],
            [
             0.5,
             "#f7f7f7"
            ],
            [
             0.6,
             "#e6f5d0"
            ],
            [
             0.7,
             "#b8e186"
            ],
            [
             0.8,
             "#7fbc41"
            ],
            [
             0.9,
             "#4d9221"
            ],
            [
             1,
             "#276419"
            ]
           ],
           "sequential": [
            [
             0,
             "#0d0887"
            ],
            [
             0.1111111111111111,
             "#46039f"
            ],
            [
             0.2222222222222222,
             "#7201a8"
            ],
            [
             0.3333333333333333,
             "#9c179e"
            ],
            [
             0.4444444444444444,
             "#bd3786"
            ],
            [
             0.5555555555555556,
             "#d8576b"
            ],
            [
             0.6666666666666666,
             "#ed7953"
            ],
            [
             0.7777777777777778,
             "#fb9f3a"
            ],
            [
             0.8888888888888888,
             "#fdca26"
            ],
            [
             1,
             "#f0f921"
            ]
           ],
           "sequentialminus": [
            [
             0,
             "#0d0887"
            ],
            [
             0.1111111111111111,
             "#46039f"
            ],
            [
             0.2222222222222222,
             "#7201a8"
            ],
            [
             0.3333333333333333,
             "#9c179e"
            ],
            [
             0.4444444444444444,
             "#bd3786"
            ],
            [
             0.5555555555555556,
             "#d8576b"
            ],
            [
             0.6666666666666666,
             "#ed7953"
            ],
            [
             0.7777777777777778,
             "#fb9f3a"
            ],
            [
             0.8888888888888888,
             "#fdca26"
            ],
            [
             1,
             "#f0f921"
            ]
           ]
          },
          "colorway": [
           "#636efa",
           "#EF553B",
           "#00cc96",
           "#ab63fa",
           "#FFA15A",
           "#19d3f3",
           "#FF6692",
           "#B6E880",
           "#FF97FF",
           "#FECB52"
          ],
          "font": {
           "color": "#2a3f5f"
          },
          "geo": {
           "bgcolor": "white",
           "lakecolor": "white",
           "landcolor": "#E5ECF6",
           "showlakes": true,
           "showland": true,
           "subunitcolor": "white"
          },
          "hoverlabel": {
           "align": "left"
          },
          "hovermode": "closest",
          "mapbox": {
           "style": "light"
          },
          "paper_bgcolor": "white",
          "plot_bgcolor": "#E5ECF6",
          "polar": {
           "angularaxis": {
            "gridcolor": "white",
            "linecolor": "white",
            "ticks": ""
           },
           "bgcolor": "#E5ECF6",
           "radialaxis": {
            "gridcolor": "white",
            "linecolor": "white",
            "ticks": ""
           }
          },
          "scene": {
           "xaxis": {
            "backgroundcolor": "#E5ECF6",
            "gridcolor": "white",
            "gridwidth": 2,
            "linecolor": "white",
            "showbackground": true,
            "ticks": "",
            "zerolinecolor": "white"
           },
           "yaxis": {
            "backgroundcolor": "#E5ECF6",
            "gridcolor": "white",
            "gridwidth": 2,
            "linecolor": "white",
            "showbackground": true,
            "ticks": "",
            "zerolinecolor": "white"
           },
           "zaxis": {
            "backgroundcolor": "#E5ECF6",
            "gridcolor": "white",
            "gridwidth": 2,
            "linecolor": "white",
            "showbackground": true,
            "ticks": "",
            "zerolinecolor": "white"
           }
          },
          "shapedefaults": {
           "line": {
            "color": "#2a3f5f"
           }
          },
          "ternary": {
           "aaxis": {
            "gridcolor": "white",
            "linecolor": "white",
            "ticks": ""
           },
           "baxis": {
            "gridcolor": "white",
            "linecolor": "white",
            "ticks": ""
           },
           "bgcolor": "#E5ECF6",
           "caxis": {
            "gridcolor": "white",
            "linecolor": "white",
            "ticks": ""
           }
          },
          "title": {
           "x": 0.05
          },
          "xaxis": {
           "automargin": true,
           "gridcolor": "white",
           "linecolor": "white",
           "ticks": "",
           "title": {
            "standoff": 15
           },
           "zerolinecolor": "white",
           "zerolinewidth": 2
          },
          "yaxis": {
           "automargin": true,
           "gridcolor": "white",
           "linecolor": "white",
           "ticks": "",
           "title": {
            "standoff": 15
           },
           "zerolinecolor": "white",
           "zerolinewidth": 2
          }
         }
        },
        "title": {
         "text": "COVID-19 Data"
        },
        "width": 600,
        "xaxis": {
         "anchor": "y",
         "domain": [
          0,
          0.45
         ],
         "tickangle": 45,
         "tickformat": "%b %d\n%Y",
         "tickvals": [
          "2021-04-05T00:00:00",
          "2021-04-18T00:00:00",
          "2021-05-01T00:00:00",
          "2021-05-14T00:00:00",
          "2021-05-27T00:00:00",
          "2021-06-09T00:00:00",
          "2021-06-22T00:00:00",
          "2021-07-05T00:00:00",
          "2021-07-18T00:00:00",
          "2021-07-31T00:00:00",
          "2021-08-13T00:00:00",
          "2021-08-26T00:00:00",
          "2021-09-08T00:00:00",
          "2021-09-21T00:00:00",
          "2021-10-04T00:00:00",
          "2021-10-17T00:00:00"
         ]
        },
        "xaxis2": {
         "anchor": "y2",
         "domain": [
          0.55,
          1
         ],
         "tickangle": 45,
         "tickformat": "%b %d\n%Y",
         "tickvals": [
          "2021-04-05T00:00:00",
          "2021-04-18T00:00:00",
          "2021-05-01T00:00:00",
          "2021-05-14T00:00:00",
          "2021-05-27T00:00:00",
          "2021-06-09T00:00:00",
          "2021-06-22T00:00:00",
          "2021-07-05T00:00:00",
          "2021-07-18T00:00:00",
          "2021-07-31T00:00:00",
          "2021-08-13T00:00:00",
          "2021-08-26T00:00:00",
          "2021-09-08T00:00:00",
          "2021-09-21T00:00:00",
          "2021-10-04T00:00:00",
          "2021-10-17T00:00:00"
         ]
        },
        "yaxis": {
         "anchor": "x",
         "domain": [
          0,
          1
         ]
        },
        "yaxis2": {
         "anchor": "x2",
         "domain": [
          0,
          1
         ]
        }
       }
      }
     },
     "metadata": {},
     "output_type": "display_data"
    },
    {
     "name": "stderr",
     "output_type": "stream",
     "text": [
      "WARNING:absl:You are saving your model as an HDF5 file via `model.save()` or `keras.saving.save_model(model)`. This file format is considered legacy. We recommend using instead the native Keras format, e.g. `model.save('my_model.keras')` or `keras.saving.save_model(model, 'my_model.keras')`. \n"
     ]
    },
    {
     "name": "stdout",
     "output_type": "stream",
     "text": [
      "MAE: 0.6038687825202942\n",
      "RMSE: 0.8630304932594299\n",
      "R² score: -0.14834880828857422\n"
     ]
    },
    {
     "data": {
      "image/png": "[encoded data removed]",
      "text/plain": [
       "<Figure size 640x480 with 1 Axes>"
      ]
     },
     "metadata": {},
     "output_type": "display_data"
    }
   ],
   "source": [
    "gru_model = Sequential()\n",
    "gru_model.add(GRU(100, dropout=0.2, return_sequences=False, input_shape=(X_train_seq.shape[1], X_train_seq.shape[2])))\n",
    "gru_model.add(Dense(8, activation='relu'))\n",
    "gru_model.add(Dense(1, activation='linear'))\n",
    "K.set_epsilon(1)\n",
    "gru_model.compile(optimizer=Adam(learning_rate=0.001), loss=MeanAbsoluteError(), metrics=[MeanAbsolutePercentageError()])\n",
    "gru_model.summary()\n",
    "\n",
    "\n",
    "# training\n",
    "early_stopping = EarlyStopping(monitor='val_loss', patience=20, restore_best_weights=True)\n",
    "reduce_lr = ReduceLROnPlateau(monitor='val_loss', factor=0.9, patience=5, min_lr=0.00000001)\n",
    "\n",
    "history = gru_model.fit(X_train_seq, y_train_seq, epochs=200, batch_size=32, validation_split=0.2, verbose=1)\n",
    "\n",
    "\n",
    "# plot the loss function\n",
    "plt.plot(history.history['loss'], label='Training loss')\n",
    "plt.plot(history.history['val_loss'], label='Validation loss')\n",
    "plt.legend()\n",
    "\n",
    "\n",
    "# visualization the result\n",
    "y_pred_train = gru_model.predict(X_train_seq).reshape(-1,1)\n",
    "y_pred_test = gru_model.predict(X_test_seq).reshape(-1,1)\n",
    "\n",
    "num_dates = len(df['Date'])\n",
    "step = max(1, num_dates // 15)\n",
    "display_dates = df['Date'][::step]\n",
    "\n",
    "fig = make_subplots(\n",
    "    rows=1, cols=2,\n",
    "    subplot_titles=(\"Original Training Data\"),\n",
    "    shared_xaxes=True\n",
    ")\n",
    "\n",
    "fig.add_trace(go.Scatter(x=np.arange(len(X_train) - sequence_length + 1), y=y_train_seq.flatten(), mode='lines', name='Original Training Data'), row=1, col=1)\n",
    "fig.add_trace(go.Scatter(x=np.arange(len(X_train) - sequence_length + 1), y=y_pred_train.flatten(), mode='lines', name='Fitted Training Data', line=dict(dash='dash')), row=1, col=1)\n",
    "\n",
    "fig.add_trace(go.Scatter(x=np.arange(len(X_test) - sequence_length + 1), y=y_test_seq.flatten(), mode='lines', name='Original Training Data'), row=1, col=2)\n",
    "fig.add_trace(go.Scatter(x=np.arange(len(X_test) - sequence_length + 1), y=y_pred_test.flatten(), mode='lines', name='Fitted Training Data', line=dict(dash='dash')), row=1, col=2)\n",
    "\n",
    "fig.update_layout(\n",
    "    height=400, width=600,\n",
    "    title_text=\"COVID-19 Data\",\n",
    "    hovermode='x unified'\n",
    ")\n",
    "\n",
    "for i in range(1, 2):\n",
    "    for j in range(1, 3):\n",
    "        fig.update_xaxes(\n",
    "            tickvals=display_dates,\n",
    "            tickformat=\"%b %d\\n%Y\",\n",
    "            tickangle=45,\n",
    "            row=i, col=j\n",
    "        )\n",
    "fig.show()\n",
    "\n",
    "\n",
    "# Compute score metrics\n",
    "# Convert to tensors\n",
    "y_true_tf = tf.convert_to_tensor(y_test_seq.reshape(-1), dtype=tf.float32)\n",
    "y_pred_tf = tf.convert_to_tensor(y_pred_test.reshape(-1), dtype=tf.float32)\n",
    "\n",
    "# Initialize the metrics\n",
    "mae_metric = tf.keras.metrics.MeanAbsoluteError()\n",
    "mse_metric = tf.keras.metrics.MeanSquaredError()\n",
    "\n",
    "# Update the state with the true and predicted values\n",
    "mae_metric.update_state(y_true_tf, y_pred_tf)\n",
    "mse_metric.update_state(y_true_tf, y_pred_tf)\n",
    "\n",
    "# Calculate MAE and MSE\n",
    "mae = mae_metric.result().numpy()\n",
    "mse = mse_metric.result().numpy()\n",
    "\n",
    "# Calculate RMSE\n",
    "rmse = np.sqrt(mse)\n",
    "\n",
    "# Calculate R² score\n",
    "total_error = tf.reduce_sum(tf.square(y_true_tf - tf.reduce_mean(y_true_tf)))\n",
    "unexplained_error = tf.reduce_sum(tf.square(y_true_tf - y_pred_tf))\n",
    "r2_score = 1 - tf.divide(unexplained_error, total_error).numpy()\n",
    "\n",
    "print(f\"MAE: {mae}\")\n",
    "print(f\"RMSE: {rmse}\")\n",
    "print(f\"R² score: {r2_score}\")\n",
    "\n",
    "\n",
    "# save the model\n",
    "gru_model.save(\"./checkpoints/gru.h5\")\n"
   ]
  },
  {
   "cell_type": "markdown",
   "metadata": {},
   "source": [
    "### bidirectional LSTM"
   ]
  },
  {
   "cell_type": "code",
   "execution_count": 52,
   "metadata": {},
   "outputs": [
    {
     "name": "stderr",
     "output_type": "stream",
     "text": [
      "c:\\Users\\ADMIN\\AppData\\Local\\Programs\\Python\\Python312\\Lib\\site-packages\\keras\\src\\layers\\rnn\\bidirectional.py:107: UserWarning:\n",
      "\n",
      "Do not pass an `input_shape`/`input_dim` argument to a layer. When using Sequential models, prefer using an `Input(shape)` object as the first layer in the model instead.\n",
      "\n"
     ]
    },
    {
     "data": {
      "text/html": [
       "<pre style=\"white-space:pre;overflow-x:auto;line-height:normal;font-family:Menlo,'DejaVu Sans Mono',consolas,'Courier New',monospace\"><span style=\"font-weight: bold\">Model: \"sequential_12\"</span>\n",
       "</pre>\n"
      ],
      "text/plain": [
       "\u001b[1mModel: \"sequential_12\"\u001b[0m\n"
      ]
     },
     "metadata": {},
     "output_type": "display_data"
    },
    {
     "data": {
      "text/html": [
       "<pre style=\"white-space:pre;overflow-x:auto;line-height:normal;font-family:Menlo,'DejaVu Sans Mono',consolas,'Courier New',monospace\">┏━━━━━━━━━━━━━━━━━━━━━━━━━━━━━━━━━┳━━━━━━━━━━━━━━━━━━━━━━━━┳━━━━━━━━━━━━━━━┓\n",
       "┃<span style=\"font-weight: bold\"> Layer (type)                    </span>┃<span style=\"font-weight: bold\"> Output Shape           </span>┃<span style=\"font-weight: bold\">       Param # </span>┃\n",
       "┡━━━━━━━━━━━━━━━━━━━━━━━━━━━━━━━━━╇━━━━━━━━━━━━━━━━━━━━━━━━╇━━━━━━━━━━━━━━━┩\n",
       "│ bidirectional (<span style=\"color: #0087ff; text-decoration-color: #0087ff\">Bidirectional</span>)   │ (<span style=\"color: #00d7ff; text-decoration-color: #00d7ff\">None</span>, <span style=\"color: #00af00; text-decoration-color: #00af00\">200</span>)            │        <span style=\"color: #00af00; text-decoration-color: #00af00\">81,600</span> │\n",
       "├─────────────────────────────────┼────────────────────────┼───────────────┤\n",
       "│ dense_22 (<span style=\"color: #0087ff; text-decoration-color: #0087ff\">Dense</span>)                │ (<span style=\"color: #00d7ff; text-decoration-color: #00d7ff\">None</span>, <span style=\"color: #00af00; text-decoration-color: #00af00\">8</span>)              │         <span style=\"color: #00af00; text-decoration-color: #00af00\">1,608</span> │\n",
       "├─────────────────────────────────┼────────────────────────┼───────────────┤\n",
       "│ dense_23 (<span style=\"color: #0087ff; text-decoration-color: #0087ff\">Dense</span>)                │ (<span style=\"color: #00d7ff; text-decoration-color: #00d7ff\">None</span>, <span style=\"color: #00af00; text-decoration-color: #00af00\">1</span>)              │             <span style=\"color: #00af00; text-decoration-color: #00af00\">9</span> │\n",
       "└─────────────────────────────────┴────────────────────────┴───────────────┘\n",
       "</pre>\n"
      ],
      "text/plain": [
       "┏━━━━━━━━━━━━━━━━━━━━━━━━━━━━━━━━━┳━━━━━━━━━━━━━━━━━━━━━━━━┳━━━━━━━━━━━━━━━┓\n",
       "┃\u001b[1m \u001b[0m\u001b[1mLayer (type)                   \u001b[0m\u001b[1m \u001b[0m┃\u001b[1m \u001b[0m\u001b[1mOutput Shape          \u001b[0m\u001b[1m \u001b[0m┃\u001b[1m \u001b[0m\u001b[1m      Param #\u001b[0m\u001b[1m \u001b[0m┃\n",
       "┡━━━━━━━━━━━━━━━━━━━━━━━━━━━━━━━━━╇━━━━━━━━━━━━━━━━━━━━━━━━╇━━━━━━━━━━━━━━━┩\n",
       "│ bidirectional (\u001b[38;5;33mBidirectional\u001b[0m)   │ (\u001b[38;5;45mNone\u001b[0m, \u001b[38;5;34m200\u001b[0m)            │        \u001b[38;5;34m81,600\u001b[0m │\n",
       "├─────────────────────────────────┼────────────────────────┼───────────────┤\n",
       "│ dense_22 (\u001b[38;5;33mDense\u001b[0m)                │ (\u001b[38;5;45mNone\u001b[0m, \u001b[38;5;34m8\u001b[0m)              │         \u001b[38;5;34m1,608\u001b[0m │\n",
       "├─────────────────────────────────┼────────────────────────┼───────────────┤\n",
       "│ dense_23 (\u001b[38;5;33mDense\u001b[0m)                │ (\u001b[38;5;45mNone\u001b[0m, \u001b[38;5;34m1\u001b[0m)              │             \u001b[38;5;34m9\u001b[0m │\n",
       "└─────────────────────────────────┴────────────────────────┴───────────────┘\n"
      ]
     },
     "metadata": {},
     "output_type": "display_data"
    },
    {
     "data": {
      "text/html": [
       "<pre style=\"white-space:pre;overflow-x:auto;line-height:normal;font-family:Menlo,'DejaVu Sans Mono',consolas,'Courier New',monospace\"><span style=\"font-weight: bold\"> Total params: </span><span style=\"color: #00af00; text-decoration-color: #00af00\">83,217</span> (325.07 KB)\n",
       "</pre>\n"
      ],
      "text/plain": [
       "\u001b[1m Total params: \u001b[0m\u001b[38;5;34m83,217\u001b[0m (325.07 KB)\n"
      ]
     },
     "metadata": {},
     "output_type": "display_data"
    },
    {
     "data": {
      "text/html": [
       "<pre style=\"white-space:pre;overflow-x:auto;line-height:normal;font-family:Menlo,'DejaVu Sans Mono',consolas,'Courier New',monospace\"><span style=\"font-weight: bold\"> Trainable params: </span><span style=\"color: #00af00; text-decoration-color: #00af00\">83,217</span> (325.07 KB)\n",
       "</pre>\n"
      ],
      "text/plain": [
       "\u001b[1m Trainable params: \u001b[0m\u001b[38;5;34m83,217\u001b[0m (325.07 KB)\n"
      ]
     },
     "metadata": {},
     "output_type": "display_data"
    },
    {
     "data": {
      "text/html": [
       "<pre style=\"white-space:pre;overflow-x:auto;line-height:normal;font-family:Menlo,'DejaVu Sans Mono',consolas,'Courier New',monospace\"><span style=\"font-weight: bold\"> Non-trainable params: </span><span style=\"color: #00af00; text-decoration-color: #00af00\">0</span> (0.00 B)\n",
       "</pre>\n"
      ],
      "text/plain": [
       "\u001b[1m Non-trainable params: \u001b[0m\u001b[38;5;34m0\u001b[0m (0.00 B)\n"
      ]
     },
     "metadata": {},
     "output_type": "display_data"
    },
    {
     "name": "stdout",
     "output_type": "stream",
     "text": [
      "Epoch 1/100\n",
      "\u001b[1m10/10\u001b[0m \u001b[32m━━━━━━━━━━━━━━━━━━━━\u001b[0m\u001b[37m\u001b[0m \u001b[1m5s\u001b[0m 82ms/step - loss: 0.7575 - mean_absolute_percentage_error: 59.5445 - val_loss: 0.5796 - val_mean_absolute_percentage_error: 44.7844\n",
      "Epoch 2/100\n",
      "\u001b[1m10/10\u001b[0m \u001b[32m━━━━━━━━━━━━━━━━━━━━\u001b[0m\u001b[37m\u001b[0m \u001b[1m0s\u001b[0m 10ms/step - loss: 0.5052 - mean_absolute_percentage_error: 40.1020 - val_loss: 0.4414 - val_mean_absolute_percentage_error: 32.6570\n",
      "Epoch 3/100\n",
      "\u001b[1m10/10\u001b[0m \u001b[32m━━━━━━━━━━━━━━━━━━━━\u001b[0m\u001b[37m\u001b[0m \u001b[1m0s\u001b[0m 10ms/step - loss: 0.5058 - mean_absolute_percentage_error: 37.4361 - val_loss: 0.3898 - val_mean_absolute_percentage_error: 29.3021\n",
      "Epoch 4/100\n",
      "\u001b[1m10/10\u001b[0m \u001b[32m━━━━━━━━━━━━━━━━━━━━\u001b[0m\u001b[37m\u001b[0m \u001b[1m0s\u001b[0m 9ms/step - loss: 0.4177 - mean_absolute_percentage_error: 32.1575 - val_loss: 0.3502 - val_mean_absolute_percentage_error: 26.8652\n",
      "Epoch 5/100\n",
      "\u001b[1m10/10\u001b[0m \u001b[32m━━━━━━━━━━━━━━━━━━━━\u001b[0m\u001b[37m\u001b[0m \u001b[1m0s\u001b[0m 10ms/step - loss: 0.5064 - mean_absolute_percentage_error: 33.8279 - val_loss: 0.3251 - val_mean_absolute_percentage_error: 25.1225\n",
      "Epoch 6/100\n",
      "\u001b[1m10/10\u001b[0m \u001b[32m━━━━━━━━━━━━━━━━━━━━\u001b[0m\u001b[37m\u001b[0m \u001b[1m0s\u001b[0m 10ms/step - loss: 0.4423 - mean_absolute_percentage_error: 34.2568 - val_loss: 0.3224 - val_mean_absolute_percentage_error: 25.1679\n",
      "Epoch 7/100\n",
      "\u001b[1m10/10\u001b[0m \u001b[32m━━━━━━━━━━━━━━━━━━━━\u001b[0m\u001b[37m\u001b[0m \u001b[1m0s\u001b[0m 9ms/step - loss: 0.3887 - mean_absolute_percentage_error: 29.7667 - val_loss: 0.3073 - val_mean_absolute_percentage_error: 24.2393\n",
      "Epoch 8/100\n",
      "\u001b[1m10/10\u001b[0m \u001b[32m━━━━━━━━━━━━━━━━━━━━\u001b[0m\u001b[37m\u001b[0m \u001b[1m0s\u001b[0m 8ms/step - loss: 0.4796 - mean_absolute_percentage_error: 32.7542 - val_loss: 0.3211 - val_mean_absolute_percentage_error: 25.3269\n",
      "Epoch 9/100\n",
      "\u001b[1m10/10\u001b[0m \u001b[32m━━━━━━━━━━━━━━━━━━━━\u001b[0m\u001b[37m\u001b[0m \u001b[1m0s\u001b[0m 10ms/step - loss: 0.4279 - mean_absolute_percentage_error: 31.7409 - val_loss: 0.3207 - val_mean_absolute_percentage_error: 25.3139\n",
      "Epoch 10/100\n",
      "\u001b[1m10/10\u001b[0m \u001b[32m━━━━━━━━━━━━━━━━━━━━\u001b[0m\u001b[37m\u001b[0m \u001b[1m0s\u001b[0m 10ms/step - loss: 0.3612 - mean_absolute_percentage_error: 30.0783 - val_loss: 0.3281 - val_mean_absolute_percentage_error: 25.5443\n",
      "Epoch 11/100\n",
      "\u001b[1m10/10\u001b[0m \u001b[32m━━━━━━━━━━━━━━━━━━━━\u001b[0m\u001b[37m\u001b[0m \u001b[1m0s\u001b[0m 9ms/step - loss: 0.4045 - mean_absolute_percentage_error: 31.4710 - val_loss: 0.3187 - val_mean_absolute_percentage_error: 24.7105\n",
      "Epoch 12/100\n",
      "\u001b[1m10/10\u001b[0m \u001b[32m━━━━━━━━━━━━━━━━━━━━\u001b[0m\u001b[37m\u001b[0m \u001b[1m0s\u001b[0m 8ms/step - loss: 0.4704 - mean_absolute_percentage_error: 35.8628 - val_loss: 0.3249 - val_mean_absolute_percentage_error: 25.1304\n",
      "Epoch 13/100\n",
      "\u001b[1m10/10\u001b[0m \u001b[32m━━━━━━━━━━━━━━━━━━━━\u001b[0m\u001b[37m\u001b[0m \u001b[1m0s\u001b[0m 9ms/step - loss: 0.4613 - mean_absolute_percentage_error: 33.3416 - val_loss: 0.3349 - val_mean_absolute_percentage_error: 25.9033\n",
      "Epoch 14/100\n",
      "\u001b[1m10/10\u001b[0m \u001b[32m━━━━━━━━━━━━━━━━━━━━\u001b[0m\u001b[37m\u001b[0m \u001b[1m0s\u001b[0m 9ms/step - loss: 0.4171 - mean_absolute_percentage_error: 34.6146 - val_loss: 0.3252 - val_mean_absolute_percentage_error: 25.2522\n",
      "Epoch 15/100\n",
      "\u001b[1m10/10\u001b[0m \u001b[32m━━━━━━━━━━━━━━━━━━━━\u001b[0m\u001b[37m\u001b[0m \u001b[1m0s\u001b[0m 11ms/step - loss: 0.3955 - mean_absolute_percentage_error: 29.4029 - val_loss: 0.3188 - val_mean_absolute_percentage_error: 24.8805\n",
      "Epoch 16/100\n",
      "\u001b[1m10/10\u001b[0m \u001b[32m━━━━━━━━━━━━━━━━━━━━\u001b[0m\u001b[37m\u001b[0m \u001b[1m0s\u001b[0m 10ms/step - loss: 0.4119 - mean_absolute_percentage_error: 31.3281 - val_loss: 0.3049 - val_mean_absolute_percentage_error: 23.7555\n",
      "Epoch 17/100\n",
      "\u001b[1m10/10\u001b[0m \u001b[32m━━━━━━━━━━━━━━━━━━━━\u001b[0m\u001b[37m\u001b[0m \u001b[1m0s\u001b[0m 9ms/step - loss: 0.4256 - mean_absolute_percentage_error: 30.8865 - val_loss: 0.3097 - val_mean_absolute_percentage_error: 24.0427\n",
      "Epoch 18/100\n",
      "\u001b[1m10/10\u001b[0m \u001b[32m━━━━━━━━━━━━━━━━━━━━\u001b[0m\u001b[37m\u001b[0m \u001b[1m0s\u001b[0m 12ms/step - loss: 0.4316 - mean_absolute_percentage_error: 32.9597 - val_loss: 0.3345 - val_mean_absolute_percentage_error: 25.7129\n",
      "Epoch 19/100\n",
      "\u001b[1m10/10\u001b[0m \u001b[32m━━━━━━━━━━━━━━━━━━━━\u001b[0m\u001b[37m\u001b[0m \u001b[1m0s\u001b[0m 10ms/step - loss: 0.4417 - mean_absolute_percentage_error: 31.2727 - val_loss: 0.3291 - val_mean_absolute_percentage_error: 25.4986\n",
      "Epoch 20/100\n",
      "\u001b[1m10/10\u001b[0m \u001b[32m━━━━━━━━━━━━━━━━━━━━\u001b[0m\u001b[37m\u001b[0m \u001b[1m0s\u001b[0m 12ms/step - loss: 0.4212 - mean_absolute_percentage_error: 32.5775 - val_loss: 0.3184 - val_mean_absolute_percentage_error: 24.6327\n",
      "Epoch 21/100\n",
      "\u001b[1m10/10\u001b[0m \u001b[32m━━━━━━━━━━━━━━━━━━━━\u001b[0m\u001b[37m\u001b[0m \u001b[1m0s\u001b[0m 11ms/step - loss: 0.3869 - mean_absolute_percentage_error: 29.6404 - val_loss: 0.3209 - val_mean_absolute_percentage_error: 24.6832\n",
      "Epoch 22/100\n",
      "\u001b[1m10/10\u001b[0m \u001b[32m━━━━━━━━━━━━━━━━━━━━\u001b[0m\u001b[37m\u001b[0m \u001b[1m0s\u001b[0m 12ms/step - loss: 0.3695 - mean_absolute_percentage_error: 31.5232 - val_loss: 0.3421 - val_mean_absolute_percentage_error: 26.1911\n",
      "Epoch 23/100\n",
      "\u001b[1m10/10\u001b[0m \u001b[32m━━━━━━━━━━━━━━━━━━━━\u001b[0m\u001b[37m\u001b[0m \u001b[1m0s\u001b[0m 11ms/step - loss: 0.4453 - mean_absolute_percentage_error: 29.3405 - val_loss: 0.3424 - val_mean_absolute_percentage_error: 26.2691\n",
      "Epoch 24/100\n",
      "\u001b[1m10/10\u001b[0m \u001b[32m━━━━━━━━━━━━━━━━━━━━\u001b[0m\u001b[37m\u001b[0m \u001b[1m0s\u001b[0m 11ms/step - loss: 0.4686 - mean_absolute_percentage_error: 32.3025 - val_loss: 0.3190 - val_mean_absolute_percentage_error: 24.6318\n",
      "Epoch 25/100\n",
      "\u001b[1m10/10\u001b[0m \u001b[32m━━━━━━━━━━━━━━━━━━━━\u001b[0m\u001b[37m\u001b[0m \u001b[1m0s\u001b[0m 11ms/step - loss: 0.4446 - mean_absolute_percentage_error: 31.9231 - val_loss: 0.3135 - val_mean_absolute_percentage_error: 24.2028\n",
      "Epoch 26/100\n",
      "\u001b[1m10/10\u001b[0m \u001b[32m━━━━━━━━━━━━━━━━━━━━\u001b[0m\u001b[37m\u001b[0m \u001b[1m0s\u001b[0m 11ms/step - loss: 0.4925 - mean_absolute_percentage_error: 34.7791 - val_loss: 0.3191 - val_mean_absolute_percentage_error: 24.5710\n",
      "Epoch 27/100\n",
      "\u001b[1m10/10\u001b[0m \u001b[32m━━━━━━━━━━━━━━━━━━━━\u001b[0m\u001b[37m\u001b[0m \u001b[1m0s\u001b[0m 12ms/step - loss: 0.3972 - mean_absolute_percentage_error: 31.0691 - val_loss: 0.3204 - val_mean_absolute_percentage_error: 24.8068\n",
      "Epoch 28/100\n",
      "\u001b[1m10/10\u001b[0m \u001b[32m━━━━━━━━━━━━━━━━━━━━\u001b[0m\u001b[37m\u001b[0m \u001b[1m0s\u001b[0m 10ms/step - loss: 0.4074 - mean_absolute_percentage_error: 31.2052 - val_loss: 0.3340 - val_mean_absolute_percentage_error: 25.6642\n",
      "Epoch 29/100\n",
      "\u001b[1m10/10\u001b[0m \u001b[32m━━━━━━━━━━━━━━━━━━━━\u001b[0m\u001b[37m\u001b[0m \u001b[1m0s\u001b[0m 11ms/step - loss: 0.3515 - mean_absolute_percentage_error: 28.4044 - val_loss: 0.3444 - val_mean_absolute_percentage_error: 26.5314\n",
      "Epoch 30/100\n",
      "\u001b[1m10/10\u001b[0m \u001b[32m━━━━━━━━━━━━━━━━━━━━\u001b[0m\u001b[37m\u001b[0m \u001b[1m0s\u001b[0m 10ms/step - loss: 0.3890 - mean_absolute_percentage_error: 30.0714 - val_loss: 0.3250 - val_mean_absolute_percentage_error: 25.1837\n",
      "Epoch 31/100\n",
      "\u001b[1m10/10\u001b[0m \u001b[32m━━━━━━━━━━━━━━━━━━━━\u001b[0m\u001b[37m\u001b[0m \u001b[1m0s\u001b[0m 10ms/step - loss: 0.3777 - mean_absolute_percentage_error: 31.0601 - val_loss: 0.3351 - val_mean_absolute_percentage_error: 25.9814\n",
      "Epoch 32/100\n",
      "\u001b[1m10/10\u001b[0m \u001b[32m━━━━━━━━━━━━━━━━━━━━\u001b[0m\u001b[37m\u001b[0m \u001b[1m0s\u001b[0m 10ms/step - loss: 0.4026 - mean_absolute_percentage_error: 30.5610 - val_loss: 0.3195 - val_mean_absolute_percentage_error: 24.5698\n",
      "Epoch 33/100\n",
      "\u001b[1m10/10\u001b[0m \u001b[32m━━━━━━━━━━━━━━━━━━━━\u001b[0m\u001b[37m\u001b[0m \u001b[1m0s\u001b[0m 11ms/step - loss: 0.3964 - mean_absolute_percentage_error: 29.0206 - val_loss: 0.3222 - val_mean_absolute_percentage_error: 24.7461\n",
      "Epoch 34/100\n",
      "\u001b[1m10/10\u001b[0m \u001b[32m━━━━━━━━━━━━━━━━━━━━\u001b[0m\u001b[37m\u001b[0m \u001b[1m0s\u001b[0m 11ms/step - loss: 0.4215 - mean_absolute_percentage_error: 26.9376 - val_loss: 0.3367 - val_mean_absolute_percentage_error: 25.7907\n",
      "Epoch 35/100\n",
      "\u001b[1m10/10\u001b[0m \u001b[32m━━━━━━━━━━━━━━━━━━━━\u001b[0m\u001b[37m\u001b[0m \u001b[1m0s\u001b[0m 11ms/step - loss: 0.4723 - mean_absolute_percentage_error: 32.5191 - val_loss: 0.3557 - val_mean_absolute_percentage_error: 27.3103\n",
      "Epoch 36/100\n",
      "\u001b[1m10/10\u001b[0m \u001b[32m━━━━━━━━━━━━━━━━━━━━\u001b[0m\u001b[37m\u001b[0m \u001b[1m0s\u001b[0m 9ms/step - loss: 0.4261 - mean_absolute_percentage_error: 30.1211 - val_loss: 0.3526 - val_mean_absolute_percentage_error: 27.2347\n",
      "Epoch 37/100\n",
      "\u001b[1m10/10\u001b[0m \u001b[32m━━━━━━━━━━━━━━━━━━━━\u001b[0m\u001b[37m\u001b[0m \u001b[1m0s\u001b[0m 9ms/step - loss: 0.4657 - mean_absolute_percentage_error: 32.6904 - val_loss: 0.3507 - val_mean_absolute_percentage_error: 26.9356\n",
      "Epoch 38/100\n",
      "\u001b[1m10/10\u001b[0m \u001b[32m━━━━━━━━━━━━━━━━━━━━\u001b[0m\u001b[37m\u001b[0m \u001b[1m0s\u001b[0m 13ms/step - loss: 0.5027 - mean_absolute_percentage_error: 32.8586 - val_loss: 0.3616 - val_mean_absolute_percentage_error: 27.3665\n",
      "Epoch 39/100\n",
      "\u001b[1m10/10\u001b[0m \u001b[32m━━━━━━━━━━━━━━━━━━━━\u001b[0m\u001b[37m\u001b[0m \u001b[1m0s\u001b[0m 8ms/step - loss: 0.3861 - mean_absolute_percentage_error: 29.5921 - val_loss: 0.3408 - val_mean_absolute_percentage_error: 25.8203\n",
      "Epoch 40/100\n",
      "\u001b[1m10/10\u001b[0m \u001b[32m━━━━━━━━━━━━━━━━━━━━\u001b[0m\u001b[37m\u001b[0m \u001b[1m0s\u001b[0m 8ms/step - loss: 0.5320 - mean_absolute_percentage_error: 35.4115 - val_loss: 0.3264 - val_mean_absolute_percentage_error: 24.8996\n",
      "Epoch 41/100\n",
      "\u001b[1m10/10\u001b[0m \u001b[32m━━━━━━━━━━━━━━━━━━━━\u001b[0m\u001b[37m\u001b[0m \u001b[1m0s\u001b[0m 9ms/step - loss: 0.4287 - mean_absolute_percentage_error: 31.6058 - val_loss: 0.2993 - val_mean_absolute_percentage_error: 23.1325\n",
      "Epoch 42/100\n",
      "\u001b[1m10/10\u001b[0m \u001b[32m━━━━━━━━━━━━━━━━━━━━\u001b[0m\u001b[37m\u001b[0m \u001b[1m0s\u001b[0m 8ms/step - loss: 0.3516 - mean_absolute_percentage_error: 26.5163 - val_loss: 0.3068 - val_mean_absolute_percentage_error: 23.7887\n",
      "Epoch 43/100\n",
      "\u001b[1m10/10\u001b[0m \u001b[32m━━━━━━━━━━━━━━━━━━━━\u001b[0m\u001b[37m\u001b[0m \u001b[1m0s\u001b[0m 9ms/step - loss: 0.4490 - mean_absolute_percentage_error: 31.5130 - val_loss: 0.3301 - val_mean_absolute_percentage_error: 25.3159\n",
      "Epoch 44/100\n",
      "\u001b[1m10/10\u001b[0m \u001b[32m━━━━━━━━━━━━━━━━━━━━\u001b[0m\u001b[37m\u001b[0m \u001b[1m0s\u001b[0m 11ms/step - loss: 0.3945 - mean_absolute_percentage_error: 29.3579 - val_loss: 0.3170 - val_mean_absolute_percentage_error: 24.4247\n",
      "Epoch 45/100\n",
      "\u001b[1m10/10\u001b[0m \u001b[32m━━━━━━━━━━━━━━━━━━━━\u001b[0m\u001b[37m\u001b[0m \u001b[1m0s\u001b[0m 11ms/step - loss: 0.4585 - mean_absolute_percentage_error: 32.1579 - val_loss: 0.3125 - val_mean_absolute_percentage_error: 24.1501\n",
      "Epoch 46/100\n",
      "\u001b[1m10/10\u001b[0m \u001b[32m━━━━━━━━━━━━━━━━━━━━\u001b[0m\u001b[37m\u001b[0m \u001b[1m0s\u001b[0m 10ms/step - loss: 0.4359 - mean_absolute_percentage_error: 31.4270 - val_loss: 0.3059 - val_mean_absolute_percentage_error: 23.9554\n",
      "Epoch 47/100\n",
      "\u001b[1m10/10\u001b[0m \u001b[32m━━━━━━━━━━━━━━━━━━━━\u001b[0m\u001b[37m\u001b[0m \u001b[1m0s\u001b[0m 10ms/step - loss: 0.3913 - mean_absolute_percentage_error: 27.8669 - val_loss: 0.2954 - val_mean_absolute_percentage_error: 23.4409\n",
      "Epoch 48/100\n",
      "\u001b[1m10/10\u001b[0m \u001b[32m━━━━━━━━━━━━━━━━━━━━\u001b[0m\u001b[37m\u001b[0m \u001b[1m0s\u001b[0m 13ms/step - loss: 0.4482 - mean_absolute_percentage_error: 31.2056 - val_loss: 0.2932 - val_mean_absolute_percentage_error: 23.3144\n",
      "Epoch 49/100\n",
      "\u001b[1m10/10\u001b[0m \u001b[32m━━━━━━━━━━━━━━━━━━━━\u001b[0m\u001b[37m\u001b[0m \u001b[1m0s\u001b[0m 8ms/step - loss: 0.3564 - mean_absolute_percentage_error: 30.1915 - val_loss: 0.3155 - val_mean_absolute_percentage_error: 24.8450\n",
      "Epoch 50/100\n",
      "\u001b[1m10/10\u001b[0m \u001b[32m━━━━━━━━━━━━━━━━━━━━\u001b[0m\u001b[37m\u001b[0m \u001b[1m0s\u001b[0m 9ms/step - loss: 0.3519 - mean_absolute_percentage_error: 27.4252 - val_loss: 0.3238 - val_mean_absolute_percentage_error: 25.2502\n",
      "Epoch 51/100\n",
      "\u001b[1m10/10\u001b[0m \u001b[32m━━━━━━━━━━━━━━━━━━━━\u001b[0m\u001b[37m\u001b[0m \u001b[1m0s\u001b[0m 11ms/step - loss: 0.4728 - mean_absolute_percentage_error: 33.9372 - val_loss: 0.3355 - val_mean_absolute_percentage_error: 26.1201\n",
      "Epoch 52/100\n",
      "\u001b[1m10/10\u001b[0m \u001b[32m━━━━━━━━━━━━━━━━━━━━\u001b[0m\u001b[37m\u001b[0m \u001b[1m0s\u001b[0m 9ms/step - loss: 0.3606 - mean_absolute_percentage_error: 27.9771 - val_loss: 0.3339 - val_mean_absolute_percentage_error: 25.9238\n",
      "Epoch 53/100\n",
      "\u001b[1m10/10\u001b[0m \u001b[32m━━━━━━━━━━━━━━━━━━━━\u001b[0m\u001b[37m\u001b[0m \u001b[1m0s\u001b[0m 11ms/step - loss: 0.4487 - mean_absolute_percentage_error: 31.6497 - val_loss: 0.3398 - val_mean_absolute_percentage_error: 26.1987\n",
      "Epoch 54/100\n",
      "\u001b[1m10/10\u001b[0m \u001b[32m━━━━━━━━━━━━━━━━━━━━\u001b[0m\u001b[37m\u001b[0m \u001b[1m0s\u001b[0m 9ms/step - loss: 0.3591 - mean_absolute_percentage_error: 28.0614 - val_loss: 0.3573 - val_mean_absolute_percentage_error: 27.5890\n",
      "Epoch 55/100\n",
      "\u001b[1m10/10\u001b[0m \u001b[32m━━━━━━━━━━━━━━━━━━━━\u001b[0m\u001b[37m\u001b[0m \u001b[1m0s\u001b[0m 9ms/step - loss: 0.4626 - mean_absolute_percentage_error: 29.3948 - val_loss: 0.3336 - val_mean_absolute_percentage_error: 25.6697\n",
      "Epoch 56/100\n",
      "\u001b[1m10/10\u001b[0m \u001b[32m━━━━━━━━━━━━━━━━━━━━\u001b[0m\u001b[37m\u001b[0m \u001b[1m0s\u001b[0m 9ms/step - loss: 0.4298 - mean_absolute_percentage_error: 30.5436 - val_loss: 0.3307 - val_mean_absolute_percentage_error: 25.5126\n",
      "Epoch 57/100\n",
      "\u001b[1m10/10\u001b[0m \u001b[32m━━━━━━━━━━━━━━━━━━━━\u001b[0m\u001b[37m\u001b[0m \u001b[1m0s\u001b[0m 8ms/step - loss: 0.3948 - mean_absolute_percentage_error: 28.7817 - val_loss: 0.3088 - val_mean_absolute_percentage_error: 24.0709\n",
      "Epoch 58/100\n",
      "\u001b[1m10/10\u001b[0m \u001b[32m━━━━━━━━━━━━━━━━━━━━\u001b[0m\u001b[37m\u001b[0m \u001b[1m0s\u001b[0m 9ms/step - loss: 0.4396 - mean_absolute_percentage_error: 32.6773 - val_loss: 0.3206 - val_mean_absolute_percentage_error: 24.8928\n",
      "Epoch 59/100\n",
      "\u001b[1m10/10\u001b[0m \u001b[32m━━━━━━━━━━━━━━━━━━━━\u001b[0m\u001b[37m\u001b[0m \u001b[1m0s\u001b[0m 9ms/step - loss: 0.3824 - mean_absolute_percentage_error: 27.2133 - val_loss: 0.3320 - val_mean_absolute_percentage_error: 25.7067\n",
      "Epoch 60/100\n",
      "\u001b[1m10/10\u001b[0m \u001b[32m━━━━━━━━━━━━━━━━━━━━\u001b[0m\u001b[37m\u001b[0m \u001b[1m0s\u001b[0m 8ms/step - loss: 0.3670 - mean_absolute_percentage_error: 30.2867 - val_loss: 0.3481 - val_mean_absolute_percentage_error: 26.7927\n",
      "Epoch 61/100\n",
      "\u001b[1m10/10\u001b[0m \u001b[32m━━━━━━━━━━━━━━━━━━━━\u001b[0m\u001b[37m\u001b[0m \u001b[1m0s\u001b[0m 13ms/step - loss: 0.4233 - mean_absolute_percentage_error: 32.6253 - val_loss: 0.3399 - val_mean_absolute_percentage_error: 26.1459\n",
      "Epoch 62/100\n",
      "\u001b[1m10/10\u001b[0m \u001b[32m━━━━━━━━━━━━━━━━━━━━\u001b[0m\u001b[37m\u001b[0m \u001b[1m0s\u001b[0m 8ms/step - loss: 0.4006 - mean_absolute_percentage_error: 29.4788 - val_loss: 0.3421 - val_mean_absolute_percentage_error: 26.0372\n",
      "Epoch 63/100\n",
      "\u001b[1m10/10\u001b[0m \u001b[32m━━━━━━━━━━━━━━━━━━━━\u001b[0m\u001b[37m\u001b[0m \u001b[1m0s\u001b[0m 9ms/step - loss: 0.4100 - mean_absolute_percentage_error: 28.2933 - val_loss: 0.3660 - val_mean_absolute_percentage_error: 27.7430\n",
      "Epoch 64/100\n",
      "\u001b[1m10/10\u001b[0m \u001b[32m━━━━━━━━━━━━━━━━━━━━\u001b[0m\u001b[37m\u001b[0m \u001b[1m0s\u001b[0m 8ms/step - loss: 0.4054 - mean_absolute_percentage_error: 29.2143 - val_loss: 0.3617 - val_mean_absolute_percentage_error: 27.4534\n",
      "Epoch 65/100\n",
      "\u001b[1m10/10\u001b[0m \u001b[32m━━━━━━━━━━━━━━━━━━━━\u001b[0m\u001b[37m\u001b[0m \u001b[1m0s\u001b[0m 7ms/step - loss: 0.4457 - mean_absolute_percentage_error: 30.3624 - val_loss: 0.3616 - val_mean_absolute_percentage_error: 27.7282\n",
      "Epoch 66/100\n",
      "\u001b[1m10/10\u001b[0m \u001b[32m━━━━━━━━━━━━━━━━━━━━\u001b[0m\u001b[37m\u001b[0m \u001b[1m0s\u001b[0m 7ms/step - loss: 0.3617 - mean_absolute_percentage_error: 25.9183 - val_loss: 0.3604 - val_mean_absolute_percentage_error: 27.5395\n",
      "Epoch 67/100\n",
      "\u001b[1m10/10\u001b[0m \u001b[32m━━━━━━━━━━━━━━━━━━━━\u001b[0m\u001b[37m\u001b[0m \u001b[1m0s\u001b[0m 9ms/step - loss: 0.3757 - mean_absolute_percentage_error: 28.4115 - val_loss: 0.3518 - val_mean_absolute_percentage_error: 26.8181\n",
      "Epoch 68/100\n",
      "\u001b[1m10/10\u001b[0m \u001b[32m━━━━━━━━━━━━━━━━━━━━\u001b[0m\u001b[37m\u001b[0m \u001b[1m0s\u001b[0m 8ms/step - loss: 0.3443 - mean_absolute_percentage_error: 27.8530 - val_loss: 0.3471 - val_mean_absolute_percentage_error: 26.2055\n",
      "Epoch 69/100\n",
      "\u001b[1m10/10\u001b[0m \u001b[32m━━━━━━━━━━━━━━━━━━━━\u001b[0m\u001b[37m\u001b[0m \u001b[1m0s\u001b[0m 9ms/step - loss: 0.4014 - mean_absolute_percentage_error: 27.1596 - val_loss: 0.3559 - val_mean_absolute_percentage_error: 26.8487\n",
      "Epoch 70/100\n",
      "\u001b[1m10/10\u001b[0m \u001b[32m━━━━━━━━━━━━━━━━━━━━\u001b[0m\u001b[37m\u001b[0m \u001b[1m0s\u001b[0m 7ms/step - loss: 0.3584 - mean_absolute_percentage_error: 27.4681 - val_loss: 0.3511 - val_mean_absolute_percentage_error: 26.7760\n",
      "Epoch 71/100\n",
      "\u001b[1m10/10\u001b[0m \u001b[32m━━━━━━━━━━━━━━━━━━━━\u001b[0m\u001b[37m\u001b[0m \u001b[1m0s\u001b[0m 7ms/step - loss: 0.3531 - mean_absolute_percentage_error: 25.8597 - val_loss: 0.3542 - val_mean_absolute_percentage_error: 26.9407\n",
      "Epoch 72/100\n",
      "\u001b[1m10/10\u001b[0m \u001b[32m━━━━━━━━━━━━━━━━━━━━\u001b[0m\u001b[37m\u001b[0m \u001b[1m0s\u001b[0m 7ms/step - loss: 0.4159 - mean_absolute_percentage_error: 26.5977 - val_loss: 0.3419 - val_mean_absolute_percentage_error: 25.9450\n",
      "Epoch 73/100\n",
      "\u001b[1m10/10\u001b[0m \u001b[32m━━━━━━━━━━━━━━━━━━━━\u001b[0m\u001b[37m\u001b[0m \u001b[1m0s\u001b[0m 8ms/step - loss: 0.3740 - mean_absolute_percentage_error: 28.6454 - val_loss: 0.3333 - val_mean_absolute_percentage_error: 25.3589\n",
      "Epoch 74/100\n",
      "\u001b[1m10/10\u001b[0m \u001b[32m━━━━━━━━━━━━━━━━━━━━\u001b[0m\u001b[37m\u001b[0m \u001b[1m0s\u001b[0m 8ms/step - loss: 0.3563 - mean_absolute_percentage_error: 27.3137 - val_loss: 0.3193 - val_mean_absolute_percentage_error: 24.5631\n",
      "Epoch 75/100\n",
      "\u001b[1m10/10\u001b[0m \u001b[32m━━━━━━━━━━━━━━━━━━━━\u001b[0m\u001b[37m\u001b[0m \u001b[1m0s\u001b[0m 7ms/step - loss: 0.3660 - mean_absolute_percentage_error: 26.8893 - val_loss: 0.3334 - val_mean_absolute_percentage_error: 25.5079\n",
      "Epoch 76/100\n",
      "\u001b[1m10/10\u001b[0m \u001b[32m━━━━━━━━━━━━━━━━━━━━\u001b[0m\u001b[37m\u001b[0m \u001b[1m0s\u001b[0m 8ms/step - loss: 0.4372 - mean_absolute_percentage_error: 28.8025 - val_loss: 0.3314 - val_mean_absolute_percentage_error: 25.6477\n",
      "Epoch 77/100\n",
      "\u001b[1m10/10\u001b[0m \u001b[32m━━━━━━━━━━━━━━━━━━━━\u001b[0m\u001b[37m\u001b[0m \u001b[1m0s\u001b[0m 8ms/step - loss: 0.4240 - mean_absolute_percentage_error: 28.6098 - val_loss: 0.3433 - val_mean_absolute_percentage_error: 26.2780\n",
      "Epoch 78/100\n",
      "\u001b[1m10/10\u001b[0m \u001b[32m━━━━━━━━━━━━━━━━━━━━\u001b[0m\u001b[37m\u001b[0m \u001b[1m0s\u001b[0m 8ms/step - loss: 0.3649 - mean_absolute_percentage_error: 24.9675 - val_loss: 0.3540 - val_mean_absolute_percentage_error: 26.8787\n",
      "Epoch 79/100\n",
      "\u001b[1m10/10\u001b[0m \u001b[32m━━━━━━━━━━━━━━━━━━━━\u001b[0m\u001b[37m\u001b[0m \u001b[1m0s\u001b[0m 7ms/step - loss: 0.4480 - mean_absolute_percentage_error: 30.8137 - val_loss: 0.3568 - val_mean_absolute_percentage_error: 27.1098\n",
      "Epoch 80/100\n",
      "\u001b[1m10/10\u001b[0m \u001b[32m━━━━━━━━━━━━━━━━━━━━\u001b[0m\u001b[37m\u001b[0m \u001b[1m0s\u001b[0m 9ms/step - loss: 0.4392 - mean_absolute_percentage_error: 29.8149 - val_loss: 0.3731 - val_mean_absolute_percentage_error: 28.4740\n",
      "Epoch 81/100\n",
      "\u001b[1m10/10\u001b[0m \u001b[32m━━━━━━━━━━━━━━━━━━━━\u001b[0m\u001b[37m\u001b[0m \u001b[1m0s\u001b[0m 8ms/step - loss: 0.3682 - mean_absolute_percentage_error: 28.0513 - val_loss: 0.3707 - val_mean_absolute_percentage_error: 28.2326\n",
      "Epoch 82/100\n",
      "\u001b[1m10/10\u001b[0m \u001b[32m━━━━━━━━━━━━━━━━━━━━\u001b[0m\u001b[37m\u001b[0m \u001b[1m0s\u001b[0m 8ms/step - loss: 0.4713 - mean_absolute_percentage_error: 30.9621 - val_loss: 0.3473 - val_mean_absolute_percentage_error: 26.5290\n",
      "Epoch 83/100\n",
      "\u001b[1m10/10\u001b[0m \u001b[32m━━━━━━━━━━━━━━━━━━━━\u001b[0m\u001b[37m\u001b[0m \u001b[1m0s\u001b[0m 7ms/step - loss: 0.3146 - mean_absolute_percentage_error: 24.3057 - val_loss: 0.3233 - val_mean_absolute_percentage_error: 24.7753\n",
      "Epoch 84/100\n",
      "\u001b[1m10/10\u001b[0m \u001b[32m━━━━━━━━━━━━━━━━━━━━\u001b[0m\u001b[37m\u001b[0m \u001b[1m0s\u001b[0m 8ms/step - loss: 0.3509 - mean_absolute_percentage_error: 27.0907 - val_loss: 0.3103 - val_mean_absolute_percentage_error: 24.1476\n",
      "Epoch 85/100\n",
      "\u001b[1m10/10\u001b[0m \u001b[32m━━━━━━━━━━━━━━━━━━━━\u001b[0m\u001b[37m\u001b[0m \u001b[1m0s\u001b[0m 8ms/step - loss: 0.3660 - mean_absolute_percentage_error: 28.8141 - val_loss: 0.3159 - val_mean_absolute_percentage_error: 24.5550\n",
      "Epoch 86/100\n",
      "\u001b[1m10/10\u001b[0m \u001b[32m━━━━━━━━━━━━━━━━━━━━\u001b[0m\u001b[37m\u001b[0m \u001b[1m0s\u001b[0m 8ms/step - loss: 0.3469 - mean_absolute_percentage_error: 27.6248 - val_loss: 0.3352 - val_mean_absolute_percentage_error: 25.8980\n",
      "Epoch 87/100\n",
      "\u001b[1m10/10\u001b[0m \u001b[32m━━━━━━━━━━━━━━━━━━━━\u001b[0m\u001b[37m\u001b[0m \u001b[1m0s\u001b[0m 7ms/step - loss: 0.3788 - mean_absolute_percentage_error: 25.1713 - val_loss: 0.3470 - val_mean_absolute_percentage_error: 26.8278\n",
      "Epoch 88/100\n",
      "\u001b[1m10/10\u001b[0m \u001b[32m━━━━━━━━━━━━━━━━━━━━\u001b[0m\u001b[37m\u001b[0m \u001b[1m0s\u001b[0m 9ms/step - loss: 0.4153 - mean_absolute_percentage_error: 30.1650 - val_loss: 0.3547 - val_mean_absolute_percentage_error: 26.9872\n",
      "Epoch 89/100\n",
      "\u001b[1m10/10\u001b[0m \u001b[32m━━━━━━━━━━━━━━━━━━━━\u001b[0m\u001b[37m\u001b[0m \u001b[1m0s\u001b[0m 7ms/step - loss: 0.3920 - mean_absolute_percentage_error: 29.7878 - val_loss: 0.3495 - val_mean_absolute_percentage_error: 26.7631\n",
      "Epoch 90/100\n",
      "\u001b[1m10/10\u001b[0m \u001b[32m━━━━━━━━━━━━━━━━━━━━\u001b[0m\u001b[37m\u001b[0m \u001b[1m0s\u001b[0m 8ms/step - loss: 0.4497 - mean_absolute_percentage_error: 31.3666 - val_loss: 0.3398 - val_mean_absolute_percentage_error: 25.7565\n",
      "Epoch 91/100\n",
      "\u001b[1m10/10\u001b[0m \u001b[32m━━━━━━━━━━━━━━━━━━━━\u001b[0m\u001b[37m\u001b[0m \u001b[1m0s\u001b[0m 10ms/step - loss: 0.3464 - mean_absolute_percentage_error: 25.8303 - val_loss: 0.3316 - val_mean_absolute_percentage_error: 25.4770\n",
      "Epoch 92/100\n",
      "\u001b[1m10/10\u001b[0m \u001b[32m━━━━━━━━━━━━━━━━━━━━\u001b[0m\u001b[37m\u001b[0m \u001b[1m0s\u001b[0m 9ms/step - loss: 0.3618 - mean_absolute_percentage_error: 27.8627 - val_loss: 0.3437 - val_mean_absolute_percentage_error: 26.2391\n",
      "Epoch 93/100\n",
      "\u001b[1m10/10\u001b[0m \u001b[32m━━━━━━━━━━━━━━━━━━━━\u001b[0m\u001b[37m\u001b[0m \u001b[1m0s\u001b[0m 7ms/step - loss: 0.4756 - mean_absolute_percentage_error: 29.4712 - val_loss: 0.3426 - val_mean_absolute_percentage_error: 26.2988\n",
      "Epoch 94/100\n",
      "\u001b[1m10/10\u001b[0m \u001b[32m━━━━━━━━━━━━━━━━━━━━\u001b[0m\u001b[37m\u001b[0m \u001b[1m0s\u001b[0m 7ms/step - loss: 0.3723 - mean_absolute_percentage_error: 28.2349 - val_loss: 0.3344 - val_mean_absolute_percentage_error: 25.6452\n",
      "Epoch 95/100\n",
      "\u001b[1m10/10\u001b[0m \u001b[32m━━━━━━━━━━━━━━━━━━━━\u001b[0m\u001b[37m\u001b[0m \u001b[1m0s\u001b[0m 7ms/step - loss: 0.3485 - mean_absolute_percentage_error: 27.5235 - val_loss: 0.3426 - val_mean_absolute_percentage_error: 26.3451\n",
      "Epoch 96/100\n",
      "\u001b[1m10/10\u001b[0m \u001b[32m━━━━━━━━━━━━━━━━━━━━\u001b[0m\u001b[37m\u001b[0m \u001b[1m0s\u001b[0m 15ms/step - loss: 0.3940 - mean_absolute_percentage_error: 28.8877 - val_loss: 0.3416 - val_mean_absolute_percentage_error: 26.1609\n",
      "Epoch 97/100\n",
      "\u001b[1m10/10\u001b[0m \u001b[32m━━━━━━━━━━━━━━━━━━━━\u001b[0m\u001b[37m\u001b[0m \u001b[1m0s\u001b[0m 7ms/step - loss: 0.4037 - mean_absolute_percentage_error: 30.1047 - val_loss: 0.3612 - val_mean_absolute_percentage_error: 27.9806\n",
      "Epoch 98/100\n",
      "\u001b[1m10/10\u001b[0m \u001b[32m━━━━━━━━━━━━━━━━━━━━\u001b[0m\u001b[37m\u001b[0m \u001b[1m0s\u001b[0m 8ms/step - loss: 0.4137 - mean_absolute_percentage_error: 31.3100 - val_loss: 0.3653 - val_mean_absolute_percentage_error: 27.9423\n",
      "Epoch 99/100\n",
      "\u001b[1m10/10\u001b[0m \u001b[32m━━━━━━━━━━━━━━━━━━━━\u001b[0m\u001b[37m\u001b[0m \u001b[1m0s\u001b[0m 7ms/step - loss: 0.3626 - mean_absolute_percentage_error: 24.3758 - val_loss: 0.3552 - val_mean_absolute_percentage_error: 27.3625\n",
      "Epoch 100/100\n",
      "\u001b[1m10/10\u001b[0m \u001b[32m━━━━━━━━━━━━━━━━━━━━\u001b[0m\u001b[37m\u001b[0m \u001b[1m0s\u001b[0m 6ms/step - loss: 0.4386 - mean_absolute_percentage_error: 29.2660 - val_loss: 0.3372 - val_mean_absolute_percentage_error: 25.7264\n",
      "WARNING:tensorflow:5 out of the last 15 calls to <function TensorFlowTrainer.make_predict_function.<locals>.one_step_on_data_distributed at 0x000001B1CDECB6A0> triggered tf.function retracing. Tracing is expensive and the excessive number of tracings could be due to (1) creating @tf.function repeatedly in a loop, (2) passing tensors with different shapes, (3) passing Python objects instead of tensors. For (1), please define your @tf.function outside of the loop. For (2), @tf.function has reduce_retracing=True option that can avoid unnecessary retracing. For (3), please refer to https://www.tensorflow.org/guide/function#controlling_retracing and https://www.tensorflow.org/api_docs/python/tf/function for  more details.\n"
     ]
    },
    {
     "name": "stderr",
     "output_type": "stream",
     "text": [
      "WARNING:tensorflow:5 out of the last 15 calls to <function TensorFlowTrainer.make_predict_function.<locals>.one_step_on_data_distributed at 0x000001B1CDECB6A0> triggered tf.function retracing. Tracing is expensive and the excessive number of tracings could be due to (1) creating @tf.function repeatedly in a loop, (2) passing tensors with different shapes, (3) passing Python objects instead of tensors. For (1), please define your @tf.function outside of the loop. For (2), @tf.function has reduce_retracing=True option that can avoid unnecessary retracing. For (3), please refer to https://www.tensorflow.org/guide/function#controlling_retracing and https://www.tensorflow.org/api_docs/python/tf/function for  more details.\n"
     ]
    },
    {
     "name": "stdout",
     "output_type": "stream",
     "text": [
      "\u001b[1m6/6\u001b[0m \u001b[32m━━━━━━━━━━━━━━━━━━━━\u001b[0m\u001b[37m\u001b[0m \u001b[1m1s\u001b[0m 69ms/step\n",
      "\u001b[1m1/1\u001b[0m \u001b[32m━━━━━━━━━━━━━━━━━━━━\u001b[0m\u001b[37m\u001b[0m \u001b[1m0s\u001b[0m 28ms/step\n"
     ]
    },
    {
     "data": {
      "application/vnd.plotly.v1+json": {
       "config": {
        "plotlyServerURL": "https://plot.ly"
       },
       "data": [
        {
         "mode": "lines",
         "name": "Original Training Data",
         "type": "scatter",
         "x": [
          0,
          1,
          2,
          3,
          4,
          5,
          6,
          7,
          8,
          9,
          10,
          11,
          12,
          13,
          14,
          15,
          16,
          17,
          18,
          19,
          20,
          21,
          22,
          23,
          24,
          25,
          26,
          27,
          28,
          29,
          30,
          31,
          32,
          33,
          34,
          35,
          36,
          37,
          38,
          39,
          40,
          41,
          42,
          43,
          44,
          45,
          46,
          47,
          48,
          49,
          50,
          51,
          52,
          53,
          54,
          55,
          56,
          57,
          58,
          59,
          60,
          61,
          62,
          63,
          64,
          65,
          66,
          67,
          68,
          69,
          70,
          71,
          72,
          73,
          74,
          75,
          76,
          77,
          78,
          79,
          80,
          81,
          82,
          83,
          84,
          85,
          86,
          87,
          88,
          89,
          90,
          91,
          92,
          93,
          94,
          95,
          96,
          97,
          98,
          99,
          100,
          101,
          102,
          103,
          104,
          105,
          106,
          107,
          108,
          109,
          110,
          111,
          112,
          113,
          114,
          115,
          116,
          117,
          118,
          119,
          120,
          121,
          122,
          123,
          124,
          125,
          126,
          127,
          128,
          129,
          130,
          131,
          132,
          133,
          134,
          135,
          136,
          137,
          138,
          139,
          140,
          141,
          142,
          143,
          144,
          145,
          146,
          147,
          148,
          149,
          150,
          151,
          152,
          153,
          154,
          155,
          156,
          157,
          158,
          159,
          160,
          161,
          162,
          163,
          164,
          165,
          166,
          167,
          168,
          169,
          170,
          171,
          172,
          173,
          174,
          175,
          176,
          177,
          178,
          179,
          180,
          181,
          182,
          183,
          184,
          185
         ],
         "xaxis": "x",
         "y": [
          -0.006415968442644055,
          -0.25887686623226563,
          0.07773766415389646,
          -0.6515938183494547,
          -0.3991329205598331,
          -0.5674401857529142,
          -0.03446717930815756,
          -0.3430304988288061,
          -0.5113377640218871,
          -0.6235426074839412,
          -0.2308256553667521,
          -0.5393889748874007,
          -0.5954913966184276,
          -0.7357474509459953,
          -0.45523534229086016,
          -0.5954913966184276,
          -0.11862081190469807,
          -0.14667202277021157,
          -0.37108170969431964,
          -0.5674401857529142,
          -0.7637986618115087,
          -0.45523534229086016,
          -0.2308256553667521,
          -0.006415968442644055,
          -0.7357474509459953,
          -0.5674401857529142,
          -0.6515938183494547,
          -0.6796450292149682,
          -0.7637986618115087,
          -0.7357474509459953,
          -0.6235426074839412,
          -0.7918498726770222,
          -0.6235426074839412,
          -0.7076962400804817,
          -0.6515938183494547,
          -0.45523534229086016,
          -0.7918498726770222,
          -0.7918498726770222,
          -0.7918498726770222,
          -0.7918498726770222,
          -0.7918498726770222,
          -0.7918498726770222,
          -0.7918498726770222,
          -0.7918498726770222,
          -0.7918498726770222,
          -0.7918498726770222,
          -0.7637986618115087,
          -0.7637986618115087,
          -0.7918498726770222,
          -0.7076962400804817,
          -0.7918498726770222,
          -0.7918498726770222,
          -0.7918498726770222,
          -0.7918498726770222,
          -0.7918498726770222,
          -0.7637986618115087,
          -0.7918498726770222,
          -0.7918498726770222,
          -0.7918498726770222,
          -0.7918498726770222,
          -0.5113377640218871,
          -0.7918498726770222,
          -0.7918498726770222,
          -0.7357474509459953,
          -0.7918498726770222,
          -0.3991329205598331,
          -0.03446717930815756,
          -0.7637986618115087,
          -0.45523534229086016,
          -0.03446717930815756,
          -0.7357474509459953,
          0.13384008588492347,
          -0.7918498726770222,
          1.2839397313709773,
          -0.09056960103918457,
          -0.7918498726770222,
          5.239160463408381,
          -0.5393889748874007,
          -0.37108170969431964,
          1.4802982074295719,
          -0.14667202277021157,
          1.2839397313709773,
          0.8631715683882746,
          3.2475244919569226,
          0.498505827136599,
          1.4802982074295719,
          3.668292654939625,
          1.9571687921433014,
          -0.11862081190469807,
          1.1436836770434098,
          2.4620905877225443,
          -0.5113377640218871,
          2.4059881659915177,
          1.3961445748330312,
          0.9192739901193017,
          0.330198561943518,
          1.3961445748330312,
          1.9291175812777879,
          0.330198561943518,
          0.3021473510780045,
          0.610710670598653,
          0.9192739901193017,
          0.554608248867626,
          0.6948643031951935,
          1.2278373096399502,
          1.3400421531020041,
          -0.48328655315637364,
          0.35824977280903153,
          1.0595300444468692,
          1.9010663704122743,
          0.6387618814641666,
          1.3680933639675177,
          0.9192739901193017,
          2.938961172436274,
          2.2937833225294635,
          1.3680933639675177,
          0.6387618814641666,
          0.554608248867626,
          0.8351203575227611,
          0.6668130923296801,
          0.6948643031951935,
          0.13384008588492347,
          0.21799371848146398,
          0.1899425076159505,
          0.1899425076159505,
          0.02163524242286945,
          0.1899425076159505,
          -0.2308256553667521,
          -0.7637986618115087,
          -0.2027744445012386,
          -0.3991329205598331,
          -0.37108170969431964,
          -0.37108170969431964,
          -0.25887686623226563,
          -0.2308256553667521,
          -0.5393889748874007,
          -0.45523534229086016,
          -0.5954913966184276,
          -0.6515938183494547,
          -0.6515938183494547,
          -0.6796450292149682,
          -0.7357474509459953,
          -0.7637986618115087,
          -0.6235426074839412,
          -0.6796450292149682,
          -0.7637986618115087,
          -0.5674401857529142,
          -0.3991329205598331,
          -0.6796450292149682,
          -0.5674401857529142,
          -0.7076962400804817,
          -0.5393889748874007,
          -0.7076962400804817,
          -0.6515938183494547,
          -0.7637986618115087,
          -0.7637986618115087,
          -0.7637986618115087,
          -0.6796450292149682,
          0.02163524242286945,
          -0.7637986618115087,
          -0.7637986618115087,
          -0.14667202277021157,
          -0.5113377640218871,
          -0.6235426074839412,
          -0.48328655315637364,
          -0.5113377640218871,
          -0.5393889748874007,
          -0.5674401857529142,
          -0.5954913966184276,
          -0.3991329205598331,
          -0.2869280770977791,
          -0.2869280770977791,
          -0.06251839017367107,
          0.07773766415389646,
          0.2460449293469775,
          0.7790179357917341,
          0.498505827136599,
          0.8070691466572476,
          0.7790179357917341,
          1.3400421531020041,
          2.0132712138743285,
          1.7608103160847068,
          2.4620905877225443,
          1.2278373096399502,
          2.321834533394977
         ],
         "yaxis": "y"
        },
        {
         "line": {
          "dash": "dash"
         },
         "mode": "lines",
         "name": "Fitted Training Data",
         "type": "scatter",
         "x": [
          0,
          1,
          2,
          3,
          4,
          5,
          6,
          7,
          8,
          9,
          10,
          11,
          12,
          13,
          14,
          15,
          16,
          17,
          18,
          19,
          20,
          21,
          22,
          23,
          24,
          25,
          26,
          27,
          28,
          29,
          30,
          31,
          32,
          33,
          34,
          35,
          36,
          37,
          38,
          39,
          40,
          41,
          42,
          43,
          44,
          45,
          46,
          47,
          48,
          49,
          50,
          51,
          52,
          53,
          54,
          55,
          56,
          57,
          58,
          59,
          60,
          61,
          62,
          63,
          64,
          65,
          66,
          67,
          68,
          69,
          70,
          71,
          72,
          73,
          74,
          75,
          76,
          77,
          78,
          79,
          80,
          81,
          82,
          83,
          84,
          85,
          86,
          87,
          88,
          89,
          90,
          91,
          92,
          93,
          94,
          95,
          96,
          97,
          98,
          99,
          100,
          101,
          102,
          103,
          104,
          105,
          106,
          107,
          108,
          109,
          110,
          111,
          112,
          113,
          114,
          115,
          116,
          117,
          118,
          119,
          120,
          121,
          122,
          123,
          124,
          125,
          126,
          127,
          128,
          129,
          130,
          131,
          132,
          133,
          134,
          135,
          136,
          137,
          138,
          139,
          140,
          141,
          142,
          143,
          144,
          145,
          146,
          147,
          148,
          149,
          150,
          151,
          152,
          153,
          154,
          155,
          156,
          157,
          158,
          159,
          160,
          161,
          162,
          163,
          164,
          165,
          166,
          167,
          168,
          169,
          170,
          171,
          172,
          173,
          174,
          175,
          176,
          177,
          178,
          179,
          180,
          181,
          182,
          183,
          184,
          185
         ],
         "xaxis": "x",
         "y": [
          -0.3632124364376068,
          -0.1937256008386612,
          -0.2784205377101898,
          -0.2551964521408081,
          -0.4456484019756317,
          -0.5025638341903687,
          -0.5242680311203003,
          -0.39523351192474365,
          -0.3745117783546448,
          -0.4746091961860657,
          -0.4687039852142334,
          -0.47929713129997253,
          -0.4691871702671051,
          -0.4800530672073364,
          -0.5616629123687744,
          -0.5670832395553589,
          -0.5666157007217407,
          -0.43533632159233093,
          -0.3640492558479309,
          -0.3990119993686676,
          -0.4826393723487854,
          -0.5054988861083984,
          -0.5647697448730469,
          -0.5151958465576172,
          -0.3558056950569153,
          -0.4666866064071655,
          -0.5175042152404785,
          -0.6008198261260986,
          -0.5745974779129028,
          -0.6178022623062134,
          -0.6396349668502808,
          -0.640819787979126,
          -0.633550763130188,
          -0.6130729913711548,
          -0.6369798183441162,
          -0.5993955731391907,
          -0.5813195705413818,
          -0.5712259411811829,
          -0.5867677927017212,
          -0.68400639295578,
          -0.68400639295578,
          -0.68400639295578,
          -0.68400639295578,
          -0.68400639295578,
          -0.68400639295578,
          -0.68400639295578,
          -0.68400639295578,
          -0.6800956726074219,
          -0.674425482749939,
          -0.6708113551139832,
          -0.664627194404602,
          -0.6668198704719543,
          -0.6611640453338623,
          -0.68400639295578,
          -0.68400639295578,
          -0.68400639295578,
          -0.6800956726074219,
          -0.6783463358879089,
          -0.6765000224113464,
          -0.68400639295578,
          -0.68400639295578,
          -0.6430427432060242,
          -0.624290943145752,
          -0.6040651798248291,
          -0.6761441230773926,
          -0.6726175546646118,
          -0.6101912260055542,
          -0.4747156798839569,
          -0.44958794116973877,
          -0.5009312629699707,
          -0.4802754521369934,
          -0.43670642375946045,
          -0.42184188961982727,
          -0.44326040148735046,
          -0.0818120613694191,
          0.014693843200802803,
          0.6323457360267639,
          -0.38516420125961304,
          0.07825897634029388,
          1.598778247833252,
          -0.1304643154144287,
          0.3316398561000824,
          0.9665963053703308,
          0.5245876312255859,
          0.9510916471481323,
          0.7731019854545593,
          1.248294472694397,
          0.775629997253418,
          0.7169389724731445,
          1.0644105672836304,
          1.1013731956481934,
          0.5776383280754089,
          0.833623468875885,
          1.2784802913665771,
          0.5926862955093384,
          1.0490391254425049,
          0.9314460158348083,
          0.814371645450592,
          0.7440801858901978,
          0.9049701690673828,
          1.0569005012512207,
          0.40217679738998413,
          0.5856503844261169,
          0.7258752584457397,
          0.7992596626281738,
          0.7175276279449463,
          0.8117336630821228,
          0.8665208220481873,
          0.7855692505836487,
          0.01478465087711811,
          0.7206509709358215,
          0.8687872886657715,
          1.0638537406921387,
          0.7904691696166992,
          0.9683313369750977,
          0.7933622002601624,
          0.9242181181907654,
          1.0448368787765503,
          0.9292329549789429,
          0.7075468897819519,
          0.7033528685569763,
          0.7819934487342834,
          0.6780638098716736,
          0.48907116055488586,
          0.11379040777683258,
          0.16015808284282684,
          0.09515348076820374,
          0.05656991899013519,
          -0.09228146076202393,
          -0.31898245215415955,
          -0.4418160915374756,
          -0.481158971786499,
          -0.4514877200126648,
          -0.4218146502971649,
          -0.4090576767921448,
          -0.3980783522129059,
          -0.4555317759513855,
          -0.4628608226776123,
          -0.5078675150871277,
          -0.5228884816169739,
          -0.5788580179214478,
          -0.5995231866836548,
          -0.6137880086898804,
          -0.6377663612365723,
          -0.638958752155304,
          -0.6251904964447021,
          -0.6096391081809998,
          -0.6148627400398254,
          -0.569387674331665,
          -0.5157883167266846,
          -0.5112924575805664,
          -0.5930792093276978,
          -0.5657816529273987,
          -0.5948189496994019,
          -0.5742975473403931,
          -0.6277753114700317,
          -0.6356463432312012,
          -0.6668850183486938,
          -0.6548593044281006,
          -0.521660566329956,
          -0.4534544348716736,
          -0.5445790886878967,
          -0.569949209690094,
          -0.484919011592865,
          -0.4961734712123871,
          -0.5210472345352173,
          -0.5272104740142822,
          -0.4949086010456085,
          -0.5147614479064941,
          -0.5343326330184937,
          -0.5183678865432739,
          -0.4614449441432953,
          -0.4033246636390686,
          -0.3907311260700226,
          -0.3476267457008362,
          -0.07968519628047943,
          0.24665968120098114,
          0.5289654731750488,
          0.7508590221405029,
          0.6864926218986511,
          0.8138160705566406,
          0.8492509126663208,
          0.9018549919128418,
          0.9648429751396179,
          0.8834632039070129
         ],
         "yaxis": "y"
        },
        {
         "mode": "lines",
         "name": "Original Training Data",
         "type": "scatter",
         "x": [
          0,
          1,
          2,
          3,
          4,
          5,
          6,
          7
         ],
         "xaxis": "x2",
         "y": [
          0.04341789532727141,
          -0.37339389981453414,
          -1.4848920201926823,
          1.137548857574511,
          -0.26919095102908275,
          0.7728385368254311,
          0.4949640067308941
         ],
         "yaxis": "y2"
        },
        {
         "line": {
          "dash": "dash"
         },
         "mode": "lines",
         "name": "Fitted Training Data",
         "type": "scatter",
         "x": [
          0,
          1,
          2,
          3,
          4,
          5,
          6,
          7
         ],
         "xaxis": "x2",
         "y": [
          0.42663782835006714,
          -0.6497439742088318,
          -0.4032115936279297,
          -0.5959457755088806,
          -0.33001989126205444,
          -0.26224854588508606,
          0.7912001609802246
         ],
         "yaxis": "y2"
        }
       ],
       "layout": {
        "annotations": [
         {
          "font": {
           "size": 16
          },
          "showarrow": false,
          "text": "O",
          "x": 0.225,
          "xanchor": "center",
          "xref": "paper",
          "y": 1,
          "yanchor": "bottom",
          "yref": "paper"
         },
         {
          "font": {
           "size": 16
          },
          "showarrow": false,
          "text": "r",
          "x": 0.775,
          "xanchor": "center",
          "xref": "paper",
          "y": 1,
          "yanchor": "bottom",
          "yref": "paper"
         }
        ],
        "height": 400,
        "hovermode": "x unified",
        "template": {
         "data": {
          "bar": [
           {
            "error_x": {
             "color": "#2a3f5f"
            },
            "error_y": {
             "color": "#2a3f5f"
            },
            "marker": {
             "line": {
              "color": "#E5ECF6",
              "width": 0.5
             },
             "pattern": {
              "fillmode": "overlay",
              "size": 10,
              "solidity": 0.2
             }
            },
            "type": "bar"
           }
          ],
          "barpolar": [
           {
            "marker": {
             "line": {
              "color": "#E5ECF6",
              "width": 0.5
             },
             "pattern": {
              "fillmode": "overlay",
              "size": 10,
              "solidity": 0.2
             }
            },
            "type": "barpolar"
           }
          ],
          "carpet": [
           {
            "aaxis": {
             "endlinecolor": "#2a3f5f",
             "gridcolor": "white",
             "linecolor": "white",
             "minorgridcolor": "white",
             "startlinecolor": "#2a3f5f"
            },
            "baxis": {
             "endlinecolor": "#2a3f5f",
             "gridcolor": "white",
             "linecolor": "white",
             "minorgridcolor": "white",
             "startlinecolor": "#2a3f5f"
            },
            "type": "carpet"
           }
          ],
          "choropleth": [
           {
            "colorbar": {
             "outlinewidth": 0,
             "ticks": ""
            },
            "type": "choropleth"
           }
          ],
          "contour": [
           {
            "colorbar": {
             "outlinewidth": 0,
             "ticks": ""
            },
            "colorscale": [
             [
              0,
              "#0d0887"
             ],
             [
              0.1111111111111111,
              "#46039f"
             ],
             [
              0.2222222222222222,
              "#7201a8"
             ],
             [
              0.3333333333333333,
              "#9c179e"
             ],
             [
              0.4444444444444444,
              "#bd3786"
             ],
             [
              0.5555555555555556,
              "#d8576b"
             ],
             [
              0.6666666666666666,
              "#ed7953"
             ],
             [
              0.7777777777777778,
              "#fb9f3a"
             ],
             [
              0.8888888888888888,
              "#fdca26"
             ],
             [
              1,
              "#f0f921"
             ]
            ],
            "type": "contour"
           }
          ],
          "contourcarpet": [
           {
            "colorbar": {
             "outlinewidth": 0,
             "ticks": ""
            },
            "type": "contourcarpet"
           }
          ],
          "heatmap": [
           {
            "colorbar": {
             "outlinewidth": 0,
             "ticks": ""
            },
            "colorscale": [
             [
              0,
              "#0d0887"
             ],
             [
              0.1111111111111111,
              "#46039f"
             ],
             [
              0.2222222222222222,
              "#7201a8"
             ],
             [
              0.3333333333333333,
              "#9c179e"
             ],
             [
              0.4444444444444444,
              "#bd3786"
             ],
             [
              0.5555555555555556,
              "#d8576b"
             ],
             [
              0.6666666666666666,
              "#ed7953"
             ],
             [
              0.7777777777777778,
              "#fb9f3a"
             ],
             [
              0.8888888888888888,
              "#fdca26"
             ],
             [
              1,
              "#f0f921"
             ]
            ],
            "type": "heatmap"
           }
          ],
          "heatmapgl": [
           {
            "colorbar": {
             "outlinewidth": 0,
             "ticks": ""
            },
            "colorscale": [
             [
              0,
              "#0d0887"
             ],
             [
              0.1111111111111111,
              "#46039f"
             ],
             [
              0.2222222222222222,
              "#7201a8"
             ],
             [
              0.3333333333333333,
              "#9c179e"
             ],
             [
              0.4444444444444444,
              "#bd3786"
             ],
             [
              0.5555555555555556,
              "#d8576b"
             ],
             [
              0.6666666666666666,
              "#ed7953"
             ],
             [
              0.7777777777777778,
              "#fb9f3a"
             ],
             [
              0.8888888888888888,
              "#fdca26"
             ],
             [
              1,
              "#f0f921"
             ]
            ],
            "type": "heatmapgl"
           }
          ],
          "histogram": [
           {
            "marker": {
             "pattern": {
              "fillmode": "overlay",
              "size": 10,
              "solidity": 0.2
             }
            },
            "type": "histogram"
           }
          ],
          "histogram2d": [
           {
            "colorbar": {
             "outlinewidth": 0,
             "ticks": ""
            },
            "colorscale": [
             [
              0,
              "#0d0887"
             ],
             [
              0.1111111111111111,
              "#46039f"
             ],
             [
              0.2222222222222222,
              "#7201a8"
             ],
             [
              0.3333333333333333,
              "#9c179e"
             ],
             [
              0.4444444444444444,
              "#bd3786"
             ],
             [
              0.5555555555555556,
              "#d8576b"
             ],
             [
              0.6666666666666666,
              "#ed7953"
             ],
             [
              0.7777777777777778,
              "#fb9f3a"
             ],
             [
              0.8888888888888888,
              "#fdca26"
             ],
             [
              1,
              "#f0f921"
             ]
            ],
            "type": "histogram2d"
           }
          ],
          "histogram2dcontour": [
           {
            "colorbar": {
             "outlinewidth": 0,
             "ticks": ""
            },
            "colorscale": [
             [
              0,
              "#0d0887"
             ],
             [
              0.1111111111111111,
              "#46039f"
             ],
             [
              0.2222222222222222,
              "#7201a8"
             ],
             [
              0.3333333333333333,
              "#9c179e"
             ],
             [
              0.4444444444444444,
              "#bd3786"
             ],
             [
              0.5555555555555556,
              "#d8576b"
             ],
             [
              0.6666666666666666,
              "#ed7953"
             ],
             [
              0.7777777777777778,
              "#fb9f3a"
             ],
             [
              0.8888888888888888,
              "#fdca26"
             ],
             [
              1,
              "#f0f921"
             ]
            ],
            "type": "histogram2dcontour"
           }
          ],
          "mesh3d": [
           {
            "colorbar": {
             "outlinewidth": 0,
             "ticks": ""
            },
            "type": "mesh3d"
           }
          ],
          "parcoords": [
           {
            "line": {
             "colorbar": {
              "outlinewidth": 0,
              "ticks": ""
             }
            },
            "type": "parcoords"
           }
          ],
          "pie": [
           {
            "automargin": true,
            "type": "pie"
           }
          ],
          "scatter": [
           {
            "fillpattern": {
             "fillmode": "overlay",
             "size": 10,
             "solidity": 0.2
            },
            "type": "scatter"
           }
          ],
          "scatter3d": [
           {
            "line": {
             "colorbar": {
              "outlinewidth": 0,
              "ticks": ""
             }
            },
            "marker": {
             "colorbar": {
              "outlinewidth": 0,
              "ticks": ""
             }
            },
            "type": "scatter3d"
           }
          ],
          "scattercarpet": [
           {
            "marker": {
             "colorbar": {
              "outlinewidth": 0,
              "ticks": ""
             }
            },
            "type": "scattercarpet"
           }
          ],
          "scattergeo": [
           {
            "marker": {
             "colorbar": {
              "outlinewidth": 0,
              "ticks": ""
             }
            },
            "type": "scattergeo"
           }
          ],
          "scattergl": [
           {
            "marker": {
             "colorbar": {
              "outlinewidth": 0,
              "ticks": ""
             }
            },
            "type": "scattergl"
           }
          ],
          "scattermapbox": [
           {
            "marker": {
             "colorbar": {
              "outlinewidth": 0,
              "ticks": ""
             }
            },
            "type": "scattermapbox"
           }
          ],
          "scatterpolar": [
           {
            "marker": {
             "colorbar": {
              "outlinewidth": 0,
              "ticks": ""
             }
            },
            "type": "scatterpolar"
           }
          ],
          "scatterpolargl": [
           {
            "marker": {
             "colorbar": {
              "outlinewidth": 0,
              "ticks": ""
             }
            },
            "type": "scatterpolargl"
           }
          ],
          "scatterternary": [
           {
            "marker": {
             "colorbar": {
              "outlinewidth": 0,
              "ticks": ""
             }
            },
            "type": "scatterternary"
           }
          ],
          "surface": [
           {
            "colorbar": {
             "outlinewidth": 0,
             "ticks": ""
            },
            "colorscale": [
             [
              0,
              "#0d0887"
             ],
             [
              0.1111111111111111,
              "#46039f"
             ],
             [
              0.2222222222222222,
              "#7201a8"
             ],
             [
              0.3333333333333333,
              "#9c179e"
             ],
             [
              0.4444444444444444,
              "#bd3786"
             ],
             [
              0.5555555555555556,
              "#d8576b"
             ],
             [
              0.6666666666666666,
              "#ed7953"
             ],
             [
              0.7777777777777778,
              "#fb9f3a"
             ],
             [
              0.8888888888888888,
              "#fdca26"
             ],
             [
              1,
              "#f0f921"
             ]
            ],
            "type": "surface"
           }
          ],
          "table": [
           {
            "cells": {
             "fill": {
              "color": "#EBF0F8"
             },
             "line": {
              "color": "white"
             }
            },
            "header": {
             "fill": {
              "color": "#C8D4E3"
             },
             "line": {
              "color": "white"
             }
            },
            "type": "table"
           }
          ]
         },
         "layout": {
          "annotationdefaults": {
           "arrowcolor": "#2a3f5f",
           "arrowhead": 0,
           "arrowwidth": 1
          },
          "autotypenumbers": "strict",
          "coloraxis": {
           "colorbar": {
            "outlinewidth": 0,
            "ticks": ""
           }
          },
          "colorscale": {
           "diverging": [
            [
             0,
             "#8e0152"
            ],
            [
             0.1,
             "#c51b7d"
            ],
            [
             0.2,
             "#de77ae"
            ],
            [
             0.3,
             "#f1b6da"
            ],
            [
             0.4,
             "#fde0ef"
            ],
            [
             0.5,
             "#f7f7f7"
            ],
            [
             0.6,
             "#e6f5d0"
            ],
            [
             0.7,
             "#b8e186"
            ],
            [
             0.8,
             "#7fbc41"
            ],
            [
             0.9,
             "#4d9221"
            ],
            [
             1,
             "#276419"
            ]
           ],
           "sequential": [
            [
             0,
             "#0d0887"
            ],
            [
             0.1111111111111111,
             "#46039f"
            ],
            [
             0.2222222222222222,
             "#7201a8"
            ],
            [
             0.3333333333333333,
             "#9c179e"
            ],
            [
             0.4444444444444444,
             "#bd3786"
            ],
            [
             0.5555555555555556,
             "#d8576b"
            ],
            [
             0.6666666666666666,
             "#ed7953"
            ],
            [
             0.7777777777777778,
             "#fb9f3a"
            ],
            [
             0.8888888888888888,
             "#fdca26"
            ],
            [
             1,
             "#f0f921"
            ]
           ],
           "sequentialminus": [
            [
             0,
             "#0d0887"
            ],
            [
             0.1111111111111111,
             "#46039f"
            ],
            [
             0.2222222222222222,
             "#7201a8"
            ],
            [
             0.3333333333333333,
             "#9c179e"
            ],
            [
             0.4444444444444444,
             "#bd3786"
            ],
            [
             0.5555555555555556,
             "#d8576b"
            ],
            [
             0.6666666666666666,
             "#ed7953"
            ],
            [
             0.7777777777777778,
             "#fb9f3a"
            ],
            [
             0.8888888888888888,
             "#fdca26"
            ],
            [
             1,
             "#f0f921"
            ]
           ]
          },
          "colorway": [
           "#636efa",
           "#EF553B",
           "#00cc96",
           "#ab63fa",
           "#FFA15A",
           "#19d3f3",
           "#FF6692",
           "#B6E880",
           "#FF97FF",
           "#FECB52"
          ],
          "font": {
           "color": "#2a3f5f"
          },
          "geo": {
           "bgcolor": "white",
           "lakecolor": "white",
           "landcolor": "#E5ECF6",
           "showlakes": true,
           "showland": true,
           "subunitcolor": "white"
          },
          "hoverlabel": {
           "align": "left"
          },
          "hovermode": "closest",
          "mapbox": {
           "style": "light"
          },
          "paper_bgcolor": "white",
          "plot_bgcolor": "#E5ECF6",
          "polar": {
           "angularaxis": {
            "gridcolor": "white",
            "linecolor": "white",
            "ticks": ""
           },
           "bgcolor": "#E5ECF6",
           "radialaxis": {
            "gridcolor": "white",
            "linecolor": "white",
            "ticks": ""
           }
          },
          "scene": {
           "xaxis": {
            "backgroundcolor": "#E5ECF6",
            "gridcolor": "white",
            "gridwidth": 2,
            "linecolor": "white",
            "showbackground": true,
            "ticks": "",
            "zerolinecolor": "white"
           },
           "yaxis": {
            "backgroundcolor": "#E5ECF6",
            "gridcolor": "white",
            "gridwidth": 2,
            "linecolor": "white",
            "showbackground": true,
            "ticks": "",
            "zerolinecolor": "white"
           },
           "zaxis": {
            "backgroundcolor": "#E5ECF6",
            "gridcolor": "white",
            "gridwidth": 2,
            "linecolor": "white",
            "showbackground": true,
            "ticks": "",
            "zerolinecolor": "white"
           }
          },
          "shapedefaults": {
           "line": {
            "color": "#2a3f5f"
           }
          },
          "ternary": {
           "aaxis": {
            "gridcolor": "white",
            "linecolor": "white",
            "ticks": ""
           },
           "baxis": {
            "gridcolor": "white",
            "linecolor": "white",
            "ticks": ""
           },
           "bgcolor": "#E5ECF6",
           "caxis": {
            "gridcolor": "white",
            "linecolor": "white",
            "ticks": ""
           }
          },
          "title": {
           "x": 0.05
          },
          "xaxis": {
           "automargin": true,
           "gridcolor": "white",
           "linecolor": "white",
           "ticks": "",
           "title": {
            "standoff": 15
           },
           "zerolinecolor": "white",
           "zerolinewidth": 2
          },
          "yaxis": {
           "automargin": true,
           "gridcolor": "white",
           "linecolor": "white",
           "ticks": "",
           "title": {
            "standoff": 15
           },
           "zerolinecolor": "white",
           "zerolinewidth": 2
          }
         }
        },
        "title": {
         "text": "COVID-19 Data"
        },
        "width": 600,
        "xaxis": {
         "anchor": "y",
         "domain": [
          0,
          0.45
         ],
         "tickangle": 45,
         "tickformat": "%b %d\n%Y",
         "tickvals": [
          "2021-04-05T00:00:00",
          "2021-04-18T00:00:00",
          "2021-05-01T00:00:00",
          "2021-05-14T00:00:00",
          "2021-05-27T00:00:00",
          "2021-06-09T00:00:00",
          "2021-06-22T00:00:00",
          "2021-07-05T00:00:00",
          "2021-07-18T00:00:00",
          "2021-07-31T00:00:00",
          "2021-08-13T00:00:00",
          "2021-08-26T00:00:00",
          "2021-09-08T00:00:00",
          "2021-09-21T00:00:00",
          "2021-10-04T00:00:00",
          "2021-10-17T00:00:00"
         ]
        },
        "xaxis2": {
         "anchor": "y2",
         "domain": [
          0.55,
          1
         ],
         "tickangle": 45,
         "tickformat": "%b %d\n%Y",
         "tickvals": [
          "2021-04-05T00:00:00",
          "2021-04-18T00:00:00",
          "2021-05-01T00:00:00",
          "2021-05-14T00:00:00",
          "2021-05-27T00:00:00",
          "2021-06-09T00:00:00",
          "2021-06-22T00:00:00",
          "2021-07-05T00:00:00",
          "2021-07-18T00:00:00",
          "2021-07-31T00:00:00",
          "2021-08-13T00:00:00",
          "2021-08-26T00:00:00",
          "2021-09-08T00:00:00",
          "2021-09-21T00:00:00",
          "2021-10-04T00:00:00",
          "2021-10-17T00:00:00"
         ]
        },
        "yaxis": {
         "anchor": "x",
         "domain": [
          0,
          1
         ]
        },
        "yaxis2": {
         "anchor": "x2",
         "domain": [
          0,
          1
         ]
        }
       }
      }
     },
     "metadata": {},
     "output_type": "display_data"
    },
    {
     "name": "stderr",
     "output_type": "stream",
     "text": [
      "WARNING:absl:You are saving your model as an HDF5 file via `model.save()` or `keras.saving.save_model(model)`. This file format is considered legacy. We recommend using instead the native Keras format, e.g. `model.save('my_model.keras')` or `keras.saving.save_model(model, 'my_model.keras')`. \n"
     ]
    },
    {
     "name": "stdout",
     "output_type": "stream",
     "text": [
      "MAE: 0.6952709555625916\n",
      "RMSE: 0.8913171887397766\n",
      "R² score: -0.22485899925231934\n"
     ]
    },
    {
     "data": {
      "image/png": "[encoded data removed]",
      "text/plain": [
       "<Figure size 640x480 with 1 Axes>"
      ]
     },
     "metadata": {},
     "output_type": "display_data"
    }
   ],
   "source": [
    "bilstm_model = Sequential()\n",
    "bilstm_model.add(Bidirectional(LSTM(100, dropout=0.2, return_sequences=False), input_shape=(X_train_seq.shape[1], X_train_seq.shape[2])))\n",
    "bilstm_model.add(Dense(8, activation='relu'))\n",
    "bilstm_model.add(Dense(1, activation='linear'))\n",
    "K.set_epsilon(1)\n",
    "bilstm_model.compile(optimizer=Adam(learning_rate=0.001), loss=MeanAbsoluteError(), metrics=[MeanAbsolutePercentageError()])\n",
    "bilstm_model.summary()\n",
    "\n",
    "\n",
    "# training\n",
    "early_stopping = EarlyStopping(monitor='val_loss', patience=20, restore_best_weights=True)\n",
    "reduce_lr = ReduceLROnPlateau(monitor='val_loss', factor=0.9, patience=5, min_lr=0.00000001)\n",
    "\n",
    "history = bilstm_model.fit(X_train_seq, y_train_seq, epochs=100, batch_size=16, validation_split=0.2, verbose=1)\n",
    "\n",
    "\n",
    "# plot the loss function\n",
    "plt.plot(history.history['loss'], label='Training loss')\n",
    "plt.plot(history.history['val_loss'], label='Validation loss')\n",
    "plt.legend()\n",
    "\n",
    "\n",
    "# visualization the result\n",
    "y_pred_train = bilstm_model.predict(X_train_seq).reshape(-1,1)\n",
    "y_pred_test = bilstm_model.predict(X_test_seq).reshape(-1,1)\n",
    "\n",
    "num_dates = len(df['Date'])\n",
    "step = max(1, num_dates // 15)\n",
    "display_dates = df['Date'][::step]\n",
    "\n",
    "fig = make_subplots(\n",
    "    rows=1, cols=2,\n",
    "    subplot_titles=(\"Original Training Data\"),\n",
    "    shared_xaxes=True\n",
    ")\n",
    "\n",
    "fig.add_trace(go.Scatter(x=np.arange(len(X_train) - sequence_length + 1), y=y_train_seq.flatten(), mode='lines', name='Original Training Data'), row=1, col=1)\n",
    "fig.add_trace(go.Scatter(x=np.arange(len(X_train) - sequence_length + 1), y=y_pred_train.flatten(), mode='lines', name='Fitted Training Data', line=dict(dash='dash')), row=1, col=1)\n",
    "\n",
    "fig.add_trace(go.Scatter(x=np.arange(len(X_test) - sequence_length + 1), y=y_test_seq.flatten(), mode='lines', name='Original Training Data'), row=1, col=2)\n",
    "fig.add_trace(go.Scatter(x=np.arange(len(X_test) - sequence_length + 1), y=y_pred_test.flatten(), mode='lines', name='Fitted Training Data', line=dict(dash='dash')), row=1, col=2)\n",
    "\n",
    "fig.update_layout(\n",
    "    height=400, width=600,\n",
    "    title_text=\"COVID-19 Data\",\n",
    "    hovermode='x unified'\n",
    ")\n",
    "\n",
    "for i in range(1, 2):\n",
    "    for j in range(1, 3):\n",
    "        fig.update_xaxes(\n",
    "            tickvals=display_dates,\n",
    "            tickformat=\"%b %d\\n%Y\",\n",
    "            tickangle=45,\n",
    "            row=i, col=j\n",
    "        )\n",
    "fig.show()\n",
    "\n",
    "\n",
    "# Compute score metrics\n",
    "# Convert to tensors\n",
    "y_true_tf = tf.convert_to_tensor(y_test_seq.reshape(-1), dtype=tf.float32)\n",
    "y_pred_tf = tf.convert_to_tensor(y_pred_test.reshape(-1), dtype=tf.float32)\n",
    "\n",
    "# Initialize the metrics\n",
    "mae_metric = tf.keras.metrics.MeanAbsoluteError()\n",
    "mse_metric = tf.keras.metrics.MeanSquaredError()\n",
    "\n",
    "# Update the state with the true and predicted values\n",
    "mae_metric.update_state(y_true_tf, y_pred_tf)\n",
    "mse_metric.update_state(y_true_tf, y_pred_tf)\n",
    "\n",
    "# Calculate MAE and MSE\n",
    "mae = mae_metric.result().numpy()\n",
    "mse = mse_metric.result().numpy()\n",
    "\n",
    "# Calculate RMSE\n",
    "rmse = np.sqrt(mse)\n",
    "\n",
    "# Calculate R² score\n",
    "total_error = tf.reduce_sum(tf.square(y_true_tf - tf.reduce_mean(y_true_tf)))\n",
    "unexplained_error = tf.reduce_sum(tf.square(y_true_tf - y_pred_tf))\n",
    "r2_score = 1 - tf.divide(unexplained_error, total_error).numpy()\n",
    "\n",
    "print(f\"MAE: {mae}\")\n",
    "print(f\"RMSE: {rmse}\")\n",
    "print(f\"R² score: {r2_score}\")\n",
    "\n",
    "\n",
    "# save the model\n",
    "bilstm_model.save(\"./checkpoints/bilstm.h5\")\n"
   ]
  },
  {
   "cell_type": "markdown",
   "metadata": {},
   "source": [
    "### stacked LSTM"
   ]
  },
  {
   "cell_type": "code",
   "execution_count": 54,
   "metadata": {},
   "outputs": [
    {
     "name": "stderr",
     "output_type": "stream",
     "text": [
      "c:\\Users\\ADMIN\\AppData\\Local\\Programs\\Python\\Python312\\Lib\\site-packages\\keras\\src\\layers\\rnn\\rnn.py:204: UserWarning:\n",
      "\n",
      "Do not pass an `input_shape`/`input_dim` argument to a layer. When using Sequential models, prefer using an `Input(shape)` object as the first layer in the model instead.\n",
      "\n"
     ]
    },
    {
     "data": {
      "text/html": [
       "<pre style=\"white-space:pre;overflow-x:auto;line-height:normal;font-family:Menlo,'DejaVu Sans Mono',consolas,'Courier New',monospace\"><span style=\"font-weight: bold\">Model: \"sequential_14\"</span>\n",
       "</pre>\n"
      ],
      "text/plain": [
       "\u001b[1mModel: \"sequential_14\"\u001b[0m\n"
      ]
     },
     "metadata": {},
     "output_type": "display_data"
    },
    {
     "data": {
      "text/html": [
       "<pre style=\"white-space:pre;overflow-x:auto;line-height:normal;font-family:Menlo,'DejaVu Sans Mono',consolas,'Courier New',monospace\">┏━━━━━━━━━━━━━━━━━━━━━━━━━━━━━━━━━┳━━━━━━━━━━━━━━━━━━━━━━━━┳━━━━━━━━━━━━━━━┓\n",
       "┃<span style=\"font-weight: bold\"> Layer (type)                    </span>┃<span style=\"font-weight: bold\"> Output Shape           </span>┃<span style=\"font-weight: bold\">       Param # </span>┃\n",
       "┡━━━━━━━━━━━━━━━━━━━━━━━━━━━━━━━━━╇━━━━━━━━━━━━━━━━━━━━━━━━╇━━━━━━━━━━━━━━━┩\n",
       "│ lstm_10 (<span style=\"color: #0087ff; text-decoration-color: #0087ff\">LSTM</span>)                  │ (<span style=\"color: #00d7ff; text-decoration-color: #00d7ff\">None</span>, <span style=\"color: #00af00; text-decoration-color: #00af00\">3</span>, <span style=\"color: #00af00; text-decoration-color: #00af00\">100</span>)         │        <span style=\"color: #00af00; text-decoration-color: #00af00\">40,800</span> │\n",
       "├─────────────────────────────────┼────────────────────────┼───────────────┤\n",
       "│ lstm_11 (<span style=\"color: #0087ff; text-decoration-color: #0087ff\">LSTM</span>)                  │ (<span style=\"color: #00d7ff; text-decoration-color: #00d7ff\">None</span>, <span style=\"color: #00af00; text-decoration-color: #00af00\">50</span>)             │        <span style=\"color: #00af00; text-decoration-color: #00af00\">30,200</span> │\n",
       "├─────────────────────────────────┼────────────────────────┼───────────────┤\n",
       "│ dense_24 (<span style=\"color: #0087ff; text-decoration-color: #0087ff\">Dense</span>)                │ (<span style=\"color: #00d7ff; text-decoration-color: #00d7ff\">None</span>, <span style=\"color: #00af00; text-decoration-color: #00af00\">8</span>)              │           <span style=\"color: #00af00; text-decoration-color: #00af00\">408</span> │\n",
       "├─────────────────────────────────┼────────────────────────┼───────────────┤\n",
       "│ dense_25 (<span style=\"color: #0087ff; text-decoration-color: #0087ff\">Dense</span>)                │ (<span style=\"color: #00d7ff; text-decoration-color: #00d7ff\">None</span>, <span style=\"color: #00af00; text-decoration-color: #00af00\">1</span>)              │             <span style=\"color: #00af00; text-decoration-color: #00af00\">9</span> │\n",
       "└─────────────────────────────────┴────────────────────────┴───────────────┘\n",
       "</pre>\n"
      ],
      "text/plain": [
       "┏━━━━━━━━━━━━━━━━━━━━━━━━━━━━━━━━━┳━━━━━━━━━━━━━━━━━━━━━━━━┳━━━━━━━━━━━━━━━┓\n",
       "┃\u001b[1m \u001b[0m\u001b[1mLayer (type)                   \u001b[0m\u001b[1m \u001b[0m┃\u001b[1m \u001b[0m\u001b[1mOutput Shape          \u001b[0m\u001b[1m \u001b[0m┃\u001b[1m \u001b[0m\u001b[1m      Param #\u001b[0m\u001b[1m \u001b[0m┃\n",
       "┡━━━━━━━━━━━━━━━━━━━━━━━━━━━━━━━━━╇━━━━━━━━━━━━━━━━━━━━━━━━╇━━━━━━━━━━━━━━━┩\n",
       "│ lstm_10 (\u001b[38;5;33mLSTM\u001b[0m)                  │ (\u001b[38;5;45mNone\u001b[0m, \u001b[38;5;34m3\u001b[0m, \u001b[38;5;34m100\u001b[0m)         │        \u001b[38;5;34m40,800\u001b[0m │\n",
       "├─────────────────────────────────┼────────────────────────┼───────────────┤\n",
       "│ lstm_11 (\u001b[38;5;33mLSTM\u001b[0m)                  │ (\u001b[38;5;45mNone\u001b[0m, \u001b[38;5;34m50\u001b[0m)             │        \u001b[38;5;34m30,200\u001b[0m │\n",
       "├─────────────────────────────────┼────────────────────────┼───────────────┤\n",
       "│ dense_24 (\u001b[38;5;33mDense\u001b[0m)                │ (\u001b[38;5;45mNone\u001b[0m, \u001b[38;5;34m8\u001b[0m)              │           \u001b[38;5;34m408\u001b[0m │\n",
       "├─────────────────────────────────┼────────────────────────┼───────────────┤\n",
       "│ dense_25 (\u001b[38;5;33mDense\u001b[0m)                │ (\u001b[38;5;45mNone\u001b[0m, \u001b[38;5;34m1\u001b[0m)              │             \u001b[38;5;34m9\u001b[0m │\n",
       "└─────────────────────────────────┴────────────────────────┴───────────────┘\n"
      ]
     },
     "metadata": {},
     "output_type": "display_data"
    },
    {
     "data": {
      "text/html": [
       "<pre style=\"white-space:pre;overflow-x:auto;line-height:normal;font-family:Menlo,'DejaVu Sans Mono',consolas,'Courier New',monospace\"><span style=\"font-weight: bold\"> Total params: </span><span style=\"color: #00af00; text-decoration-color: #00af00\">71,417</span> (278.97 KB)\n",
       "</pre>\n"
      ],
      "text/plain": [
       "\u001b[1m Total params: \u001b[0m\u001b[38;5;34m71,417\u001b[0m (278.97 KB)\n"
      ]
     },
     "metadata": {},
     "output_type": "display_data"
    },
    {
     "data": {
      "text/html": [
       "<pre style=\"white-space:pre;overflow-x:auto;line-height:normal;font-family:Menlo,'DejaVu Sans Mono',consolas,'Courier New',monospace\"><span style=\"font-weight: bold\"> Trainable params: </span><span style=\"color: #00af00; text-decoration-color: #00af00\">71,417</span> (278.97 KB)\n",
       "</pre>\n"
      ],
      "text/plain": [
       "\u001b[1m Trainable params: \u001b[0m\u001b[38;5;34m71,417\u001b[0m (278.97 KB)\n"
      ]
     },
     "metadata": {},
     "output_type": "display_data"
    },
    {
     "data": {
      "text/html": [
       "<pre style=\"white-space:pre;overflow-x:auto;line-height:normal;font-family:Menlo,'DejaVu Sans Mono',consolas,'Courier New',monospace\"><span style=\"font-weight: bold\"> Non-trainable params: </span><span style=\"color: #00af00; text-decoration-color: #00af00\">0</span> (0.00 B)\n",
       "</pre>\n"
      ],
      "text/plain": [
       "\u001b[1m Non-trainable params: \u001b[0m\u001b[38;5;34m0\u001b[0m (0.00 B)\n"
      ]
     },
     "metadata": {},
     "output_type": "display_data"
    },
    {
     "name": "stdout",
     "output_type": "stream",
     "text": [
      "Epoch 1/100\n",
      "\u001b[1m10/10\u001b[0m \u001b[32m━━━━━━━━━━━━━━━━━━━━\u001b[0m\u001b[37m\u001b[0m \u001b[1m5s\u001b[0m 65ms/step - loss: 0.7101 - mean_absolute_percentage_error: 58.4267 - val_loss: 0.6719 - val_mean_absolute_percentage_error: 54.1164\n",
      "Epoch 2/100\n",
      "\u001b[1m10/10\u001b[0m \u001b[32m━━━━━━━━━━━━━━━━━━━━\u001b[0m\u001b[37m\u001b[0m \u001b[1m0s\u001b[0m 9ms/step - loss: 0.6314 - mean_absolute_percentage_error: 51.9191 - val_loss: 0.5414 - val_mean_absolute_percentage_error: 41.9033\n",
      "Epoch 3/100\n",
      "\u001b[1m10/10\u001b[0m \u001b[32m━━━━━━━━━━━━━━━━━━━━\u001b[0m\u001b[37m\u001b[0m \u001b[1m0s\u001b[0m 9ms/step - loss: 0.5314 - mean_absolute_percentage_error: 40.7307 - val_loss: 0.4512 - val_mean_absolute_percentage_error: 34.1830\n",
      "Epoch 4/100\n",
      "\u001b[1m10/10\u001b[0m \u001b[32m━━━━━━━━━━━━━━━━━━━━\u001b[0m\u001b[37m\u001b[0m \u001b[1m0s\u001b[0m 9ms/step - loss: 0.5000 - mean_absolute_percentage_error: 34.7240 - val_loss: 0.4205 - val_mean_absolute_percentage_error: 32.0863\n",
      "Epoch 5/100\n",
      "\u001b[1m10/10\u001b[0m \u001b[32m━━━━━━━━━━━━━━━━━━━━\u001b[0m\u001b[37m\u001b[0m \u001b[1m0s\u001b[0m 10ms/step - loss: 0.5190 - mean_absolute_percentage_error: 35.7823 - val_loss: 0.3866 - val_mean_absolute_percentage_error: 29.6105\n",
      "Epoch 6/100\n",
      "\u001b[1m10/10\u001b[0m \u001b[32m━━━━━━━━━━━━━━━━━━━━\u001b[0m\u001b[37m\u001b[0m \u001b[1m0s\u001b[0m 9ms/step - loss: 0.4878 - mean_absolute_percentage_error: 34.2792 - val_loss: 0.3521 - val_mean_absolute_percentage_error: 27.4800\n",
      "Epoch 7/100\n",
      "\u001b[1m10/10\u001b[0m \u001b[32m━━━━━━━━━━━━━━━━━━━━\u001b[0m\u001b[37m\u001b[0m \u001b[1m0s\u001b[0m 9ms/step - loss: 0.5484 - mean_absolute_percentage_error: 40.3806 - val_loss: 0.3337 - val_mean_absolute_percentage_error: 26.4464\n",
      "Epoch 8/100\n",
      "\u001b[1m10/10\u001b[0m \u001b[32m━━━━━━━━━━━━━━━━━━━━\u001b[0m\u001b[37m\u001b[0m \u001b[1m0s\u001b[0m 10ms/step - loss: 0.4255 - mean_absolute_percentage_error: 32.8179 - val_loss: 0.3259 - val_mean_absolute_percentage_error: 25.8231\n",
      "Epoch 9/100\n",
      "\u001b[1m10/10\u001b[0m \u001b[32m━━━━━━━━━━━━━━━━━━━━\u001b[0m\u001b[37m\u001b[0m \u001b[1m0s\u001b[0m 10ms/step - loss: 0.4070 - mean_absolute_percentage_error: 30.7541 - val_loss: 0.3547 - val_mean_absolute_percentage_error: 27.7302\n",
      "Epoch 10/100\n",
      "\u001b[1m10/10\u001b[0m \u001b[32m━━━━━━━━━━━━━━━━━━━━\u001b[0m\u001b[37m\u001b[0m \u001b[1m0s\u001b[0m 9ms/step - loss: 0.4625 - mean_absolute_percentage_error: 33.8246 - val_loss: 0.3533 - val_mean_absolute_percentage_error: 27.5132\n",
      "Epoch 11/100\n",
      "\u001b[1m10/10\u001b[0m \u001b[32m━━━━━━━━━━━━━━━━━━━━\u001b[0m\u001b[37m\u001b[0m \u001b[1m0s\u001b[0m 9ms/step - loss: 0.5934 - mean_absolute_percentage_error: 41.5963 - val_loss: 0.3555 - val_mean_absolute_percentage_error: 27.7162\n",
      "Epoch 12/100\n",
      "\u001b[1m10/10\u001b[0m \u001b[32m━━━━━━━━━━━━━━━━━━━━\u001b[0m\u001b[37m\u001b[0m \u001b[1m0s\u001b[0m 8ms/step - loss: 0.4805 - mean_absolute_percentage_error: 36.1938 - val_loss: 0.3635 - val_mean_absolute_percentage_error: 28.1527\n",
      "Epoch 13/100\n",
      "\u001b[1m10/10\u001b[0m \u001b[32m━━━━━━━━━━━━━━━━━━━━\u001b[0m\u001b[37m\u001b[0m \u001b[1m0s\u001b[0m 10ms/step - loss: 0.3878 - mean_absolute_percentage_error: 29.9255 - val_loss: 0.3562 - val_mean_absolute_percentage_error: 27.7811\n",
      "Epoch 14/100\n",
      "\u001b[1m10/10\u001b[0m \u001b[32m━━━━━━━━━━━━━━━━━━━━\u001b[0m\u001b[37m\u001b[0m \u001b[1m0s\u001b[0m 10ms/step - loss: 0.4330 - mean_absolute_percentage_error: 33.5277 - val_loss: 0.3471 - val_mean_absolute_percentage_error: 26.9897\n",
      "Epoch 15/100\n",
      "\u001b[1m10/10\u001b[0m \u001b[32m━━━━━━━━━━━━━━━━━━━━\u001b[0m\u001b[37m\u001b[0m \u001b[1m0s\u001b[0m 8ms/step - loss: 0.4522 - mean_absolute_percentage_error: 33.7163 - val_loss: 0.3456 - val_mean_absolute_percentage_error: 27.0304\n",
      "Epoch 16/100\n",
      "\u001b[1m10/10\u001b[0m \u001b[32m━━━━━━━━━━━━━━━━━━━━\u001b[0m\u001b[37m\u001b[0m \u001b[1m0s\u001b[0m 10ms/step - loss: 0.4548 - mean_absolute_percentage_error: 37.7529 - val_loss: 0.3445 - val_mean_absolute_percentage_error: 26.8243\n",
      "Epoch 17/100\n",
      "\u001b[1m10/10\u001b[0m \u001b[32m━━━━━━━━━━━━━━━━━━━━\u001b[0m\u001b[37m\u001b[0m \u001b[1m0s\u001b[0m 12ms/step - loss: 0.4003 - mean_absolute_percentage_error: 31.3526 - val_loss: 0.3363 - val_mean_absolute_percentage_error: 26.3653\n",
      "Epoch 18/100\n",
      "\u001b[1m10/10\u001b[0m \u001b[32m━━━━━━━━━━━━━━━━━━━━\u001b[0m\u001b[37m\u001b[0m \u001b[1m0s\u001b[0m 10ms/step - loss: 0.5191 - mean_absolute_percentage_error: 36.4334 - val_loss: 0.3216 - val_mean_absolute_percentage_error: 25.2356\n",
      "Epoch 19/100\n",
      "\u001b[1m10/10\u001b[0m \u001b[32m━━━━━━━━━━━━━━━━━━━━\u001b[0m\u001b[37m\u001b[0m \u001b[1m0s\u001b[0m 10ms/step - loss: 0.4712 - mean_absolute_percentage_error: 33.5169 - val_loss: 0.3425 - val_mean_absolute_percentage_error: 26.6227\n",
      "Epoch 20/100\n",
      "\u001b[1m10/10\u001b[0m \u001b[32m━━━━━━━━━━━━━━━━━━━━\u001b[0m\u001b[37m\u001b[0m \u001b[1m0s\u001b[0m 11ms/step - loss: 0.4236 - mean_absolute_percentage_error: 31.8858 - val_loss: 0.3660 - val_mean_absolute_percentage_error: 28.4729\n",
      "Epoch 21/100\n",
      "\u001b[1m10/10\u001b[0m \u001b[32m━━━━━━━━━━━━━━━━━━━━\u001b[0m\u001b[37m\u001b[0m \u001b[1m0s\u001b[0m 11ms/step - loss: 0.4389 - mean_absolute_percentage_error: 31.1023 - val_loss: 0.3599 - val_mean_absolute_percentage_error: 27.9504\n",
      "Epoch 22/100\n",
      "\u001b[1m10/10\u001b[0m \u001b[32m━━━━━━━━━━━━━━━━━━━━\u001b[0m\u001b[37m\u001b[0m \u001b[1m0s\u001b[0m 13ms/step - loss: 0.4717 - mean_absolute_percentage_error: 35.3954 - val_loss: 0.3512 - val_mean_absolute_percentage_error: 27.2550\n",
      "Epoch 23/100\n",
      "\u001b[1m10/10\u001b[0m \u001b[32m━━━━━━━━━━━━━━━━━━━━\u001b[0m\u001b[37m\u001b[0m \u001b[1m0s\u001b[0m 14ms/step - loss: 0.3720 - mean_absolute_percentage_error: 28.5902 - val_loss: 0.3529 - val_mean_absolute_percentage_error: 27.4414\n",
      "Epoch 24/100\n",
      "\u001b[1m10/10\u001b[0m \u001b[32m━━━━━━━━━━━━━━━━━━━━\u001b[0m\u001b[37m\u001b[0m \u001b[1m0s\u001b[0m 12ms/step - loss: 0.4813 - mean_absolute_percentage_error: 38.2108 - val_loss: 0.3326 - val_mean_absolute_percentage_error: 26.0626\n",
      "Epoch 25/100\n",
      "\u001b[1m10/10\u001b[0m \u001b[32m━━━━━━━━━━━━━━━━━━━━\u001b[0m\u001b[37m\u001b[0m \u001b[1m0s\u001b[0m 11ms/step - loss: 0.4750 - mean_absolute_percentage_error: 34.6217 - val_loss: 0.3289 - val_mean_absolute_percentage_error: 25.8929\n",
      "Epoch 26/100\n",
      "\u001b[1m10/10\u001b[0m \u001b[32m━━━━━━━━━━━━━━━━━━━━\u001b[0m\u001b[37m\u001b[0m \u001b[1m0s\u001b[0m 13ms/step - loss: 0.4782 - mean_absolute_percentage_error: 33.1717 - val_loss: 0.3513 - val_mean_absolute_percentage_error: 27.3966\n",
      "Epoch 27/100\n",
      "\u001b[1m10/10\u001b[0m \u001b[32m━━━━━━━━━━━━━━━━━━━━\u001b[0m\u001b[37m\u001b[0m \u001b[1m0s\u001b[0m 13ms/step - loss: 0.4494 - mean_absolute_percentage_error: 34.1664 - val_loss: 0.3564 - val_mean_absolute_percentage_error: 27.5841\n",
      "Epoch 28/100\n",
      "\u001b[1m10/10\u001b[0m \u001b[32m━━━━━━━━━━━━━━━━━━━━\u001b[0m\u001b[37m\u001b[0m \u001b[1m0s\u001b[0m 15ms/step - loss: 0.4611 - mean_absolute_percentage_error: 33.8726 - val_loss: 0.3335 - val_mean_absolute_percentage_error: 25.9812\n",
      "Epoch 29/100\n",
      "\u001b[1m10/10\u001b[0m \u001b[32m━━━━━━━━━━━━━━━━━━━━\u001b[0m\u001b[37m\u001b[0m \u001b[1m0s\u001b[0m 10ms/step - loss: 0.4017 - mean_absolute_percentage_error: 30.2871 - val_loss: 0.3227 - val_mean_absolute_percentage_error: 25.3051\n",
      "Epoch 30/100\n",
      "\u001b[1m10/10\u001b[0m \u001b[32m━━━━━━━━━━━━━━━━━━━━\u001b[0m\u001b[37m\u001b[0m \u001b[1m0s\u001b[0m 11ms/step - loss: 0.4639 - mean_absolute_percentage_error: 35.3910 - val_loss: 0.3449 - val_mean_absolute_percentage_error: 26.8566\n",
      "Epoch 31/100\n",
      "\u001b[1m10/10\u001b[0m \u001b[32m━━━━━━━━━━━━━━━━━━━━\u001b[0m\u001b[37m\u001b[0m \u001b[1m0s\u001b[0m 12ms/step - loss: 0.4657 - mean_absolute_percentage_error: 34.7665 - val_loss: 0.3672 - val_mean_absolute_percentage_error: 28.3127\n",
      "Epoch 32/100\n",
      "\u001b[1m10/10\u001b[0m \u001b[32m━━━━━━━━━━━━━━━━━━━━\u001b[0m\u001b[37m\u001b[0m \u001b[1m0s\u001b[0m 10ms/step - loss: 0.3717 - mean_absolute_percentage_error: 28.7184 - val_loss: 0.3423 - val_mean_absolute_percentage_error: 26.6023\n",
      "Epoch 33/100\n",
      "\u001b[1m10/10\u001b[0m \u001b[32m━━━━━━━━━━━━━━━━━━━━\u001b[0m\u001b[37m\u001b[0m \u001b[1m0s\u001b[0m 10ms/step - loss: 0.4470 - mean_absolute_percentage_error: 33.5793 - val_loss: 0.3369 - val_mean_absolute_percentage_error: 26.1338\n",
      "Epoch 34/100\n",
      "\u001b[1m10/10\u001b[0m \u001b[32m━━━━━━━━━━━━━━━━━━━━\u001b[0m\u001b[37m\u001b[0m \u001b[1m0s\u001b[0m 10ms/step - loss: 0.4938 - mean_absolute_percentage_error: 33.0036 - val_loss: 0.3417 - val_mean_absolute_percentage_error: 26.4573\n",
      "Epoch 35/100\n",
      "\u001b[1m10/10\u001b[0m \u001b[32m━━━━━━━━━━━━━━━━━━━━\u001b[0m\u001b[37m\u001b[0m \u001b[1m0s\u001b[0m 10ms/step - loss: 0.3904 - mean_absolute_percentage_error: 31.4097 - val_loss: 0.3546 - val_mean_absolute_percentage_error: 27.2929\n",
      "Epoch 36/100\n",
      "\u001b[1m10/10\u001b[0m \u001b[32m━━━━━━━━━━━━━━━━━━━━\u001b[0m\u001b[37m\u001b[0m \u001b[1m0s\u001b[0m 10ms/step - loss: 0.4712 - mean_absolute_percentage_error: 31.7692 - val_loss: 0.3537 - val_mean_absolute_percentage_error: 27.2734\n",
      "Epoch 37/100\n",
      "\u001b[1m10/10\u001b[0m \u001b[32m━━━━━━━━━━━━━━━━━━━━\u001b[0m\u001b[37m\u001b[0m \u001b[1m0s\u001b[0m 12ms/step - loss: 0.3813 - mean_absolute_percentage_error: 29.9696 - val_loss: 0.3507 - val_mean_absolute_percentage_error: 27.0886\n",
      "Epoch 38/100\n",
      "\u001b[1m10/10\u001b[0m \u001b[32m━━━━━━━━━━━━━━━━━━━━\u001b[0m\u001b[37m\u001b[0m \u001b[1m0s\u001b[0m 10ms/step - loss: 0.3998 - mean_absolute_percentage_error: 31.1186 - val_loss: 0.3427 - val_mean_absolute_percentage_error: 26.5765\n",
      "Epoch 39/100\n",
      "\u001b[1m10/10\u001b[0m \u001b[32m━━━━━━━━━━━━━━━━━━━━\u001b[0m\u001b[37m\u001b[0m \u001b[1m0s\u001b[0m 13ms/step - loss: 0.4955 - mean_absolute_percentage_error: 33.6752 - val_loss: 0.3377 - val_mean_absolute_percentage_error: 26.0768\n",
      "Epoch 40/100\n",
      "\u001b[1m10/10\u001b[0m \u001b[32m━━━━━━━━━━━━━━━━━━━━\u001b[0m\u001b[37m\u001b[0m \u001b[1m0s\u001b[0m 9ms/step - loss: 0.4337 - mean_absolute_percentage_error: 32.0595 - val_loss: 0.3478 - val_mean_absolute_percentage_error: 26.7445\n",
      "Epoch 41/100\n",
      "\u001b[1m10/10\u001b[0m \u001b[32m━━━━━━━━━━━━━━━━━━━━\u001b[0m\u001b[37m\u001b[0m \u001b[1m0s\u001b[0m 9ms/step - loss: 0.4172 - mean_absolute_percentage_error: 33.2761 - val_loss: 0.3419 - val_mean_absolute_percentage_error: 26.5070\n",
      "Epoch 42/100\n",
      "\u001b[1m10/10\u001b[0m \u001b[32m━━━━━━━━━━━━━━━━━━━━\u001b[0m\u001b[37m\u001b[0m \u001b[1m0s\u001b[0m 9ms/step - loss: 0.4403 - mean_absolute_percentage_error: 32.7943 - val_loss: 0.3289 - val_mean_absolute_percentage_error: 25.6045\n",
      "Epoch 43/100\n",
      "\u001b[1m10/10\u001b[0m \u001b[32m━━━━━━━━━━━━━━━━━━━━\u001b[0m\u001b[37m\u001b[0m \u001b[1m0s\u001b[0m 10ms/step - loss: 0.4564 - mean_absolute_percentage_error: 32.1675 - val_loss: 0.3348 - val_mean_absolute_percentage_error: 26.1416\n",
      "Epoch 44/100\n",
      "\u001b[1m10/10\u001b[0m \u001b[32m━━━━━━━━━━━━━━━━━━━━\u001b[0m\u001b[37m\u001b[0m \u001b[1m0s\u001b[0m 8ms/step - loss: 0.4507 - mean_absolute_percentage_error: 30.7494 - val_loss: 0.3420 - val_mean_absolute_percentage_error: 26.4846\n",
      "Epoch 45/100\n",
      "\u001b[1m10/10\u001b[0m \u001b[32m━━━━━━━━━━━━━━━━━━━━\u001b[0m\u001b[37m\u001b[0m \u001b[1m0s\u001b[0m 9ms/step - loss: 0.4296 - mean_absolute_percentage_error: 34.1180 - val_loss: 0.3514 - val_mean_absolute_percentage_error: 27.2381\n",
      "Epoch 46/100\n",
      "\u001b[1m10/10\u001b[0m \u001b[32m━━━━━━━━━━━━━━━━━━━━\u001b[0m\u001b[37m\u001b[0m \u001b[1m0s\u001b[0m 10ms/step - loss: 0.4949 - mean_absolute_percentage_error: 35.3831 - val_loss: 0.3487 - val_mean_absolute_percentage_error: 26.9693\n",
      "Epoch 47/100\n",
      "\u001b[1m10/10\u001b[0m \u001b[32m━━━━━━━━━━━━━━━━━━━━\u001b[0m\u001b[37m\u001b[0m \u001b[1m0s\u001b[0m 9ms/step - loss: 0.3495 - mean_absolute_percentage_error: 29.9742 - val_loss: 0.3638 - val_mean_absolute_percentage_error: 28.0996\n",
      "Epoch 48/100\n",
      "\u001b[1m10/10\u001b[0m \u001b[32m━━━━━━━━━━━━━━━━━━━━\u001b[0m\u001b[37m\u001b[0m \u001b[1m0s\u001b[0m 9ms/step - loss: 0.3944 - mean_absolute_percentage_error: 29.2735 - val_loss: 0.3492 - val_mean_absolute_percentage_error: 27.0310\n",
      "Epoch 49/100\n",
      "\u001b[1m10/10\u001b[0m \u001b[32m━━━━━━━━━━━━━━━━━━━━\u001b[0m\u001b[37m\u001b[0m \u001b[1m0s\u001b[0m 9ms/step - loss: 0.4252 - mean_absolute_percentage_error: 34.7114 - val_loss: 0.3292 - val_mean_absolute_percentage_error: 25.6532\n",
      "Epoch 50/100\n",
      "\u001b[1m10/10\u001b[0m \u001b[32m━━━━━━━━━━━━━━━━━━━━\u001b[0m\u001b[37m\u001b[0m \u001b[1m0s\u001b[0m 10ms/step - loss: 0.4859 - mean_absolute_percentage_error: 34.8783 - val_loss: 0.3187 - val_mean_absolute_percentage_error: 24.8441\n",
      "Epoch 51/100\n",
      "\u001b[1m10/10\u001b[0m \u001b[32m━━━━━━━━━━━━━━━━━━━━\u001b[0m\u001b[37m\u001b[0m \u001b[1m0s\u001b[0m 8ms/step - loss: 0.3792 - mean_absolute_percentage_error: 30.0918 - val_loss: 0.3370 - val_mean_absolute_percentage_error: 26.2285\n",
      "Epoch 52/100\n",
      "\u001b[1m10/10\u001b[0m \u001b[32m━━━━━━━━━━━━━━━━━━━━\u001b[0m\u001b[37m\u001b[0m \u001b[1m0s\u001b[0m 10ms/step - loss: 0.4263 - mean_absolute_percentage_error: 31.1475 - val_loss: 0.3440 - val_mean_absolute_percentage_error: 26.7143\n",
      "Epoch 53/100\n",
      "\u001b[1m10/10\u001b[0m \u001b[32m━━━━━━━━━━━━━━━━━━━━\u001b[0m\u001b[37m\u001b[0m \u001b[1m0s\u001b[0m 10ms/step - loss: 0.4781 - mean_absolute_percentage_error: 34.3856 - val_loss: 0.3432 - val_mean_absolute_percentage_error: 26.5812\n",
      "Epoch 54/100\n",
      "\u001b[1m10/10\u001b[0m \u001b[32m━━━━━━━━━━━━━━━━━━━━\u001b[0m\u001b[37m\u001b[0m \u001b[1m0s\u001b[0m 9ms/step - loss: 0.4630 - mean_absolute_percentage_error: 35.7235 - val_loss: 0.3388 - val_mean_absolute_percentage_error: 26.3530\n",
      "Epoch 55/100\n",
      "\u001b[1m10/10\u001b[0m \u001b[32m━━━━━━━━━━━━━━━━━━━━\u001b[0m\u001b[37m\u001b[0m \u001b[1m0s\u001b[0m 7ms/step - loss: 0.4279 - mean_absolute_percentage_error: 34.5047 - val_loss: 0.3386 - val_mean_absolute_percentage_error: 26.2664\n",
      "Epoch 56/100\n",
      "\u001b[1m10/10\u001b[0m \u001b[32m━━━━━━━━━━━━━━━━━━━━\u001b[0m\u001b[37m\u001b[0m \u001b[1m0s\u001b[0m 9ms/step - loss: 0.4372 - mean_absolute_percentage_error: 33.1417 - val_loss: 0.3368 - val_mean_absolute_percentage_error: 26.2063\n",
      "Epoch 57/100\n",
      "\u001b[1m10/10\u001b[0m \u001b[32m━━━━━━━━━━━━━━━━━━━━\u001b[0m\u001b[37m\u001b[0m \u001b[1m0s\u001b[0m 8ms/step - loss: 0.4807 - mean_absolute_percentage_error: 38.3066 - val_loss: 0.3375 - val_mean_absolute_percentage_error: 26.1922\n",
      "Epoch 58/100\n",
      "\u001b[1m10/10\u001b[0m \u001b[32m━━━━━━━━━━━━━━━━━━━━\u001b[0m\u001b[37m\u001b[0m \u001b[1m0s\u001b[0m 10ms/step - loss: 0.4306 - mean_absolute_percentage_error: 31.4646 - val_loss: 0.3391 - val_mean_absolute_percentage_error: 26.2873\n",
      "Epoch 59/100\n",
      "\u001b[1m10/10\u001b[0m \u001b[32m━━━━━━━━━━━━━━━━━━━━\u001b[0m\u001b[37m\u001b[0m \u001b[1m0s\u001b[0m 9ms/step - loss: 0.4423 - mean_absolute_percentage_error: 33.3776 - val_loss: 0.3424 - val_mean_absolute_percentage_error: 26.5021\n",
      "Epoch 60/100\n",
      "\u001b[1m10/10\u001b[0m \u001b[32m━━━━━━━━━━━━━━━━━━━━\u001b[0m\u001b[37m\u001b[0m \u001b[1m0s\u001b[0m 10ms/step - loss: 0.4711 - mean_absolute_percentage_error: 34.0758 - val_loss: 0.3423 - val_mean_absolute_percentage_error: 26.4457\n",
      "Epoch 61/100\n",
      "\u001b[1m10/10\u001b[0m \u001b[32m━━━━━━━━━━━━━━━━━━━━\u001b[0m\u001b[37m\u001b[0m \u001b[1m0s\u001b[0m 9ms/step - loss: 0.4132 - mean_absolute_percentage_error: 31.9837 - val_loss: 0.3527 - val_mean_absolute_percentage_error: 27.2884\n",
      "Epoch 62/100\n",
      "\u001b[1m10/10\u001b[0m \u001b[32m━━━━━━━━━━━━━━━━━━━━\u001b[0m\u001b[37m\u001b[0m \u001b[1m0s\u001b[0m 9ms/step - loss: 0.5128 - mean_absolute_percentage_error: 36.9923 - val_loss: 0.3494 - val_mean_absolute_percentage_error: 26.9542\n",
      "Epoch 63/100\n",
      "\u001b[1m10/10\u001b[0m \u001b[32m━━━━━━━━━━━━━━━━━━━━\u001b[0m\u001b[37m\u001b[0m \u001b[1m0s\u001b[0m 9ms/step - loss: 0.4749 - mean_absolute_percentage_error: 33.3112 - val_loss: 0.3383 - val_mean_absolute_percentage_error: 26.2273\n",
      "Epoch 64/100\n",
      "\u001b[1m10/10\u001b[0m \u001b[32m━━━━━━━━━━━━━━━━━━━━\u001b[0m\u001b[37m\u001b[0m \u001b[1m0s\u001b[0m 14ms/step - loss: 0.4104 - mean_absolute_percentage_error: 32.9501 - val_loss: 0.3413 - val_mean_absolute_percentage_error: 26.3846\n",
      "Epoch 65/100\n",
      "\u001b[1m10/10\u001b[0m \u001b[32m━━━━━━━━━━━━━━━━━━━━\u001b[0m\u001b[37m\u001b[0m \u001b[1m0s\u001b[0m 9ms/step - loss: 0.4714 - mean_absolute_percentage_error: 35.6039 - val_loss: 0.3412 - val_mean_absolute_percentage_error: 26.4360\n",
      "Epoch 66/100\n",
      "\u001b[1m10/10\u001b[0m \u001b[32m━━━━━━━━━━━━━━━━━━━━\u001b[0m\u001b[37m\u001b[0m \u001b[1m0s\u001b[0m 8ms/step - loss: 0.4062 - mean_absolute_percentage_error: 32.0542 - val_loss: 0.3437 - val_mean_absolute_percentage_error: 26.6884\n",
      "Epoch 67/100\n",
      "\u001b[1m10/10\u001b[0m \u001b[32m━━━━━━━━━━━━━━━━━━━━\u001b[0m\u001b[37m\u001b[0m \u001b[1m0s\u001b[0m 9ms/step - loss: 0.4525 - mean_absolute_percentage_error: 30.5685 - val_loss: 0.3602 - val_mean_absolute_percentage_error: 28.0687\n",
      "Epoch 68/100\n",
      "\u001b[1m10/10\u001b[0m \u001b[32m━━━━━━━━━━━━━━━━━━━━\u001b[0m\u001b[37m\u001b[0m \u001b[1m0s\u001b[0m 10ms/step - loss: 0.4296 - mean_absolute_percentage_error: 31.7552 - val_loss: 0.3494 - val_mean_absolute_percentage_error: 27.1319\n",
      "Epoch 69/100\n",
      "\u001b[1m10/10\u001b[0m \u001b[32m━━━━━━━━━━━━━━━━━━━━\u001b[0m\u001b[37m\u001b[0m \u001b[1m0s\u001b[0m 9ms/step - loss: 0.4306 - mean_absolute_percentage_error: 31.7228 - val_loss: 0.3546 - val_mean_absolute_percentage_error: 27.5001\n",
      "Epoch 70/100\n",
      "\u001b[1m10/10\u001b[0m \u001b[32m━━━━━━━━━━━━━━━━━━━━\u001b[0m\u001b[37m\u001b[0m \u001b[1m0s\u001b[0m 8ms/step - loss: 0.4057 - mean_absolute_percentage_error: 29.4461 - val_loss: 0.3590 - val_mean_absolute_percentage_error: 27.8851\n",
      "Epoch 71/100\n",
      "\u001b[1m10/10\u001b[0m \u001b[32m━━━━━━━━━━━━━━━━━━━━\u001b[0m\u001b[37m\u001b[0m \u001b[1m0s\u001b[0m 9ms/step - loss: 0.3846 - mean_absolute_percentage_error: 30.9184 - val_loss: 0.3359 - val_mean_absolute_percentage_error: 26.3456\n",
      "Epoch 72/100\n",
      "\u001b[1m10/10\u001b[0m \u001b[32m━━━━━━━━━━━━━━━━━━━━\u001b[0m\u001b[37m\u001b[0m \u001b[1m0s\u001b[0m 8ms/step - loss: 0.4053 - mean_absolute_percentage_error: 31.9132 - val_loss: 0.3211 - val_mean_absolute_percentage_error: 25.6060\n",
      "Epoch 73/100\n",
      "\u001b[1m10/10\u001b[0m \u001b[32m━━━━━━━━━━━━━━━━━━━━\u001b[0m\u001b[37m\u001b[0m \u001b[1m0s\u001b[0m 13ms/step - loss: 0.4578 - mean_absolute_percentage_error: 35.5425 - val_loss: 0.3311 - val_mean_absolute_percentage_error: 26.1018\n",
      "Epoch 74/100\n",
      "\u001b[1m10/10\u001b[0m \u001b[32m━━━━━━━━━━━━━━━━━━━━\u001b[0m\u001b[37m\u001b[0m \u001b[1m0s\u001b[0m 8ms/step - loss: 0.4884 - mean_absolute_percentage_error: 36.2973 - val_loss: 0.3435 - val_mean_absolute_percentage_error: 26.8332\n",
      "Epoch 75/100\n",
      "\u001b[1m10/10\u001b[0m \u001b[32m━━━━━━━━━━━━━━━━━━━━\u001b[0m\u001b[37m\u001b[0m \u001b[1m0s\u001b[0m 9ms/step - loss: 0.4727 - mean_absolute_percentage_error: 35.0633 - val_loss: 0.3678 - val_mean_absolute_percentage_error: 28.5156\n",
      "Epoch 76/100\n",
      "\u001b[1m10/10\u001b[0m \u001b[32m━━━━━━━━━━━━━━━━━━━━\u001b[0m\u001b[37m\u001b[0m \u001b[1m0s\u001b[0m 9ms/step - loss: 0.4301 - mean_absolute_percentage_error: 31.5558 - val_loss: 0.3766 - val_mean_absolute_percentage_error: 29.0547\n",
      "Epoch 77/100\n",
      "\u001b[1m10/10\u001b[0m \u001b[32m━━━━━━━━━━━━━━━━━━━━\u001b[0m\u001b[37m\u001b[0m \u001b[1m0s\u001b[0m 8ms/step - loss: 0.4389 - mean_absolute_percentage_error: 31.0905 - val_loss: 0.3630 - val_mean_absolute_percentage_error: 28.1925\n",
      "Epoch 78/100\n",
      "\u001b[1m10/10\u001b[0m \u001b[32m━━━━━━━━━━━━━━━━━━━━\u001b[0m\u001b[37m\u001b[0m \u001b[1m0s\u001b[0m 15ms/step - loss: 0.4126 - mean_absolute_percentage_error: 31.5872 - val_loss: 0.3465 - val_mean_absolute_percentage_error: 27.1745\n",
      "Epoch 79/100\n",
      "\u001b[1m10/10\u001b[0m \u001b[32m━━━━━━━━━━━━━━━━━━━━\u001b[0m\u001b[37m\u001b[0m \u001b[1m0s\u001b[0m 9ms/step - loss: 0.5025 - mean_absolute_percentage_error: 37.7226 - val_loss: 0.3507 - val_mean_absolute_percentage_error: 27.4077\n",
      "Epoch 80/100\n",
      "\u001b[1m10/10\u001b[0m \u001b[32m━━━━━━━━━━━━━━━━━━━━\u001b[0m\u001b[37m\u001b[0m \u001b[1m0s\u001b[0m 8ms/step - loss: 0.4792 - mean_absolute_percentage_error: 34.3297 - val_loss: 0.3691 - val_mean_absolute_percentage_error: 28.7708\n",
      "Epoch 81/100\n",
      "\u001b[1m10/10\u001b[0m \u001b[32m━━━━━━━━━━━━━━━━━━━━\u001b[0m\u001b[37m\u001b[0m \u001b[1m0s\u001b[0m 10ms/step - loss: 0.5176 - mean_absolute_percentage_error: 35.6588 - val_loss: 0.3534 - val_mean_absolute_percentage_error: 27.5879\n",
      "Epoch 82/100\n",
      "\u001b[1m10/10\u001b[0m \u001b[32m━━━━━━━━━━━━━━━━━━━━\u001b[0m\u001b[37m\u001b[0m \u001b[1m0s\u001b[0m 11ms/step - loss: 0.4778 - mean_absolute_percentage_error: 35.1805 - val_loss: 0.3556 - val_mean_absolute_percentage_error: 27.9290\n",
      "Epoch 83/100\n",
      "\u001b[1m10/10\u001b[0m \u001b[32m━━━━━━━━━━━━━━━━━━━━\u001b[0m\u001b[37m\u001b[0m \u001b[1m0s\u001b[0m 11ms/step - loss: 0.4602 - mean_absolute_percentage_error: 32.7500 - val_loss: 0.3536 - val_mean_absolute_percentage_error: 27.4930\n",
      "Epoch 84/100\n",
      "\u001b[1m10/10\u001b[0m \u001b[32m━━━━━━━━━━━━━━━━━━━━\u001b[0m\u001b[37m\u001b[0m \u001b[1m0s\u001b[0m 9ms/step - loss: 0.3793 - mean_absolute_percentage_error: 27.1740 - val_loss: 0.3621 - val_mean_absolute_percentage_error: 28.1051\n",
      "Epoch 85/100\n",
      "\u001b[1m10/10\u001b[0m \u001b[32m━━━━━━━━━━━━━━━━━━━━\u001b[0m\u001b[37m\u001b[0m \u001b[1m0s\u001b[0m 10ms/step - loss: 0.3956 - mean_absolute_percentage_error: 32.2588 - val_loss: 0.3805 - val_mean_absolute_percentage_error: 29.2460\n",
      "Epoch 86/100\n",
      "\u001b[1m10/10\u001b[0m \u001b[32m━━━━━━━━━━━━━━━━━━━━\u001b[0m\u001b[37m\u001b[0m \u001b[1m0s\u001b[0m 9ms/step - loss: 0.4148 - mean_absolute_percentage_error: 31.5468 - val_loss: 0.3623 - val_mean_absolute_percentage_error: 27.8101\n",
      "Epoch 87/100\n",
      "\u001b[1m10/10\u001b[0m \u001b[32m━━━━━━━━━━━━━━━━━━━━\u001b[0m\u001b[37m\u001b[0m \u001b[1m0s\u001b[0m 9ms/step - loss: 0.4775 - mean_absolute_percentage_error: 33.4307 - val_loss: 0.3470 - val_mean_absolute_percentage_error: 26.7884\n",
      "Epoch 88/100\n",
      "\u001b[1m10/10\u001b[0m \u001b[32m━━━━━━━━━━━━━━━━━━━━\u001b[0m\u001b[37m\u001b[0m \u001b[1m0s\u001b[0m 8ms/step - loss: 0.4688 - mean_absolute_percentage_error: 33.0569 - val_loss: 0.3399 - val_mean_absolute_percentage_error: 26.4284\n",
      "Epoch 89/100\n",
      "\u001b[1m10/10\u001b[0m \u001b[32m━━━━━━━━━━━━━━━━━━━━\u001b[0m\u001b[37m\u001b[0m \u001b[1m0s\u001b[0m 9ms/step - loss: 0.4123 - mean_absolute_percentage_error: 32.2127 - val_loss: 0.3445 - val_mean_absolute_percentage_error: 26.9128\n",
      "Epoch 90/100\n",
      "\u001b[1m10/10\u001b[0m \u001b[32m━━━━━━━━━━━━━━━━━━━━\u001b[0m\u001b[37m\u001b[0m \u001b[1m0s\u001b[0m 8ms/step - loss: 0.5132 - mean_absolute_percentage_error: 36.2345 - val_loss: 0.3480 - val_mean_absolute_percentage_error: 27.0160\n",
      "Epoch 91/100\n",
      "\u001b[1m10/10\u001b[0m \u001b[32m━━━━━━━━━━━━━━━━━━━━\u001b[0m\u001b[37m\u001b[0m \u001b[1m0s\u001b[0m 12ms/step - loss: 0.4306 - mean_absolute_percentage_error: 30.3474 - val_loss: 0.3445 - val_mean_absolute_percentage_error: 26.7298\n",
      "Epoch 92/100\n",
      "\u001b[1m10/10\u001b[0m \u001b[32m━━━━━━━━━━━━━━━━━━━━\u001b[0m\u001b[37m\u001b[0m \u001b[1m0s\u001b[0m 9ms/step - loss: 0.4037 - mean_absolute_percentage_error: 31.7948 - val_loss: 0.3543 - val_mean_absolute_percentage_error: 27.3651\n",
      "Epoch 93/100\n",
      "\u001b[1m10/10\u001b[0m \u001b[32m━━━━━━━━━━━━━━━━━━━━\u001b[0m\u001b[37m\u001b[0m \u001b[1m0s\u001b[0m 9ms/step - loss: 0.4231 - mean_absolute_percentage_error: 31.0655 - val_loss: 0.3476 - val_mean_absolute_percentage_error: 26.9081\n",
      "Epoch 94/100\n",
      "\u001b[1m10/10\u001b[0m \u001b[32m━━━━━━━━━━━━━━━━━━━━\u001b[0m\u001b[37m\u001b[0m \u001b[1m0s\u001b[0m 8ms/step - loss: 0.4363 - mean_absolute_percentage_error: 30.1027 - val_loss: 0.3609 - val_mean_absolute_percentage_error: 27.7214\n",
      "Epoch 95/100\n",
      "\u001b[1m10/10\u001b[0m \u001b[32m━━━━━━━━━━━━━━━━━━━━\u001b[0m\u001b[37m\u001b[0m \u001b[1m0s\u001b[0m 8ms/step - loss: 0.3906 - mean_absolute_percentage_error: 32.1300 - val_loss: 0.3645 - val_mean_absolute_percentage_error: 27.9033\n",
      "Epoch 96/100\n",
      "\u001b[1m10/10\u001b[0m \u001b[32m━━━━━━━━━━━━━━━━━━━━\u001b[0m\u001b[37m\u001b[0m \u001b[1m0s\u001b[0m 9ms/step - loss: 0.4048 - mean_absolute_percentage_error: 31.6020 - val_loss: 0.3510 - val_mean_absolute_percentage_error: 26.8923\n",
      "Epoch 97/100\n",
      "\u001b[1m10/10\u001b[0m \u001b[32m━━━━━━━━━━━━━━━━━━━━\u001b[0m\u001b[37m\u001b[0m \u001b[1m0s\u001b[0m 9ms/step - loss: 0.3599 - mean_absolute_percentage_error: 27.0218 - val_loss: 0.3399 - val_mean_absolute_percentage_error: 26.3329\n",
      "Epoch 98/100\n",
      "\u001b[1m10/10\u001b[0m \u001b[32m━━━━━━━━━━━━━━━━━━━━\u001b[0m\u001b[37m\u001b[0m \u001b[1m0s\u001b[0m 9ms/step - loss: 0.4456 - mean_absolute_percentage_error: 34.1090 - val_loss: 0.3534 - val_mean_absolute_percentage_error: 27.3172\n",
      "Epoch 99/100\n",
      "\u001b[1m10/10\u001b[0m \u001b[32m━━━━━━━━━━━━━━━━━━━━\u001b[0m\u001b[37m\u001b[0m \u001b[1m0s\u001b[0m 9ms/step - loss: 0.4463 - mean_absolute_percentage_error: 32.3736 - val_loss: 0.3692 - val_mean_absolute_percentage_error: 28.2585\n",
      "Epoch 100/100\n",
      "\u001b[1m10/10\u001b[0m \u001b[32m━━━━━━━━━━━━━━━━━━━━\u001b[0m\u001b[37m\u001b[0m \u001b[1m0s\u001b[0m 12ms/step - loss: 0.4346 - mean_absolute_percentage_error: 31.8232 - val_loss: 0.3691 - val_mean_absolute_percentage_error: 28.1637\n",
      "\u001b[1m6/6\u001b[0m \u001b[32m━━━━━━━━━━━━━━━━━━━━\u001b[0m\u001b[37m\u001b[0m \u001b[1m1s\u001b[0m 61ms/step\n",
      "\u001b[1m1/1\u001b[0m \u001b[32m━━━━━━━━━━━━━━━━━━━━\u001b[0m\u001b[37m\u001b[0m \u001b[1m0s\u001b[0m 27ms/step\n"
     ]
    },
    {
     "data": {
      "application/vnd.plotly.v1+json": {
       "config": {
        "plotlyServerURL": "https://plot.ly"
       },
       "data": [
        {
         "mode": "lines",
         "name": "Original Training Data",
         "type": "scatter",
         "x": [
          0,
          1,
          2,
          3,
          4,
          5,
          6,
          7,
          8,
          9,
          10,
          11,
          12,
          13,
          14,
          15,
          16,
          17,
          18,
          19,
          20,
          21,
          22,
          23,
          24,
          25,
          26,
          27,
          28,
          29,
          30,
          31,
          32,
          33,
          34,
          35,
          36,
          37,
          38,
          39,
          40,
          41,
          42,
          43,
          44,
          45,
          46,
          47,
          48,
          49,
          50,
          51,
          52,
          53,
          54,
          55,
          56,
          57,
          58,
          59,
          60,
          61,
          62,
          63,
          64,
          65,
          66,
          67,
          68,
          69,
          70,
          71,
          72,
          73,
          74,
          75,
          76,
          77,
          78,
          79,
          80,
          81,
          82,
          83,
          84,
          85,
          86,
          87,
          88,
          89,
          90,
          91,
          92,
          93,
          94,
          95,
          96,
          97,
          98,
          99,
          100,
          101,
          102,
          103,
          104,
          105,
          106,
          107,
          108,
          109,
          110,
          111,
          112,
          113,
          114,
          115,
          116,
          117,
          118,
          119,
          120,
          121,
          122,
          123,
          124,
          125,
          126,
          127,
          128,
          129,
          130,
          131,
          132,
          133,
          134,
          135,
          136,
          137,
          138,
          139,
          140,
          141,
          142,
          143,
          144,
          145,
          146,
          147,
          148,
          149,
          150,
          151,
          152,
          153,
          154,
          155,
          156,
          157,
          158,
          159,
          160,
          161,
          162,
          163,
          164,
          165,
          166,
          167,
          168,
          169,
          170,
          171,
          172,
          173,
          174,
          175,
          176,
          177,
          178,
          179,
          180,
          181,
          182,
          183,
          184,
          185
         ],
         "xaxis": "x",
         "y": [
          -0.006415968442644055,
          -0.25887686623226563,
          0.07773766415389646,
          -0.6515938183494547,
          -0.3991329205598331,
          -0.5674401857529142,
          -0.03446717930815756,
          -0.3430304988288061,
          -0.5113377640218871,
          -0.6235426074839412,
          -0.2308256553667521,
          -0.5393889748874007,
          -0.5954913966184276,
          -0.7357474509459953,
          -0.45523534229086016,
          -0.5954913966184276,
          -0.11862081190469807,
          -0.14667202277021157,
          -0.37108170969431964,
          -0.5674401857529142,
          -0.7637986618115087,
          -0.45523534229086016,
          -0.2308256553667521,
          -0.006415968442644055,
          -0.7357474509459953,
          -0.5674401857529142,
          -0.6515938183494547,
          -0.6796450292149682,
          -0.7637986618115087,
          -0.7357474509459953,
          -0.6235426074839412,
          -0.7918498726770222,
          -0.6235426074839412,
          -0.7076962400804817,
          -0.6515938183494547,
          -0.45523534229086016,
          -0.7918498726770222,
          -0.7918498726770222,
          -0.7918498726770222,
          -0.7918498726770222,
          -0.7918498726770222,
          -0.7918498726770222,
          -0.7918498726770222,
          -0.7918498726770222,
          -0.7918498726770222,
          -0.7918498726770222,
          -0.7637986618115087,
          -0.7637986618115087,
          -0.7918498726770222,
          -0.7076962400804817,
          -0.7918498726770222,
          -0.7918498726770222,
          -0.7918498726770222,
          -0.7918498726770222,
          -0.7918498726770222,
          -0.7637986618115087,
          -0.7918498726770222,
          -0.7918498726770222,
          -0.7918498726770222,
          -0.7918498726770222,
          -0.5113377640218871,
          -0.7918498726770222,
          -0.7918498726770222,
          -0.7357474509459953,
          -0.7918498726770222,
          -0.3991329205598331,
          -0.03446717930815756,
          -0.7637986618115087,
          -0.45523534229086016,
          -0.03446717930815756,
          -0.7357474509459953,
          0.13384008588492347,
          -0.7918498726770222,
          1.2839397313709773,
          -0.09056960103918457,
          -0.7918498726770222,
          5.239160463408381,
          -0.5393889748874007,
          -0.37108170969431964,
          1.4802982074295719,
          -0.14667202277021157,
          1.2839397313709773,
          0.8631715683882746,
          3.2475244919569226,
          0.498505827136599,
          1.4802982074295719,
          3.668292654939625,
          1.9571687921433014,
          -0.11862081190469807,
          1.1436836770434098,
          2.4620905877225443,
          -0.5113377640218871,
          2.4059881659915177,
          1.3961445748330312,
          0.9192739901193017,
          0.330198561943518,
          1.3961445748330312,
          1.9291175812777879,
          0.330198561943518,
          0.3021473510780045,
          0.610710670598653,
          0.9192739901193017,
          0.554608248867626,
          0.6948643031951935,
          1.2278373096399502,
          1.3400421531020041,
          -0.48328655315637364,
          0.35824977280903153,
          1.0595300444468692,
          1.9010663704122743,
          0.6387618814641666,
          1.3680933639675177,
          0.9192739901193017,
          2.938961172436274,
          2.2937833225294635,
          1.3680933639675177,
          0.6387618814641666,
          0.554608248867626,
          0.8351203575227611,
          0.6668130923296801,
          0.6948643031951935,
          0.13384008588492347,
          0.21799371848146398,
          0.1899425076159505,
          0.1899425076159505,
          0.02163524242286945,
          0.1899425076159505,
          -0.2308256553667521,
          -0.7637986618115087,
          -0.2027744445012386,
          -0.3991329205598331,
          -0.37108170969431964,
          -0.37108170969431964,
          -0.25887686623226563,
          -0.2308256553667521,
          -0.5393889748874007,
          -0.45523534229086016,
          -0.5954913966184276,
          -0.6515938183494547,
          -0.6515938183494547,
          -0.6796450292149682,
          -0.7357474509459953,
          -0.7637986618115087,
          -0.6235426074839412,
          -0.6796450292149682,
          -0.7637986618115087,
          -0.5674401857529142,
          -0.3991329205598331,
          -0.6796450292149682,
          -0.5674401857529142,
          -0.7076962400804817,
          -0.5393889748874007,
          -0.7076962400804817,
          -0.6515938183494547,
          -0.7637986618115087,
          -0.7637986618115087,
          -0.7637986618115087,
          -0.6796450292149682,
          0.02163524242286945,
          -0.7637986618115087,
          -0.7637986618115087,
          -0.14667202277021157,
          -0.5113377640218871,
          -0.6235426074839412,
          -0.48328655315637364,
          -0.5113377640218871,
          -0.5393889748874007,
          -0.5674401857529142,
          -0.5954913966184276,
          -0.3991329205598331,
          -0.2869280770977791,
          -0.2869280770977791,
          -0.06251839017367107,
          0.07773766415389646,
          0.2460449293469775,
          0.7790179357917341,
          0.498505827136599,
          0.8070691466572476,
          0.7790179357917341,
          1.3400421531020041,
          2.0132712138743285,
          1.7608103160847068,
          2.4620905877225443,
          1.2278373096399502,
          2.321834533394977
         ],
         "yaxis": "y"
        },
        {
         "line": {
          "dash": "dash"
         },
         "mode": "lines",
         "name": "Fitted Training Data",
         "type": "scatter",
         "x": [
          0,
          1,
          2,
          3,
          4,
          5,
          6,
          7,
          8,
          9,
          10,
          11,
          12,
          13,
          14,
          15,
          16,
          17,
          18,
          19,
          20,
          21,
          22,
          23,
          24,
          25,
          26,
          27,
          28,
          29,
          30,
          31,
          32,
          33,
          34,
          35,
          36,
          37,
          38,
          39,
          40,
          41,
          42,
          43,
          44,
          45,
          46,
          47,
          48,
          49,
          50,
          51,
          52,
          53,
          54,
          55,
          56,
          57,
          58,
          59,
          60,
          61,
          62,
          63,
          64,
          65,
          66,
          67,
          68,
          69,
          70,
          71,
          72,
          73,
          74,
          75,
          76,
          77,
          78,
          79,
          80,
          81,
          82,
          83,
          84,
          85,
          86,
          87,
          88,
          89,
          90,
          91,
          92,
          93,
          94,
          95,
          96,
          97,
          98,
          99,
          100,
          101,
          102,
          103,
          104,
          105,
          106,
          107,
          108,
          109,
          110,
          111,
          112,
          113,
          114,
          115,
          116,
          117,
          118,
          119,
          120,
          121,
          122,
          123,
          124,
          125,
          126,
          127,
          128,
          129,
          130,
          131,
          132,
          133,
          134,
          135,
          136,
          137,
          138,
          139,
          140,
          141,
          142,
          143,
          144,
          145,
          146,
          147,
          148,
          149,
          150,
          151,
          152,
          153,
          154,
          155,
          156,
          157,
          158,
          159,
          160,
          161,
          162,
          163,
          164,
          165,
          166,
          167,
          168,
          169,
          170,
          171,
          172,
          173,
          174,
          175,
          176,
          177,
          178,
          179,
          180,
          181,
          182,
          183,
          184,
          185
         ],
         "xaxis": "x",
         "y": [
          -0.3853665590286255,
          -0.3164719343185425,
          -0.3521547019481659,
          -0.3398821949958801,
          -0.4272802472114563,
          -0.4715871214866638,
          -0.5809057354927063,
          -0.4920547604560852,
          -0.464476078748703,
          -0.4469663202762604,
          -0.5564650893211365,
          -0.5498176217079163,
          -0.5407071709632874,
          -0.537214994430542,
          -0.6228630542755127,
          -0.616349458694458,
          -0.6090975999832153,
          -0.5190343260765076,
          -0.4574154019355774,
          -0.4032084047794342,
          -0.4834834337234497,
          -0.5929204821586609,
          -0.6168704628944397,
          -0.5607582926750183,
          -0.43352243304252625,
          -0.451224148273468,
          -0.5296267867088318,
          -0.6373183727264404,
          -0.6294188499450684,
          -0.6603045463562012,
          -0.6752967834472656,
          -0.6669384241104126,
          -0.667763888835907,
          -0.6551374197006226,
          -0.6640860438346863,
          -0.6443864703178406,
          -0.6191895604133606,
          -0.6242702603340149,
          -0.6528472304344177,
          -0.7051777243614197,
          -0.7051777243614197,
          -0.7051777243614197,
          -0.7051777243614197,
          -0.7051777243614197,
          -0.7051777243614197,
          -0.7051777243614197,
          -0.7051777243614197,
          -0.7010933756828308,
          -0.6963433027267456,
          -0.6962558031082153,
          -0.6887733936309814,
          -0.6908832788467407,
          -0.6926121711730957,
          -0.7051777243614197,
          -0.7051777243614197,
          -0.7051777243614197,
          -0.7010933756828308,
          -0.7004327178001404,
          -0.701026439666748,
          -0.7051777243614197,
          -0.7051777243614197,
          -0.6645227074623108,
          -0.6568658351898193,
          -0.6619592308998108,
          -0.6970125436782837,
          -0.6956677436828613,
          -0.639970064163208,
          -0.5272867679595947,
          -0.4947449266910553,
          -0.5241199135780334,
          -0.5328753590583801,
          -0.5013680458068848,
          -0.43480241298675537,
          -0.5297006964683533,
          -0.2685548663139343,
          -0.2232656329870224,
          0.5643541812896729,
          -0.14686988294124603,
          0.41202834248542786,
          1.1505118608474731,
          -0.2868114709854126,
          0.06492975354194641,
          0.7741337418556213,
          0.31140878796577454,
          0.7910391688346863,
          0.8026788830757141,
          0.9179280996322632,
          0.6770843863487244,
          0.7223672866821289,
          0.8676565885543823,
          0.8845487833023071,
          0.38308072090148926,
          0.8722202777862549,
          0.9222493767738342,
          0.36358341574668884,
          0.8806794881820679,
          0.8491083979606628,
          0.6653440594673157,
          0.6150210499763489,
          0.8634281754493713,
          0.9120737314224243,
          0.2905022203922272,
          0.41006913781166077,
          0.6173511743545532,
          0.6826596260070801,
          0.5776365399360657,
          0.706985592842102,
          0.8463934063911438,
          0.6150426268577576,
          -0.18796013295650482,
          0.5787134766578674,
          0.819708526134491,
          0.8858975768089294,
          0.7005434036254883,
          0.8034223914146423,
          0.7456592321395874,
          0.7599294781684875,
          0.899013102054596,
          0.8235892653465271,
          0.5697464346885681,
          0.5812085866928101,
          0.669566810131073,
          0.574913740158081,
          0.4326850473880768,
          -0.03653869032859802,
          0.027933957055211067,
          -0.0422171950340271,
          -0.09982217848300934,
          -0.2768062353134155,
          -0.4124873876571655,
          -0.523631751537323,
          -0.5391103625297546,
          -0.4712963402271271,
          -0.5026131272315979,
          -0.48122143745422363,
          -0.45526233315467834,
          -0.4731299877166748,
          -0.516631007194519,
          -0.5763237476348877,
          -0.5962374210357666,
          -0.6298708319664001,
          -0.642995297908783,
          -0.6561879515647888,
          -0.6745226383209229,
          -0.667522668838501,
          -0.6556655764579773,
          -0.6558544635772705,
          -0.6507914662361145,
          -0.605012834072113,
          -0.5831275582313538,
          -0.5899261236190796,
          -0.6366153955459595,
          -0.619020402431488,
          -0.6361117959022522,
          -0.6308454275131226,
          -0.6641820073127747,
          -0.6750651001930237,
          -0.6921626925468445,
          -0.6799067854881287,
          -0.5650976300239563,
          -0.5364925861358643,
          -0.5588383078575134,
          -0.603444516658783,
          -0.5452041029930115,
          -0.519936203956604,
          -0.5862892270088196,
          -0.5834169387817383,
          -0.5688784122467041,
          -0.583041250705719,
          -0.5970868468284607,
          -0.5782875418663025,
          -0.5305139422416687,
          -0.47407403588294983,
          -0.4208577573299408,
          -0.35648730397224426,
          -0.2594446837902069,
          0.0664910301566124,
          0.3908441364765167,
          0.6200425624847412,
          0.5545088648796082,
          0.6915948390960693,
          0.7354223132133484,
          0.803029477596283,
          0.7926563024520874,
          0.8055930733680725
         ],
         "yaxis": "y"
        },
        {
         "mode": "lines",
         "name": "Original Training Data",
         "type": "scatter",
         "x": [
          0,
          1,
          2,
          3,
          4,
          5,
          6,
          7
         ],
         "xaxis": "x2",
         "y": [
          0.04341789532727141,
          -0.37339389981453414,
          -1.4848920201926823,
          1.137548857574511,
          -0.26919095102908275,
          0.7728385368254311,
          0.4949640067308941
         ],
         "yaxis": "y2"
        },
        {
         "line": {
          "dash": "dash"
         },
         "mode": "lines",
         "name": "Fitted Training Data",
         "type": "scatter",
         "x": [
          0,
          1,
          2,
          3,
          4,
          5,
          6,
          7
         ],
         "xaxis": "x2",
         "y": [
          0.023036601021885872,
          -0.6269897818565369,
          -0.40955349802970886,
          -0.583764374256134,
          -0.500507652759552,
          -0.40512144565582275,
          0.6038023829460144
         ],
         "yaxis": "y2"
        }
       ],
       "layout": {
        "annotations": [
         {
          "font": {
           "size": 16
          },
          "showarrow": false,
          "text": "O",
          "x": 0.225,
          "xanchor": "center",
          "xref": "paper",
          "y": 1,
          "yanchor": "bottom",
          "yref": "paper"
         },
         {
          "font": {
           "size": 16
          },
          "showarrow": false,
          "text": "r",
          "x": 0.775,
          "xanchor": "center",
          "xref": "paper",
          "y": 1,
          "yanchor": "bottom",
          "yref": "paper"
         }
        ],
        "height": 400,
        "hovermode": "x unified",
        "template": {
         "data": {
          "bar": [
           {
            "error_x": {
             "color": "#2a3f5f"
            },
            "error_y": {
             "color": "#2a3f5f"
            },
            "marker": {
             "line": {
              "color": "#E5ECF6",
              "width": 0.5
             },
             "pattern": {
              "fillmode": "overlay",
              "size": 10,
              "solidity": 0.2
             }
            },
            "type": "bar"
           }
          ],
          "barpolar": [
           {
            "marker": {
             "line": {
              "color": "#E5ECF6",
              "width": 0.5
             },
             "pattern": {
              "fillmode": "overlay",
              "size": 10,
              "solidity": 0.2
             }
            },
            "type": "barpolar"
           }
          ],
          "carpet": [
           {
            "aaxis": {
             "endlinecolor": "#2a3f5f",
             "gridcolor": "white",
             "linecolor": "white",
             "minorgridcolor": "white",
             "startlinecolor": "#2a3f5f"
            },
            "baxis": {
             "endlinecolor": "#2a3f5f",
             "gridcolor": "white",
             "linecolor": "white",
             "minorgridcolor": "white",
             "startlinecolor": "#2a3f5f"
            },
            "type": "carpet"
           }
          ],
          "choropleth": [
           {
            "colorbar": {
             "outlinewidth": 0,
             "ticks": ""
            },
            "type": "choropleth"
           }
          ],
          "contour": [
           {
            "colorbar": {
             "outlinewidth": 0,
             "ticks": ""
            },
            "colorscale": [
             [
              0,
              "#0d0887"
             ],
             [
              0.1111111111111111,
              "#46039f"
             ],
             [
              0.2222222222222222,
              "#7201a8"
             ],
             [
              0.3333333333333333,
              "#9c179e"
             ],
             [
              0.4444444444444444,
              "#bd3786"
             ],
             [
              0.5555555555555556,
              "#d8576b"
             ],
             [
              0.6666666666666666,
              "#ed7953"
             ],
             [
              0.7777777777777778,
              "#fb9f3a"
             ],
             [
              0.8888888888888888,
              "#fdca26"
             ],
             [
              1,
              "#f0f921"
             ]
            ],
            "type": "contour"
           }
          ],
          "contourcarpet": [
           {
            "colorbar": {
             "outlinewidth": 0,
             "ticks": ""
            },
            "type": "contourcarpet"
           }
          ],
          "heatmap": [
           {
            "colorbar": {
             "outlinewidth": 0,
             "ticks": ""
            },
            "colorscale": [
             [
              0,
              "#0d0887"
             ],
             [
              0.1111111111111111,
              "#46039f"
             ],
             [
              0.2222222222222222,
              "#7201a8"
             ],
             [
              0.3333333333333333,
              "#9c179e"
             ],
             [
              0.4444444444444444,
              "#bd3786"
             ],
             [
              0.5555555555555556,
              "#d8576b"
             ],
             [
              0.6666666666666666,
              "#ed7953"
             ],
             [
              0.7777777777777778,
              "#fb9f3a"
             ],
             [
              0.8888888888888888,
              "#fdca26"
             ],
             [
              1,
              "#f0f921"
             ]
            ],
            "type": "heatmap"
           }
          ],
          "heatmapgl": [
           {
            "colorbar": {
             "outlinewidth": 0,
             "ticks": ""
            },
            "colorscale": [
             [
              0,
              "#0d0887"
             ],
             [
              0.1111111111111111,
              "#46039f"
             ],
             [
              0.2222222222222222,
              "#7201a8"
             ],
             [
              0.3333333333333333,
              "#9c179e"
             ],
             [
              0.4444444444444444,
              "#bd3786"
             ],
             [
              0.5555555555555556,
              "#d8576b"
             ],
             [
              0.6666666666666666,
              "#ed7953"
             ],
             [
              0.7777777777777778,
              "#fb9f3a"
             ],
             [
              0.8888888888888888,
              "#fdca26"
             ],
             [
              1,
              "#f0f921"
             ]
            ],
            "type": "heatmapgl"
           }
          ],
          "histogram": [
           {
            "marker": {
             "pattern": {
              "fillmode": "overlay",
              "size": 10,
              "solidity": 0.2
             }
            },
            "type": "histogram"
           }
          ],
          "histogram2d": [
           {
            "colorbar": {
             "outlinewidth": 0,
             "ticks": ""
            },
            "colorscale": [
             [
              0,
              "#0d0887"
             ],
             [
              0.1111111111111111,
              "#46039f"
             ],
             [
              0.2222222222222222,
              "#7201a8"
             ],
             [
              0.3333333333333333,
              "#9c179e"
             ],
             [
              0.4444444444444444,
              "#bd3786"
             ],
             [
              0.5555555555555556,
              "#d8576b"
             ],
             [
              0.6666666666666666,
              "#ed7953"
             ],
             [
              0.7777777777777778,
              "#fb9f3a"
             ],
             [
              0.8888888888888888,
              "#fdca26"
             ],
             [
              1,
              "#f0f921"
             ]
            ],
            "type": "histogram2d"
           }
          ],
          "histogram2dcontour": [
           {
            "colorbar": {
             "outlinewidth": 0,
             "ticks": ""
            },
            "colorscale": [
             [
              0,
              "#0d0887"
             ],
             [
              0.1111111111111111,
              "#46039f"
             ],
             [
              0.2222222222222222,
              "#7201a8"
             ],
             [
              0.3333333333333333,
              "#9c179e"
             ],
             [
              0.4444444444444444,
              "#bd3786"
             ],
             [
              0.5555555555555556,
              "#d8576b"
             ],
             [
              0.6666666666666666,
              "#ed7953"
             ],
             [
              0.7777777777777778,
              "#fb9f3a"
             ],
             [
              0.8888888888888888,
              "#fdca26"
             ],
             [
              1,
              "#f0f921"
             ]
            ],
            "type": "histogram2dcontour"
           }
          ],
          "mesh3d": [
           {
            "colorbar": {
             "outlinewidth": 0,
             "ticks": ""
            },
            "type": "mesh3d"
           }
          ],
          "parcoords": [
           {
            "line": {
             "colorbar": {
              "outlinewidth": 0,
              "ticks": ""
             }
            },
            "type": "parcoords"
           }
          ],
          "pie": [
           {
            "automargin": true,
            "type": "pie"
           }
          ],
          "scatter": [
           {
            "fillpattern": {
             "fillmode": "overlay",
             "size": 10,
             "solidity": 0.2
            },
            "type": "scatter"
           }
          ],
          "scatter3d": [
           {
            "line": {
             "colorbar": {
              "outlinewidth": 0,
              "ticks": ""
             }
            },
            "marker": {
             "colorbar": {
              "outlinewidth": 0,
              "ticks": ""
             }
            },
            "type": "scatter3d"
           }
          ],
          "scattercarpet": [
           {
            "marker": {
             "colorbar": {
              "outlinewidth": 0,
              "ticks": ""
             }
            },
            "type": "scattercarpet"
           }
          ],
          "scattergeo": [
           {
            "marker": {
             "colorbar": {
              "outlinewidth": 0,
              "ticks": ""
             }
            },
            "type": "scattergeo"
           }
          ],
          "scattergl": [
           {
            "marker": {
             "colorbar": {
              "outlinewidth": 0,
              "ticks": ""
             }
            },
            "type": "scattergl"
           }
          ],
          "scattermapbox": [
           {
            "marker": {
             "colorbar": {
              "outlinewidth": 0,
              "ticks": ""
             }
            },
            "type": "scattermapbox"
           }
          ],
          "scatterpolar": [
           {
            "marker": {
             "colorbar": {
              "outlinewidth": 0,
              "ticks": ""
             }
            },
            "type": "scatterpolar"
           }
          ],
          "scatterpolargl": [
           {
            "marker": {
             "colorbar": {
              "outlinewidth": 0,
              "ticks": ""
             }
            },
            "type": "scatterpolargl"
           }
          ],
          "scatterternary": [
           {
            "marker": {
             "colorbar": {
              "outlinewidth": 0,
              "ticks": ""
             }
            },
            "type": "scatterternary"
           }
          ],
          "surface": [
           {
            "colorbar": {
             "outlinewidth": 0,
             "ticks": ""
            },
            "colorscale": [
             [
              0,
              "#0d0887"
             ],
             [
              0.1111111111111111,
              "#46039f"
             ],
             [
              0.2222222222222222,
              "#7201a8"
             ],
             [
              0.3333333333333333,
              "#9c179e"
             ],
             [
              0.4444444444444444,
              "#bd3786"
             ],
             [
              0.5555555555555556,
              "#d8576b"
             ],
             [
              0.6666666666666666,
              "#ed7953"
             ],
             [
              0.7777777777777778,
              "#fb9f3a"
             ],
             [
              0.8888888888888888,
              "#fdca26"
             ],
             [
              1,
              "#f0f921"
             ]
            ],
            "type": "surface"
           }
          ],
          "table": [
           {
            "cells": {
             "fill": {
              "color": "#EBF0F8"
             },
             "line": {
              "color": "white"
             }
            },
            "header": {
             "fill": {
              "color": "#C8D4E3"
             },
             "line": {
              "color": "white"
             }
            },
            "type": "table"
           }
          ]
         },
         "layout": {
          "annotationdefaults": {
           "arrowcolor": "#2a3f5f",
           "arrowhead": 0,
           "arrowwidth": 1
          },
          "autotypenumbers": "strict",
          "coloraxis": {
           "colorbar": {
            "outlinewidth": 0,
            "ticks": ""
           }
          },
          "colorscale": {
           "diverging": [
            [
             0,
             "#8e0152"
            ],
            [
             0.1,
             "#c51b7d"
            ],
            [
             0.2,
             "#de77ae"
            ],
            [
             0.3,
             "#f1b6da"
            ],
            [
             0.4,
             "#fde0ef"
            ],
            [
             0.5,
             "#f7f7f7"
            ],
            [
             0.6,
             "#e6f5d0"
            ],
            [
             0.7,
             "#b8e186"
            ],
            [
             0.8,
             "#7fbc41"
            ],
            [
             0.9,
             "#4d9221"
            ],
            [
             1,
             "#276419"
            ]
           ],
           "sequential": [
            [
             0,
             "#0d0887"
            ],
            [
             0.1111111111111111,
             "#46039f"
            ],
            [
             0.2222222222222222,
             "#7201a8"
            ],
            [
             0.3333333333333333,
             "#9c179e"
            ],
            [
             0.4444444444444444,
             "#bd3786"
            ],
            [
             0.5555555555555556,
             "#d8576b"
            ],
            [
             0.6666666666666666,
             "#ed7953"
            ],
            [
             0.7777777777777778,
             "#fb9f3a"
            ],
            [
             0.8888888888888888,
             "#fdca26"
            ],
            [
             1,
             "#f0f921"
            ]
           ],
           "sequentialminus": [
            [
             0,
             "#0d0887"
            ],
            [
             0.1111111111111111,
             "#46039f"
            ],
            [
             0.2222222222222222,
             "#7201a8"
            ],
            [
             0.3333333333333333,
             "#9c179e"
            ],
            [
             0.4444444444444444,
             "#bd3786"
            ],
            [
             0.5555555555555556,
             "#d8576b"
            ],
            [
             0.6666666666666666,
             "#ed7953"
            ],
            [
             0.7777777777777778,
             "#fb9f3a"
            ],
            [
             0.8888888888888888,
             "#fdca26"
            ],
            [
             1,
             "#f0f921"
            ]
           ]
          },
          "colorway": [
           "#636efa",
           "#EF553B",
           "#00cc96",
           "#ab63fa",
           "#FFA15A",
           "#19d3f3",
           "#FF6692",
           "#B6E880",
           "#FF97FF",
           "#FECB52"
          ],
          "font": {
           "color": "#2a3f5f"
          },
          "geo": {
           "bgcolor": "white",
           "lakecolor": "white",
           "landcolor": "#E5ECF6",
           "showlakes": true,
           "showland": true,
           "subunitcolor": "white"
          },
          "hoverlabel": {
           "align": "left"
          },
          "hovermode": "closest",
          "mapbox": {
           "style": "light"
          },
          "paper_bgcolor": "white",
          "plot_bgcolor": "#E5ECF6",
          "polar": {
           "angularaxis": {
            "gridcolor": "white",
            "linecolor": "white",
            "ticks": ""
           },
           "bgcolor": "#E5ECF6",
           "radialaxis": {
            "gridcolor": "white",
            "linecolor": "white",
            "ticks": ""
           }
          },
          "scene": {
           "xaxis": {
            "backgroundcolor": "#E5ECF6",
            "gridcolor": "white",
            "gridwidth": 2,
            "linecolor": "white",
            "showbackground": true,
            "ticks": "",
            "zerolinecolor": "white"
           },
           "yaxis": {
            "backgroundcolor": "#E5ECF6",
            "gridcolor": "white",
            "gridwidth": 2,
            "linecolor": "white",
            "showbackground": true,
            "ticks": "",
            "zerolinecolor": "white"
           },
           "zaxis": {
            "backgroundcolor": "#E5ECF6",
            "gridcolor": "white",
            "gridwidth": 2,
            "linecolor": "white",
            "showbackground": true,
            "ticks": "",
            "zerolinecolor": "white"
           }
          },
          "shapedefaults": {
           "line": {
            "color": "#2a3f5f"
           }
          },
          "ternary": {
           "aaxis": {
            "gridcolor": "white",
            "linecolor": "white",
            "ticks": ""
           },
           "baxis": {
            "gridcolor": "white",
            "linecolor": "white",
            "ticks": ""
           },
           "bgcolor": "#E5ECF6",
           "caxis": {
            "gridcolor": "white",
            "linecolor": "white",
            "ticks": ""
           }
          },
          "title": {
           "x": 0.05
          },
          "xaxis": {
           "automargin": true,
           "gridcolor": "white",
           "linecolor": "white",
           "ticks": "",
           "title": {
            "standoff": 15
           },
           "zerolinecolor": "white",
           "zerolinewidth": 2
          },
          "yaxis": {
           "automargin": true,
           "gridcolor": "white",
           "linecolor": "white",
           "ticks": "",
           "title": {
            "standoff": 15
           },
           "zerolinecolor": "white",
           "zerolinewidth": 2
          }
         }
        },
        "title": {
         "text": "COVID-19 Data"
        },
        "width": 600,
        "xaxis": {
         "anchor": "y",
         "domain": [
          0,
          0.45
         ],
         "tickangle": 45,
         "tickformat": "%b %d\n%Y",
         "tickvals": [
          "2021-04-05T00:00:00",
          "2021-04-18T00:00:00",
          "2021-05-01T00:00:00",
          "2021-05-14T00:00:00",
          "2021-05-27T00:00:00",
          "2021-06-09T00:00:00",
          "2021-06-22T00:00:00",
          "2021-07-05T00:00:00",
          "2021-07-18T00:00:00",
          "2021-07-31T00:00:00",
          "2021-08-13T00:00:00",
          "2021-08-26T00:00:00",
          "2021-09-08T00:00:00",
          "2021-09-21T00:00:00",
          "2021-10-04T00:00:00",
          "2021-10-17T00:00:00"
         ]
        },
        "xaxis2": {
         "anchor": "y2",
         "domain": [
          0.55,
          1
         ],
         "tickangle": 45,
         "tickformat": "%b %d\n%Y",
         "tickvals": [
          "2021-04-05T00:00:00",
          "2021-04-18T00:00:00",
          "2021-05-01T00:00:00",
          "2021-05-14T00:00:00",
          "2021-05-27T00:00:00",
          "2021-06-09T00:00:00",
          "2021-06-22T00:00:00",
          "2021-07-05T00:00:00",
          "2021-07-18T00:00:00",
          "2021-07-31T00:00:00",
          "2021-08-13T00:00:00",
          "2021-08-26T00:00:00",
          "2021-09-08T00:00:00",
          "2021-09-21T00:00:00",
          "2021-10-04T00:00:00",
          "2021-10-17T00:00:00"
         ]
        },
        "yaxis": {
         "anchor": "x",
         "domain": [
          0,
          1
         ]
        },
        "yaxis2": {
         "anchor": "x2",
         "domain": [
          0,
          1
         ]
        }
       }
      }
     },
     "metadata": {},
     "output_type": "display_data"
    },
    {
     "name": "stderr",
     "output_type": "stream",
     "text": [
      "WARNING:absl:You are saving your model as an HDF5 file via `model.save()` or `keras.saving.save_model(model)`. This file format is considered legacy. We recommend using instead the native Keras format, e.g. `model.save('my_model.keras')` or `keras.saving.save_model(model, 'my_model.keras')`. \n"
     ]
    },
    {
     "name": "stdout",
     "output_type": "stream",
     "text": [
      "MAE: 0.6555348634719849\n",
      "RMSE: 0.8973724246025085\n",
      "R² score: -0.24155795574188232\n"
     ]
    },
    {
     "data": {
      "image/png": "[encoded data removed]",
      "text/plain": [
       "<Figure size 640x480 with 1 Axes>"
      ]
     },
     "metadata": {},
     "output_type": "display_data"
    }
   ],
   "source": [
    "stacked_lstm_model = Sequential()\n",
    "stacked_lstm_model.add(LSTM(100, dropout=0.2, return_sequences=True, input_shape=(X_train_seq.shape[1], X_train_seq.shape[2])))\n",
    "stacked_lstm_model.add(LSTM(50, dropout=0.2, return_sequences=False))  # No need for input_shape here\n",
    "stacked_lstm_model.add(Dense(8, activation='relu'))\n",
    "stacked_lstm_model.add(Dense(1, activation='linear'))\n",
    "K.set_epsilon(1)\n",
    "stacked_lstm_model.compile(optimizer=Adam(learning_rate=0.001), loss=MeanAbsoluteError(), metrics=[MeanAbsolutePercentageError()])\n",
    "stacked_lstm_model.summary()\n",
    "\n",
    "\n",
    "# training\n",
    "early_stopping = EarlyStopping(monitor='val_loss', patience=20, restore_best_weights=True)\n",
    "reduce_lr = ReduceLROnPlateau(monitor='val_loss', factor=0.9, patience=5, min_lr=0.00000001)\n",
    "\n",
    "history = stacked_lstm_model.fit(X_train_seq, y_train_seq, epochs=100, batch_size=16, validation_split=0.2, verbose=1)\n",
    "\n",
    "\n",
    "# plot the loss function\n",
    "plt.plot(history.history['loss'], label='Training loss')\n",
    "plt.plot(history.history['val_loss'], label='Validation loss')\n",
    "plt.legend()\n",
    "\n",
    "\n",
    "# visualization the result\n",
    "y_pred_train = stacked_lstm_model.predict(X_train_seq).reshape(-1,1)\n",
    "y_pred_test = stacked_lstm_model.predict(X_test_seq).reshape(-1,1)\n",
    "\n",
    "num_dates = len(df['Date'])\n",
    "step = max(1, num_dates // 15)\n",
    "display_dates = df['Date'][::step]\n",
    "\n",
    "fig = make_subplots(\n",
    "    rows=1, cols=2,\n",
    "    subplot_titles=(\"Original Training Data\"),\n",
    "    shared_xaxes=True\n",
    ")\n",
    "\n",
    "fig.add_trace(go.Scatter(x=np.arange(len(X_train) - sequence_length + 1), y=y_train_seq.flatten(), mode='lines', name='Original Training Data'), row=1, col=1)\n",
    "fig.add_trace(go.Scatter(x=np.arange(len(X_train) - sequence_length + 1), y=y_pred_train.flatten(), mode='lines', name='Fitted Training Data', line=dict(dash='dash')), row=1, col=1)\n",
    "\n",
    "fig.add_trace(go.Scatter(x=np.arange(len(X_test) - sequence_length + 1), y=y_test_seq.flatten(), mode='lines', name='Original Training Data'), row=1, col=2)\n",
    "fig.add_trace(go.Scatter(x=np.arange(len(X_test) - sequence_length + 1), y=y_pred_test.flatten(), mode='lines', name='Fitted Training Data', line=dict(dash='dash')), row=1, col=2)\n",
    "\n",
    "fig.update_layout(\n",
    "    height=400, width=600,\n",
    "    title_text=\"COVID-19 Data\",\n",
    "    hovermode='x unified'\n",
    ")\n",
    "\n",
    "for i in range(1, 2):\n",
    "    for j in range(1, 3):\n",
    "        fig.update_xaxes(\n",
    "            tickvals=display_dates,\n",
    "            tickformat=\"%b %d\\n%Y\",\n",
    "            tickangle=45,\n",
    "            row=i, col=j\n",
    "        )\n",
    "fig.show()\n",
    "\n",
    "\n",
    "# Compute score metrics\n",
    "# Convert to tensors\n",
    "y_true_tf = tf.convert_to_tensor(y_test_seq.reshape(-1), dtype=tf.float32)\n",
    "y_pred_tf = tf.convert_to_tensor(y_pred_test.reshape(-1), dtype=tf.float32)\n",
    "\n",
    "# Initialize the metrics\n",
    "mae_metric = tf.keras.metrics.MeanAbsoluteError()\n",
    "mse_metric = tf.keras.metrics.MeanSquaredError()\n",
    "\n",
    "# Update the state with the true and predicted values\n",
    "mae_metric.update_state(y_true_tf, y_pred_tf)\n",
    "mse_metric.update_state(y_true_tf, y_pred_tf)\n",
    "\n",
    "# Calculate MAE and MSE\n",
    "mae = mae_metric.result().numpy()\n",
    "mse = mse_metric.result().numpy()\n",
    "\n",
    "# Calculate RMSE\n",
    "rmse = np.sqrt(mse)\n",
    "\n",
    "# Calculate R² score\n",
    "total_error = tf.reduce_sum(tf.square(y_true_tf - tf.reduce_mean(y_true_tf)))\n",
    "unexplained_error = tf.reduce_sum(tf.square(y_true_tf - y_pred_tf))\n",
    "r2_score = 1 - tf.divide(unexplained_error, total_error).numpy()\n",
    "\n",
    "print(f\"MAE: {mae}\")\n",
    "print(f\"RMSE: {rmse}\")\n",
    "print(f\"R² score: {r2_score}\")\n",
    "\n",
    "\n",
    "# save the model\n",
    "stacked_lstm_model.save(\"./checkpoints/stacked_lstm.h5\")\n"
   ]
  },
  {
   "cell_type": "markdown",
   "metadata": {},
   "source": [
    "### Convolutional LSTM"
   ]
  },
  {
   "cell_type": "code",
   "execution_count": 28,
   "metadata": {},
   "outputs": [
    {
     "name": "stderr",
     "output_type": "stream",
     "text": [
      "c:\\Users\\ADMIN\\AppData\\Local\\Programs\\Python\\Python312\\Lib\\site-packages\\keras\\src\\layers\\convolutional\\base_conv.py:107: UserWarning: Do not pass an `input_shape`/`input_dim` argument to a layer. When using Sequential models, prefer using an `Input(shape)` object as the first layer in the model instead.\n",
      "  super().__init__(activity_regularizer=activity_regularizer, **kwargs)\n"
     ]
    },
    {
     "data": {
      "text/html": [
       "<pre style=\"white-space:pre;overflow-x:auto;line-height:normal;font-family:Menlo,'DejaVu Sans Mono',consolas,'Courier New',monospace\"><span style=\"font-weight: bold\">Model: \"sequential_13\"</span>\n",
       "</pre>\n"
      ],
      "text/plain": [
       "\u001b[1mModel: \"sequential_13\"\u001b[0m\n"
      ]
     },
     "metadata": {},
     "output_type": "display_data"
    },
    {
     "data": {
      "text/html": [
       "<pre style=\"white-space:pre;overflow-x:auto;line-height:normal;font-family:Menlo,'DejaVu Sans Mono',consolas,'Courier New',monospace\">┏━━━━━━━━━━━━━━━━━━━━━━━━━━━━━━━━━┳━━━━━━━━━━━━━━━━━━━━━━━━┳━━━━━━━━━━━━━━━┓\n",
       "┃<span style=\"font-weight: bold\"> Layer (type)                    </span>┃<span style=\"font-weight: bold\"> Output Shape           </span>┃<span style=\"font-weight: bold\">       Param # </span>┃\n",
       "┡━━━━━━━━━━━━━━━━━━━━━━━━━━━━━━━━━╇━━━━━━━━━━━━━━━━━━━━━━━━╇━━━━━━━━━━━━━━━┩\n",
       "│ conv1d_23 (<span style=\"color: #0087ff; text-decoration-color: #0087ff\">Conv1D</span>)              │ (<span style=\"color: #00d7ff; text-decoration-color: #00d7ff\">None</span>, <span style=\"color: #00af00; text-decoration-color: #00af00\">2</span>, <span style=\"color: #00af00; text-decoration-color: #00af00\">64</span>)          │           <span style=\"color: #00af00; text-decoration-color: #00af00\">192</span> │\n",
       "├─────────────────────────────────┼────────────────────────┼───────────────┤\n",
       "│ max_pooling1d_21 (<span style=\"color: #0087ff; text-decoration-color: #0087ff\">MaxPooling1D</span>) │ (<span style=\"color: #00d7ff; text-decoration-color: #00d7ff\">None</span>, <span style=\"color: #00af00; text-decoration-color: #00af00\">2</span>, <span style=\"color: #00af00; text-decoration-color: #00af00\">64</span>)          │             <span style=\"color: #00af00; text-decoration-color: #00af00\">0</span> │\n",
       "├─────────────────────────────────┼────────────────────────┼───────────────┤\n",
       "│ lstm_10 (<span style=\"color: #0087ff; text-decoration-color: #0087ff\">LSTM</span>)                  │ (<span style=\"color: #00d7ff; text-decoration-color: #00d7ff\">None</span>, <span style=\"color: #00af00; text-decoration-color: #00af00\">2</span>, <span style=\"color: #00af00; text-decoration-color: #00af00\">100</span>)         │        <span style=\"color: #00af00; text-decoration-color: #00af00\">66,000</span> │\n",
       "├─────────────────────────────────┼────────────────────────┼───────────────┤\n",
       "│ dropout_10 (<span style=\"color: #0087ff; text-decoration-color: #0087ff\">Dropout</span>)            │ (<span style=\"color: #00d7ff; text-decoration-color: #00d7ff\">None</span>, <span style=\"color: #00af00; text-decoration-color: #00af00\">2</span>, <span style=\"color: #00af00; text-decoration-color: #00af00\">100</span>)         │             <span style=\"color: #00af00; text-decoration-color: #00af00\">0</span> │\n",
       "├─────────────────────────────────┼────────────────────────┼───────────────┤\n",
       "│ conv1d_24 (<span style=\"color: #0087ff; text-decoration-color: #0087ff\">Conv1D</span>)              │ (<span style=\"color: #00d7ff; text-decoration-color: #00d7ff\">None</span>, <span style=\"color: #00af00; text-decoration-color: #00af00\">1</span>, <span style=\"color: #00af00; text-decoration-color: #00af00\">32</span>)          │         <span style=\"color: #00af00; text-decoration-color: #00af00\">6,432</span> │\n",
       "├─────────────────────────────────┼────────────────────────┼───────────────┤\n",
       "│ max_pooling1d_22 (<span style=\"color: #0087ff; text-decoration-color: #0087ff\">MaxPooling1D</span>) │ (<span style=\"color: #00d7ff; text-decoration-color: #00d7ff\">None</span>, <span style=\"color: #00af00; text-decoration-color: #00af00\">1</span>, <span style=\"color: #00af00; text-decoration-color: #00af00\">32</span>)          │             <span style=\"color: #00af00; text-decoration-color: #00af00\">0</span> │\n",
       "├─────────────────────────────────┼────────────────────────┼───────────────┤\n",
       "│ flatten_10 (<span style=\"color: #0087ff; text-decoration-color: #0087ff\">Flatten</span>)            │ (<span style=\"color: #00d7ff; text-decoration-color: #00d7ff\">None</span>, <span style=\"color: #00af00; text-decoration-color: #00af00\">32</span>)             │             <span style=\"color: #00af00; text-decoration-color: #00af00\">0</span> │\n",
       "├─────────────────────────────────┼────────────────────────┼───────────────┤\n",
       "│ dense_9 (<span style=\"color: #0087ff; text-decoration-color: #0087ff\">Dense</span>)                 │ (<span style=\"color: #00d7ff; text-decoration-color: #00d7ff\">None</span>, <span style=\"color: #00af00; text-decoration-color: #00af00\">1</span>)              │            <span style=\"color: #00af00; text-decoration-color: #00af00\">33</span> │\n",
       "└─────────────────────────────────┴────────────────────────┴───────────────┘\n",
       "</pre>\n"
      ],
      "text/plain": [
       "┏━━━━━━━━━━━━━━━━━━━━━━━━━━━━━━━━━┳━━━━━━━━━━━━━━━━━━━━━━━━┳━━━━━━━━━━━━━━━┓\n",
       "┃\u001b[1m \u001b[0m\u001b[1mLayer (type)                   \u001b[0m\u001b[1m \u001b[0m┃\u001b[1m \u001b[0m\u001b[1mOutput Shape          \u001b[0m\u001b[1m \u001b[0m┃\u001b[1m \u001b[0m\u001b[1m      Param #\u001b[0m\u001b[1m \u001b[0m┃\n",
       "┡━━━━━━━━━━━━━━━━━━━━━━━━━━━━━━━━━╇━━━━━━━━━━━━━━━━━━━━━━━━╇━━━━━━━━━━━━━━━┩\n",
       "│ conv1d_23 (\u001b[38;5;33mConv1D\u001b[0m)              │ (\u001b[38;5;45mNone\u001b[0m, \u001b[38;5;34m2\u001b[0m, \u001b[38;5;34m64\u001b[0m)          │           \u001b[38;5;34m192\u001b[0m │\n",
       "├─────────────────────────────────┼────────────────────────┼───────────────┤\n",
       "│ max_pooling1d_21 (\u001b[38;5;33mMaxPooling1D\u001b[0m) │ (\u001b[38;5;45mNone\u001b[0m, \u001b[38;5;34m2\u001b[0m, \u001b[38;5;34m64\u001b[0m)          │             \u001b[38;5;34m0\u001b[0m │\n",
       "├─────────────────────────────────┼────────────────────────┼───────────────┤\n",
       "│ lstm_10 (\u001b[38;5;33mLSTM\u001b[0m)                  │ (\u001b[38;5;45mNone\u001b[0m, \u001b[38;5;34m2\u001b[0m, \u001b[38;5;34m100\u001b[0m)         │        \u001b[38;5;34m66,000\u001b[0m │\n",
       "├─────────────────────────────────┼────────────────────────┼───────────────┤\n",
       "│ dropout_10 (\u001b[38;5;33mDropout\u001b[0m)            │ (\u001b[38;5;45mNone\u001b[0m, \u001b[38;5;34m2\u001b[0m, \u001b[38;5;34m100\u001b[0m)         │             \u001b[38;5;34m0\u001b[0m │\n",
       "├─────────────────────────────────┼────────────────────────┼───────────────┤\n",
       "│ conv1d_24 (\u001b[38;5;33mConv1D\u001b[0m)              │ (\u001b[38;5;45mNone\u001b[0m, \u001b[38;5;34m1\u001b[0m, \u001b[38;5;34m32\u001b[0m)          │         \u001b[38;5;34m6,432\u001b[0m │\n",
       "├─────────────────────────────────┼────────────────────────┼───────────────┤\n",
       "│ max_pooling1d_22 (\u001b[38;5;33mMaxPooling1D\u001b[0m) │ (\u001b[38;5;45mNone\u001b[0m, \u001b[38;5;34m1\u001b[0m, \u001b[38;5;34m32\u001b[0m)          │             \u001b[38;5;34m0\u001b[0m │\n",
       "├─────────────────────────────────┼────────────────────────┼───────────────┤\n",
       "│ flatten_10 (\u001b[38;5;33mFlatten\u001b[0m)            │ (\u001b[38;5;45mNone\u001b[0m, \u001b[38;5;34m32\u001b[0m)             │             \u001b[38;5;34m0\u001b[0m │\n",
       "├─────────────────────────────────┼────────────────────────┼───────────────┤\n",
       "│ dense_9 (\u001b[38;5;33mDense\u001b[0m)                 │ (\u001b[38;5;45mNone\u001b[0m, \u001b[38;5;34m1\u001b[0m)              │            \u001b[38;5;34m33\u001b[0m │\n",
       "└─────────────────────────────────┴────────────────────────┴───────────────┘\n"
      ]
     },
     "metadata": {},
     "output_type": "display_data"
    },
    {
     "data": {
      "text/html": [
       "<pre style=\"white-space:pre;overflow-x:auto;line-height:normal;font-family:Menlo,'DejaVu Sans Mono',consolas,'Courier New',monospace\"><span style=\"font-weight: bold\"> Total params: </span><span style=\"color: #00af00; text-decoration-color: #00af00\">72,657</span> (283.82 KB)\n",
       "</pre>\n"
      ],
      "text/plain": [
       "\u001b[1m Total params: \u001b[0m\u001b[38;5;34m72,657\u001b[0m (283.82 KB)\n"
      ]
     },
     "metadata": {},
     "output_type": "display_data"
    },
    {
     "data": {
      "text/html": [
       "<pre style=\"white-space:pre;overflow-x:auto;line-height:normal;font-family:Menlo,'DejaVu Sans Mono',consolas,'Courier New',monospace\"><span style=\"font-weight: bold\"> Trainable params: </span><span style=\"color: #00af00; text-decoration-color: #00af00\">72,657</span> (283.82 KB)\n",
       "</pre>\n"
      ],
      "text/plain": [
       "\u001b[1m Trainable params: \u001b[0m\u001b[38;5;34m72,657\u001b[0m (283.82 KB)\n"
      ]
     },
     "metadata": {},
     "output_type": "display_data"
    },
    {
     "data": {
      "text/html": [
       "<pre style=\"white-space:pre;overflow-x:auto;line-height:normal;font-family:Menlo,'DejaVu Sans Mono',consolas,'Courier New',monospace\"><span style=\"font-weight: bold\"> Non-trainable params: </span><span style=\"color: #00af00; text-decoration-color: #00af00\">0</span> (0.00 B)\n",
       "</pre>\n"
      ],
      "text/plain": [
       "\u001b[1m Non-trainable params: \u001b[0m\u001b[38;5;34m0\u001b[0m (0.00 B)\n"
      ]
     },
     "metadata": {},
     "output_type": "display_data"
    },
    {
     "name": "stdout",
     "output_type": "stream",
     "text": [
      "Epoch 1/100\n",
      "10/10 - 2s - 210ms/step - loss: 0.6926 - mean_absolute_percentage_error: 55.4818 - val_loss: 0.5561 - val_mean_absolute_percentage_error: 44.5000\n",
      "Epoch 2/100\n",
      "10/10 - 0s - 8ms/step - loss: 0.4995 - mean_absolute_percentage_error: 37.4084 - val_loss: 0.3668 - val_mean_absolute_percentage_error: 28.2681\n",
      "Epoch 3/100\n",
      "10/10 - 0s - 7ms/step - loss: 0.4402 - mean_absolute_percentage_error: 33.3172 - val_loss: 0.3004 - val_mean_absolute_percentage_error: 23.8119\n",
      "Epoch 4/100\n",
      "10/10 - 0s - 7ms/step - loss: 0.4193 - mean_absolute_percentage_error: 32.2232 - val_loss: 0.3214 - val_mean_absolute_percentage_error: 25.1928\n",
      "Epoch 5/100\n",
      "10/10 - 0s - 8ms/step - loss: 0.4088 - mean_absolute_percentage_error: 30.2869 - val_loss: 0.3320 - val_mean_absolute_percentage_error: 25.7069\n",
      "Epoch 6/100\n",
      "10/10 - 0s - 8ms/step - loss: 0.3896 - mean_absolute_percentage_error: 28.9014 - val_loss: 0.3025 - val_mean_absolute_percentage_error: 23.6465\n",
      "Epoch 7/100\n",
      "10/10 - 0s - 7ms/step - loss: 0.4113 - mean_absolute_percentage_error: 31.8525 - val_loss: 0.2778 - val_mean_absolute_percentage_error: 22.1555\n",
      "Epoch 8/100\n",
      "10/10 - 0s - 8ms/step - loss: 0.3882 - mean_absolute_percentage_error: 29.3308 - val_loss: 0.3253 - val_mean_absolute_percentage_error: 25.0237\n",
      "Epoch 9/100\n",
      "10/10 - 0s - 7ms/step - loss: 0.3783 - mean_absolute_percentage_error: 27.7363 - val_loss: 0.3282 - val_mean_absolute_percentage_error: 25.4398\n",
      "Epoch 10/100\n",
      "10/10 - 0s - 7ms/step - loss: 0.3862 - mean_absolute_percentage_error: 28.7794 - val_loss: 0.3122 - val_mean_absolute_percentage_error: 24.1228\n",
      "Epoch 11/100\n",
      "10/10 - 0s - 8ms/step - loss: 0.3817 - mean_absolute_percentage_error: 28.5082 - val_loss: 0.3158 - val_mean_absolute_percentage_error: 24.4948\n",
      "Epoch 12/100\n",
      "10/10 - 0s - 7ms/step - loss: 0.3716 - mean_absolute_percentage_error: 27.4830 - val_loss: 0.3073 - val_mean_absolute_percentage_error: 23.6999\n",
      "Epoch 13/100\n",
      "10/10 - 0s - 7ms/step - loss: 0.3811 - mean_absolute_percentage_error: 28.4621 - val_loss: 0.3178 - val_mean_absolute_percentage_error: 24.8168\n",
      "Epoch 14/100\n",
      "10/10 - 0s - 7ms/step - loss: 0.3783 - mean_absolute_percentage_error: 28.3668 - val_loss: 0.3028 - val_mean_absolute_percentage_error: 23.5057\n",
      "Epoch 15/100\n",
      "10/10 - 0s - 7ms/step - loss: 0.3777 - mean_absolute_percentage_error: 28.0651 - val_loss: 0.3285 - val_mean_absolute_percentage_error: 25.5825\n",
      "Epoch 16/100\n",
      "10/10 - 0s - 8ms/step - loss: 0.3763 - mean_absolute_percentage_error: 27.8121 - val_loss: 0.3217 - val_mean_absolute_percentage_error: 24.8895\n",
      "Epoch 17/100\n",
      "10/10 - 0s - 7ms/step - loss: 0.3771 - mean_absolute_percentage_error: 27.9958 - val_loss: 0.3099 - val_mean_absolute_percentage_error: 23.9894\n",
      "Epoch 18/100\n",
      "10/10 - 0s - 7ms/step - loss: 0.3671 - mean_absolute_percentage_error: 27.2068 - val_loss: 0.3024 - val_mean_absolute_percentage_error: 23.4583\n",
      "Epoch 19/100\n",
      "10/10 - 0s - 8ms/step - loss: 0.3683 - mean_absolute_percentage_error: 27.4390 - val_loss: 0.3009 - val_mean_absolute_percentage_error: 23.6162\n",
      "Epoch 20/100\n",
      "10/10 - 0s - 7ms/step - loss: 0.3714 - mean_absolute_percentage_error: 27.4727 - val_loss: 0.3043 - val_mean_absolute_percentage_error: 23.4905\n",
      "Epoch 21/100\n",
      "10/10 - 0s - 7ms/step - loss: 0.3821 - mean_absolute_percentage_error: 29.0532 - val_loss: 0.2914 - val_mean_absolute_percentage_error: 22.7286\n",
      "Epoch 22/100\n",
      "10/10 - 0s - 7ms/step - loss: 0.3657 - mean_absolute_percentage_error: 27.0724 - val_loss: 0.3392 - val_mean_absolute_percentage_error: 25.8199\n",
      "Epoch 23/100\n",
      "10/10 - 0s - 7ms/step - loss: 0.3750 - mean_absolute_percentage_error: 26.7935 - val_loss: 0.3541 - val_mean_absolute_percentage_error: 26.8378\n",
      "Epoch 24/100\n",
      "10/10 - 0s - 7ms/step - loss: 0.3714 - mean_absolute_percentage_error: 26.5678 - val_loss: 0.3269 - val_mean_absolute_percentage_error: 25.2793\n",
      "Epoch 25/100\n",
      "10/10 - 0s - 7ms/step - loss: 0.3657 - mean_absolute_percentage_error: 26.8772 - val_loss: 0.3438 - val_mean_absolute_percentage_error: 25.9633\n",
      "Epoch 26/100\n",
      "10/10 - 0s - 8ms/step - loss: 0.3586 - mean_absolute_percentage_error: 25.5724 - val_loss: 0.3676 - val_mean_absolute_percentage_error: 27.7792\n",
      "Epoch 27/100\n",
      "10/10 - 0s - 7ms/step - loss: 0.3616 - mean_absolute_percentage_error: 25.8773 - val_loss: 0.3409 - val_mean_absolute_percentage_error: 26.0364\n",
      "Epoch 28/100\n",
      "10/10 - 0s - 7ms/step - loss: 0.3548 - mean_absolute_percentage_error: 25.9816 - val_loss: 0.3147 - val_mean_absolute_percentage_error: 24.1664\n",
      "Epoch 29/100\n",
      "10/10 - 0s - 7ms/step - loss: 0.3597 - mean_absolute_percentage_error: 26.3880 - val_loss: 0.3424 - val_mean_absolute_percentage_error: 26.1827\n",
      "Epoch 30/100\n",
      "10/10 - 0s - 8ms/step - loss: 0.3524 - mean_absolute_percentage_error: 25.5542 - val_loss: 0.3149 - val_mean_absolute_percentage_error: 24.1476\n",
      "Epoch 31/100\n",
      "10/10 - 0s - 7ms/step - loss: 0.3450 - mean_absolute_percentage_error: 25.1678 - val_loss: 0.3456 - val_mean_absolute_percentage_error: 26.5907\n",
      "Epoch 32/100\n",
      "10/10 - 0s - 7ms/step - loss: 0.3631 - mean_absolute_percentage_error: 26.6242 - val_loss: 0.3263 - val_mean_absolute_percentage_error: 24.9366\n",
      "Epoch 33/100\n",
      "10/10 - 0s - 8ms/step - loss: 0.3571 - mean_absolute_percentage_error: 25.9615 - val_loss: 0.3513 - val_mean_absolute_percentage_error: 27.1398\n",
      "Epoch 34/100\n",
      "10/10 - 0s - 7ms/step - loss: 0.3542 - mean_absolute_percentage_error: 26.0593 - val_loss: 0.3146 - val_mean_absolute_percentage_error: 24.0966\n",
      "Epoch 35/100\n",
      "10/10 - 0s - 7ms/step - loss: 0.3573 - mean_absolute_percentage_error: 26.2875 - val_loss: 0.3393 - val_mean_absolute_percentage_error: 26.0159\n",
      "Epoch 36/100\n",
      "10/10 - 0s - 8ms/step - loss: 0.3587 - mean_absolute_percentage_error: 26.0448 - val_loss: 0.3384 - val_mean_absolute_percentage_error: 25.8263\n",
      "Epoch 37/100\n",
      "10/10 - 0s - 7ms/step - loss: 0.3580 - mean_absolute_percentage_error: 26.3344 - val_loss: 0.3335 - val_mean_absolute_percentage_error: 26.0126\n",
      "Epoch 38/100\n",
      "10/10 - 0s - 7ms/step - loss: 0.3563 - mean_absolute_percentage_error: 26.0071 - val_loss: 0.3456 - val_mean_absolute_percentage_error: 26.4017\n",
      "Epoch 39/100\n",
      "10/10 - 0s - 7ms/step - loss: 0.3518 - mean_absolute_percentage_error: 25.3682 - val_loss: 0.3345 - val_mean_absolute_percentage_error: 25.6383\n",
      "Epoch 40/100\n",
      "10/10 - 0s - 7ms/step - loss: 0.3586 - mean_absolute_percentage_error: 26.5295 - val_loss: 0.2936 - val_mean_absolute_percentage_error: 22.9859\n",
      "Epoch 41/100\n",
      "10/10 - 0s - 7ms/step - loss: 0.3560 - mean_absolute_percentage_error: 26.4894 - val_loss: 0.3395 - val_mean_absolute_percentage_error: 26.2323\n",
      "Epoch 42/100\n",
      "10/10 - 0s - 8ms/step - loss: 0.3527 - mean_absolute_percentage_error: 26.0618 - val_loss: 0.3446 - val_mean_absolute_percentage_error: 26.8519\n",
      "Epoch 43/100\n",
      "10/10 - 0s - 7ms/step - loss: 0.3491 - mean_absolute_percentage_error: 25.5465 - val_loss: 0.3458 - val_mean_absolute_percentage_error: 26.5555\n",
      "Epoch 44/100\n",
      "10/10 - 0s - 7ms/step - loss: 0.3438 - mean_absolute_percentage_error: 25.2162 - val_loss: 0.3218 - val_mean_absolute_percentage_error: 24.9984\n",
      "Epoch 45/100\n",
      "10/10 - 0s - 7ms/step - loss: 0.3636 - mean_absolute_percentage_error: 27.0293 - val_loss: 0.3406 - val_mean_absolute_percentage_error: 26.1662\n",
      "Epoch 46/100\n",
      "10/10 - 0s - 7ms/step - loss: 0.3529 - mean_absolute_percentage_error: 25.7782 - val_loss: 0.3146 - val_mean_absolute_percentage_error: 24.3958\n",
      "Epoch 47/100\n",
      "10/10 - 0s - 7ms/step - loss: 0.3543 - mean_absolute_percentage_error: 26.3662 - val_loss: 0.3335 - val_mean_absolute_percentage_error: 25.8590\n",
      "Epoch 48/100\n",
      "10/10 - 0s - 7ms/step - loss: 0.3522 - mean_absolute_percentage_error: 25.8074 - val_loss: 0.3468 - val_mean_absolute_percentage_error: 26.4742\n",
      "Epoch 49/100\n",
      "10/10 - 0s - 8ms/step - loss: 0.3620 - mean_absolute_percentage_error: 26.3851 - val_loss: 0.3554 - val_mean_absolute_percentage_error: 27.1514\n",
      "Epoch 50/100\n",
      "10/10 - 0s - 7ms/step - loss: 0.3521 - mean_absolute_percentage_error: 25.4903 - val_loss: 0.3291 - val_mean_absolute_percentage_error: 25.6691\n",
      "Epoch 51/100\n",
      "10/10 - 0s - 7ms/step - loss: 0.3477 - mean_absolute_percentage_error: 25.9283 - val_loss: 0.3085 - val_mean_absolute_percentage_error: 23.9208\n",
      "Epoch 52/100\n",
      "10/10 - 0s - 7ms/step - loss: 0.3620 - mean_absolute_percentage_error: 27.2296 - val_loss: 0.3571 - val_mean_absolute_percentage_error: 27.6656\n",
      "Epoch 53/100\n",
      "10/10 - 0s - 7ms/step - loss: 0.3520 - mean_absolute_percentage_error: 25.7137 - val_loss: 0.3541 - val_mean_absolute_percentage_error: 27.2465\n",
      "Epoch 54/100\n",
      "10/10 - 0s - 7ms/step - loss: 0.3529 - mean_absolute_percentage_error: 26.0546 - val_loss: 0.3472 - val_mean_absolute_percentage_error: 26.6575\n",
      "Epoch 55/100\n",
      "10/10 - 0s - 8ms/step - loss: 0.3528 - mean_absolute_percentage_error: 25.6143 - val_loss: 0.3656 - val_mean_absolute_percentage_error: 28.2280\n",
      "Epoch 56/100\n",
      "10/10 - 0s - 8ms/step - loss: 0.3506 - mean_absolute_percentage_error: 25.5632 - val_loss: 0.3517 - val_mean_absolute_percentage_error: 27.0807\n",
      "Epoch 57/100\n",
      "10/10 - 0s - 7ms/step - loss: 0.3437 - mean_absolute_percentage_error: 25.6488 - val_loss: 0.3250 - val_mean_absolute_percentage_error: 25.3528\n",
      "Epoch 58/100\n",
      "10/10 - 0s - 7ms/step - loss: 0.3516 - mean_absolute_percentage_error: 26.2978 - val_loss: 0.3517 - val_mean_absolute_percentage_error: 27.1781\n",
      "Epoch 59/100\n",
      "10/10 - 0s - 7ms/step - loss: 0.3395 - mean_absolute_percentage_error: 25.2282 - val_loss: 0.3372 - val_mean_absolute_percentage_error: 26.5399\n",
      "Epoch 60/100\n",
      "10/10 - 0s - 7ms/step - loss: 0.3461 - mean_absolute_percentage_error: 25.7263 - val_loss: 0.3465 - val_mean_absolute_percentage_error: 26.8570\n",
      "Epoch 61/100\n",
      "10/10 - 0s - 8ms/step - loss: 0.3530 - mean_absolute_percentage_error: 25.7573 - val_loss: 0.3910 - val_mean_absolute_percentage_error: 29.8781\n",
      "Epoch 62/100\n",
      "10/10 - 0s - 8ms/step - loss: 0.3502 - mean_absolute_percentage_error: 25.2207 - val_loss: 0.3601 - val_mean_absolute_percentage_error: 27.8089\n",
      "Epoch 63/100\n",
      "10/10 - 0s - 7ms/step - loss: 0.3460 - mean_absolute_percentage_error: 25.9557 - val_loss: 0.3137 - val_mean_absolute_percentage_error: 24.4514\n",
      "Epoch 64/100\n",
      "10/10 - 0s - 7ms/step - loss: 0.3494 - mean_absolute_percentage_error: 26.6104 - val_loss: 0.3219 - val_mean_absolute_percentage_error: 25.3161\n",
      "Epoch 65/100\n",
      "10/10 - 0s - 7ms/step - loss: 0.3368 - mean_absolute_percentage_error: 25.0729 - val_loss: 0.3695 - val_mean_absolute_percentage_error: 28.6210\n",
      "Epoch 66/100\n",
      "10/10 - 0s - 8ms/step - loss: 0.3499 - mean_absolute_percentage_error: 26.0940 - val_loss: 0.3557 - val_mean_absolute_percentage_error: 27.4912\n",
      "Epoch 67/100\n",
      "10/10 - 0s - 8ms/step - loss: 0.3454 - mean_absolute_percentage_error: 25.3807 - val_loss: 0.3437 - val_mean_absolute_percentage_error: 26.7129\n",
      "Epoch 68/100\n",
      "10/10 - 0s - 8ms/step - loss: 0.3524 - mean_absolute_percentage_error: 26.8888 - val_loss: 0.3417 - val_mean_absolute_percentage_error: 26.6535\n",
      "Epoch 69/100\n",
      "10/10 - 0s - 7ms/step - loss: 0.3409 - mean_absolute_percentage_error: 25.0617 - val_loss: 0.3603 - val_mean_absolute_percentage_error: 27.7103\n",
      "Epoch 70/100\n",
      "10/10 - 0s - 7ms/step - loss: 0.3382 - mean_absolute_percentage_error: 25.2695 - val_loss: 0.3271 - val_mean_absolute_percentage_error: 25.6696\n",
      "Epoch 71/100\n",
      "10/10 - 0s - 8ms/step - loss: 0.3447 - mean_absolute_percentage_error: 26.1711 - val_loss: 0.3544 - val_mean_absolute_percentage_error: 27.6830\n",
      "Epoch 72/100\n",
      "10/10 - 0s - 8ms/step - loss: 0.3476 - mean_absolute_percentage_error: 25.6934 - val_loss: 0.3747 - val_mean_absolute_percentage_error: 28.8091\n",
      "Epoch 73/100\n",
      "10/10 - 0s - 8ms/step - loss: 0.3454 - mean_absolute_percentage_error: 25.2987 - val_loss: 0.3761 - val_mean_absolute_percentage_error: 29.0462\n",
      "Epoch 74/100\n",
      "10/10 - 0s - 7ms/step - loss: 0.3367 - mean_absolute_percentage_error: 24.6651 - val_loss: 0.3489 - val_mean_absolute_percentage_error: 26.9824\n",
      "Epoch 75/100\n",
      "10/10 - 0s - 7ms/step - loss: 0.3394 - mean_absolute_percentage_error: 25.4011 - val_loss: 0.3349 - val_mean_absolute_percentage_error: 26.3933\n",
      "Epoch 76/100\n",
      "10/10 - 0s - 8ms/step - loss: 0.3324 - mean_absolute_percentage_error: 24.9653 - val_loss: 0.3629 - val_mean_absolute_percentage_error: 28.0563\n",
      "Epoch 77/100\n",
      "10/10 - 0s - 8ms/step - loss: 0.3489 - mean_absolute_percentage_error: 25.3313 - val_loss: 0.3924 - val_mean_absolute_percentage_error: 29.9969\n",
      "Epoch 78/100\n",
      "10/10 - 0s - 8ms/step - loss: 0.3333 - mean_absolute_percentage_error: 24.1481 - val_loss: 0.3639 - val_mean_absolute_percentage_error: 28.1717\n",
      "Epoch 79/100\n",
      "10/10 - 0s - 8ms/step - loss: 0.3368 - mean_absolute_percentage_error: 25.4766 - val_loss: 0.3187 - val_mean_absolute_percentage_error: 25.1946\n",
      "Epoch 80/100\n",
      "10/10 - 0s - 8ms/step - loss: 0.3453 - mean_absolute_percentage_error: 25.9845 - val_loss: 0.3523 - val_mean_absolute_percentage_error: 27.2746\n",
      "Epoch 81/100\n",
      "10/10 - 0s - 7ms/step - loss: 0.3350 - mean_absolute_percentage_error: 24.7227 - val_loss: 0.3620 - val_mean_absolute_percentage_error: 27.9302\n",
      "Epoch 82/100\n",
      "10/10 - 0s - 7ms/step - loss: 0.3359 - mean_absolute_percentage_error: 25.1162 - val_loss: 0.3762 - val_mean_absolute_percentage_error: 28.9260\n",
      "Epoch 83/100\n",
      "10/10 - 0s - 8ms/step - loss: 0.3373 - mean_absolute_percentage_error: 25.0149 - val_loss: 0.3740 - val_mean_absolute_percentage_error: 29.0533\n",
      "Epoch 84/100\n",
      "10/10 - 0s - 7ms/step - loss: 0.3359 - mean_absolute_percentage_error: 25.2147 - val_loss: 0.3498 - val_mean_absolute_percentage_error: 27.0831\n",
      "Epoch 85/100\n",
      "10/10 - 0s - 7ms/step - loss: 0.3330 - mean_absolute_percentage_error: 24.9964 - val_loss: 0.3650 - val_mean_absolute_percentage_error: 28.3211\n",
      "Epoch 86/100\n",
      "10/10 - 0s - 8ms/step - loss: 0.3404 - mean_absolute_percentage_error: 24.8847 - val_loss: 0.3612 - val_mean_absolute_percentage_error: 27.5594\n",
      "Epoch 87/100\n",
      "10/10 - 0s - 8ms/step - loss: 0.3350 - mean_absolute_percentage_error: 24.7155 - val_loss: 0.3731 - val_mean_absolute_percentage_error: 28.5632\n",
      "Epoch 88/100\n",
      "10/10 - 0s - 8ms/step - loss: 0.3400 - mean_absolute_percentage_error: 24.9264 - val_loss: 0.3815 - val_mean_absolute_percentage_error: 29.5457\n",
      "Epoch 89/100\n",
      "10/10 - 0s - 7ms/step - loss: 0.3425 - mean_absolute_percentage_error: 25.6480 - val_loss: 0.3608 - val_mean_absolute_percentage_error: 27.7274\n",
      "Epoch 90/100\n",
      "10/10 - 0s - 8ms/step - loss: 0.3383 - mean_absolute_percentage_error: 25.1857 - val_loss: 0.3714 - val_mean_absolute_percentage_error: 28.6012\n",
      "Epoch 91/100\n",
      "10/10 - 0s - 7ms/step - loss: 0.3443 - mean_absolute_percentage_error: 25.6535 - val_loss: 0.3805 - val_mean_absolute_percentage_error: 29.3405\n",
      "Epoch 92/100\n",
      "10/10 - 0s - 8ms/step - loss: 0.3344 - mean_absolute_percentage_error: 24.9480 - val_loss: 0.3771 - val_mean_absolute_percentage_error: 28.7462\n",
      "Epoch 93/100\n",
      "10/10 - 0s - 8ms/step - loss: 0.3416 - mean_absolute_percentage_error: 24.7877 - val_loss: 0.4132 - val_mean_absolute_percentage_error: 31.3826\n",
      "Epoch 94/100\n",
      "10/10 - 0s - 7ms/step - loss: 0.3395 - mean_absolute_percentage_error: 25.5941 - val_loss: 0.3345 - val_mean_absolute_percentage_error: 26.2183\n",
      "Epoch 95/100\n",
      "10/10 - 0s - 8ms/step - loss: 0.3328 - mean_absolute_percentage_error: 25.1490 - val_loss: 0.3526 - val_mean_absolute_percentage_error: 27.4331\n",
      "Epoch 96/100\n",
      "10/10 - 0s - 7ms/step - loss: 0.3462 - mean_absolute_percentage_error: 26.5534 - val_loss: 0.3440 - val_mean_absolute_percentage_error: 26.7104\n",
      "Epoch 97/100\n",
      "10/10 - 0s - 7ms/step - loss: 0.3356 - mean_absolute_percentage_error: 25.6698 - val_loss: 0.3768 - val_mean_absolute_percentage_error: 29.5030\n",
      "Epoch 98/100\n",
      "10/10 - 0s - 8ms/step - loss: 0.3305 - mean_absolute_percentage_error: 24.3333 - val_loss: 0.3791 - val_mean_absolute_percentage_error: 29.0513\n",
      "Epoch 99/100\n",
      "10/10 - 0s - 7ms/step - loss: 0.3407 - mean_absolute_percentage_error: 25.5843 - val_loss: 0.3698 - val_mean_absolute_percentage_error: 28.9046\n",
      "Epoch 100/100\n",
      "10/10 - 0s - 8ms/step - loss: 0.3299 - mean_absolute_percentage_error: 24.3989 - val_loss: 0.3857 - val_mean_absolute_percentage_error: 29.6125\n",
      "\u001b[1m6/6\u001b[0m \u001b[32m━━━━━━━━━━━━━━━━━━━━\u001b[0m\u001b[37m\u001b[0m \u001b[1m0s\u001b[0m 29ms/step\n",
      "\u001b[1m1/1\u001b[0m \u001b[32m━━━━━━━━━━━━━━━━━━━━\u001b[0m\u001b[37m\u001b[0m \u001b[1m0s\u001b[0m 15ms/step\n"
     ]
    },
    {
     "data": {
      "application/vnd.plotly.v1+json": {
       "config": {
        "plotlyServerURL": "https://plot.ly"
       },
       "data": [
        {
         "mode": "lines",
         "name": "Original Training Data",
         "type": "scatter",
         "x": [
          0,
          1,
          2,
          3,
          4,
          5,
          6,
          7,
          8,
          9,
          10,
          11,
          12,
          13,
          14,
          15,
          16,
          17,
          18,
          19,
          20,
          21,
          22,
          23,
          24,
          25,
          26,
          27,
          28,
          29,
          30,
          31,
          32,
          33,
          34,
          35,
          36,
          37,
          38,
          39,
          40,
          41,
          42,
          43,
          44,
          45,
          46,
          47,
          48,
          49,
          50,
          51,
          52,
          53,
          54,
          55,
          56,
          57,
          58,
          59,
          60,
          61,
          62,
          63,
          64,
          65,
          66,
          67,
          68,
          69,
          70,
          71,
          72,
          73,
          74,
          75,
          76,
          77,
          78,
          79,
          80,
          81,
          82,
          83,
          84,
          85,
          86,
          87,
          88,
          89,
          90,
          91,
          92,
          93,
          94,
          95,
          96,
          97,
          98,
          99,
          100,
          101,
          102,
          103,
          104,
          105,
          106,
          107,
          108,
          109,
          110,
          111,
          112,
          113,
          114,
          115,
          116,
          117,
          118,
          119,
          120,
          121,
          122,
          123,
          124,
          125,
          126,
          127,
          128,
          129,
          130,
          131,
          132,
          133,
          134,
          135,
          136,
          137,
          138,
          139,
          140,
          141,
          142,
          143,
          144,
          145,
          146,
          147,
          148,
          149,
          150,
          151,
          152,
          153,
          154,
          155,
          156,
          157,
          158,
          159,
          160,
          161,
          162,
          163,
          164,
          165,
          166,
          167,
          168,
          169,
          170,
          171,
          172,
          173,
          174,
          175,
          176,
          177,
          178,
          179,
          180,
          181,
          182,
          183,
          184,
          185
         ],
         "xaxis": "x",
         "y": [
          -0.006415968442644055,
          -0.25887686623226563,
          0.07773766415389646,
          -0.6515938183494547,
          -0.3991329205598331,
          -0.5674401857529142,
          -0.03446717930815756,
          -0.3430304988288061,
          -0.5113377640218871,
          -0.6235426074839412,
          -0.2308256553667521,
          -0.5393889748874007,
          -0.5954913966184276,
          -0.7357474509459953,
          -0.45523534229086016,
          -0.5954913966184276,
          -0.11862081190469807,
          -0.14667202277021157,
          -0.37108170969431964,
          -0.5674401857529142,
          -0.7637986618115087,
          -0.45523534229086016,
          -0.2308256553667521,
          -0.006415968442644055,
          -0.7357474509459953,
          -0.5674401857529142,
          -0.6515938183494547,
          -0.6796450292149682,
          -0.7637986618115087,
          -0.7357474509459953,
          -0.6235426074839412,
          -0.7918498726770222,
          -0.6235426074839412,
          -0.7076962400804817,
          -0.6515938183494547,
          -0.45523534229086016,
          -0.7918498726770222,
          -0.7918498726770222,
          -0.7918498726770222,
          -0.7918498726770222,
          -0.7918498726770222,
          -0.7918498726770222,
          -0.7918498726770222,
          -0.7918498726770222,
          -0.7918498726770222,
          -0.7918498726770222,
          -0.7637986618115087,
          -0.7637986618115087,
          -0.7918498726770222,
          -0.7076962400804817,
          -0.7918498726770222,
          -0.7918498726770222,
          -0.7918498726770222,
          -0.7918498726770222,
          -0.7918498726770222,
          -0.7637986618115087,
          -0.7918498726770222,
          -0.7918498726770222,
          -0.7918498726770222,
          -0.7918498726770222,
          -0.5113377640218871,
          -0.7918498726770222,
          -0.7918498726770222,
          -0.7357474509459953,
          -0.7918498726770222,
          -0.3991329205598331,
          -0.03446717930815756,
          -0.7637986618115087,
          -0.45523534229086016,
          -0.03446717930815756,
          -0.7357474509459953,
          0.13384008588492347,
          -0.7918498726770222,
          1.2839397313709773,
          -0.09056960103918457,
          -0.7918498726770222,
          5.239160463408381,
          -0.5393889748874007,
          -0.37108170969431964,
          1.4802982074295719,
          -0.14667202277021157,
          1.2839397313709773,
          0.8631715683882746,
          3.2475244919569226,
          0.498505827136599,
          1.4802982074295719,
          3.668292654939625,
          1.9571687921433014,
          -0.11862081190469807,
          1.1436836770434098,
          2.4620905877225443,
          -0.5113377640218871,
          2.4059881659915177,
          1.3961445748330312,
          0.9192739901193017,
          0.330198561943518,
          1.3961445748330312,
          1.9291175812777879,
          0.330198561943518,
          0.3021473510780045,
          0.610710670598653,
          0.9192739901193017,
          0.554608248867626,
          0.6948643031951935,
          1.2278373096399502,
          1.3400421531020041,
          -0.48328655315637364,
          0.35824977280903153,
          1.0595300444468692,
          1.9010663704122743,
          0.6387618814641666,
          1.3680933639675177,
          0.9192739901193017,
          2.938961172436274,
          2.2937833225294635,
          1.3680933639675177,
          0.6387618814641666,
          0.554608248867626,
          0.8351203575227611,
          0.6668130923296801,
          0.6948643031951935,
          0.13384008588492347,
          0.21799371848146398,
          0.1899425076159505,
          0.1899425076159505,
          0.02163524242286945,
          0.1899425076159505,
          -0.2308256553667521,
          -0.7637986618115087,
          -0.2027744445012386,
          -0.3991329205598331,
          -0.37108170969431964,
          -0.37108170969431964,
          -0.25887686623226563,
          -0.2308256553667521,
          -0.5393889748874007,
          -0.45523534229086016,
          -0.5954913966184276,
          -0.6515938183494547,
          -0.6515938183494547,
          -0.6796450292149682,
          -0.7357474509459953,
          -0.7637986618115087,
          -0.6235426074839412,
          -0.6796450292149682,
          -0.7637986618115087,
          -0.5674401857529142,
          -0.3991329205598331,
          -0.6796450292149682,
          -0.5674401857529142,
          -0.7076962400804817,
          -0.5393889748874007,
          -0.7076962400804817,
          -0.6515938183494547,
          -0.7637986618115087,
          -0.7637986618115087,
          -0.7637986618115087,
          -0.6796450292149682,
          0.02163524242286945,
          -0.7637986618115087,
          -0.7637986618115087,
          -0.14667202277021157,
          -0.5113377640218871,
          -0.6235426074839412,
          -0.48328655315637364,
          -0.5113377640218871,
          -0.5393889748874007,
          -0.5674401857529142,
          -0.5954913966184276,
          -0.3991329205598331,
          -0.2869280770977791,
          -0.2869280770977791,
          -0.06251839017367107,
          0.07773766415389646,
          0.2460449293469775,
          0.7790179357917341,
          0.498505827136599,
          0.8070691466572476,
          0.7790179357917341,
          1.3400421531020041,
          2.0132712138743285,
          1.7608103160847068,
          2.4620905877225443,
          1.2278373096399502,
          2.321834533394977
         ],
         "yaxis": "y"
        },
        {
         "line": {
          "dash": "dash"
         },
         "mode": "lines",
         "name": "Fitted Training Data",
         "type": "scatter",
         "x": [
          0,
          1,
          2,
          3,
          4,
          5,
          6,
          7,
          8,
          9,
          10,
          11,
          12,
          13,
          14,
          15,
          16,
          17,
          18,
          19,
          20,
          21,
          22,
          23,
          24,
          25,
          26,
          27,
          28,
          29,
          30,
          31,
          32,
          33,
          34,
          35,
          36,
          37,
          38,
          39,
          40,
          41,
          42,
          43,
          44,
          45,
          46,
          47,
          48,
          49,
          50,
          51,
          52,
          53,
          54,
          55,
          56,
          57,
          58,
          59,
          60,
          61,
          62,
          63,
          64,
          65,
          66,
          67,
          68,
          69,
          70,
          71,
          72,
          73,
          74,
          75,
          76,
          77,
          78,
          79,
          80,
          81,
          82,
          83,
          84,
          85,
          86,
          87,
          88,
          89,
          90,
          91,
          92,
          93,
          94,
          95,
          96,
          97,
          98,
          99,
          100,
          101,
          102,
          103,
          104,
          105,
          106,
          107,
          108,
          109,
          110,
          111,
          112,
          113,
          114,
          115,
          116,
          117,
          118,
          119,
          120,
          121,
          122,
          123,
          124,
          125,
          126,
          127,
          128,
          129,
          130,
          131,
          132,
          133,
          134,
          135,
          136,
          137,
          138,
          139,
          140,
          141,
          142,
          143,
          144,
          145,
          146,
          147,
          148,
          149,
          150,
          151,
          152,
          153,
          154,
          155,
          156,
          157,
          158,
          159,
          160,
          161,
          162,
          163,
          164,
          165,
          166,
          167,
          168,
          169,
          170,
          171,
          172,
          173,
          174,
          175,
          176,
          177,
          178,
          179,
          180,
          181,
          182,
          183,
          184,
          185
         ],
         "xaxis": "x",
         "y": [
          -0.3014286160469055,
          -0.29319754242897034,
          -0.34846049547195435,
          -0.351724237203598,
          -0.3376137912273407,
          -0.4982450604438782,
          -0.62982577085495,
          -0.5109820365905762,
          -0.26801052689552307,
          -0.5059301257133484,
          -0.6028709411621094,
          -0.5880668759346008,
          -0.5038151741027832,
          -0.5908814668655396,
          -0.6727660894393921,
          -0.6594063639640808,
          -0.6564228534698486,
          -0.5530286431312561,
          -0.34201326966285706,
          -0.4563097357749939,
          -0.5412324666976929,
          -0.642834484577179,
          -0.6579670906066895,
          -0.5966848134994507,
          -0.4748993515968323,
          -0.48261743783950806,
          -0.5593961477279663,
          -0.6947299838066101,
          -0.6783685684204102,
          -0.7158541679382324,
          -0.7307312488555908,
          -0.7244715094566345,
          -0.729521632194519,
          -0.7035964727401733,
          -0.7261922359466553,
          -0.6947876214981079,
          -0.6696323156356812,
          -0.6842607259750366,
          -0.7046250104904175,
          -0.7691885232925415,
          -0.7691885232925415,
          -0.7691885232925415,
          -0.7691885232925415,
          -0.7691885232925415,
          -0.7691885232925415,
          -0.7691885232925415,
          -0.7691885232925415,
          -0.7642350196838379,
          -0.7596912384033203,
          -0.7586450576782227,
          -0.7483582496643066,
          -0.7554768919944763,
          -0.7511646747589111,
          -0.7691885232925415,
          -0.7691885232925415,
          -0.7691885232925415,
          -0.7642350196838379,
          -0.7646450996398926,
          -0.7631878852844238,
          -0.7691885232925415,
          -0.7691885232925415,
          -0.7197055220603943,
          -0.7139331698417664,
          -0.7117542028427124,
          -0.7592878341674805,
          -0.7600744962692261,
          -0.6888362169265747,
          -0.5163663029670715,
          -0.40385007858276367,
          -0.5400291681289673,
          -0.569015622138977,
          -0.3637436330318451,
          -0.3156328797340393,
          0.0023058168590068817,
          -0.054673898965120316,
          0.8444076180458069,
          0.8822327256202698,
          -0.5462772250175476,
          -0.4873007535934448,
          1.427664875984192,
          -0.12637799978256226,
          1.0774577856063843,
          1.108463168144226,
          1.0240602493286133,
          0.9013074636459351,
          1.3123210668563843,
          1.244793176651001,
          0.9542014002799988,
          0.7768622636795044,
          0.863484263420105,
          1.275726079940796,
          0.9304379224777222,
          1.4486888647079468,
          1.268343210220337,
          0.8412792682647705,
          0.71321702003479,
          0.7172710299491882,
          0.8615933656692505,
          1.0291558504104614,
          0.9092665910720825,
          0.9267839193344116,
          0.39515024423599243,
          0.565005898475647,
          0.6492758393287659,
          0.6030877828598022,
          0.6349469423294067,
          0.7609272003173828,
          0.8977636694908142,
          0.9596324563026428,
          0.48655885457992554,
          0.9395138025283813,
          0.9793089628219604,
          0.9620398283004761,
          0.8978778123855591,
          0.931363582611084,
          0.9462447762489319,
          0.5179598331451416,
          0.7444618940353394,
          0.7100698947906494,
          0.5548431277275085,
          0.6011523604393005,
          0.5804562568664551,
          0.5666948556900024,
          0.47110360860824585,
          0.12949280440807343,
          0.18210585415363312,
          0.12948282063007355,
          0.027435217052698135,
          -0.09079286456108093,
          -0.24039298295974731,
          -0.502184271812439,
          -0.3676593601703644,
          -0.5186792016029358,
          -0.5405344367027283,
          -0.5164598822593689,
          -0.49099814891815186,
          -0.5212963819503784,
          -0.5668114423751831,
          -0.6244396567344666,
          -0.6402077078819275,
          -0.6794978976249695,
          -0.6964397430419922,
          -0.710925817489624,
          -0.7310945391654968,
          -0.7230594754219055,
          -0.7153990268707275,
          -0.7098243832588196,
          -0.7014799118041992,
          -0.6563884019851685,
          -0.6367994546890259,
          -0.6356157064437866,
          -0.6932632923126221,
          -0.6633443832397461,
          -0.6942105889320374,
          -0.6769574284553528,
          -0.7232435941696167,
          -0.7296382188796997,
          -0.7536951303482056,
          -0.7388840317726135,
          -0.601236879825592,
          -0.15643002092838287,
          -0.5705091953277588,
          -0.6494336128234863,
          -0.3039698004722595,
          -0.5759779214859009,
          -0.6277254223823547,
          -0.6317062973976135,
          -0.6122635006904602,
          -0.6279274225234985,
          -0.6435757875442505,
          -0.621188759803772,
          -0.5723492503166199,
          -0.5111342072486877,
          -0.46102455258369446,
          -0.37935078144073486,
          -0.14052918553352356,
          0.2860121428966522,
          0.6968060731887817,
          0.600834846496582,
          0.6029294729232788,
          0.6848152875900269,
          0.8410158157348633,
          0.7121095657348633,
          0.6177971363067627,
          0.7254091501235962
         ],
         "yaxis": "y"
        },
        {
         "mode": "lines",
         "name": "Original Training Data",
         "type": "scatter",
         "x": [
          0,
          1,
          2,
          3,
          4,
          5,
          6,
          7
         ],
         "xaxis": "x2",
         "y": [
          0.04341789532727141,
          -0.37339389981453414,
          -1.4848920201926823,
          1.137548857574511,
          -0.26919095102908275,
          0.7728385368254311,
          0.4949640067308941
         ],
         "yaxis": "y2"
        },
        {
         "line": {
          "dash": "dash"
         },
         "mode": "lines",
         "name": "Fitted Training Data",
         "type": "scatter",
         "x": [
          0,
          1,
          2,
          3,
          4,
          5,
          6,
          7
         ],
         "xaxis": "x2",
         "y": [
          0.9309085607528687,
          -0.07392330467700958,
          -0.3043058514595032,
          -0.5141427516937256,
          -0.29252851009368896,
          0.6837809085845947,
          0.9045861959457397
         ],
         "yaxis": "y2"
        }
       ],
       "layout": {
        "annotations": [
         {
          "font": {
           "size": 16
          },
          "showarrow": false,
          "text": "O",
          "x": 0.225,
          "xanchor": "center",
          "xref": "paper",
          "y": 1,
          "yanchor": "bottom",
          "yref": "paper"
         },
         {
          "font": {
           "size": 16
          },
          "showarrow": false,
          "text": "r",
          "x": 0.775,
          "xanchor": "center",
          "xref": "paper",
          "y": 1,
          "yanchor": "bottom",
          "yref": "paper"
         }
        ],
        "height": 400,
        "hovermode": "x unified",
        "template": {
         "data": {
          "bar": [
           {
            "error_x": {
             "color": "#2a3f5f"
            },
            "error_y": {
             "color": "#2a3f5f"
            },
            "marker": {
             "line": {
              "color": "#E5ECF6",
              "width": 0.5
             },
             "pattern": {
              "fillmode": "overlay",
              "size": 10,
              "solidity": 0.2
             }
            },
            "type": "bar"
           }
          ],
          "barpolar": [
           {
            "marker": {
             "line": {
              "color": "#E5ECF6",
              "width": 0.5
             },
             "pattern": {
              "fillmode": "overlay",
              "size": 10,
              "solidity": 0.2
             }
            },
            "type": "barpolar"
           }
          ],
          "carpet": [
           {
            "aaxis": {
             "endlinecolor": "#2a3f5f",
             "gridcolor": "white",
             "linecolor": "white",
             "minorgridcolor": "white",
             "startlinecolor": "#2a3f5f"
            },
            "baxis": {
             "endlinecolor": "#2a3f5f",
             "gridcolor": "white",
             "linecolor": "white",
             "minorgridcolor": "white",
             "startlinecolor": "#2a3f5f"
            },
            "type": "carpet"
           }
          ],
          "choropleth": [
           {
            "colorbar": {
             "outlinewidth": 0,
             "ticks": ""
            },
            "type": "choropleth"
           }
          ],
          "contour": [
           {
            "colorbar": {
             "outlinewidth": 0,
             "ticks": ""
            },
            "colorscale": [
             [
              0,
              "#0d0887"
             ],
             [
              0.1111111111111111,
              "#46039f"
             ],
             [
              0.2222222222222222,
              "#7201a8"
             ],
             [
              0.3333333333333333,
              "#9c179e"
             ],
             [
              0.4444444444444444,
              "#bd3786"
             ],
             [
              0.5555555555555556,
              "#d8576b"
             ],
             [
              0.6666666666666666,
              "#ed7953"
             ],
             [
              0.7777777777777778,
              "#fb9f3a"
             ],
             [
              0.8888888888888888,
              "#fdca26"
             ],
             [
              1,
              "#f0f921"
             ]
            ],
            "type": "contour"
           }
          ],
          "contourcarpet": [
           {
            "colorbar": {
             "outlinewidth": 0,
             "ticks": ""
            },
            "type": "contourcarpet"
           }
          ],
          "heatmap": [
           {
            "colorbar": {
             "outlinewidth": 0,
             "ticks": ""
            },
            "colorscale": [
             [
              0,
              "#0d0887"
             ],
             [
              0.1111111111111111,
              "#46039f"
             ],
             [
              0.2222222222222222,
              "#7201a8"
             ],
             [
              0.3333333333333333,
              "#9c179e"
             ],
             [
              0.4444444444444444,
              "#bd3786"
             ],
             [
              0.5555555555555556,
              "#d8576b"
             ],
             [
              0.6666666666666666,
              "#ed7953"
             ],
             [
              0.7777777777777778,
              "#fb9f3a"
             ],
             [
              0.8888888888888888,
              "#fdca26"
             ],
             [
              1,
              "#f0f921"
             ]
            ],
            "type": "heatmap"
           }
          ],
          "heatmapgl": [
           {
            "colorbar": {
             "outlinewidth": 0,
             "ticks": ""
            },
            "colorscale": [
             [
              0,
              "#0d0887"
             ],
             [
              0.1111111111111111,
              "#46039f"
             ],
             [
              0.2222222222222222,
              "#7201a8"
             ],
             [
              0.3333333333333333,
              "#9c179e"
             ],
             [
              0.4444444444444444,
              "#bd3786"
             ],
             [
              0.5555555555555556,
              "#d8576b"
             ],
             [
              0.6666666666666666,
              "#ed7953"
             ],
             [
              0.7777777777777778,
              "#fb9f3a"
             ],
             [
              0.8888888888888888,
              "#fdca26"
             ],
             [
              1,
              "#f0f921"
             ]
            ],
            "type": "heatmapgl"
           }
          ],
          "histogram": [
           {
            "marker": {
             "pattern": {
              "fillmode": "overlay",
              "size": 10,
              "solidity": 0.2
             }
            },
            "type": "histogram"
           }
          ],
          "histogram2d": [
           {
            "colorbar": {
             "outlinewidth": 0,
             "ticks": ""
            },
            "colorscale": [
             [
              0,
              "#0d0887"
             ],
             [
              0.1111111111111111,
              "#46039f"
             ],
             [
              0.2222222222222222,
              "#7201a8"
             ],
             [
              0.3333333333333333,
              "#9c179e"
             ],
             [
              0.4444444444444444,
              "#bd3786"
             ],
             [
              0.5555555555555556,
              "#d8576b"
             ],
             [
              0.6666666666666666,
              "#ed7953"
             ],
             [
              0.7777777777777778,
              "#fb9f3a"
             ],
             [
              0.8888888888888888,
              "#fdca26"
             ],
             [
              1,
              "#f0f921"
             ]
            ],
            "type": "histogram2d"
           }
          ],
          "histogram2dcontour": [
           {
            "colorbar": {
             "outlinewidth": 0,
             "ticks": ""
            },
            "colorscale": [
             [
              0,
              "#0d0887"
             ],
             [
              0.1111111111111111,
              "#46039f"
             ],
             [
              0.2222222222222222,
              "#7201a8"
             ],
             [
              0.3333333333333333,
              "#9c179e"
             ],
             [
              0.4444444444444444,
              "#bd3786"
             ],
             [
              0.5555555555555556,
              "#d8576b"
             ],
             [
              0.6666666666666666,
              "#ed7953"
             ],
             [
              0.7777777777777778,
              "#fb9f3a"
             ],
             [
              0.8888888888888888,
              "#fdca26"
             ],
             [
              1,
              "#f0f921"
             ]
            ],
            "type": "histogram2dcontour"
           }
          ],
          "mesh3d": [
           {
            "colorbar": {
             "outlinewidth": 0,
             "ticks": ""
            },
            "type": "mesh3d"
           }
          ],
          "parcoords": [
           {
            "line": {
             "colorbar": {
              "outlinewidth": 0,
              "ticks": ""
             }
            },
            "type": "parcoords"
           }
          ],
          "pie": [
           {
            "automargin": true,
            "type": "pie"
           }
          ],
          "scatter": [
           {
            "fillpattern": {
             "fillmode": "overlay",
             "size": 10,
             "solidity": 0.2
            },
            "type": "scatter"
           }
          ],
          "scatter3d": [
           {
            "line": {
             "colorbar": {
              "outlinewidth": 0,
              "ticks": ""
             }
            },
            "marker": {
             "colorbar": {
              "outlinewidth": 0,
              "ticks": ""
             }
            },
            "type": "scatter3d"
           }
          ],
          "scattercarpet": [
           {
            "marker": {
             "colorbar": {
              "outlinewidth": 0,
              "ticks": ""
             }
            },
            "type": "scattercarpet"
           }
          ],
          "scattergeo": [
           {
            "marker": {
             "colorbar": {
              "outlinewidth": 0,
              "ticks": ""
             }
            },
            "type": "scattergeo"
           }
          ],
          "scattergl": [
           {
            "marker": {
             "colorbar": {
              "outlinewidth": 0,
              "ticks": ""
             }
            },
            "type": "scattergl"
           }
          ],
          "scattermapbox": [
           {
            "marker": {
             "colorbar": {
              "outlinewidth": 0,
              "ticks": ""
             }
            },
            "type": "scattermapbox"
           }
          ],
          "scatterpolar": [
           {
            "marker": {
             "colorbar": {
              "outlinewidth": 0,
              "ticks": ""
             }
            },
            "type": "scatterpolar"
           }
          ],
          "scatterpolargl": [
           {
            "marker": {
             "colorbar": {
              "outlinewidth": 0,
              "ticks": ""
             }
            },
            "type": "scatterpolargl"
           }
          ],
          "scatterternary": [
           {
            "marker": {
             "colorbar": {
              "outlinewidth": 0,
              "ticks": ""
             }
            },
            "type": "scatterternary"
           }
          ],
          "surface": [
           {
            "colorbar": {
             "outlinewidth": 0,
             "ticks": ""
            },
            "colorscale": [
             [
              0,
              "#0d0887"
             ],
             [
              0.1111111111111111,
              "#46039f"
             ],
             [
              0.2222222222222222,
              "#7201a8"
             ],
             [
              0.3333333333333333,
              "#9c179e"
             ],
             [
              0.4444444444444444,
              "#bd3786"
             ],
             [
              0.5555555555555556,
              "#d8576b"
             ],
             [
              0.6666666666666666,
              "#ed7953"
             ],
             [
              0.7777777777777778,
              "#fb9f3a"
             ],
             [
              0.8888888888888888,
              "#fdca26"
             ],
             [
              1,
              "#f0f921"
             ]
            ],
            "type": "surface"
           }
          ],
          "table": [
           {
            "cells": {
             "fill": {
              "color": "#EBF0F8"
             },
             "line": {
              "color": "white"
             }
            },
            "header": {
             "fill": {
              "color": "#C8D4E3"
             },
             "line": {
              "color": "white"
             }
            },
            "type": "table"
           }
          ]
         },
         "layout": {
          "annotationdefaults": {
           "arrowcolor": "#2a3f5f",
           "arrowhead": 0,
           "arrowwidth": 1
          },
          "autotypenumbers": "strict",
          "coloraxis": {
           "colorbar": {
            "outlinewidth": 0,
            "ticks": ""
           }
          },
          "colorscale": {
           "diverging": [
            [
             0,
             "#8e0152"
            ],
            [
             0.1,
             "#c51b7d"
            ],
            [
             0.2,
             "#de77ae"
            ],
            [
             0.3,
             "#f1b6da"
            ],
            [
             0.4,
             "#fde0ef"
            ],
            [
             0.5,
             "#f7f7f7"
            ],
            [
             0.6,
             "#e6f5d0"
            ],
            [
             0.7,
             "#b8e186"
            ],
            [
             0.8,
             "#7fbc41"
            ],
            [
             0.9,
             "#4d9221"
            ],
            [
             1,
             "#276419"
            ]
           ],
           "sequential": [
            [
             0,
             "#0d0887"
            ],
            [
             0.1111111111111111,
             "#46039f"
            ],
            [
             0.2222222222222222,
             "#7201a8"
            ],
            [
             0.3333333333333333,
             "#9c179e"
            ],
            [
             0.4444444444444444,
             "#bd3786"
            ],
            [
             0.5555555555555556,
             "#d8576b"
            ],
            [
             0.6666666666666666,
             "#ed7953"
            ],
            [
             0.7777777777777778,
             "#fb9f3a"
            ],
            [
             0.8888888888888888,
             "#fdca26"
            ],
            [
             1,
             "#f0f921"
            ]
           ],
           "sequentialminus": [
            [
             0,
             "#0d0887"
            ],
            [
             0.1111111111111111,
             "#46039f"
            ],
            [
             0.2222222222222222,
             "#7201a8"
            ],
            [
             0.3333333333333333,
             "#9c179e"
            ],
            [
             0.4444444444444444,
             "#bd3786"
            ],
            [
             0.5555555555555556,
             "#d8576b"
            ],
            [
             0.6666666666666666,
             "#ed7953"
            ],
            [
             0.7777777777777778,
             "#fb9f3a"
            ],
            [
             0.8888888888888888,
             "#fdca26"
            ],
            [
             1,
             "#f0f921"
            ]
           ]
          },
          "colorway": [
           "#636efa",
           "#EF553B",
           "#00cc96",
           "#ab63fa",
           "#FFA15A",
           "#19d3f3",
           "#FF6692",
           "#B6E880",
           "#FF97FF",
           "#FECB52"
          ],
          "font": {
           "color": "#2a3f5f"
          },
          "geo": {
           "bgcolor": "white",
           "lakecolor": "white",
           "landcolor": "#E5ECF6",
           "showlakes": true,
           "showland": true,
           "subunitcolor": "white"
          },
          "hoverlabel": {
           "align": "left"
          },
          "hovermode": "closest",
          "mapbox": {
           "style": "light"
          },
          "paper_bgcolor": "white",
          "plot_bgcolor": "#E5ECF6",
          "polar": {
           "angularaxis": {
            "gridcolor": "white",
            "linecolor": "white",
            "ticks": ""
           },
           "bgcolor": "#E5ECF6",
           "radialaxis": {
            "gridcolor": "white",
            "linecolor": "white",
            "ticks": ""
           }
          },
          "scene": {
           "xaxis": {
            "backgroundcolor": "#E5ECF6",
            "gridcolor": "white",
            "gridwidth": 2,
            "linecolor": "white",
            "showbackground": true,
            "ticks": "",
            "zerolinecolor": "white"
           },
           "yaxis": {
            "backgroundcolor": "#E5ECF6",
            "gridcolor": "white",
            "gridwidth": 2,
            "linecolor": "white",
            "showbackground": true,
            "ticks": "",
            "zerolinecolor": "white"
           },
           "zaxis": {
            "backgroundcolor": "#E5ECF6",
            "gridcolor": "white",
            "gridwidth": 2,
            "linecolor": "white",
            "showbackground": true,
            "ticks": "",
            "zerolinecolor": "white"
           }
          },
          "shapedefaults": {
           "line": {
            "color": "#2a3f5f"
           }
          },
          "ternary": {
           "aaxis": {
            "gridcolor": "white",
            "linecolor": "white",
            "ticks": ""
           },
           "baxis": {
            "gridcolor": "white",
            "linecolor": "white",
            "ticks": ""
           },
           "bgcolor": "#E5ECF6",
           "caxis": {
            "gridcolor": "white",
            "linecolor": "white",
            "ticks": ""
           }
          },
          "title": {
           "x": 0.05
          },
          "xaxis": {
           "automargin": true,
           "gridcolor": "white",
           "linecolor": "white",
           "ticks": "",
           "title": {
            "standoff": 15
           },
           "zerolinecolor": "white",
           "zerolinewidth": 2
          },
          "yaxis": {
           "automargin": true,
           "gridcolor": "white",
           "linecolor": "white",
           "ticks": "",
           "title": {
            "standoff": 15
           },
           "zerolinecolor": "white",
           "zerolinewidth": 2
          }
         }
        },
        "title": {
         "text": "COVID-19 Data"
        },
        "width": 600,
        "xaxis": {
         "anchor": "y",
         "domain": [
          0,
          0.45
         ],
         "tickangle": 45,
         "tickformat": "%b %d\n%Y",
         "tickvals": [
          "2021-04-05T00:00:00",
          "2021-04-18T00:00:00",
          "2021-05-01T00:00:00",
          "2021-05-14T00:00:00",
          "2021-05-27T00:00:00",
          "2021-06-09T00:00:00",
          "2021-06-22T00:00:00",
          "2021-07-05T00:00:00",
          "2021-07-18T00:00:00",
          "2021-07-31T00:00:00",
          "2021-08-13T00:00:00",
          "2021-08-26T00:00:00",
          "2021-09-08T00:00:00",
          "2021-09-21T00:00:00",
          "2021-10-04T00:00:00",
          "2021-10-17T00:00:00"
         ]
        },
        "xaxis2": {
         "anchor": "y2",
         "domain": [
          0.55,
          1
         ],
         "tickangle": 45,
         "tickformat": "%b %d\n%Y",
         "tickvals": [
          "2021-04-05T00:00:00",
          "2021-04-18T00:00:00",
          "2021-05-01T00:00:00",
          "2021-05-14T00:00:00",
          "2021-05-27T00:00:00",
          "2021-06-09T00:00:00",
          "2021-06-22T00:00:00",
          "2021-07-05T00:00:00",
          "2021-07-18T00:00:00",
          "2021-07-31T00:00:00",
          "2021-08-13T00:00:00",
          "2021-08-26T00:00:00",
          "2021-09-08T00:00:00",
          "2021-09-21T00:00:00",
          "2021-10-04T00:00:00",
          "2021-10-17T00:00:00"
         ]
        },
        "yaxis": {
         "anchor": "x",
         "domain": [
          0,
          1
         ]
        },
        "yaxis2": {
         "anchor": "x2",
         "domain": [
          0,
          1
         ]
        }
       }
      }
     },
     "metadata": {},
     "output_type": "display_data"
    },
    {
     "name": "stderr",
     "output_type": "stream",
     "text": [
      "WARNING:absl:You are saving your model as an HDF5 file via `model.save()` or `keras.saving.save_model(model)`. This file format is considered legacy. We recommend using instead the native Keras format, e.g. `model.save('my_model.keras')` or `keras.saving.save_model(model, 'my_model.keras')`. \n"
     ]
    },
    {
     "name": "stdout",
     "output_type": "stream",
     "text": [
      "MAE: 0.6487508416175842\n",
      "RMSE: 0.8598552942276001\n",
      "R² score: -0.13991451263427734\n"
     ]
    },
    {
     "data": {
      "image/png": "[encoded data removed]",
      "text/plain": [
       "<Figure size 640x480 with 1 Axes>"
      ]
     },
     "metadata": {},
     "output_type": "display_data"
    }
   ],
   "source": [
    "conv_lstm_model = Sequential()\n",
    "conv_lstm_model.add(Conv1D(64, 2, activation='relu', input_shape=(3, 1)))  # Use kernel size 2 to fit the small input\n",
    "conv_lstm_model.add(MaxPooling1D(pool_size=1))  # Pooling size 1 to prevent negative dimensions\n",
    "conv_lstm_model.add(LSTM(100, return_sequences=True))\n",
    "conv_lstm_model.add(Dropout(0.2))\n",
    "conv_lstm_model.add(Conv1D(32, 2, activation='relu'))  # Adjust kernel size to fit the reduced dimensions\n",
    "conv_lstm_model.add(MaxPooling1D(pool_size=1))  # Pooling size 1 to prevent negative dimensions\n",
    "conv_lstm_model.add(Flatten())\n",
    "conv_lstm_model.add(Dense(units=1))\n",
    "set_epsilon(1)\n",
    "conv_lstm_model.compile(optimizer=Adam(learning_rate=0.001), loss=MeanAbsoluteError(), metrics=[MeanAbsolutePercentageError()])\n",
    "\n",
    "conv_lstm_model.summary()\n",
    "\n",
    "\n",
    "# training\n",
    "early_stopping = EarlyStopping(monitor='val_loss', patience=20, restore_best_weights=True)\n",
    "reduce_lr = ReduceLROnPlateau(monitor='val_loss', factor=0.9, patience=5, min_lr=0.00000001)\n",
    "\n",
    "history = conv_lstm_model.fit(X_train_seq, y_train_seq, epochs=100, batch_size=16, validation_split=0.2, verbose=2)\n",
    "\n",
    "\n",
    "# plot the loss function\n",
    "plt.plot(history.history['loss'], label='Training loss')\n",
    "plt.plot(history.history['val_loss'], label='Validation loss')\n",
    "plt.legend()\n",
    "\n",
    "\n",
    "# visualization the result\n",
    "y_pred_train = conv_lstm_model.predict(X_train_seq).reshape(-1,1)\n",
    "y_pred_test = conv_lstm_model.predict(X_test_seq).reshape(-1,1)\n",
    "\n",
    "num_dates = len(df['Date'])\n",
    "step = max(1, num_dates // 15)\n",
    "display_dates = df['Date'][::step]\n",
    "\n",
    "fig = make_subplots(\n",
    "    rows=1, cols=2,\n",
    "    subplot_titles=(\"Original Training Data\"),\n",
    "    shared_xaxes=True\n",
    ")\n",
    "\n",
    "fig.add_trace(go.Scatter(x=np.arange(len(X_train) - sequence_length + 1), y=y_train_seq.flatten(), mode='lines', name='Original Training Data'), row=1, col=1)\n",
    "fig.add_trace(go.Scatter(x=np.arange(len(X_train) - sequence_length + 1), y=y_pred_train.flatten(), mode='lines', name='Fitted Training Data', line=dict(dash='dash')), row=1, col=1)\n",
    "\n",
    "fig.add_trace(go.Scatter(x=np.arange(len(X_test) - sequence_length + 1), y=y_test_seq.flatten(), mode='lines', name='Original Training Data'), row=1, col=2)\n",
    "fig.add_trace(go.Scatter(x=np.arange(len(X_test) - sequence_length + 1), y=y_pred_test.flatten(), mode='lines', name='Fitted Training Data', line=dict(dash='dash')), row=1, col=2)\n",
    "\n",
    "fig.update_layout(\n",
    "    height=400, width=600,\n",
    "    title_text=\"COVID-19 Data\",\n",
    "    hovermode='x unified'\n",
    ")\n",
    "\n",
    "for i in range(1, 2):\n",
    "    for j in range(1, 3):\n",
    "        fig.update_xaxes(\n",
    "            tickvals=display_dates,\n",
    "            tickformat=\"%b %d\\n%Y\",\n",
    "            tickangle=45,\n",
    "            row=i, col=j\n",
    "        )\n",
    "fig.show()\n",
    "\n",
    "\n",
    "# Compute score metrics\n",
    "# Convert to tensors\n",
    "y_true_tf = tf.convert_to_tensor(y_test_seq.reshape(-1), dtype=tf.float32)\n",
    "y_pred_tf = tf.convert_to_tensor(y_pred_test.reshape(-1), dtype=tf.float32)\n",
    "\n",
    "# Initialize the metrics\n",
    "mae_metric = tf.keras.metrics.MeanAbsoluteError()\n",
    "mse_metric = tf.keras.metrics.MeanSquaredError()\n",
    "\n",
    "# Update the state with the true and predicted values\n",
    "mae_metric.update_state(y_true_tf, y_pred_tf)\n",
    "mse_metric.update_state(y_true_tf, y_pred_tf)\n",
    "\n",
    "# Calculate MAE and MSE\n",
    "mae = mae_metric.result().numpy()\n",
    "mse = mse_metric.result().numpy()\n",
    "\n",
    "# Calculate RMSE\n",
    "rmse = np.sqrt(mse)\n",
    "\n",
    "# Calculate R² score\n",
    "total_error = tf.reduce_sum(tf.square(y_true_tf - tf.reduce_mean(y_true_tf)))\n",
    "unexplained_error = tf.reduce_sum(tf.square(y_true_tf - y_pred_tf))\n",
    "r2_score = 1 - tf.divide(unexplained_error, total_error).numpy()\n",
    "\n",
    "print(f\"MAE: {mae}\")\n",
    "print(f\"RMSE: {rmse}\")\n",
    "print(f\"R² score: {r2_score}\")\n",
    "\n",
    "\n",
    "# save the model\n",
    "conv_lstm_model.save(\"./checkpoints/conv_lstm.h5\")\n"
   ]
  }
 ],
 "metadata": {
  "kernelspec": {
   "display_name": "Python 3",
   "language": "python",
   "name": "python3"
  },
  "language_info": {
   "codemirror_mode": {
    "name": "ipython",
    "version": 3
   },
   "file_extension": ".py",
   "mimetype": "text/x-python",
   "name": "python",
   "nbconvert_exporter": "python",
   "pygments_lexer": "ipython3",
   "version": "3.12.3"
  }
 },
 "nbformat": 4,
 "nbformat_minor": 2
}
